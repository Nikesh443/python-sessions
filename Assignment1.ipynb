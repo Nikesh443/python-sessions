{
 "cells": [
  {
   "cell_type": "code",
   "execution_count": null,
   "id": "dada945a-496f-414d-b66a-fd904d166503",
   "metadata": {},
   "outputs": [],
   "source": [
    "#  ask user salary,allowance,house rent and print gross salary"
   ]
  },
  {
   "cell_type": "code",
   "execution_count": 1,
   "id": "8ea2bc48-c8e6-4157-b7f2-113874ea1c78",
   "metadata": {},
   "outputs": [
    {
     "name": "stdin",
     "output_type": "stream",
     "text": [
      "Enter the salary of Ramesh:  100000\n"
     ]
    },
    {
     "name": "stdout",
     "output_type": "stream",
     "text": [
      "The gross salary of Ramesh is 40000.0.\n"
     ]
    }
   ],
   "source": [
    "try:\n",
    "    salary=eval(input(\"Enter the salary of Ramesh: \"))\n",
    "    allowance=(40*salary)/100\n",
    "    house_rent=(20*salary)/100\n",
    "    gross_salary=salary-allowance-house_rent\n",
    "    print(\"The gross salary of Ramesh is {}.\".format(gross_salary))\n",
    "\n",
    "except Exception as e:\n",
    "    print(e)"
   ]
  },
  {
   "cell_type": "code",
   "execution_count": null,
   "id": "37cebd61-cb9f-46bb-9906-8991c4b1fab6",
   "metadata": {},
   "outputs": [],
   "source": [
    "#"
   ]
  },
  {
   "cell_type": "code",
   "execution_count": null,
   "id": "962f6f7c-8b45-4c4a-8fde-039338de3edf",
   "metadata": {},
   "outputs": [],
   "source": [
    "distance1=eval(input(\"Enter the distance of city 1 in km: \"))\n",
    "distance2=eval(input(\"Enter the distance of city 2 in km: \"))"
   ]
  },
  {
   "cell_type": "code",
   "execution_count": 3,
   "id": "9dd78f14-fd3e-4b16-8bd9-4a11b9ee3796",
   "metadata": {},
   "outputs": [
    {
     "name": "stdin",
     "output_type": "stream",
     "text": [
      "Enter the marks of sub 1:  20\n",
      "Enter the marks of sub 2:  30\n",
      "Enter the marks of sub 3:  40\n",
      "Enter the marks of sub 4:  50\n",
      "Enter the marks of sub 5:  60\n"
     ]
    },
    {
     "name": "stdout",
     "output_type": "stream",
     "text": [
      "Aggregate marks is 200 and percentage is 40.0.\n"
     ]
    }
   ],
   "source": [
    "# Agg and per of 5 students\n",
    "try:\n",
    "    sub1=eval(input(\"Enter the marks of sub 1: \"))\n",
    "    sub2=eval(input(\"Enter the marks of sub 2: \"))\n",
    "    sub3=eval(input(\"Enter the marks of sub 3: \"))\n",
    "    sub4=eval(input(\"Enter the marks of sub 4: \"))\n",
    "    sub5=eval(input(\"Enter the marks of sub 5: \"))\n",
    "    Agg_marks=sub1+sub2+sub3+sub4+sub5\n",
    "    perc=(Agg_marks*100)/500\n",
    "    print(\"Aggregate marks is {} and percentage is {}.\".format(Agg_marks,perc))\n",
    "\n",
    "except Exception as e:\n",
    "    print(e)\n",
    "    \n",
    "    \n",
    "   \n",
    "\n",
    "\n"
   ]
  },
  {
   "cell_type": "code",
   "execution_count": null,
   "id": "559683ed-d681-4c53-af55-b602f561f296",
   "metadata": {},
   "outputs": [],
   "source": [
    "# change fahrenheit to celsius\n"
   ]
  },
  {
   "cell_type": "code",
   "execution_count": 7,
   "id": "6c3a12cc-1503-48ce-97a8-32347181a36b",
   "metadata": {},
   "outputs": [
    {
     "name": "stdin",
     "output_type": "stream",
     "text": [
      "Enter the temperature in fahrenheit:  32\n"
     ]
    },
    {
     "name": "stdout",
     "output_type": "stream",
     "text": [
      "The celsius temperature of 32F is 0.0C.\n"
     ]
    }
   ],
   "source": [
    "F_temp=eval(input(\"Enter the temperature in fahrenheit: \"))\n",
    "c_temp=(F_temp-32)*5/9\n",
    "print(\"The celsius temperature of {}F is {}C.\".format(F_temp,c_temp))"
   ]
  },
  {
   "cell_type": "code",
   "execution_count": null,
   "id": "3dc9f67a-6143-49cb-92fe-1bf100ab705f",
   "metadata": {},
   "outputs": [],
   "source": [
    "# WAP ask the user area ,perimeter of rec and area and circum of circle"
   ]
  },
  {
   "cell_type": "code",
   "execution_count": 13,
   "id": "640946d3-cda7-448d-9866-1c956dc52491",
   "metadata": {},
   "outputs": [
    {
     "name": "stdin",
     "output_type": "stream",
     "text": [
      "Enter the length of the rectangle:  12\n",
      "Enter the breadth of the rectangle:  12\n",
      "Enter the radius of the circle:  2\n"
     ]
    },
    {
     "name": "stdout",
     "output_type": "stream",
     "text": [
      "The area and perimeter of rectangle is 144 and 48.\n",
      "The area and circumference of circle is 12.56 and 12.56.\n"
     ]
    }
   ],
   "source": [
    "##\n",
    "length=eval(input(\"Enter the length of the rectangle: \"))\n",
    "breadth=eval(input(\"Enter the breadth of the rectangle: \"))\n",
    "radius=eval(input(\"Enter the radius of the circle: \"))\n",
    "Area_rec=length*breadth\n",
    "perimeter_rec=2*(length+breadth)\n",
    "Area_circle=3.14*radius*radius\n",
    "circumference=2*3.14*radius\n",
    "print(\"The area and perimeter of rectangle is {} and {}.\".format(Area_rec,perimeter_rec))\n",
    "print(\"The area and circumference of circle is {} and {}.\".format(Area_circle,circumference))"
   ]
  },
  {
   "cell_type": "code",
   "execution_count": null,
   "id": "7b4caf5b-6259-43ed-be66-e22f7436b236",
   "metadata": {},
   "outputs": [],
   "source": [
    "# Interchange the content of C and D"
   ]
  },
  {
   "cell_type": "code",
   "execution_count": 1,
   "id": "0945af0f-9005-4761-a9d7-3d0a319d2b8c",
   "metadata": {},
   "outputs": [
    {
     "name": "stdin",
     "output_type": "stream",
     "text": [
      "Enter the number1: 1\n",
      "Enter the number2:  2\n"
     ]
    },
    {
     "name": "stdout",
     "output_type": "stream",
     "text": [
      "After interchanging number1 is 2.\n",
      "After interchanging number2 is 1.\n"
     ]
    }
   ],
   "source": [
    "C=eval(input(\"Enter the number1:\"))\n",
    "D=eval(input(\"Enter the number2: \"))\n",
    "C,D=D,C\n",
    "\n",
    "print(\"After interchanging number1 is {}.\".format(C))\n",
    "print(\"After interchanging number2 is {}.\".format(D))"
   ]
  },
  {
   "cell_type": "code",
   "execution_count": null,
   "id": "fe1db105-07f5-4c5a-b6df-9f7a2fbc915c",
   "metadata": {},
   "outputs": [],
   "source": [
    "#"
   ]
  },
  {
   "cell_type": "code",
   "execution_count": null,
   "id": "23b5806c-a02f-442a-89ba-28b2685b009b",
   "metadata": {},
   "outputs": [],
   "source": []
  }
 ],
 "metadata": {
  "kernelspec": {
   "display_name": "Python 3 (ipykernel)",
   "language": "python",
   "name": "python3"
  },
  "language_info": {
   "codemirror_mode": {
    "name": "ipython",
    "version": 3
   },
   "file_extension": ".py",
   "mimetype": "text/x-python",
   "name": "python",
   "nbconvert_exporter": "python",
   "pygments_lexer": "ipython3",
   "version": "3.12.7"
  }
 },
 "nbformat": 4,
 "nbformat_minor": 5
}
