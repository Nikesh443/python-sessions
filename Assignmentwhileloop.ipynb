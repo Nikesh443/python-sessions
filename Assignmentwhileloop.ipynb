{
 "cells": [
  {
   "cell_type": "code",
   "execution_count": null,
   "id": "ed0a8bbe-482c-4daa-80ab-80501351fcc8",
   "metadata": {},
   "outputs": [],
   "source": [
    "#Guess game"
   ]
  },
  {
   "cell_type": "code",
   "execution_count": 1,
   "id": "ec2df7d8-a280-4f91-be12-cbec0a68a342",
   "metadata": {},
   "outputs": [
    {
     "name": "stdin",
     "output_type": "stream",
     "text": [
      "Guess the number:  5\n"
     ]
    },
    {
     "name": "stdout",
     "output_type": "stream",
     "text": [
      "Sorry,try again\n"
     ]
    },
    {
     "name": "stdin",
     "output_type": "stream",
     "text": [
      "Guess the number:  3\n"
     ]
    },
    {
     "name": "stdout",
     "output_type": "stream",
     "text": [
      "Sorry,try again\n"
     ]
    },
    {
     "name": "stdin",
     "output_type": "stream",
     "text": [
      "Guess the number:  4\n"
     ]
    },
    {
     "name": "stdout",
     "output_type": "stream",
     "text": [
      "Sorry,try again\n"
     ]
    }
   ],
   "source": [
    "import random\n",
    "i=0\n",
    "while True:\n",
    "    a=random.randint(0,9)\n",
    "    b=eval(input('Guess the number: '))\n",
    "    if a==b:\n",
    "        print('You got it right ! congo !')\n",
    "\n",
    "    else:\n",
    "        print('Sorry,try again')\n",
    "\n",
    "    i=i+1\n",
    "    if i==3:\n",
    "        break\n",
    "\n"
   ]
  },
  {
   "cell_type": "code",
   "execution_count": null,
   "id": "b5bac694-f1f7-448e-b60a-79d5c83f9210",
   "metadata": {},
   "outputs": [],
   "source": [
    "# more improvements"
   ]
  },
  {
   "cell_type": "code",
   "execution_count": 115,
   "id": "c762eab9-a22d-4bcd-bea8-fa728fe821c8",
   "metadata": {},
   "outputs": [
    {
     "name": "stdout",
     "output_type": "stream",
     "text": [
      "9\n"
     ]
    },
    {
     "name": "stdin",
     "output_type": "stream",
     "text": [
      "Guess the number:  2\n"
     ]
    },
    {
     "name": "stdout",
     "output_type": "stream",
     "text": [
      "Too low\n"
     ]
    },
    {
     "name": "stdin",
     "output_type": "stream",
     "text": [
      "Guess the number:  3\n"
     ]
    },
    {
     "name": "stdout",
     "output_type": "stream",
     "text": [
      "Too low\n"
     ]
    },
    {
     "name": "stdin",
     "output_type": "stream",
     "text": [
      "Guess the number:  5\n"
     ]
    },
    {
     "name": "stdout",
     "output_type": "stream",
     "text": [
      "Too low\n",
      "Sorry ! You lost\n"
     ]
    }
   ],
   "source": [
    "import random\n",
    "i=0\n",
    "a=random.randint(0,9)\n",
    "print(a)\n",
    "while i<3:\n",
    "    b=eval(input('Guess the number: '))\n",
    "    if a>b:\n",
    "        print('Too low')\n",
    "\n",
    "    elif a<b:\n",
    "        print('Too high')\n",
    "\n",
    "    elif a==b:\n",
    "         print('You got it right ! congo !')\n",
    "         break\n",
    "            \n",
    "\n",
    "    i=i+1\n",
    "\n",
    "if i==3:\n",
    "    print('Sorry ! You lost')\n",
    "\n"
   ]
  },
  {
   "cell_type": "code",
   "execution_count": null,
   "id": "a46b0ad7-dbd0-43ea-92fd-c064560406ce",
   "metadata": {},
   "outputs": [],
   "source": [
    "# more improvements"
   ]
  },
  {
   "cell_type": "code",
   "execution_count": 29,
   "id": "0bbac242-bcd9-4fa4-b3c3-5feba5f7cb78",
   "metadata": {},
   "outputs": [
    {
     "name": "stdout",
     "output_type": "stream",
     "text": [
      "1\n",
      "You  have a cash of Rs 1000 with you\n"
     ]
    },
    {
     "name": "stdin",
     "output_type": "stream",
     "text": [
      "Guess the number:  1\n"
     ]
    },
    {
     "name": "stdout",
     "output_type": "stream",
     "text": [
      "You won Rs 5000\n",
      "Your balance is Rs 6000\n"
     ]
    }
   ],
   "source": [
    "import random\n",
    "i=0\n",
    "a=random.randint(0,9)\n",
    "print(a)\n",
    "print('You  have a cash of Rs 1000 with you')\n",
    "while i<3:\n",
    "    b=eval(input('Guess the number: '))\n",
    "    if a>b:\n",
    "        print('Too low')\n",
    "\n",
    "    elif a<b:\n",
    "        print('Too high')\n",
    "\n",
    "    else:\n",
    "        if i==0:\n",
    "            if a==b:\n",
    "                \n",
    "                print('You won Rs 5000')\n",
    "                print('Your balance is Rs 6000')\n",
    "                break\n",
    "    \n",
    "        if i==1:\n",
    "            if a==b:\n",
    "                print('You won Rs 1000')\n",
    "                print('Your balance is Rs 2000')\n",
    "                break\n",
    "    \n",
    "        if i==2:\n",
    "            if a==b:\n",
    "                print('You won Rs 500')\n",
    "                print('Your balance is Rs 1500')\n",
    "                break\n",
    "        \n",
    "    i=i+1\n",
    "\n",
    "if i==3:\n",
    "    \n",
    "    print('You lose Rs 500')\n",
    "    print('Your balance is Rs 500')\n",
    "    \n",
    "\n"
   ]
  },
  {
   "cell_type": "code",
   "execution_count": null,
   "id": "b906f093-e512-4457-93a4-e797cd4d9128",
   "metadata": {},
   "outputs": [],
   "source": [
    "# more improvements"
   ]
  },
  {
   "cell_type": "code",
   "execution_count": 41,
   "id": "23b61792-2818-47d8-9819-c6a1063a758c",
   "metadata": {},
   "outputs": [
    {
     "name": "stdout",
     "output_type": "stream",
     "text": [
      "8\n"
     ]
    },
    {
     "name": "stdin",
     "output_type": "stream",
     "text": [
      "Enter your current balance:  1600\n"
     ]
    },
    {
     "name": "stdout",
     "output_type": "stream",
     "text": [
      "Now you are ready to play the game\n",
      "You  have a cash of Rs 1600 with you\n"
     ]
    },
    {
     "name": "stdin",
     "output_type": "stream",
     "text": [
      "Guess the number:  8\n"
     ]
    },
    {
     "name": "stdout",
     "output_type": "stream",
     "text": [
      "You won Rs 5000\n",
      "Your balance is Rs 6600\n",
      "Now you are ready to play the game\n",
      "You  have a cash of Rs 8200 with you\n"
     ]
    },
    {
     "ename": "KeyboardInterrupt",
     "evalue": "Interrupted by user",
     "output_type": "error",
     "traceback": [
      "\u001b[1;31m---------------------------------------------------------------------------\u001b[0m",
      "\u001b[1;31mKeyboardInterrupt\u001b[0m                         Traceback (most recent call last)",
      "Cell \u001b[1;32mIn[41], line 57\u001b[0m\n\u001b[0;32m     54\u001b[0m \u001b[38;5;28mprint\u001b[39m(\u001b[38;5;124mf\u001b[39m\u001b[38;5;124m'\u001b[39m\u001b[38;5;124mYou  have a cash of Rs \u001b[39m\u001b[38;5;132;01m{\u001b[39;00mTotal_amount\u001b[38;5;132;01m}\u001b[39;00m\u001b[38;5;124m with you\u001b[39m\u001b[38;5;124m'\u001b[39m)\n\u001b[0;32m     56\u001b[0m \u001b[38;5;28;01mwhile\u001b[39;00m i\u001b[38;5;241m<\u001b[39m\u001b[38;5;241m3\u001b[39m:\n\u001b[1;32m---> 57\u001b[0m     b\u001b[38;5;241m=\u001b[39m\u001b[38;5;28meval\u001b[39m(\u001b[38;5;28minput\u001b[39m(\u001b[38;5;124m'\u001b[39m\u001b[38;5;124mGuess the number: \u001b[39m\u001b[38;5;124m'\u001b[39m))\n\u001b[0;32m     58\u001b[0m     \u001b[38;5;28;01mif\u001b[39;00m a\u001b[38;5;241m>\u001b[39mb:\n\u001b[0;32m     59\u001b[0m         \u001b[38;5;28mprint\u001b[39m(\u001b[38;5;124m'\u001b[39m\u001b[38;5;124mToo low\u001b[39m\u001b[38;5;124m'\u001b[39m)\n",
      "File \u001b[1;32m~\\anaconda3\\Lib\\site-packages\\ipykernel\\kernelbase.py:1262\u001b[0m, in \u001b[0;36mKernel.raw_input\u001b[1;34m(self, prompt)\u001b[0m\n\u001b[0;32m   1260\u001b[0m     msg \u001b[38;5;241m=\u001b[39m \u001b[38;5;124m\"\u001b[39m\u001b[38;5;124mraw_input was called, but this frontend does not support input requests.\u001b[39m\u001b[38;5;124m\"\u001b[39m\n\u001b[0;32m   1261\u001b[0m     \u001b[38;5;28;01mraise\u001b[39;00m StdinNotImplementedError(msg)\n\u001b[1;32m-> 1262\u001b[0m \u001b[38;5;28;01mreturn\u001b[39;00m \u001b[38;5;28mself\u001b[39m\u001b[38;5;241m.\u001b[39m_input_request(\n\u001b[0;32m   1263\u001b[0m     \u001b[38;5;28mstr\u001b[39m(prompt),\n\u001b[0;32m   1264\u001b[0m     \u001b[38;5;28mself\u001b[39m\u001b[38;5;241m.\u001b[39m_parent_ident[\u001b[38;5;124m\"\u001b[39m\u001b[38;5;124mshell\u001b[39m\u001b[38;5;124m\"\u001b[39m],\n\u001b[0;32m   1265\u001b[0m     \u001b[38;5;28mself\u001b[39m\u001b[38;5;241m.\u001b[39mget_parent(\u001b[38;5;124m\"\u001b[39m\u001b[38;5;124mshell\u001b[39m\u001b[38;5;124m\"\u001b[39m),\n\u001b[0;32m   1266\u001b[0m     password\u001b[38;5;241m=\u001b[39m\u001b[38;5;28;01mFalse\u001b[39;00m,\n\u001b[0;32m   1267\u001b[0m )\n",
      "File \u001b[1;32m~\\anaconda3\\Lib\\site-packages\\ipykernel\\kernelbase.py:1305\u001b[0m, in \u001b[0;36mKernel._input_request\u001b[1;34m(self, prompt, ident, parent, password)\u001b[0m\n\u001b[0;32m   1302\u001b[0m \u001b[38;5;28;01mexcept\u001b[39;00m \u001b[38;5;167;01mKeyboardInterrupt\u001b[39;00m:\n\u001b[0;32m   1303\u001b[0m     \u001b[38;5;66;03m# re-raise KeyboardInterrupt, to truncate traceback\u001b[39;00m\n\u001b[0;32m   1304\u001b[0m     msg \u001b[38;5;241m=\u001b[39m \u001b[38;5;124m\"\u001b[39m\u001b[38;5;124mInterrupted by user\u001b[39m\u001b[38;5;124m\"\u001b[39m\n\u001b[1;32m-> 1305\u001b[0m     \u001b[38;5;28;01mraise\u001b[39;00m \u001b[38;5;167;01mKeyboardInterrupt\u001b[39;00m(msg) \u001b[38;5;28;01mfrom\u001b[39;00m \u001b[38;5;28;01mNone\u001b[39;00m\n\u001b[0;32m   1306\u001b[0m \u001b[38;5;28;01mexcept\u001b[39;00m \u001b[38;5;167;01mException\u001b[39;00m:\n\u001b[0;32m   1307\u001b[0m     \u001b[38;5;28mself\u001b[39m\u001b[38;5;241m.\u001b[39mlog\u001b[38;5;241m.\u001b[39mwarning(\u001b[38;5;124m\"\u001b[39m\u001b[38;5;124mInvalid Message:\u001b[39m\u001b[38;5;124m\"\u001b[39m, exc_info\u001b[38;5;241m=\u001b[39m\u001b[38;5;28;01mTrue\u001b[39;00m)\n",
      "\u001b[1;31mKeyboardInterrupt\u001b[0m: Interrupted by user"
     ]
    }
   ],
   "source": [
    "###### import random\n",
    "i=0\n",
    "a=random.randint(0,9)\n",
    "print(a)\n",
    "current_account=eval(input('Enter your current balance: '))\n",
    "if current_account<1000:\n",
    "    E_wallet=eval(input('How much you want to withdraw: '))  \n",
    "    Total_amount=current_account+E_wallet\n",
    "\n",
    "else:\n",
    "    print('Now you are ready to play the game')\n",
    "    print(f'You  have a cash of Rs {current_account} with you')\n",
    "\n",
    "    while i<3:\n",
    "        b=eval(input('Guess the number: '))\n",
    "        if a>b:\n",
    "            print('Too low')\n",
    "    \n",
    "        elif a<b:\n",
    "            print('Too high')\n",
    "    \n",
    "        else:\n",
    "            if i==0:\n",
    "            \n",
    "                if a==b:\n",
    "                    \n",
    "                    print('You won Rs 5000')\n",
    "                    print(f'Your balance is Rs {current_account+5000}')\n",
    "                    break\n",
    "    \n",
    "            if i==1:\n",
    "                if a==b:\n",
    "                    print('You won Rs 1000')\n",
    "                    print(f'Your balance is Rs {current_account+1000}')\n",
    "                    break\n",
    "\n",
    "            if i==2:\n",
    "                if a==b:\n",
    "                    print('You won Rs 500')\n",
    "                    print(f'Your balance is Rs {current_account+500}')\n",
    "                    break\n",
    "        \n",
    "        i=i+1        \n",
    "    if i==3:\n",
    "        \n",
    "        print('You lose Rs 500')\n",
    "        print(f'Your balance is Rs {current_account-500}')\n",
    "    \n",
    "\n",
    "    \n",
    "    \n",
    "if Total_amount>=1000:\n",
    "    print('Now you are ready to play the game')\n",
    "    print(f'You  have a cash of Rs {Total_amount} with you')\n",
    "\n",
    "    while i<3:\n",
    "        b=eval(input('Guess the number: '))\n",
    "        if a>b:\n",
    "            print('Too low')\n",
    "    \n",
    "        elif a<b:\n",
    "            print('Too high')\n",
    "    \n",
    "        else:\n",
    "            if i==0:\n",
    "            \n",
    "                if a==b:\n",
    "                    \n",
    "                    print('You won Rs 5000')\n",
    "                    print(f'Your balance is Rs {Total_amount+5000}')\n",
    "                    break\n",
    "    \n",
    "            if i==1:\n",
    "                if a==b:\n",
    "                    print('You won Rs 1000')\n",
    "                    print(f'Your balance is Rs {Total_amount+1000}')\n",
    "                    break\n",
    "\n",
    "            if i==2:\n",
    "                if a==b:\n",
    "                    print('You won Rs 500')\n",
    "                    print(f'Your balance is Rs {Total_amount+500}')\n",
    "                    break\n",
    "        \n",
    "        i=i+1\n",
    "    if i==3:\n",
    "        \n",
    "        print('You lose Rs 500')\n",
    "        print(f'Your balance is Rs {Total_amount-500}')\n",
    "    \n",
    "\n",
    "\n",
    "else:\n",
    "    print('You still do not have enough money to start.')\n",
    "    print('Withdraw money from e-wallet')\n",
    "\n"
   ]
  },
  {
   "cell_type": "code",
   "execution_count": null,
   "id": "ab795dd9-40c6-4598-b304-10a5e6e95f56",
   "metadata": {},
   "outputs": [],
   "source": []
  }
 ],
 "metadata": {
  "kernelspec": {
   "display_name": "Python 3 (ipykernel)",
   "language": "python",
   "name": "python3"
  },
  "language_info": {
   "codemirror_mode": {
    "name": "ipython",
    "version": 3
   },
   "file_extension": ".py",
   "mimetype": "text/x-python",
   "name": "python",
   "nbconvert_exporter": "python",
   "pygments_lexer": "ipython3",
   "version": "3.12.7"
  }
 },
 "nbformat": 4,
 "nbformat_minor": 5
}
