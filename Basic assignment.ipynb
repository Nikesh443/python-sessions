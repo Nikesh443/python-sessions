{
 "cells": [
  {
   "cell_type": "code",
   "execution_count": null,
   "id": "48c96625-2ce2-4373-b9b1-d21321be8bfa",
   "metadata": {},
   "outputs": [],
   "source": [
    "#"
   ]
  },
  {
   "cell_type": "code",
   "execution_count": 1,
   "id": "000bb1b6-6b9a-4ba7-8533-908cc02bb3d0",
   "metadata": {},
   "outputs": [
    {
     "name": "stdin",
     "output_type": "stream",
     "text": [
      "Enter a number:  10\n"
     ]
    },
    {
     "name": "stdout",
     "output_type": "stream",
     "text": [
      "The square of 10 is 100.\n"
     ]
    }
   ],
   "source": [
    "a= eval(input(\"Enter a number: \"))\n",
    "square=a*a\n",
    "print(\"The square of {} is {}.\".format(a,square))"
   ]
  },
  {
   "cell_type": "code",
   "execution_count": null,
   "id": "93259396-a040-41cc-bfde-1402268071e8",
   "metadata": {},
   "outputs": [],
   "source": [
    "#"
   ]
  },
  {
   "cell_type": "code",
   "execution_count": 3,
   "id": "1ec898d2-8963-492d-8de7-b57f3a60d5c1",
   "metadata": {},
   "outputs": [
    {
     "name": "stdin",
     "output_type": "stream",
     "text": [
      "Enter a number: 2\n"
     ]
    },
    {
     "name": "stdout",
     "output_type": "stream",
     "text": [
      " 2---4---6---8---10\n"
     ]
    }
   ],
   "source": [
    "x=eval(input(\"Enter a number:\"))\n",
    "print(f' {x}---{x*2}---{x*3}---{x*4}---{x*5}')"
   ]
  },
  {
   "cell_type": "code",
   "execution_count": 5,
   "id": "7e34a4fe-28f6-4211-9dc5-0f4ae3e28d00",
   "metadata": {},
   "outputs": [
    {
     "name": "stdin",
     "output_type": "stream",
     "text": [
      "Enter the number:  2\n"
     ]
    },
    {
     "name": "stdout",
     "output_type": "stream",
     "text": [
      "2---4---6---8---10.\n"
     ]
    }
   ],
   "source": [
    "# Alternative\n",
    "a=eval(input(\"Enter the number: \"))\n",
    "print(\"{}---{}---{}---{}---{}.\".format(a,a*2,a*3,a*4,a*5))"
   ]
  },
  {
   "cell_type": "code",
   "execution_count": null,
   "id": "87bb35d2-6e1f-4f62-a31d-a16e97ba1dbe",
   "metadata": {},
   "outputs": [],
   "source": [
    "#"
   ]
  },
  {
   "cell_type": "code",
   "execution_count": 7,
   "id": "b734a066-8f9e-4de4-82aa-8c1749d7dcd0",
   "metadata": {},
   "outputs": [
    {
     "name": "stdin",
     "output_type": "stream",
     "text": [
      "Enter your weight in kg:  10\n"
     ]
    },
    {
     "name": "stdout",
     "output_type": "stream",
     "text": [
      "Your weight in pound is  22.0\n"
     ]
    }
   ],
   "source": [
    "a=eval(input(\"Enter your weight in kg: \"))\n",
    "b=2.2*a\n",
    "print(\"Your weight in pound is \",b)"
   ]
  },
  {
   "cell_type": "code",
   "execution_count": null,
   "id": "4366501f-44eb-4dc4-923d-9c358e087b30",
   "metadata": {},
   "outputs": [],
   "source": [
    "#"
   ]
  },
  {
   "cell_type": "code",
   "execution_count": 9,
   "id": "899c0a46-126a-460e-8418-b962c459fc47",
   "metadata": {},
   "outputs": [
    {
     "name": "stdin",
     "output_type": "stream",
     "text": [
      "Enter a num1:  10\n",
      "Enter a num2:  20\n",
      "Enter a num3:  30\n"
     ]
    },
    {
     "name": "stdout",
     "output_type": "stream",
     "text": [
      "The total is 60 and average is 20.0.\n"
     ]
    }
   ],
   "source": [
    "a=eval(input(\"Enter a num1: \"))\n",
    "b=eval(input(\"Enter a num2: \"))\n",
    "c=eval(input(\"Enter a num3: \"))\n",
    "Total= a+b+c\n",
    "average=Total/3\n",
    "print(\"The total is {} and average is {}.\".format(Total,average))"
   ]
  },
  {
   "cell_type": "code",
   "execution_count": null,
   "id": "d3140166-4fa4-4182-bce6-e22ce0d8363a",
   "metadata": {},
   "outputs": [],
   "source": [
    "#"
   ]
  },
  {
   "cell_type": "code",
   "execution_count": 11,
   "id": "ea9aa038-760d-425f-92bf-e03e2d2f09dc",
   "metadata": {},
   "outputs": [
    {
     "name": "stdin",
     "output_type": "stream",
     "text": [
      "Enter the price of the meal. 100\n",
      "Enter the tip percentage: 10\n"
     ]
    },
    {
     "name": "stdout",
     "output_type": "stream",
     "text": [
      "The tip amount is 10.0 and total bill is 110.\n"
     ]
    }
   ],
   "source": [
    "price=eval(input(\"Enter the price of the meal.\"))\n",
    "per_tip=eval(input(\"Enter the tip percentage:\"))\n",
    "tip_amount=(price*per_tip)/100\n",
    "Total_bill= price+per_tip\n",
    "print(\"The tip amount is {} and total bill is {}.\".format(tip_amount,Total_bill))"
   ]
  },
  {
   "cell_type": "code",
   "execution_count": null,
   "id": "0f783e97-4b35-4a0f-8add-469b495f9a8e",
   "metadata": {},
   "outputs": [],
   "source": []
  }
 ],
 "metadata": {
  "kernelspec": {
   "display_name": "Python 3 (ipykernel)",
   "language": "python",
   "name": "python3"
  },
  "language_info": {
   "codemirror_mode": {
    "name": "ipython",
    "version": 3
   },
   "file_extension": ".py",
   "mimetype": "text/x-python",
   "name": "python",
   "nbconvert_exporter": "python",
   "pygments_lexer": "ipython3",
   "version": "3.12.7"
  }
 },
 "nbformat": 4,
 "nbformat_minor": 5
}
