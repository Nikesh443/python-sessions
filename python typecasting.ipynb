{
 "cells": [
  {
   "cell_type": "markdown",
   "id": "60d168ae-a656-4c75-a5e1-aedffa9d9f43",
   "metadata": {},
   "source": [
    "# Type casting"
   ]
  },
  {
   "cell_type": "markdown",
   "id": "d793151a-8db8-4d4e-a7c0-0601cb2cead1",
   "metadata": {},
   "source": [
    "- changing from one data type to another data type is called typecasting.\n",
    "- Int==== float\n",
    "- Int====string\n",
    "- Int==== Bool\n",
    "- Int==== complex"
   ]
  },
  {
   "cell_type": "markdown",
   "id": "dacb09bb-0b01-458f-9cbb-9d7c5b8a3292",
   "metadata": {},
   "source": [
    "# Integer to other data types"
   ]
  },
  {
   "cell_type": "markdown",
   "id": "05602ede-4f4d-46c4-aafc-a3f50e6a349e",
   "metadata": {},
   "source": [
    "### Case-1 int======float"
   ]
  },
  {
   "cell_type": "code",
   "execution_count": 1,
   "id": "a0d87e0b-b606-4e1c-b4cb-2ac8774d600b",
   "metadata": {},
   "outputs": [
    {
     "data": {
      "text/plain": [
       "200"
      ]
     },
     "execution_count": 1,
     "metadata": {},
     "output_type": "execute_result"
    }
   ],
   "source": [
    "number1= 200\n",
    "number1"
   ]
  },
  {
   "cell_type": "code",
   "execution_count": 3,
   "id": "2475c92a-45e6-437b-8a70-f29f142fa750",
   "metadata": {},
   "outputs": [
    {
     "data": {
      "text/plain": [
       "int"
      ]
     },
     "execution_count": 3,
     "metadata": {},
     "output_type": "execute_result"
    }
   ],
   "source": [
    "type(number1)"
   ]
  },
  {
   "cell_type": "code",
   "execution_count": 5,
   "id": "9b16f4d2-f102-4749-bccf-279381829e06",
   "metadata": {},
   "outputs": [
    {
     "data": {
      "text/plain": [
       "200.0"
      ]
     },
     "execution_count": 5,
     "metadata": {},
     "output_type": "execute_result"
    }
   ],
   "source": [
    "float_number=float(number1)\n",
    "float_number"
   ]
  },
  {
   "cell_type": "code",
   "execution_count": 17,
   "id": "5860a6e7-8e73-44d7-ab25-aea47b13a7dd",
   "metadata": {},
   "outputs": [
    {
     "data": {
      "text/plain": [
       "float"
      ]
     },
     "execution_count": 17,
     "metadata": {},
     "output_type": "execute_result"
    }
   ],
   "source": [
    "type(float_number)"
   ]
  },
  {
   "cell_type": "markdown",
   "id": "b21a7d11-8e52-43cd-8b3f-27cf74ee855f",
   "metadata": {},
   "source": [
    "### case-2  int======string"
   ]
  },
  {
   "cell_type": "code",
   "execution_count": 25,
   "id": "e66496fb-023e-4437-a5c4-30d1df3e7f39",
   "metadata": {},
   "outputs": [
    {
     "data": {
      "text/plain": [
       "'200'"
      ]
     },
     "execution_count": 25,
     "metadata": {},
     "output_type": "execute_result"
    }
   ],
   "source": [
    "str_number=str(number1)\n",
    "str_number"
   ]
  },
  {
   "cell_type": "code",
   "execution_count": 27,
   "id": "ff8e60f1-24d1-4c4b-bb53-9efa4b2b2c5a",
   "metadata": {},
   "outputs": [
    {
     "data": {
      "text/plain": [
       "str"
      ]
     },
     "execution_count": 27,
     "metadata": {},
     "output_type": "execute_result"
    }
   ],
   "source": [
    "type(str_number)"
   ]
  },
  {
   "cell_type": "markdown",
   "id": "b6a241fc-480d-4920-88e3-666d9597ca0d",
   "metadata": {},
   "source": [
    "### Case-3   int======boolean"
   ]
  },
  {
   "cell_type": "code",
   "execution_count": 30,
   "id": "4f26bf16-d2a5-427c-8ec1-9c7b864c8b40",
   "metadata": {},
   "outputs": [
    {
     "data": {
      "text/plain": [
       "True"
      ]
     },
     "execution_count": 30,
     "metadata": {},
     "output_type": "execute_result"
    }
   ],
   "source": [
    "boolean=bool(number1)\n",
    "boolean"
   ]
  },
  {
   "cell_type": "code",
   "execution_count": 32,
   "id": "1a507876-fb34-418f-b7aa-de149adab07d",
   "metadata": {},
   "outputs": [
    {
     "data": {
      "text/plain": [
       "bool"
      ]
     },
     "execution_count": 32,
     "metadata": {},
     "output_type": "execute_result"
    }
   ],
   "source": [
    "type(boolean)"
   ]
  },
  {
   "cell_type": "code",
   "execution_count": 34,
   "id": "4a23cc13-e925-4034-9d79-bb434a89dde6",
   "metadata": {},
   "outputs": [
    {
     "data": {
      "text/plain": [
       "False"
      ]
     },
     "execution_count": 34,
     "metadata": {},
     "output_type": "execute_result"
    }
   ],
   "source": [
    "bol_number=bool(0)\n",
    "bol_number"
   ]
  },
  {
   "cell_type": "code",
   "execution_count": null,
   "id": "e4492915-ee6b-4eb3-92e4-1172c6f6578b",
   "metadata": {},
   "outputs": [],
   "source": [
    " ---------------------Interview question---------------------------------------\n",
    "When it will provide only false output??\n",
    "= when the integer is 0 then it will provide only false output in boolean."
   ]
  },
  {
   "cell_type": "markdown",
   "id": "039dbcf1-ab4f-4e8f-8480-a33620f57077",
   "metadata": {},
   "source": [
    "### case-4   int=========complex"
   ]
  },
  {
   "cell_type": "code",
   "execution_count": 40,
   "id": "83792f55-0010-4f89-a612-cd32d1db7886",
   "metadata": {},
   "outputs": [
    {
     "data": {
      "text/plain": [
       "(200+0j)"
      ]
     },
     "execution_count": 40,
     "metadata": {},
     "output_type": "execute_result"
    }
   ],
   "source": [
    "complex_number=complex(number1)\n",
    "complex_number"
   ]
  },
  {
   "cell_type": "code",
   "execution_count": null,
   "id": "be876a5f-cdeb-4044-8567-e57cd6b26640",
   "metadata": {},
   "outputs": [],
   "source": [
    "# Summary of typecasting\n",
    "number1= 400\n",
    "float_number=float(number1) # 100.0\n",
    "str_number=str(number1)     # '100'\n",
    "boolean=bool(number1)       # True\n",
    "complex_number=complex(number1) # (100+0j)"
   ]
  },
  {
   "cell_type": "code",
   "execution_count": null,
   "id": "0e9deed6-596b-4004-9e15-043b0de0a612",
   "metadata": {},
   "outputs": [],
   "source": [
    "200 =======> int ========> float ======> 200.0\n",
    "200 =======> int ========> str ======> '200'\n",
    "200 =======> int ========> bool ======> True\n",
    "200 =======> int ========> complex ======> (200+0j)"
   ]
  },
  {
   "cell_type": "markdown",
   "id": "a34dd319-121f-44b6-93ff-5f9b9b77693b",
   "metadata": {},
   "source": [
    "# Float to other integers"
   ]
  },
  {
   "cell_type": "code",
   "execution_count": null,
   "id": "d3b942bf-b2e4-4dc5-b602-cf67c80b2f30",
   "metadata": {},
   "outputs": [],
   "source": [
    "number1= 400.5\n",
    "int_number=int(number1) # 400\n",
    "str_number=str(number1)     # '400.5'\n",
    "boolean=bool(number1)       # True\n",
    "complex_number=complex(number1) # (400.5+0j)"
   ]
  },
  {
   "cell_type": "code",
   "execution_count": 62,
   "id": "a49e8592-ad90-4b15-8318-4698a5856d99",
   "metadata": {},
   "outputs": [
    {
     "data": {
      "text/plain": [
       "125"
      ]
     },
     "execution_count": 62,
     "metadata": {},
     "output_type": "execute_result"
    }
   ],
   "source": [
    "# Float to integer\n",
    "number2= 125.5\n",
    "int_number=int(number2)\n",
    "int_number"
   ]
  },
  {
   "cell_type": "code",
   "execution_count": 48,
   "id": "1bdef96c-878b-4bc6-a840-231c5de3eac1",
   "metadata": {},
   "outputs": [
    {
     "data": {
      "text/plain": [
       "int"
      ]
     },
     "execution_count": 48,
     "metadata": {},
     "output_type": "execute_result"
    }
   ],
   "source": [
    "type(int_number)"
   ]
  },
  {
   "cell_type": "code",
   "execution_count": 64,
   "id": "1a3eb5a3-bf5e-4924-88ae-ea8194d1ff6e",
   "metadata": {},
   "outputs": [
    {
     "data": {
      "text/plain": [
       "'125.5'"
      ]
     },
     "execution_count": 64,
     "metadata": {},
     "output_type": "execute_result"
    }
   ],
   "source": [
    "# Float to string\n",
    "str_number=str(number2)\n",
    "str_number"
   ]
  },
  {
   "cell_type": "code",
   "execution_count": 52,
   "id": "47306488-1788-44b9-8b1e-3b7f0490547e",
   "metadata": {},
   "outputs": [
    {
     "data": {
      "text/plain": [
       "str"
      ]
     },
     "execution_count": 52,
     "metadata": {},
     "output_type": "execute_result"
    }
   ],
   "source": [
    "type(str_number)"
   ]
  },
  {
   "cell_type": "code",
   "execution_count": 66,
   "id": "2e1d94d8-11a1-4f4f-9cf1-ef9a6ac11630",
   "metadata": {},
   "outputs": [
    {
     "data": {
      "text/plain": [
       "True"
      ]
     },
     "execution_count": 66,
     "metadata": {},
     "output_type": "execute_result"
    }
   ],
   "source": [
    "# Float to bool\n",
    "boolean=bool(number2)\n",
    "boolean"
   ]
  },
  {
   "cell_type": "code",
   "execution_count": 56,
   "id": "c1fb53db-d7eb-4722-bf10-4305e1b4a70e",
   "metadata": {},
   "outputs": [
    {
     "data": {
      "text/plain": [
       "bool"
      ]
     },
     "execution_count": 56,
     "metadata": {},
     "output_type": "execute_result"
    }
   ],
   "source": [
    "type(boolean)"
   ]
  },
  {
   "cell_type": "code",
   "execution_count": 68,
   "id": "481a616e-f1e9-41e3-976f-9e1fc22d1231",
   "metadata": {},
   "outputs": [
    {
     "data": {
      "text/plain": [
       "(125.5+0j)"
      ]
     },
     "execution_count": 68,
     "metadata": {},
     "output_type": "execute_result"
    }
   ],
   "source": [
    "# Float to complex\n",
    "complex_number=complex(number2)\n",
    "complex_number"
   ]
  },
  {
   "cell_type": "code",
   "execution_count": 60,
   "id": "e7e0965c-d4ab-4ab5-8c2e-6438bb7948ba",
   "metadata": {},
   "outputs": [
    {
     "data": {
      "text/plain": [
       "complex"
      ]
     },
     "execution_count": 60,
     "metadata": {},
     "output_type": "execute_result"
    }
   ],
   "source": [
    "type(complex_number)"
   ]
  },
  {
   "cell_type": "code",
   "execution_count": 72,
   "id": "351d5972-0647-44c4-9220-bd2ecf0be9dd",
   "metadata": {},
   "outputs": [
    {
     "data": {
      "text/plain": [
       "101"
      ]
     },
     "execution_count": 72,
     "metadata": {},
     "output_type": "execute_result"
    }
   ],
   "source": [
    "round(100.6)  # round off"
   ]
  },
  {
   "cell_type": "markdown",
   "id": "8e456217-ae46-4a4f-a548-5cc2bbd5f243",
   "metadata": {},
   "source": [
    "# String to other data types"
   ]
  },
  {
   "cell_type": "code",
   "execution_count": null,
   "id": "c42fa8db-4dbc-4382-b2ec-22cdeb1e2215",
   "metadata": {},
   "outputs": [],
   "source": [
    "number1=\"Hello\"\n",
    "int_number=int(number1) # error\n",
    "float_number=float(number1) # error\n",
    "boolean=bool(number1)       # True\n",
    "complex_number=complex(number1) # error"
   ]
  },
  {
   "cell_type": "code",
   "execution_count": null,
   "id": "2f011c39-f583-4097-aa01-452bb81ad6f9",
   "metadata": {},
   "outputs": [],
   "source": [
    "number1=\"11.5\"  # Compare base type (float) and data type\n",
    "int_number=int(number1) # error\n",
    "float_number=float(number1) # 11.5\n",
    "boolean=bool(number1)       # True\n",
    "complex_number=complex(number1) # (11.5+0j)"
   ]
  },
  {
   "cell_type": "code",
   "execution_count": null,
   "id": "45346289-ab5f-4ca7-bd78-50115433895b",
   "metadata": {},
   "outputs": [],
   "source": [
    "number1=\"11\"  # Compare base type (float) and data type\n",
    "int_number=int(number1) # 11\n",
    "float_number=float(number1) # 11.00\n",
    "boolean=bool(number1)       # True\n",
    "complex_number=complex(number1) # (11+0j)"
   ]
  },
  {
   "cell_type": "code",
   "execution_count": 77,
   "id": "95698db8-0827-4ddd-8276-a82c2e6165d8",
   "metadata": {},
   "outputs": [
    {
     "data": {
      "text/plain": [
       "'Hello'"
      ]
     },
     "execution_count": 77,
     "metadata": {},
     "output_type": "execute_result"
    }
   ],
   "source": [
    "number1=\"Hello\"\n",
    "number1"
   ]
  },
  {
   "cell_type": "code",
   "execution_count": 79,
   "id": "b6dc7682-24b4-4829-ae24-5f466ba62fb6",
   "metadata": {},
   "outputs": [
    {
     "ename": "ValueError",
     "evalue": "invalid literal for int() with base 10: 'Hello'",
     "output_type": "error",
     "traceback": [
      "\u001b[1;31m---------------------------------------------------------------------------\u001b[0m",
      "\u001b[1;31mValueError\u001b[0m                                Traceback (most recent call last)",
      "Cell \u001b[1;32mIn[79], line 1\u001b[0m\n\u001b[1;32m----> 1\u001b[0m int_number\u001b[38;5;241m=\u001b[39m\u001b[38;5;28mint\u001b[39m(number1)\n\u001b[0;32m      2\u001b[0m int_number\n",
      "\u001b[1;31mValueError\u001b[0m: invalid literal for int() with base 10: 'Hello'"
     ]
    }
   ],
   "source": [
    "int_number=int(number1)   # You cannot convert str to int\n",
    "int_number"
   ]
  },
  {
   "cell_type": "code",
   "execution_count": 81,
   "id": "1fbbc955-adce-40c4-924c-4e4aae115bcd",
   "metadata": {},
   "outputs": [
    {
     "ename": "ValueError",
     "evalue": "could not convert string to float: 'Hello'",
     "output_type": "error",
     "traceback": [
      "\u001b[1;31m---------------------------------------------------------------------------\u001b[0m",
      "\u001b[1;31mValueError\u001b[0m                                Traceback (most recent call last)",
      "Cell \u001b[1;32mIn[81], line 1\u001b[0m\n\u001b[1;32m----> 1\u001b[0m float_number\u001b[38;5;241m=\u001b[39m\u001b[38;5;28mfloat\u001b[39m(number1)\n\u001b[0;32m      2\u001b[0m float_number\n",
      "\u001b[1;31mValueError\u001b[0m: could not convert string to float: 'Hello'"
     ]
    }
   ],
   "source": [
    "float_number=float(number1) # You cannot convert str to float\n",
    "float_number"
   ]
  },
  {
   "cell_type": "code",
   "execution_count": 83,
   "id": "7600772d-6503-45c3-b174-a70665fd635b",
   "metadata": {},
   "outputs": [
    {
     "data": {
      "text/plain": [
       "True"
      ]
     },
     "execution_count": 83,
     "metadata": {},
     "output_type": "execute_result"
    }
   ],
   "source": [
    "boolean=bool(number1)\n",
    "boolean"
   ]
  },
  {
   "cell_type": "code",
   "execution_count": 88,
   "id": "f4e06c08-f605-4027-b260-713552fc2e23",
   "metadata": {},
   "outputs": [
    {
     "data": {
      "text/plain": [
       "False"
      ]
     },
     "execution_count": 88,
     "metadata": {},
     "output_type": "execute_result"
    }
   ],
   "source": [
    "number3= \"\"     # empty string will give false output\n",
    "boolean=bool(number3)\n",
    "boolean"
   ]
  },
  {
   "cell_type": "code",
   "execution_count": null,
   "id": "99e56751-03c2-46c9-a307-05bddfc441ec",
   "metadata": {},
   "outputs": [],
   "source": [
    "#  Note\n",
    "\n",
    "When it will give false output other than zer0?\n",
    "= When we put empty string then it will also give false output"
   ]
  },
  {
   "cell_type": "code",
   "execution_count": 85,
   "id": "5e69612b-8d47-487b-a5d3-8023f2a0fb0f",
   "metadata": {},
   "outputs": [
    {
     "ename": "ValueError",
     "evalue": "complex() arg is a malformed string",
     "output_type": "error",
     "traceback": [
      "\u001b[1;31m---------------------------------------------------------------------------\u001b[0m",
      "\u001b[1;31mValueError\u001b[0m                                Traceback (most recent call last)",
      "Cell \u001b[1;32mIn[85], line 1\u001b[0m\n\u001b[1;32m----> 1\u001b[0m complex_number\u001b[38;5;241m=\u001b[39m\u001b[38;5;28mcomplex\u001b[39m(number1)\n\u001b[0;32m      2\u001b[0m complex_number\n",
      "\u001b[1;31mValueError\u001b[0m: complex() arg is a malformed string"
     ]
    }
   ],
   "source": [
    "complex_number=complex(number1) # You cannot convert str to complex\n",
    "complex_number"
   ]
  },
  {
   "cell_type": "code",
   "execution_count": 90,
   "id": "79175c27-70d7-405b-b32d-778cf187130e",
   "metadata": {},
   "outputs": [
    {
     "ename": "ValueError",
     "evalue": "invalid literal for int() with base 10: '10.5'",
     "output_type": "error",
     "traceback": [
      "\u001b[1;31m---------------------------------------------------------------------------\u001b[0m",
      "\u001b[1;31mValueError\u001b[0m                                Traceback (most recent call last)",
      "Cell \u001b[1;32mIn[90], line 2\u001b[0m\n\u001b[0;32m      1\u001b[0m \u001b[38;5;28mint\u001b[39m(\u001b[38;5;241m10.5\u001b[39m)\n\u001b[1;32m----> 2\u001b[0m \u001b[38;5;28mint\u001b[39m(\u001b[38;5;124m'\u001b[39m\u001b[38;5;124m10.5\u001b[39m\u001b[38;5;124m'\u001b[39m)\n",
      "\u001b[1;31mValueError\u001b[0m: invalid literal for int() with base 10: '10.5'"
     ]
    }
   ],
   "source": [
    "int(10.5) # error\n",
    "int('10.5')"
   ]
  },
  {
   "cell_type": "code",
   "execution_count": 92,
   "id": "5bdbe9ec-7143-4668-8549-7b1711152a0f",
   "metadata": {},
   "outputs": [
    {
     "data": {
      "text/plain": [
       "10.5"
      ]
     },
     "execution_count": 92,
     "metadata": {},
     "output_type": "execute_result"
    }
   ],
   "source": [
    "float(10.5) # 10.5\n",
    "float('10.5')"
   ]
  },
  {
   "cell_type": "code",
   "execution_count": 94,
   "id": "bf935ffd-6edc-4c7c-a315-8e7843b6147e",
   "metadata": {},
   "outputs": [
    {
     "data": {
      "text/plain": [
       "True"
      ]
     },
     "execution_count": 94,
     "metadata": {},
     "output_type": "execute_result"
    }
   ],
   "source": [
    "bool(10.5) # True\n",
    "bool(\"10.5\")"
   ]
  },
  {
   "cell_type": "code",
   "execution_count": 96,
   "id": "c27cbf83-f4a9-4f66-a669-62400f7e2ad0",
   "metadata": {},
   "outputs": [
    {
     "data": {
      "text/plain": [
       "(10.5+0j)"
      ]
     },
     "execution_count": 96,
     "metadata": {},
     "output_type": "execute_result"
    }
   ],
   "source": [
    "complex(10.5) # (10.5+0j)\n",
    "complex(\"10.5\")"
   ]
  },
  {
   "cell_type": "code",
   "execution_count": 98,
   "id": "ed8e64b7-5377-4fa0-942a-81a20ca0345e",
   "metadata": {},
   "outputs": [
    {
     "data": {
      "text/plain": [
       "10"
      ]
     },
     "execution_count": 98,
     "metadata": {},
     "output_type": "execute_result"
    }
   ],
   "source": [
    "# How can we convert str to int without error\n",
    "\n",
    "number1=\"10.5\" # By double conversion we can change\n",
    "a= float(number1)\n",
    "b= int(a)\n",
    "b"
   ]
  },
  {
   "cell_type": "markdown",
   "id": "2ffbc01c-726b-4324-9132-2b05aa33fd98",
   "metadata": {},
   "source": [
    "# boolean to other data types"
   ]
  },
  {
   "cell_type": "code",
   "execution_count": null,
   "id": "37da76c7-aa28-4226-a680-eb1e9ea6512f",
   "metadata": {},
   "outputs": [],
   "source": [
    "number1= True\n",
    "int_number=int(number1) # 1 in case of True and 0 in case of false\n",
    "float_number=float(number1) # 1.0 in case of True and 0.0 in case of false\n",
    "str_number=str(number1)       # 'True' in case of True and 'False' in case of false\n",
    "complex_number=complex(number1) # (1+0j) in case of true and (0j) in case of False"
   ]
  },
  {
   "cell_type": "code",
   "execution_count": 111,
   "id": "598cd8ad-b544-46f1-933c-6aa9cd90016f",
   "metadata": {},
   "outputs": [
    {
     "data": {
      "text/plain": [
       "1"
      ]
     },
     "execution_count": 111,
     "metadata": {},
     "output_type": "execute_result"
    }
   ],
   "source": [
    "number1= True\n",
    "int_number=int(number1)\n",
    "int_number"
   ]
  },
  {
   "cell_type": "code",
   "execution_count": 113,
   "id": "381f6eda-7736-4c5b-b8b7-81f534156173",
   "metadata": {},
   "outputs": [
    {
     "data": {
      "text/plain": [
       "1.0"
      ]
     },
     "execution_count": 113,
     "metadata": {},
     "output_type": "execute_result"
    }
   ],
   "source": [
    "float_number=float(number1)\n",
    "float_number"
   ]
  },
  {
   "cell_type": "code",
   "execution_count": 115,
   "id": "ff9e7423-8ada-4d9c-9f71-76a5f52e706b",
   "metadata": {},
   "outputs": [
    {
     "data": {
      "text/plain": [
       "'True'"
      ]
     },
     "execution_count": 115,
     "metadata": {},
     "output_type": "execute_result"
    }
   ],
   "source": [
    "str_number=str(number1)\n",
    "str_number"
   ]
  },
  {
   "cell_type": "code",
   "execution_count": 117,
   "id": "5cb255d8-c4f8-42a3-b596-9f0cf245c787",
   "metadata": {},
   "outputs": [
    {
     "data": {
      "text/plain": [
       "(1+0j)"
      ]
     },
     "execution_count": 117,
     "metadata": {},
     "output_type": "execute_result"
    }
   ],
   "source": [
    "complex_number=complex(number1)\n",
    "complex_number"
   ]
  },
  {
   "cell_type": "markdown",
   "id": "8710ee3c-c4f8-4bbc-a2e2-1f65f3872a9c",
   "metadata": {},
   "source": [
    "# Complex to other data types"
   ]
  },
  {
   "cell_type": "code",
   "execution_count": null,
   "id": "cf264dbb-c302-4895-a47f-7a424420d989",
   "metadata": {},
   "outputs": [],
   "source": [
    "number1= 3+5j\n",
    "int_number=int(number1) # error\n",
    "float_number=float(number1) # error\n",
    "boolean=bool(number1)       # True\n",
    "str_number=str(number1) # '(3+5j)'"
   ]
  },
  {
   "cell_type": "code",
   "execution_count": 120,
   "id": "6b51fafd-97da-4e3d-afaa-d110921851c4",
   "metadata": {},
   "outputs": [
    {
     "ename": "TypeError",
     "evalue": "int() argument must be a string, a bytes-like object or a real number, not 'complex'",
     "output_type": "error",
     "traceback": [
      "\u001b[1;31m---------------------------------------------------------------------------\u001b[0m",
      "\u001b[1;31mTypeError\u001b[0m                                 Traceback (most recent call last)",
      "Cell \u001b[1;32mIn[120], line 2\u001b[0m\n\u001b[0;32m      1\u001b[0m number1\u001b[38;5;241m=\u001b[39m \u001b[38;5;241m3\u001b[39m\u001b[38;5;241m+\u001b[39m\u001b[38;5;241m5\u001b[39mj\n\u001b[1;32m----> 2\u001b[0m int_number\u001b[38;5;241m=\u001b[39m\u001b[38;5;28mint\u001b[39m(number1)\n\u001b[0;32m      3\u001b[0m int_number\n",
      "\u001b[1;31mTypeError\u001b[0m: int() argument must be a string, a bytes-like object or a real number, not 'complex'"
     ]
    }
   ],
   "source": [
    "number1= 3+5j\n",
    "int_number=int(number1)\n",
    "int_number"
   ]
  },
  {
   "cell_type": "code",
   "execution_count": 122,
   "id": "8659e98f-503a-4843-aa7a-b3b21885a421",
   "metadata": {},
   "outputs": [
    {
     "ename": "TypeError",
     "evalue": "float() argument must be a string or a real number, not 'complex'",
     "output_type": "error",
     "traceback": [
      "\u001b[1;31m---------------------------------------------------------------------------\u001b[0m",
      "\u001b[1;31mTypeError\u001b[0m                                 Traceback (most recent call last)",
      "Cell \u001b[1;32mIn[122], line 1\u001b[0m\n\u001b[1;32m----> 1\u001b[0m float_number\u001b[38;5;241m=\u001b[39m\u001b[38;5;28mfloat\u001b[39m(number1)\n\u001b[0;32m      2\u001b[0m float_number\n",
      "\u001b[1;31mTypeError\u001b[0m: float() argument must be a string or a real number, not 'complex'"
     ]
    }
   ],
   "source": [
    "float_number=float(number1)\n",
    "float_number"
   ]
  },
  {
   "cell_type": "code",
   "execution_count": 124,
   "id": "75087703-d5c9-4899-ac1f-0bd15c4fdd97",
   "metadata": {},
   "outputs": [
    {
     "data": {
      "text/plain": [
       "True"
      ]
     },
     "execution_count": 124,
     "metadata": {},
     "output_type": "execute_result"
    }
   ],
   "source": [
    "boolean=bool(number1)  \n",
    "boolean"
   ]
  },
  {
   "cell_type": "code",
   "execution_count": 126,
   "id": "8fa2f68d-84d4-41a2-b44c-4e39eb08439e",
   "metadata": {},
   "outputs": [
    {
     "data": {
      "text/plain": [
       "'(3+5j)'"
      ]
     },
     "execution_count": 126,
     "metadata": {},
     "output_type": "execute_result"
    }
   ],
   "source": [
    "str_number=str(number1)\n",
    "str_number"
   ]
  },
  {
   "cell_type": "code",
   "execution_count": null,
   "id": "d90360a3-39d1-4cb7-8e10-9705ec5ea978",
   "metadata": {},
   "outputs": [],
   "source": []
  }
 ],
 "metadata": {
  "kernelspec": {
   "display_name": "Python 3 (ipykernel)",
   "language": "python",
   "name": "python3"
  },
  "language_info": {
   "codemirror_mode": {
    "name": "ipython",
    "version": 3
   },
   "file_extension": ".py",
   "mimetype": "text/x-python",
   "name": "python",
   "nbconvert_exporter": "python",
   "pygments_lexer": "ipython3",
   "version": "3.12.7"
  }
 },
 "nbformat": 4,
 "nbformat_minor": 5
}
