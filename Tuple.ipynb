{
 "cells": [
  {
   "cell_type": "markdown",
   "id": "d854f93a-024d-48ab-863b-1298905c6f97",
   "metadata": {},
   "source": [
    "# Tuples"
   ]
  },
  {
   "cell_type": "markdown",
   "id": "7670e35d-8b5f-47ed-95ea-7060e213efd7",
   "metadata": {},
   "source": [
    "- Python tuples are a type of data structure that is very similar to lists.\n",
    "- The main difference between the two is that tuples are immutable, meaning they cannot be changed once they are created.\n",
    "- In short tuple is the collection of elements in the small brackets\n"
   ]
  },
  {
   "cell_type": "code",
   "execution_count": 5,
   "id": "40a6efea-968a-48d8-b005-f27a78da2b7a",
   "metadata": {},
   "outputs": [
    {
     "data": {
      "text/plain": [
       "(1, 'A', True, 'nikesh', (4+5j))"
      ]
     },
     "execution_count": 5,
     "metadata": {},
     "output_type": "execute_result"
    }
   ],
   "source": [
    "tup1=(1,'A',True,'nikesh',4+5j)\n",
    "tup1"
   ]
  },
  {
   "cell_type": "code",
   "execution_count": 1,
   "id": "85dc68ef-1190-48ad-a2d9-10f18c0d8771",
   "metadata": {},
   "outputs": [
    {
     "data": {
      "text/plain": [
       "(1, 1, 2, 3, 4, 5, 6)"
      ]
     },
     "execution_count": 1,
     "metadata": {},
     "output_type": "execute_result"
    }
   ],
   "source": [
    "tup3=(1,1,2,3,4,5,6)\n",
    "tup3"
   ]
  },
  {
   "cell_type": "code",
   "execution_count": 7,
   "id": "2eecee79-9bda-4bd7-830e-abf88138b779",
   "metadata": {},
   "outputs": [
    {
     "data": {
      "text/plain": [
       "tuple"
      ]
     },
     "execution_count": 7,
     "metadata": {},
     "output_type": "execute_result"
    }
   ],
   "source": [
    "type(tup1)"
   ]
  },
  {
   "cell_type": "markdown",
   "id": "20e0a647-9b0d-4951-b8df-fddfaf8b9883",
   "metadata": {},
   "source": [
    "## Mutuable and immutable"
   ]
  },
  {
   "cell_type": "code",
   "execution_count": 10,
   "id": "5b90d690-646e-4128-a4a0-bd40dfbf3c7d",
   "metadata": {},
   "outputs": [
    {
     "ename": "TypeError",
     "evalue": "'tuple' object does not support item assignment",
     "output_type": "error",
     "traceback": [
      "\u001b[1;31m---------------------------------------------------------------------------\u001b[0m",
      "\u001b[1;31mTypeError\u001b[0m                                 Traceback (most recent call last)",
      "Cell \u001b[1;32mIn[10], line 2\u001b[0m\n\u001b[0;32m      1\u001b[0m tup1\u001b[38;5;241m=\u001b[39m(\u001b[38;5;241m1\u001b[39m,\u001b[38;5;124m'\u001b[39m\u001b[38;5;124mA\u001b[39m\u001b[38;5;124m'\u001b[39m,\u001b[38;5;28;01mTrue\u001b[39;00m,\u001b[38;5;124m'\u001b[39m\u001b[38;5;124mnikesh\u001b[39m\u001b[38;5;124m'\u001b[39m,\u001b[38;5;241m4\u001b[39m\u001b[38;5;241m+\u001b[39m\u001b[38;5;241m5\u001b[39mj)\n\u001b[1;32m----> 2\u001b[0m tup1[\u001b[38;5;241m2\u001b[39m]\u001b[38;5;241m=\u001b[39m\u001b[38;5;124m'\u001b[39m\u001b[38;5;124mABCD\u001b[39m\u001b[38;5;124m'\u001b[39m\n",
      "\u001b[1;31mTypeError\u001b[0m: 'tuple' object does not support item assignment"
     ]
    }
   ],
   "source": [
    "tup1=(1,'A',True,'nikesh',4+5j)\n",
    "tup1[2]='ABCD'\n"
   ]
  },
  {
   "cell_type": "markdown",
   "id": "9b555388-5968-4b91-bb99-0345400e8854",
   "metadata": {},
   "source": [
    "- Hence tuple is immutuable and values inside the tuples cannot be changed"
   ]
  },
  {
   "cell_type": "markdown",
   "id": "7850ed72-b1a6-4009-89b9-06a83db8bcdb",
   "metadata": {},
   "source": [
    "## concatenation"
   ]
  },
  {
   "cell_type": "code",
   "execution_count": 16,
   "id": "dee7e26b-cb54-4405-ae3e-2df23e359813",
   "metadata": {},
   "outputs": [
    {
     "data": {
      "text/plain": [
       "(1, 'A', True, 'nikesh', (4+5j), 'B', False)"
      ]
     },
     "execution_count": 16,
     "metadata": {},
     "output_type": "execute_result"
    }
   ],
   "source": [
    "tup1=(1,'A',True,'nikesh',4+5j)\n",
    "tup2=('B',False)\n",
    "tup1+tup2"
   ]
  },
  {
   "cell_type": "code",
   "execution_count": 18,
   "id": "ad6c7528-467c-4790-a2e9-2a2fdeb7cd3f",
   "metadata": {},
   "outputs": [
    {
     "data": {
      "text/plain": [
       "5"
      ]
     },
     "execution_count": 18,
     "metadata": {},
     "output_type": "execute_result"
    }
   ],
   "source": [
    "len(tup1)"
   ]
  },
  {
   "cell_type": "code",
   "execution_count": 42,
   "id": "63b4381a-cfeb-488b-a800-2d4b5e68b466",
   "metadata": {},
   "outputs": [
    {
     "data": {
      "text/plain": [
       "7"
      ]
     },
     "execution_count": 42,
     "metadata": {},
     "output_type": "execute_result"
    }
   ],
   "source": [
    "tup3=(1,2,4,3,7,6)\n",
    "max(tup3)"
   ]
  },
  {
   "cell_type": "code",
   "execution_count": 44,
   "id": "82a5b5a9-dd84-43cf-a47e-3a4b4821b10d",
   "metadata": {},
   "outputs": [
    {
     "data": {
      "text/plain": [
       "1"
      ]
     },
     "execution_count": 44,
     "metadata": {},
     "output_type": "execute_result"
    }
   ],
   "source": [
    "min(tup3)"
   ]
  },
  {
   "cell_type": "code",
   "execution_count": 46,
   "id": "cf87a2db-cef6-480f-b42f-56c1f25fd3ac",
   "metadata": {},
   "outputs": [
    {
     "data": {
      "text/plain": [
       "(1,\n",
       " 'A',\n",
       " True,\n",
       " 'nikesh',\n",
       " (4+5j),\n",
       " 1,\n",
       " 'A',\n",
       " True,\n",
       " 'nikesh',\n",
       " (4+5j),\n",
       " 1,\n",
       " 'A',\n",
       " True,\n",
       " 'nikesh',\n",
       " (4+5j))"
      ]
     },
     "execution_count": 46,
     "metadata": {},
     "output_type": "execute_result"
    }
   ],
   "source": [
    "tup1*3"
   ]
  },
  {
   "cell_type": "code",
   "execution_count": 48,
   "id": "3f054abf-fca7-4f46-abd1-f6575dc78ba7",
   "metadata": {},
   "outputs": [
    {
     "ename": "TypeError",
     "evalue": "unsupported operand type(s) for /: 'tuple' and 'tuple'",
     "output_type": "error",
     "traceback": [
      "\u001b[1;31m---------------------------------------------------------------------------\u001b[0m",
      "\u001b[1;31mTypeError\u001b[0m                                 Traceback (most recent call last)",
      "Cell \u001b[1;32mIn[48], line 1\u001b[0m\n\u001b[1;32m----> 1\u001b[0m tup1\u001b[38;5;241m/\u001b[39mtup2\n",
      "\u001b[1;31mTypeError\u001b[0m: unsupported operand type(s) for /: 'tuple' and 'tuple'"
     ]
    }
   ],
   "source": [
    "tup1/tup2"
   ]
  },
  {
   "cell_type": "code",
   "execution_count": 50,
   "id": "414c0d60-daaa-4d55-8857-0ec427d3e5a0",
   "metadata": {},
   "outputs": [
    {
     "ename": "TypeError",
     "evalue": "unsupported operand type(s) for -: 'tuple' and 'tuple'",
     "output_type": "error",
     "traceback": [
      "\u001b[1;31m---------------------------------------------------------------------------\u001b[0m",
      "\u001b[1;31mTypeError\u001b[0m                                 Traceback (most recent call last)",
      "Cell \u001b[1;32mIn[50], line 1\u001b[0m\n\u001b[1;32m----> 1\u001b[0m tup1\u001b[38;5;241m-\u001b[39mtup2\n",
      "\u001b[1;31mTypeError\u001b[0m: unsupported operand type(s) for -: 'tuple' and 'tuple'"
     ]
    }
   ],
   "source": [
    "tup1-tup2"
   ]
  },
  {
   "cell_type": "markdown",
   "id": "d76e18be-dd8f-4621-ab33-ad15f442b961",
   "metadata": {},
   "source": [
    "## Slicing"
   ]
  },
  {
   "cell_type": "code",
   "execution_count": 21,
   "id": "42c4019c-79fe-4deb-a20f-083fbd0dfd2e",
   "metadata": {},
   "outputs": [
    {
     "data": {
      "text/plain": [
       "('A', True, 'nikesh', (4+5j))"
      ]
     },
     "execution_count": 21,
     "metadata": {},
     "output_type": "execute_result"
    }
   ],
   "source": [
    "tup1=(1,'A',True,'nikesh',4+5j)\n",
    "tup1[1:5]"
   ]
  },
  {
   "cell_type": "code",
   "execution_count": 23,
   "id": "14a4666f-3f67-4f7b-b78c-6e543a540ccc",
   "metadata": {},
   "outputs": [
    {
     "data": {
      "text/plain": [
       "(4+5j)"
      ]
     },
     "execution_count": 23,
     "metadata": {},
     "output_type": "execute_result"
    }
   ],
   "source": [
    "tup1[-1]"
   ]
  },
  {
   "cell_type": "code",
   "execution_count": 25,
   "id": "448daa10-ee3d-4fa7-8303-7ac8f4a606e2",
   "metadata": {},
   "outputs": [
    {
     "data": {
      "text/plain": [
       "1"
      ]
     },
     "execution_count": 25,
     "metadata": {},
     "output_type": "execute_result"
    }
   ],
   "source": [
    "tup1[0]"
   ]
  },
  {
   "cell_type": "code",
   "execution_count": 27,
   "id": "0c99f4b3-7964-4deb-8a51-b6d106cb7552",
   "metadata": {},
   "outputs": [
    {
     "data": {
      "text/plain": [
       "((4+5j), 'nikesh', True, 'A', 1)"
      ]
     },
     "execution_count": 27,
     "metadata": {},
     "output_type": "execute_result"
    }
   ],
   "source": [
    "tup1[::-1]"
   ]
  },
  {
   "cell_type": "markdown",
   "id": "f6230ca5-98ee-40f1-83fa-208b310ad684",
   "metadata": {},
   "source": [
    "## indexing"
   ]
  },
  {
   "cell_type": "code",
   "execution_count": 33,
   "id": "6b8bca3a-9a04-4e96-8001-4b2680650632",
   "metadata": {},
   "outputs": [
    {
     "name": "stdout",
     "output_type": "stream",
     "text": [
      "The index of 1 is 0\n",
      "The index of A is 1\n",
      "The index of True is 2\n",
      "The index of nikesh is 3\n",
      "The index of (4+5j) is 4\n"
     ]
    }
   ],
   "source": [
    "tup1=(1,'A',True,'nikesh',4+5j)\n",
    "for i in range(len(tup1)):\n",
    "    print(f'The index of {tup1[i]} is {i}')"
   ]
  },
  {
   "cell_type": "markdown",
   "id": "f79933e3-7346-4a1f-92e3-226597ab5a93",
   "metadata": {},
   "source": [
    "## In operator"
   ]
  },
  {
   "cell_type": "code",
   "execution_count": 55,
   "id": "48bd2bc8-7f00-4643-b0e7-8dd8650b6e6e",
   "metadata": {},
   "outputs": [
    {
     "data": {
      "text/plain": [
       "True"
      ]
     },
     "execution_count": 55,
     "metadata": {},
     "output_type": "execute_result"
    }
   ],
   "source": [
    "tup1=(1,'A',True,'nikesh',4+5j)\n",
    "1 in tup1"
   ]
  },
  {
   "cell_type": "code",
   "execution_count": 57,
   "id": "fd16fa55-d424-40cc-8011-06ec1075359c",
   "metadata": {},
   "outputs": [
    {
     "data": {
      "text/plain": [
       "False"
      ]
     },
     "execution_count": 57,
     "metadata": {},
     "output_type": "execute_result"
    }
   ],
   "source": [
    "5 in tup1"
   ]
  },
  {
   "cell_type": "markdown",
   "id": "38f3631b-bbab-4c85-ac2e-c044cfcc78c2",
   "metadata": {},
   "source": [
    "## methods of tuples"
   ]
  },
  {
   "cell_type": "code",
   "execution_count": 60,
   "id": "769c271f-f2ae-44fb-9ad5-5cbaf2feb9d2",
   "metadata": {},
   "outputs": [
    {
     "data": {
      "text/plain": [
       "['__add__',\n",
       " '__class__',\n",
       " '__class_getitem__',\n",
       " '__contains__',\n",
       " '__delattr__',\n",
       " '__dir__',\n",
       " '__doc__',\n",
       " '__eq__',\n",
       " '__format__',\n",
       " '__ge__',\n",
       " '__getattribute__',\n",
       " '__getitem__',\n",
       " '__getnewargs__',\n",
       " '__getstate__',\n",
       " '__gt__',\n",
       " '__hash__',\n",
       " '__init__',\n",
       " '__init_subclass__',\n",
       " '__iter__',\n",
       " '__le__',\n",
       " '__len__',\n",
       " '__lt__',\n",
       " '__mul__',\n",
       " '__ne__',\n",
       " '__new__',\n",
       " '__reduce__',\n",
       " '__reduce_ex__',\n",
       " '__repr__',\n",
       " '__rmul__',\n",
       " '__setattr__',\n",
       " '__sizeof__',\n",
       " '__str__',\n",
       " '__subclasshook__',\n",
       " 'count',\n",
       " 'index']"
      ]
     },
     "execution_count": 60,
     "metadata": {},
     "output_type": "execute_result"
    }
   ],
   "source": [
    "dir(tup1)"
   ]
  },
  {
   "cell_type": "code",
   "execution_count": 62,
   "id": "21533e3b-1a22-4a4d-827c-9678c0bbe517",
   "metadata": {},
   "outputs": [
    {
     "data": {
      "text/plain": [
       "(1, 'A', True, 'nikesh', (4+5j))"
      ]
     },
     "execution_count": 62,
     "metadata": {},
     "output_type": "execute_result"
    }
   ],
   "source": [
    "tup1"
   ]
  },
  {
   "cell_type": "code",
   "execution_count": 66,
   "id": "8248dc0a-de75-4bef-a748-1a4dda7312d9",
   "metadata": {},
   "outputs": [
    {
     "data": {
      "text/plain": [
       "1"
      ]
     },
     "execution_count": 66,
     "metadata": {},
     "output_type": "execute_result"
    }
   ],
   "source": [
    "tup1.count('A')"
   ]
  },
  {
   "cell_type": "code",
   "execution_count": 72,
   "id": "87d0c918-da34-4671-8c89-a31d03d321ff",
   "metadata": {},
   "outputs": [
    {
     "name": "stdout",
     "output_type": "stream",
     "text": [
      "2\n",
      "2\n"
     ]
    }
   ],
   "source": [
    "tup4=('A','A','B','C',1,2,3,1,4,5)\n",
    "print(tup4.count(1))\n",
    "print(tup4.count('A'))"
   ]
  },
  {
   "cell_type": "code",
   "execution_count": 80,
   "id": "88dee246-71fc-400a-afda-57198688b4ea",
   "metadata": {},
   "outputs": [
    {
     "data": {
      "text/plain": [
       "7"
      ]
     },
     "execution_count": 80,
     "metadata": {},
     "output_type": "execute_result"
    }
   ],
   "source": [
    "tup4.index(1,5)"
   ]
  },
  {
   "cell_type": "code",
   "execution_count": null,
   "id": "62bfa38d-b81d-481c-a98c-02c34d2a211f",
   "metadata": {},
   "outputs": [],
   "source": []
  }
 ],
 "metadata": {
  "kernelspec": {
   "display_name": "Python 3 (ipykernel)",
   "language": "python",
   "name": "python3"
  },
  "language_info": {
   "codemirror_mode": {
    "name": "ipython",
    "version": 3
   },
   "file_extension": ".py",
   "mimetype": "text/x-python",
   "name": "python",
   "nbconvert_exporter": "python",
   "pygments_lexer": "ipython3",
   "version": "3.12.7"
  }
 },
 "nbformat": 4,
 "nbformat_minor": 5
}
