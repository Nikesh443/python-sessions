{
 "cells": [
  {
   "cell_type": "code",
   "execution_count": 1,
   "id": "b2fa3944-d41e-4c82-aaa8-b10f8ebbcadc",
   "metadata": {},
   "outputs": [
    {
     "name": "stdin",
     "output_type": "stream",
     "text": [
      "Enter a num1:  100\n",
      "Enter a num2:  200\n"
     ]
    },
    {
     "data": {
      "text/plain": [
       "300"
      ]
     },
     "execution_count": 1,
     "metadata": {},
     "output_type": "execute_result"
    }
   ],
   "source": [
    "num1=eval(input(\"Enter a num1: \"))\n",
    "num2=eval(input(\"Enter a num2: \"))\n",
    "add=num1+num2\n",
    "add"
   ]
  },
  {
   "cell_type": "code",
   "execution_count": 3,
   "id": "1b457ae1-a35e-499a-b344-2b1819c36f8b",
   "metadata": {},
   "outputs": [
    {
     "name": "stdin",
     "output_type": "stream",
     "text": [
      "Enter a num1:  100\n",
      "Enter a num2:  200\n"
     ]
    },
    {
     "ename": "NameError",
     "evalue": "name 'num3' is not defined",
     "output_type": "error",
     "traceback": [
      "\u001b[1;31m---------------------------------------------------------------------------\u001b[0m",
      "\u001b[1;31mNameError\u001b[0m                                 Traceback (most recent call last)",
      "Cell \u001b[1;32mIn[3], line 4\u001b[0m\n\u001b[0;32m      2\u001b[0m num1\u001b[38;5;241m=\u001b[39m\u001b[38;5;28meval\u001b[39m(\u001b[38;5;28minput\u001b[39m(\u001b[38;5;124m\"\u001b[39m\u001b[38;5;124mEnter a num1: \u001b[39m\u001b[38;5;124m\"\u001b[39m))\n\u001b[0;32m      3\u001b[0m num2\u001b[38;5;241m=\u001b[39m\u001b[38;5;28meval\u001b[39m(\u001b[38;5;28minput\u001b[39m(\u001b[38;5;124m\"\u001b[39m\u001b[38;5;124mEnter a num2: \u001b[39m\u001b[38;5;124m\"\u001b[39m))\n\u001b[1;32m----> 4\u001b[0m add\u001b[38;5;241m=\u001b[39mnum1\u001b[38;5;241m+\u001b[39mnum3\n\u001b[0;32m      5\u001b[0m add\n",
      "\u001b[1;31mNameError\u001b[0m: name 'num3' is not defined"
     ]
    }
   ],
   "source": [
    "# error-1 Name error: num3 is not defined.\n",
    "num1=eval(input(\"Enter a num1: \"))\n",
    "num2=eval(input(\"Enter a num2: \"))\n",
    "add=num1+num3\n",
    "print(add)"
   ]
  },
  {
   "cell_type": "code",
   "execution_count": 9,
   "id": "08900e51-0b1e-43c2-b6ef-92c23bf809dc",
   "metadata": {},
   "outputs": [
    {
     "ename": "SyntaxError",
     "evalue": "'(' was never closed (2948099009.py, line 2)",
     "output_type": "error",
     "traceback": [
      "\u001b[1;36m  Cell \u001b[1;32mIn[9], line 2\u001b[1;36m\u001b[0m\n\u001b[1;33m    num1=eval(input(\"Enter a num1: \")\u001b[0m\n\u001b[1;37m             ^\u001b[0m\n\u001b[1;31mSyntaxError\u001b[0m\u001b[1;31m:\u001b[0m '(' was never closed\n"
     ]
    }
   ],
   "source": [
    "# error-2 SyntaxError: '(' was never closed\n",
    "num1=eval(input(\"Enter a num1: \")\n",
    "num2=eval(input(\"Enter a num2: \"))\n",
    "add=num1+num2\n",
    "print(add)"
   ]
  },
  {
   "cell_type": "code",
   "execution_count": 13,
   "id": "71ff3697-997b-4ae9-8087-651a1576d499",
   "metadata": {},
   "outputs": [
    {
     "name": "stdin",
     "output_type": "stream",
     "text": [
      "Enter a num1:  100\n",
      "Enter a num2:  0\n"
     ]
    },
    {
     "ename": "ZeroDivisionError",
     "evalue": "division by zero",
     "output_type": "error",
     "traceback": [
      "\u001b[1;31m---------------------------------------------------------------------------\u001b[0m",
      "\u001b[1;31mZeroDivisionError\u001b[0m                         Traceback (most recent call last)",
      "Cell \u001b[1;32mIn[13], line 3\u001b[0m\n\u001b[0;32m      1\u001b[0m num1\u001b[38;5;241m=\u001b[39m\u001b[38;5;28meval\u001b[39m(\u001b[38;5;28minput\u001b[39m(\u001b[38;5;124m\"\u001b[39m\u001b[38;5;124mEnter a num1: \u001b[39m\u001b[38;5;124m\"\u001b[39m))\n\u001b[0;32m      2\u001b[0m num2\u001b[38;5;241m=\u001b[39m\u001b[38;5;28meval\u001b[39m(\u001b[38;5;28minput\u001b[39m(\u001b[38;5;124m\"\u001b[39m\u001b[38;5;124mEnter a num2: \u001b[39m\u001b[38;5;124m\"\u001b[39m))\n\u001b[1;32m----> 3\u001b[0m add\u001b[38;5;241m=\u001b[39mnum1\u001b[38;5;241m/\u001b[39mnum2\n\u001b[0;32m      4\u001b[0m \u001b[38;5;28mprint\u001b[39m(add)\n",
      "\u001b[1;31mZeroDivisionError\u001b[0m: division by zero"
     ]
    }
   ],
   "source": [
    "# error-3 ZeroDivisionError: division by zero\n",
    "num1=eval(input(\"Enter a num1: \"))\n",
    "num2=eval(input(\"Enter a num2: \"))\n",
    "add=num1/num2\n",
    "print(add)"
   ]
  },
  {
   "cell_type": "code",
   "execution_count": 15,
   "id": "cd14b3a2-dd79-4c06-b52f-4b21a1994946",
   "metadata": {},
   "outputs": [
    {
     "name": "stdin",
     "output_type": "stream",
     "text": [
      "Enter a num1:  100\n",
      "Enter a num2:  20\n"
     ]
    },
    {
     "ename": "TypeError",
     "evalue": "unsupported operand type(s) for /: 'str' and 'int'",
     "output_type": "error",
     "traceback": [
      "\u001b[1;31m---------------------------------------------------------------------------\u001b[0m",
      "\u001b[1;31mTypeError\u001b[0m                                 Traceback (most recent call last)",
      "Cell \u001b[1;32mIn[15], line 4\u001b[0m\n\u001b[0;32m      2\u001b[0m num1\u001b[38;5;241m=\u001b[39m\u001b[38;5;28minput\u001b[39m(\u001b[38;5;124m\"\u001b[39m\u001b[38;5;124mEnter a num1: \u001b[39m\u001b[38;5;124m\"\u001b[39m)  \u001b[38;5;66;03m# input is for only string data type\u001b[39;00m\n\u001b[0;32m      3\u001b[0m num2\u001b[38;5;241m=\u001b[39m\u001b[38;5;28meval\u001b[39m(\u001b[38;5;28minput\u001b[39m(\u001b[38;5;124m\"\u001b[39m\u001b[38;5;124mEnter a num2: \u001b[39m\u001b[38;5;124m\"\u001b[39m)) \u001b[38;5;66;03m# eval is for integer data type\u001b[39;00m\n\u001b[1;32m----> 4\u001b[0m add\u001b[38;5;241m=\u001b[39mnum1\u001b[38;5;241m/\u001b[39mnum2 \u001b[38;5;66;03m# string/integer\u001b[39;00m\n\u001b[0;32m      5\u001b[0m \u001b[38;5;28mprint\u001b[39m(add)\n",
      "\u001b[1;31mTypeError\u001b[0m: unsupported operand type(s) for /: 'str' and 'int'"
     ]
    }
   ],
   "source": [
    "# error-4 unsupported operand type(s) for /: 'str' and 'int'\n",
    "num1=input(\"Enter a num1: \")  # input is for only string data type\n",
    "num2=eval(input(\"Enter a num2: \")) # eval is for integer data type\n",
    "add=num1/num2 # string/integer\n",
    "print(add)"
   ]
  },
  {
   "cell_type": "code",
   "execution_count": 17,
   "id": "d616d856-7520-413e-befa-3882084873e8",
   "metadata": {},
   "outputs": [
    {
     "ename": "SyntaxError",
     "evalue": "Missing parentheses in call to 'print'. Did you mean print(...)? (4211558447.py, line 5)",
     "output_type": "error",
     "traceback": [
      "\u001b[1;36m  Cell \u001b[1;32mIn[17], line 5\u001b[1;36m\u001b[0m\n\u001b[1;33m    print add\u001b[0m\n\u001b[1;37m    ^\u001b[0m\n\u001b[1;31mSyntaxError\u001b[0m\u001b[1;31m:\u001b[0m Missing parentheses in call to 'print'. Did you mean print(...)?\n"
     ]
    }
   ],
   "source": [
    "# error-5 Missing parentheses in call to 'print'. Did you mean print(...)?\n",
    "num1=eval(input(\"Enter a num1: \")) \n",
    "num2=eval(input(\"Enter a num2: \")) \n",
    "add=num1/num2 \n",
    "print add"
   ]
  },
  {
   "cell_type": "code",
   "execution_count": null,
   "id": "dc56f695-bd04-40a8-8572-8ea60b0e697d",
   "metadata": {},
   "outputs": [],
   "source": [
    "# suppose you have written 500 lines of code and you got error at \n",
    "# line 200 this error might not imapact your code so you want excute after 200 line also\n",
    "\n",
    "\n",
    "####   Exception handling ####"
   ]
  },
  {
   "cell_type": "markdown",
   "id": "71781ba1-6491-4e3e-88bd-59bb1b6d3c16",
   "metadata": {},
   "source": [
    "- There are two blocks.\n",
    "- One is try block and another is exception block.\n",
    "- Your code will be there in try block.\n",
    "- Error capture will happen in except block.\n",
    "- Indentation (Space)\n",
    "- Red: space/indentation maintain properly"
   ]
  },
  {
   "cell_type": "code",
   "execution_count": 26,
   "id": "4f749942-3bd1-4845-80c2-78245203bb8c",
   "metadata": {},
   "outputs": [
    {
     "name": "stdout",
     "output_type": "stream",
     "text": [
      "There is error in the code\n"
     ]
    }
   ],
   "source": [
    "try:\n",
    "    num1=10\n",
    "    num2=20\n",
    "    add=num1+num3\n",
    "    print(add)\n",
    "    \n",
    "except:\n",
    "    print(\"There is error in the code\")"
   ]
  },
  {
   "cell_type": "code",
   "execution_count": 28,
   "id": "81e3891e-ed18-4fe5-8f2c-b53aa34a1a85",
   "metadata": {},
   "outputs": [
    {
     "name": "stdin",
     "output_type": "stream",
     "text": [
      "Enter number1 20\n",
      "Enter number2 30\n",
      "Enter number3 40\n"
     ]
    },
    {
     "name": "stdout",
     "output_type": "stream",
     "text": [
      "The average of 20,30 and 40 is 30.0.\n"
     ]
    }
   ],
   "source": [
    "# WAP ask the user enter 3 number and find average\n",
    "num1=eval(input(\"Enter number1\"))\n",
    "num2=eval(input(\"Enter number2\"))\n",
    "num3=eval(input(\"Enter number3\"))\n",
    "average=(num1+num2+num3)/3\n",
    "print(\"The average of {},{} and {} is {}.\".format(num1,num2,num3,average))"
   ]
  },
  {
   "cell_type": "code",
   "execution_count": 34,
   "id": "e0bbf623-7d0c-4d5c-9103-b8f4d48a086e",
   "metadata": {},
   "outputs": [
    {
     "name": "stdin",
     "output_type": "stream",
     "text": [
      "Enter number1 10\n",
      "Enter number2 20\n",
      "Enter number3 30\n"
     ]
    },
    {
     "name": "stdout",
     "output_type": "stream",
     "text": [
      "Check the code properly.\n"
     ]
    }
   ],
   "source": [
    "try:\n",
    "    num1=eval(input(\"Enter number1\"))\n",
    "    num2=eval(input(\"Enter number2\"))\n",
    "    num3=eval(input(\"Enter number3\"))\n",
    "    average=(num1+num2+num33)/3\n",
    "    print(\"The average of {},{} and {} is {}.\".format(num1,num2,num3,average))\n",
    "\n",
    "except:\n",
    "    print(\"Check the code properly.\")\n"
   ]
  },
  {
   "cell_type": "code",
   "execution_count": 38,
   "id": "b756620b-5cc6-4a21-8ed7-f54f4b056d99",
   "metadata": {},
   "outputs": [
    {
     "name": "stdin",
     "output_type": "stream",
     "text": [
      "Enter number1 10\n",
      "Enter number2 20\n",
      "Enter number3 30\n"
     ]
    },
    {
     "name": "stdout",
     "output_type": "stream",
     "text": [
      "division by zero\n"
     ]
    }
   ],
   "source": [
    "try:\n",
    "    num1=eval(input(\"Enter number1\"))\n",
    "    num2=eval(input(\"Enter number2\"))\n",
    "    num3=eval(input(\"Enter number3\"))\n",
    "    average=(num1+num2+num3)/0\n",
    "    print(\"The average of {},{} and {} is {}.\".format(num1,num2,num3,average))\n",
    "\n",
    "except Exception as e:\n",
    "    print(e)\n",
    "\n"
   ]
  },
  {
   "cell_type": "code",
   "execution_count": null,
   "id": "c7af826f-49f1-4f8f-8720-f330d2854a03",
   "metadata": {},
   "outputs": [],
   "source": [
    "# WAP ask the user enter the number and find the square of the  number."
   ]
  },
  {
   "cell_type": "code",
   "execution_count": 46,
   "id": "c8afa6d6-a7c4-41d2-af11-98053bb5375c",
   "metadata": {},
   "outputs": [
    {
     "name": "stdin",
     "output_type": "stream",
     "text": [
      "Enter a number: 20\n"
     ]
    },
    {
     "name": "stdout",
     "output_type": "stream",
     "text": [
      "The square of 20 is 400.\n"
     ]
    }
   ],
   "source": [
    "try:\n",
    "    a=eval(input(\"Enter a number:\"))\n",
    "    b=a*a\n",
    "    print(\"The square of {} is {}.\".format(a,b))\n",
    "\n",
    "except Exception as e:\n",
    "    print(e)\n"
   ]
  },
  {
   "cell_type": "code",
   "execution_count": 48,
   "id": "88dc4474-9edd-4373-adb2-dd25f8f60584",
   "metadata": {},
   "outputs": [
    {
     "data": {
      "text/plain": [
       "(None, None, None)"
      ]
     },
     "execution_count": 48,
     "metadata": {},
     "output_type": "execute_result"
    }
   ],
   "source": [
    "import sys\n",
    "sys.exc_info()"
   ]
  },
  {
   "cell_type": "code",
   "execution_count": 52,
   "id": "07dda635-742b-410e-912b-6808f1d3b75c",
   "metadata": {},
   "outputs": [
    {
     "name": "stdin",
     "output_type": "stream",
     "text": [
      "Enter a number: 22\n"
     ]
    },
    {
     "name": "stdout",
     "output_type": "stream",
     "text": [
      "name 'a22' is not defined\n",
      "Code run bhairaxa chill ho\n"
     ]
    }
   ],
   "source": [
    "try:\n",
    "    a=eval(input(\"Enter a number:\"))\n",
    "    b=a*a\n",
    "    print(\"The square of {} is {}.\".format(a22,b))\n",
    "\n",
    "except Exception as e:\n",
    "    print(e)\n",
    "    print('Code run bhairaxa chill ho')\n"
   ]
  },
  {
   "cell_type": "code",
   "execution_count": 54,
   "id": "5119c134-e4c3-432f-bfaa-375ff1a0c776",
   "metadata": {},
   "outputs": [
    {
     "name": "stdin",
     "output_type": "stream",
     "text": [
      "Enter a number: 1\n"
     ]
    },
    {
     "name": "stdout",
     "output_type": "stream",
     "text": [
      "name 'a22' is not defined\n",
      "Code run bhairaxa chill ho\n",
      "1\n",
      "2\n"
     ]
    }
   ],
   "source": [
    "try:\n",
    "    a=eval(input(\"Enter a number:\"))\n",
    "    b=a*a\n",
    "    print(\"The square of {} is {}.\".format(a22,b))\n",
    "\n",
    "except Exception as e:\n",
    "    print(e)\n",
    "    print('Code run bhairaxa chill ho')\n",
    "\n",
    "print(1)\n",
    "print(2)"
   ]
  },
  {
   "cell_type": "markdown",
   "id": "d40dac16-bbbd-4e0b-b29a-94a89a6265d3",
   "metadata": {},
   "source": [
    "- If your code is with out error, try block will execute.\n",
    "- If your code has errors,it will redirect to except block.\n",
    "- what ever you written inside except block that will run.\n",
    "- try and exception is together.\n",
    "- Once try and exception code are completed, it will try to look any other lines of code."
   ]
  },
  {
   "cell_type": "code",
   "execution_count": 57,
   "id": "3c532ef6-0274-4039-b823-7e69710ca07c",
   "metadata": {},
   "outputs": [
    {
     "name": "stdout",
     "output_type": "stream",
     "text": [
      "=============\n",
      "8\n"
     ]
    },
    {
     "name": "stdin",
     "output_type": "stream",
     "text": [
      "Enter a number: 10\n"
     ]
    },
    {
     "name": "stdout",
     "output_type": "stream",
     "text": [
      "name 'a22' is not defined\n",
      "Code run bhairaxa chill ho\n",
      "1\n",
      "2\n"
     ]
    }
   ],
   "source": [
    "print(\"=============\")\n",
    "print(3+5)\n",
    "try:\n",
    "    a=eval(input(\"Enter a number:\"))\n",
    "    b=a*a\n",
    "    print(\"The square of {} is {}.\".format(a22,b))\n",
    "\n",
    "except Exception as e:\n",
    "    print(e)\n",
    "    print('Code run bhairaxa chill ho')\n",
    "\n",
    "print(1)\n",
    "print(2)"
   ]
  },
  {
   "cell_type": "code",
   "execution_count": 59,
   "id": "2e747f49-4705-4c7e-9420-ad07358e6b3e",
   "metadata": {},
   "outputs": [
    {
     "ename": "SyntaxError",
     "evalue": "expected 'except' or 'finally' block (970514699.py, line 8)",
     "output_type": "error",
     "traceback": [
      "\u001b[1;36m  Cell \u001b[1;32mIn[59], line 8\u001b[1;36m\u001b[0m\n\u001b[1;33m    print('Hello')\u001b[0m\n\u001b[1;37m    ^\u001b[0m\n\u001b[1;31mSyntaxError\u001b[0m\u001b[1;31m:\u001b[0m expected 'except' or 'finally' block\n"
     ]
    }
   ],
   "source": [
    "print(\"=============\")\n",
    "print(3+5)\n",
    "try:\n",
    "    a=eval(input(\"Enter a number:\"))\n",
    "    b=a*a\n",
    "    print(\"The square of {} is {}.\".format(a22,b))\n",
    "\n",
    "print('Hello')\n",
    "\n",
    "except Exception as e:\n",
    "    print(e)\n",
    "    print('Code run bhairaxa chill ho')\n",
    "\n",
    "print(1)\n",
    "print(2)"
   ]
  },
  {
   "cell_type": "code",
   "execution_count": null,
   "id": "1abbacb4-c069-4fcc-9e8c-17d1312c1f14",
   "metadata": {},
   "outputs": [],
   "source": []
  }
 ],
 "metadata": {
  "kernelspec": {
   "display_name": "Python 3 (ipykernel)",
   "language": "python",
   "name": "python3"
  },
  "language_info": {
   "codemirror_mode": {
    "name": "ipython",
    "version": 3
   },
   "file_extension": ".py",
   "mimetype": "text/x-python",
   "name": "python",
   "nbconvert_exporter": "python",
   "pygments_lexer": "ipython3",
   "version": "3.12.7"
  }
 },
 "nbformat": 4,
 "nbformat_minor": 5
}
