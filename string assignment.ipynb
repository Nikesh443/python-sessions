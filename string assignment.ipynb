{
 "cells": [
  {
   "cell_type": "code",
   "execution_count": null,
   "id": "a0cc33ac-5ffd-43bb-8810-4b0e3c459831",
   "metadata": {},
   "outputs": [],
   "source": [
    "#1"
   ]
  },
  {
   "cell_type": "code",
   "execution_count": 3,
   "id": "21911bbf-6b0f-4c53-878c-5f0d16bc34cb",
   "metadata": {},
   "outputs": [
    {
     "name": "stdin",
     "output_type": "stream",
     "text": [
      "Enter a string:  Nikesh\n"
     ]
    },
    {
     "name": "stdout",
     "output_type": "stream",
     "text": [
      "6\n"
     ]
    }
   ],
   "source": [
    "string=input('Enter a string: ')\n",
    "print(len(string))\n"
   ]
  },
  {
   "cell_type": "code",
   "execution_count": 9,
   "id": "a335b484-f088-4288-b5b0-ae65a0f790d1",
   "metadata": {},
   "outputs": [
    {
     "name": "stdin",
     "output_type": "stream",
     "text": [
      "Enter a string:  Nikesh\n"
     ]
    },
    {
     "name": "stdout",
     "output_type": "stream",
     "text": [
      "Nikesh\n",
      "Nikesh\n",
      "Nikesh\n",
      "Nikesh\n",
      "Nikesh\n",
      "Nikesh\n",
      "Nikesh\n",
      "Nikesh\n",
      "Nikesh\n",
      "Nikesh\n"
     ]
    }
   ],
   "source": [
    "string=input('Enter a string: ')\n",
    "n=len(string)\n",
    "for i in range(10):\n",
    "    \n",
    "    print(string)"
   ]
  },
  {
   "cell_type": "code",
   "execution_count": 13,
   "id": "a041afb0-4443-4437-9c25-754cb64e200e",
   "metadata": {},
   "outputs": [
    {
     "data": {
      "text/plain": [
       "'Nik'"
      ]
     },
     "execution_count": 13,
     "metadata": {},
     "output_type": "execute_result"
    }
   ],
   "source": [
    "string[:3]"
   ]
  },
  {
   "cell_type": "code",
   "execution_count": 15,
   "id": "28524409-eb5a-4dd3-a2e7-b61bf01febdb",
   "metadata": {},
   "outputs": [
    {
     "data": {
      "text/plain": [
       "'esh'"
      ]
     },
     "execution_count": 15,
     "metadata": {},
     "output_type": "execute_result"
    }
   ],
   "source": [
    "string[string.find('e'):string.find('h')+1]"
   ]
  },
  {
   "cell_type": "code",
   "execution_count": 17,
   "id": "bbab4f84-de2e-4e32-b999-3f0ed9c39c56",
   "metadata": {},
   "outputs": [
    {
     "data": {
      "text/plain": [
       "'hsekiN'"
      ]
     },
     "execution_count": 17,
     "metadata": {},
     "output_type": "execute_result"
    }
   ],
   "source": [
    "string[::-1]"
   ]
  },
  {
   "cell_type": "code",
   "execution_count": 29,
   "id": "f4e8d0fe-cde5-4bbf-a353-8cb26748dec9",
   "metadata": {},
   "outputs": [
    {
     "data": {
      "text/plain": [
       "'Nikesh'"
      ]
     },
     "execution_count": 29,
     "metadata": {},
     "output_type": "execute_result"
    }
   ],
   "source": [
    "string.lstrip()   # white space removed\n",
    "string.rstrip()"
   ]
  },
  {
   "cell_type": "code",
   "execution_count": 37,
   "id": "f7b0bcc9-7abc-4771-8d7e-bce12487b42f",
   "metadata": {},
   "outputs": [
    {
     "data": {
      "text/plain": [
       "'ikes'"
      ]
     },
     "execution_count": 37,
     "metadata": {},
     "output_type": "execute_result"
    }
   ],
   "source": [
    "string[string.find('N')+1:string.find('h')]"
   ]
  },
  {
   "cell_type": "code",
   "execution_count": 44,
   "id": "86ceff17-9778-4b46-bacc-3a363c469137",
   "metadata": {},
   "outputs": [
    {
     "data": {
      "text/plain": [
       "['__add__',\n",
       " '__class__',\n",
       " '__contains__',\n",
       " '__delattr__',\n",
       " '__dir__',\n",
       " '__doc__',\n",
       " '__eq__',\n",
       " '__format__',\n",
       " '__ge__',\n",
       " '__getattribute__',\n",
       " '__getitem__',\n",
       " '__getnewargs__',\n",
       " '__getstate__',\n",
       " '__gt__',\n",
       " '__hash__',\n",
       " '__init__',\n",
       " '__init_subclass__',\n",
       " '__iter__',\n",
       " '__le__',\n",
       " '__len__',\n",
       " '__lt__',\n",
       " '__mod__',\n",
       " '__mul__',\n",
       " '__ne__',\n",
       " '__new__',\n",
       " '__reduce__',\n",
       " '__reduce_ex__',\n",
       " '__repr__',\n",
       " '__rmod__',\n",
       " '__rmul__',\n",
       " '__setattr__',\n",
       " '__sizeof__',\n",
       " '__str__',\n",
       " '__subclasshook__',\n",
       " 'capitalize',\n",
       " 'casefold',\n",
       " 'center',\n",
       " 'count',\n",
       " 'encode',\n",
       " 'endswith',\n",
       " 'expandtabs',\n",
       " 'find',\n",
       " 'format',\n",
       " 'format_map',\n",
       " 'index',\n",
       " 'isalnum',\n",
       " 'isalpha',\n",
       " 'isascii',\n",
       " 'isdecimal',\n",
       " 'isdigit',\n",
       " 'isidentifier',\n",
       " 'islower',\n",
       " 'isnumeric',\n",
       " 'isprintable',\n",
       " 'isspace',\n",
       " 'istitle',\n",
       " 'isupper',\n",
       " 'join',\n",
       " 'ljust',\n",
       " 'lower',\n",
       " 'lstrip',\n",
       " 'maketrans',\n",
       " 'partition',\n",
       " 'removeprefix',\n",
       " 'removesuffix',\n",
       " 'replace',\n",
       " 'rfind',\n",
       " 'rindex',\n",
       " 'rjust',\n",
       " 'rpartition',\n",
       " 'rsplit',\n",
       " 'rstrip',\n",
       " 'split',\n",
       " 'splitlines',\n",
       " 'startswith',\n",
       " 'strip',\n",
       " 'swapcase',\n",
       " 'title',\n",
       " 'translate',\n",
       " 'upper',\n",
       " 'zfill']"
      ]
     },
     "execution_count": 44,
     "metadata": {},
     "output_type": "execute_result"
    }
   ],
   "source": [
    "dir('')"
   ]
  },
  {
   "cell_type": "code",
   "execution_count": 56,
   "id": "5484e12a-c31f-44de-905b-4c7763116dcb",
   "metadata": {},
   "outputs": [
    {
     "data": {
      "text/plain": [
       "'NIKESH'"
      ]
     },
     "execution_count": 56,
     "metadata": {},
     "output_type": "execute_result"
    }
   ],
   "source": [
    "string.upper()"
   ]
  },
  {
   "cell_type": "code",
   "execution_count": 58,
   "id": "1013537d-dcfe-47f9-8bea-6380191bc9a9",
   "metadata": {},
   "outputs": [
    {
     "data": {
      "text/plain": [
       "' I em e good boy end I em vey intelligent'"
      ]
     },
     "execution_count": 58,
     "metadata": {},
     "output_type": "execute_result"
    }
   ],
   "source": [
    "string2=' I am a good boy and I am vey intelligent'\n",
    "string2.replace('a','e')"
   ]
  },
  {
   "cell_type": "code",
   "execution_count": null,
   "id": "c324b0f6-9b48-4e84-9c08-aa10e9d02a5b",
   "metadata": {},
   "outputs": [],
   "source": [
    "#2"
   ]
  },
  {
   "cell_type": "code",
   "execution_count": 74,
   "id": "ce3fc21e-481b-485d-9c22-e4e4e1021c33",
   "metadata": {},
   "outputs": [
    {
     "name": "stdout",
     "output_type": "stream",
     "text": [
      "The number of words in string is 10\n"
     ]
    }
   ],
   "source": [
    "string2=' I am a good boy and I am very intelligent'\n",
    "string3=string2.count(' ')\n",
    "print(f'The number of words in string is {string3}')\n",
    "    "
   ]
  },
  {
   "cell_type": "code",
   "execution_count": 93,
   "id": "fc5c0116-c23f-461b-a2ac-ab43b9723e10",
   "metadata": {},
   "outputs": [
    {
     "name": "stdout",
     "output_type": "stream",
     "text": [
      "a\n",
      "a\n",
      "o\n",
      "o\n",
      "o\n",
      "a\n",
      "a\n",
      "e\n",
      "i\n",
      "e\n",
      "i\n",
      "e\n",
      "The number of vowels in string is 12\n"
     ]
    }
   ],
   "source": [
    "#3\n",
    "string2=' I am a good boy and I am very intelligent'\n",
    "count=0\n",
    "for i in string2:\n",
    "    if i in 'aeiou':\n",
    "        print(i)\n",
    "        count+=1\n",
    "\n",
    "print(f'The number of vowels in string is {count}')\n"
   ]
  },
  {
   "cell_type": "code",
   "execution_count": 95,
   "id": "3052bb4d-79d3-4fed-b531-6a4c243f8fad",
   "metadata": {},
   "outputs": [
    {
     "ename": "TypeError",
     "evalue": "can only concatenate str (not \"int\") to str",
     "output_type": "error",
     "traceback": [
      "\u001b[1;31m---------------------------------------------------------------------------\u001b[0m",
      "\u001b[1;31mTypeError\u001b[0m                                 Traceback (most recent call last)",
      "Cell \u001b[1;32mIn[95], line 9\u001b[0m\n\u001b[0;32m      7\u001b[0m         count\u001b[38;5;241m+\u001b[39m\u001b[38;5;241m=\u001b[39m\u001b[38;5;241m1\u001b[39m\n\u001b[0;32m      8\u001b[0m         \u001b[38;5;28;01mif\u001b[39;00m i \u001b[38;5;129;01mnot\u001b[39;00m \u001b[38;5;129;01min\u001b[39;00m word:\n\u001b[1;32m----> 9\u001b[0m             word\u001b[38;5;241m+\u001b[39m\u001b[38;5;241m=\u001b[39m\u001b[38;5;241m1\u001b[39m\n\u001b[0;32m     11\u001b[0m \u001b[38;5;28mprint\u001b[39m(word)\n",
      "\u001b[1;31mTypeError\u001b[0m: can only concatenate str (not \"int\") to str"
     ]
    }
   ],
   "source": [
    "# 4\n",
    "string2=' I am a good boy and I am very intelligent'\n",
    "count=0\n",
    "word=''\n",
    "for i in string2:\n",
    "    if i in 'aeiou':\n",
    "        count+=1\n",
    "        if i  word:\n",
    "            word+=1\n",
    "\n",
    "print(word)"
   ]
  },
  {
   "cell_type": "code",
   "execution_count": null,
   "id": "5c9cc413-89bc-4c3a-9cd2-a28f06e5d0ba",
   "metadata": {},
   "outputs": [],
   "source": [
    "#5\n"
   ]
  },
  {
   "cell_type": "code",
   "execution_count": 97,
   "id": "6a66f880-ed68-4876-ab6a-735184f121ff",
   "metadata": {},
   "outputs": [
    {
     "data": {
      "text/plain": [
       "['__add__',\n",
       " '__class__',\n",
       " '__contains__',\n",
       " '__delattr__',\n",
       " '__dir__',\n",
       " '__doc__',\n",
       " '__eq__',\n",
       " '__format__',\n",
       " '__ge__',\n",
       " '__getattribute__',\n",
       " '__getitem__',\n",
       " '__getnewargs__',\n",
       " '__getstate__',\n",
       " '__gt__',\n",
       " '__hash__',\n",
       " '__init__',\n",
       " '__init_subclass__',\n",
       " '__iter__',\n",
       " '__le__',\n",
       " '__len__',\n",
       " '__lt__',\n",
       " '__mod__',\n",
       " '__mul__',\n",
       " '__ne__',\n",
       " '__new__',\n",
       " '__reduce__',\n",
       " '__reduce_ex__',\n",
       " '__repr__',\n",
       " '__rmod__',\n",
       " '__rmul__',\n",
       " '__setattr__',\n",
       " '__sizeof__',\n",
       " '__str__',\n",
       " '__subclasshook__',\n",
       " 'capitalize',\n",
       " 'casefold',\n",
       " 'center',\n",
       " 'count',\n",
       " 'encode',\n",
       " 'endswith',\n",
       " 'expandtabs',\n",
       " 'find',\n",
       " 'format',\n",
       " 'format_map',\n",
       " 'index',\n",
       " 'isalnum',\n",
       " 'isalpha',\n",
       " 'isascii',\n",
       " 'isdecimal',\n",
       " 'isdigit',\n",
       " 'isidentifier',\n",
       " 'islower',\n",
       " 'isnumeric',\n",
       " 'isprintable',\n",
       " 'isspace',\n",
       " 'istitle',\n",
       " 'isupper',\n",
       " 'join',\n",
       " 'ljust',\n",
       " 'lower',\n",
       " 'lstrip',\n",
       " 'maketrans',\n",
       " 'partition',\n",
       " 'removeprefix',\n",
       " 'removesuffix',\n",
       " 'replace',\n",
       " 'rfind',\n",
       " 'rindex',\n",
       " 'rjust',\n",
       " 'rpartition',\n",
       " 'rsplit',\n",
       " 'rstrip',\n",
       " 'split',\n",
       " 'splitlines',\n",
       " 'startswith',\n",
       " 'strip',\n",
       " 'swapcase',\n",
       " 'title',\n",
       " 'translate',\n",
       " 'upper',\n",
       " 'zfill']"
      ]
     },
     "execution_count": 97,
     "metadata": {},
     "output_type": "execute_result"
    }
   ],
   "source": [
    "dir('')"
   ]
  },
  {
   "cell_type": "code",
   "execution_count": 105,
   "id": "cedc14c2-e42c-4d30-a8f8-e0ab2bc47c4e",
   "metadata": {},
   "outputs": [
    {
     "name": "stdin",
     "output_type": "stream",
     "text": [
      "Enter a string:  nikesh\n"
     ]
    },
    {
     "name": "stdout",
     "output_type": "stream",
     "text": [
      "n*kesh!!!\n"
     ]
    }
   ],
   "source": [
    "string=input('Enter a string: ')\n",
    "if len(string)>=2:\n",
    "    new_string=string[0]+'*'+string[2:]+'!!!'\n",
    "\n",
    "\n",
    "print(new_string)\n",
    "    \n"
   ]
  },
  {
   "cell_type": "code",
   "execution_count": 1,
   "id": "d628020f-307c-44da-a379-125431407f07",
   "metadata": {},
   "outputs": [
    {
     "name": "stdin",
     "output_type": "stream",
     "text": [
      "Enter a string mam\n"
     ]
    },
    {
     "name": "stdout",
     "output_type": "stream",
     "text": [
      "The string is palindrome\n"
     ]
    }
   ],
   "source": [
    "#6\n",
    "string1=input('Enter a string')\n",
    "if string1[::-1]==string1:\n",
    "    print('The string is palindrome')\n",
    "else:\n",
    "    print('The string is not palindrome')"
   ]
  },
  {
   "cell_type": "code",
   "execution_count": null,
   "id": "6691e707-8a3b-4181-89a8-083f1d4c7e53",
   "metadata": {},
   "outputs": [],
   "source": [
    "#7"
   ]
  },
  {
   "cell_type": "code",
   "execution_count": 5,
   "id": "59ece5b4-8800-472c-bf81-0ad5988f47d9",
   "metadata": {},
   "outputs": [
    {
     "name": "stdin",
     "output_type": "stream",
     "text": [
      "Enter how many addresses you want to write:  3\n",
      "Enter the email address a@student.college.edu\n",
      "Enter the email address b@student.college.edu\n",
      "Enter the email address c@student.college.edu\n"
     ]
    },
    {
     "name": "stdout",
     "output_type": "stream",
     "text": [
      "All addresses are student addresses\n"
     ]
    }
   ],
   "source": [
    "a=eval(input('Enter how many addresses you want to write: '))\n",
    "for i in range(a):\n",
    "    b=input('Enter the email address')\n",
    "if b.endswith('@student.college.edu')==True:\n",
    "        print('All addresses are student addresses')\n",
    "elif b.endswith('@prof.college.edu')==True:\n",
    "        print('All addresses are professor addresses')\n",
    "else:\n",
    "        print('Invalid email address')\n",
    "\n",
    "\n",
    "\n"
   ]
  },
  {
   "cell_type": "code",
   "execution_count": 7,
   "id": "6bda294a-4cca-4b13-be95-1fab35546901",
   "metadata": {},
   "outputs": [
    {
     "name": "stdin",
     "output_type": "stream",
     "text": [
      "enter the string Hey\n"
     ]
    },
    {
     "name": "stdout",
     "output_type": "stream",
     "text": [
      "HH\n",
      "ee\n",
      "yy\n"
     ]
    }
   ],
   "source": [
    "#8\n",
    "string=input('enter the string')\n",
    "for i in string:\n",
    "    print(i*2)"
   ]
  },
  {
   "cell_type": "code",
   "execution_count": 19,
   "id": "eea4abae-5e0c-4677-9ca5-fc2dc7cc8d11",
   "metadata": {},
   "outputs": [
    {
     "name": "stdin",
     "output_type": "stream",
     "text": [
      "Enter a string having word a buffalo\n"
     ]
    },
    {
     "name": "stdout",
     "output_type": "stream",
     "text": [
      "buffa\n",
      "lo\n"
     ]
    }
   ],
   "source": [
    "#9\n",
    "string=input('Enter a string having word a')\n",
    "\n",
    "    \n",
    "first_part=string[:string.index('a')+1]\n",
    "second_part=string[string.index('a')+1:]\n",
    "print(first_part)\n",
    "print(second_part)"
   ]
  },
  {
   "cell_type": "code",
   "execution_count": 47,
   "id": "1fca5263-d65e-4ee8-8f0d-014b39fbc4f1",
   "metadata": {},
   "outputs": [
    {
     "name": "stdin",
     "output_type": "stream",
     "text": [
      "Enter a string:  Nikesh\n"
     ]
    },
    {
     "name": "stdout",
     "output_type": "stream",
     "text": [
      "NiKeSh\n"
     ]
    }
   ],
   "source": [
    "#10\n",
    "string=input('Enter a string: ')\n",
    "result=''\n",
    "for index,char in enumerate(string):\n",
    "    if index%2==0:\n",
    "        result+=char.upper()\n",
    "    else:\n",
    "        result+=char.lower()\n",
    "print(result)\n",
    "        "
   ]
  },
  {
   "cell_type": "code",
   "execution_count": null,
   "id": "ba2b1838-714a-494e-aa7f-20f19fee95c8",
   "metadata": {},
   "outputs": [],
   "source": []
  },
  {
   "cell_type": "code",
   "execution_count": null,
   "id": "ebeb0a6e-31f0-4a1f-a101-ea818d5dd7c6",
   "metadata": {},
   "outputs": [],
   "source": []
  }
 ],
 "metadata": {
  "kernelspec": {
   "display_name": "Python 3 (ipykernel)",
   "language": "python",
   "name": "python3"
  },
  "language_info": {
   "codemirror_mode": {
    "name": "ipython",
    "version": 3
   },
   "file_extension": ".py",
   "mimetype": "text/x-python",
   "name": "python",
   "nbconvert_exporter": "python",
   "pygments_lexer": "ipython3",
   "version": "3.12.7"
  }
 },
 "nbformat": 4,
 "nbformat_minor": 5
}
