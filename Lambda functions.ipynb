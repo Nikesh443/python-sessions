{
 "cells": [
  {
   "cell_type": "markdown",
   "id": "ba29401b-6519-4c1b-8ad0-5fa09a90ab23",
   "metadata": {},
   "source": [
    "# Lambda functions"
   ]
  },
  {
   "cell_type": "code",
   "execution_count": null,
   "id": "234d4480-fc47-4727-9615-48e8d1c340b2",
   "metadata": {},
   "outputs": [],
   "source": [
    "# create basic functions"
   ]
  },
  {
   "cell_type": "markdown",
   "id": "35852e5d-6192-464a-ae2d-381db8b2a165",
   "metadata": {},
   "source": [
    "### one arguments"
   ]
  },
  {
   "cell_type": "code",
   "execution_count": 4,
   "id": "e55a9b3e-d87c-4ac8-9948-1c15544fa07e",
   "metadata": {},
   "outputs": [
    {
     "data": {
      "text/plain": [
       "30"
      ]
     },
     "execution_count": 4,
     "metadata": {},
     "output_type": "execute_result"
    }
   ],
   "source": [
    "def add(x):\n",
    "    return(x+10)\n",
    "\n",
    "add(20)"
   ]
  },
  {
   "cell_type": "code",
   "execution_count": 8,
   "id": "10df22b7-c2a3-4bb7-8c73-bc2ec34ee673",
   "metadata": {},
   "outputs": [
    {
     "data": {
      "text/plain": [
       "30"
      ]
     },
     "execution_count": 8,
     "metadata": {},
     "output_type": "execute_result"
    }
   ],
   "source": [
    "def add(x):\n",
    "    return(x+10)\n",
    "\n",
    "add(20)\n",
    "\n",
    "# how many arguments are present?\n",
    "# what you are returning\n",
    "\n",
    "# lambda <argument>:<output>\n",
    "\n"
   ]
  },
  {
   "cell_type": "code",
   "execution_count": 10,
   "id": "0043f77f-fbef-4733-987a-d8008c3ede74",
   "metadata": {},
   "outputs": [
    {
     "data": {
      "text/plain": [
       "30"
      ]
     },
     "execution_count": 10,
     "metadata": {},
     "output_type": "execute_result"
    }
   ],
   "source": [
    "add=lambda x:x+10\n",
    "add(20)"
   ]
  },
  {
   "cell_type": "code",
   "execution_count": 12,
   "id": "8f45ef54-843c-4664-a352-eb66df9b2306",
   "metadata": {},
   "outputs": [
    {
     "data": {
      "text/plain": [
       "144"
      ]
     },
     "execution_count": 12,
     "metadata": {},
     "output_type": "execute_result"
    }
   ],
   "source": [
    "def square(a):\n",
    "    return(a*a)\n",
    "\n",
    "square(12)"
   ]
  },
  {
   "cell_type": "code",
   "execution_count": 14,
   "id": "1ee0f9eb-650c-4712-840a-18ec3164ebb0",
   "metadata": {},
   "outputs": [
    {
     "data": {
      "text/plain": [
       "9"
      ]
     },
     "execution_count": 14,
     "metadata": {},
     "output_type": "execute_result"
    }
   ],
   "source": [
    "square=lambda a:a*a\n",
    "square(3)"
   ]
  },
  {
   "cell_type": "code",
   "execution_count": 20,
   "id": "d4368515-53dd-4b63-90c8-fffee106caf7",
   "metadata": {},
   "outputs": [
    {
     "data": {
      "text/plain": [
       "8"
      ]
     },
     "execution_count": 20,
     "metadata": {},
     "output_type": "execute_result"
    }
   ],
   "source": [
    "def cube(b):\n",
    "    return(b**3)\n",
    "\n",
    "cube(2)\n",
    "    "
   ]
  },
  {
   "cell_type": "code",
   "execution_count": 29,
   "id": "886a5887-1562-4f6b-a1c6-409121fa8400",
   "metadata": {},
   "outputs": [
    {
     "data": {
      "text/plain": [
       "125"
      ]
     },
     "execution_count": 29,
     "metadata": {},
     "output_type": "execute_result"
    }
   ],
   "source": [
    "cube=lambda b:b**3\n",
    "cube(5)"
   ]
  },
  {
   "cell_type": "markdown",
   "id": "024126a5-29ec-4338-9a61-64c1b10f80c7",
   "metadata": {},
   "source": [
    "### two arguments"
   ]
  },
  {
   "cell_type": "code",
   "execution_count": 35,
   "id": "f4383c02-f414-4c02-9934-5b0dc968831d",
   "metadata": {},
   "outputs": [
    {
     "data": {
      "text/plain": [
       "22"
      ]
     },
     "execution_count": 35,
     "metadata": {},
     "output_type": "execute_result"
    }
   ],
   "source": [
    "def add(a,b):\n",
    "    return(a+b)\n",
    "\n",
    "add(10,12)\n",
    "\n",
    "# how many arguments are present?\n",
    "# what you are returning\n",
    "\n",
    "# lambda <argument>:<output>\n",
    "\n"
   ]
  },
  {
   "cell_type": "code",
   "execution_count": 37,
   "id": "27b40bed-86dc-44d6-b66b-aade027d0cfa",
   "metadata": {},
   "outputs": [
    {
     "data": {
      "text/plain": [
       "22"
      ]
     },
     "execution_count": 37,
     "metadata": {},
     "output_type": "execute_result"
    }
   ],
   "source": [
    "add=lambda a,b:a+b\n",
    "add(10,12)"
   ]
  },
  {
   "cell_type": "code",
   "execution_count": 41,
   "id": "3e0d9231-5253-4370-b7d9-7c2503ce1faf",
   "metadata": {},
   "outputs": [
    {
     "data": {
      "text/plain": [
       "110"
      ]
     },
     "execution_count": 41,
     "metadata": {},
     "output_type": "execute_result"
    }
   ],
   "source": [
    "def mul(c,d):\n",
    "    return(c*d)\n",
    "\n",
    "b=mul(10,11)\n",
    "b"
   ]
  },
  {
   "cell_type": "code",
   "execution_count": 48,
   "id": "3fe54605-be3b-465e-af7b-6d3260e593a3",
   "metadata": {},
   "outputs": [
    {
     "data": {
      "text/plain": [
       "120"
      ]
     },
     "execution_count": 48,
     "metadata": {},
     "output_type": "execute_result"
    }
   ],
   "source": [
    "nikesh=lambda c,d:c*d\n",
    "nikesh(12,10)"
   ]
  },
  {
   "cell_type": "code",
   "execution_count": 50,
   "id": "ed0f683d-b1ba-40c8-b4e7-9c5afc13a12e",
   "metadata": {},
   "outputs": [
    {
     "data": {
      "text/plain": [
       "2.0"
      ]
     },
     "execution_count": 50,
     "metadata": {},
     "output_type": "execute_result"
    }
   ],
   "source": [
    "# implement average of 3 numbers using lambda\n",
    "average=lambda a,b,c:(a+b+c)/3\n",
    "average(1,2,3)"
   ]
  },
  {
   "cell_type": "code",
   "execution_count": 52,
   "id": "745cb5e6-5355-42e1-bca8-7dcc5bd97e75",
   "metadata": {},
   "outputs": [
    {
     "data": {
      "text/plain": [
       "10.0"
      ]
     },
     "execution_count": 52,
     "metadata": {},
     "output_type": "execute_result"
    }
   ],
   "source": [
    "# implement average of three numbers make c as default paramaters\n",
    "average=lambda a,b,c=10:(a+b+c)/3\n",
    "average(10,10)\n"
   ]
  },
  {
   "cell_type": "code",
   "execution_count": 54,
   "id": "6b3b65c7-5ed9-4d75-8445-9bf7f9514040",
   "metadata": {},
   "outputs": [
    {
     "ename": "SyntaxError",
     "evalue": "parameter without a default follows parameter with a default (3939078786.py, line 1)",
     "output_type": "error",
     "traceback": [
      "\u001b[1;36m  Cell \u001b[1;32mIn[54], line 1\u001b[1;36m\u001b[0m\n\u001b[1;33m    average=lambda a=10,b,c:(a+b+c)/3\u001b[0m\n\u001b[1;37m                        ^\u001b[0m\n\u001b[1;31mSyntaxError\u001b[0m\u001b[1;31m:\u001b[0m parameter without a default follows parameter with a default\n"
     ]
    }
   ],
   "source": [
    "average=lambda a=10,b,c:(a+b+c)/3  # error: parameter without a default follows parameter with a default\n",
    "average(12,10)"
   ]
  },
  {
   "cell_type": "code",
   "execution_count": 56,
   "id": "ddd32d08-a079-4e90-8b39-8699b0aaa753",
   "metadata": {},
   "outputs": [
    {
     "ename": "SyntaxError",
     "evalue": "parameter without a default follows parameter with a default (1600934333.py, line 1)",
     "output_type": "error",
     "traceback": [
      "\u001b[1;36m  Cell \u001b[1;32mIn[56], line 1\u001b[1;36m\u001b[0m\n\u001b[1;33m    average=lambda a,b=20,c:(a+b+c)/3  # error: parameter without a default follows parameter with a default\u001b[0m\n\u001b[1;37m                          ^\u001b[0m\n\u001b[1;31mSyntaxError\u001b[0m\u001b[1;31m:\u001b[0m parameter without a default follows parameter with a default\n"
     ]
    }
   ],
   "source": [
    "average=lambda a,b=20,c:(a+b+c)/3  # error: parameter without a default follows parameter with a default\n",
    "average(12,10)"
   ]
  },
  {
   "cell_type": "code",
   "execution_count": 60,
   "id": "5bd7d2cc-4105-409c-b42a-a1d3de20bdf9",
   "metadata": {},
   "outputs": [
    {
     "data": {
      "text/plain": [
       "2.3468"
      ]
     },
     "execution_count": 60,
     "metadata": {},
     "output_type": "execute_result"
    }
   ],
   "source": [
    "# round\n",
    "a=2.34678965\n",
    "round(a,4)"
   ]
  },
  {
   "cell_type": "markdown",
   "id": "5c0b1660-daa0-4354-961d-1e9bbcc9747f",
   "metadata": {},
   "source": [
    "### if-else"
   ]
  },
  {
   "cell_type": "code",
   "execution_count": 63,
   "id": "db2dc628-ec45-4f9a-9f6c-8a5e28e3eebf",
   "metadata": {},
   "outputs": [
    {
     "name": "stdout",
     "output_type": "stream",
     "text": [
      "14 is greater than 12\n"
     ]
    }
   ],
   "source": [
    "# create a function for finding greater number between two numbers\n",
    "def great(a,b):\n",
    "    if a>b:\n",
    "        print(f'{a} is greater than {b}')\n",
    "\n",
    "    else:\n",
    "        print(f'{b} is greater than {a}')\n",
    "\n",
    "    return(a,b)\n",
    "\n",
    "c,d=great(12,14)\n",
    "\n"
   ]
  },
  {
   "cell_type": "code",
   "execution_count": 65,
   "id": "3cd33a2e-b5e0-4b36-80fa-32bd2b972432",
   "metadata": {},
   "outputs": [
    {
     "data": {
      "text/plain": [
       "12"
      ]
     },
     "execution_count": 65,
     "metadata": {},
     "output_type": "execute_result"
    }
   ],
   "source": [
    "c"
   ]
  },
  {
   "cell_type": "code",
   "execution_count": 67,
   "id": "5e869524-c66c-4f55-81f0-982a62807405",
   "metadata": {},
   "outputs": [
    {
     "data": {
      "text/plain": [
       "14"
      ]
     },
     "execution_count": 67,
     "metadata": {},
     "output_type": "execute_result"
    }
   ],
   "source": [
    "d"
   ]
  },
  {
   "cell_type": "code",
   "execution_count": 71,
   "id": "295810de-801c-4315-a85a-a5ce33b06b18",
   "metadata": {},
   "outputs": [],
   "source": [
    "l1=[]        # global variable\n",
    "def great(a,b):\n",
    "    if a>b:\n",
    "        l1.append(a)\n",
    "\n",
    "    else:\n",
    "        l1.append(b)\n",
    "\n",
    "    return(a,b)\n",
    "\n",
    "c,d=great(12,14)"
   ]
  },
  {
   "cell_type": "code",
   "execution_count": 73,
   "id": "9b11b910-4c0e-49c2-8895-8b989e77f8da",
   "metadata": {},
   "outputs": [
    {
     "data": {
      "text/plain": [
       "[14]"
      ]
     },
     "execution_count": 73,
     "metadata": {},
     "output_type": "execute_result"
    }
   ],
   "source": [
    "l1"
   ]
  },
  {
   "cell_type": "code",
   "execution_count": null,
   "id": "7d747caa-a18d-407a-a069-74c46146abb9",
   "metadata": {},
   "outputs": [],
   "source": [
    "# list comphrension\n",
    "#l1=[<if_output><if_condition><else_condition><else_output><loop>]"
   ]
  },
  {
   "cell_type": "code",
   "execution_count": 75,
   "id": "24523614-6a6c-4213-86ef-813b2562dd2d",
   "metadata": {},
   "outputs": [
    {
     "data": {
      "text/plain": [
       "'14 is greater than 12'"
      ]
     },
     "execution_count": 75,
     "metadata": {},
     "output_type": "execute_result"
    }
   ],
   "source": [
    "# create a function for finding greater number between two numbers using lambda function\n",
    "\n",
    "# lambda <arg1>,<arg2>:<if_output><if_condn> <else> <else_op>\n",
    "\n",
    "c=lambda a,b:f'{a} is greater than {b}' if a>b else f'{b} is greater than {a}'\n",
    "c(12,14)"
   ]
  },
  {
   "cell_type": "markdown",
   "id": "7bc88c59-faa1-4ab1-bce8-88fdb5b84fc2",
   "metadata": {},
   "source": [
    "- lambda function is nothing but create a function\n",
    "- on argument\n",
    "- multiple arguments\n",
    "- if else condn\n",
    "- if else condn same like list comphrension"
   ]
  },
  {
   "cell_type": "code",
   "execution_count": 4,
   "id": "4d74e990-d6f5-4328-9245-38386e689e22",
   "metadata": {},
   "outputs": [
    {
     "data": {
      "text/plain": [
       "['Hyd', 'Mumbai', 'Chennai']"
      ]
     },
     "execution_count": 4,
     "metadata": {},
     "output_type": "execute_result"
    }
   ],
   "source": [
    "# By using append method\n",
    "list1=['hyd','mumbai','chennai']\n",
    "list2=[]\n",
    "for i in range(len(list1)):\n",
    "    list2.append(list1[i].capitalize())\n",
    "\n",
    "list2\n",
    "\n",
    "\n",
    "    "
   ]
  },
  {
   "cell_type": "code",
   "execution_count": 6,
   "id": "0a9be89b-142c-4987-a79b-3dfdd5eafd83",
   "metadata": {},
   "outputs": [
    {
     "data": {
      "text/plain": [
       "['Hyd', 'Mumbai', 'Chennai']"
      ]
     },
     "execution_count": 6,
     "metadata": {},
     "output_type": "execute_result"
    }
   ],
   "source": [
    "# By using list comphrension method\n",
    "list1=['hyd','mumbai','chennai']\n",
    "list2=[list1[i].capitalize() for i in range(len(list1))]\n",
    "list2"
   ]
  },
  {
   "cell_type": "code",
   "execution_count": null,
   "id": "5eb5fdfc-d752-4fd5-ba5f-d6032edf7655",
   "metadata": {},
   "outputs": [],
   "source": [
    "# whenever you use iterations \n",
    "# iterator: something that can be iterable/you can print using loop\n",
    "# list,string,tuple,dictionary"
   ]
  },
  {
   "cell_type": "code",
   "execution_count": null,
   "id": "bf09f7dc-23de-459f-acab-bf303b03bfca",
   "metadata": {},
   "outputs": [],
   "source": [
    "lambda <arguments>:<output>,<iterator>"
   ]
  },
  {
   "cell_type": "code",
   "execution_count": 12,
   "id": "51ee6355-3a4f-406e-b10f-e6790a788470",
   "metadata": {},
   "outputs": [
    {
     "data": {
      "text/plain": [
       "(<function __main__.<lambda>(i)>, ['hyd', 'mumbai', 'chennai'])"
      ]
     },
     "execution_count": 12,
     "metadata": {},
     "output_type": "execute_result"
    }
   ],
   "source": [
    "list1=['hyd','mumbai','chennai']\n",
    "list2=lambda i:i.capitalize(),list1\n",
    "list2"
   ]
  },
  {
   "cell_type": "markdown",
   "id": "1895287c-97a6-4c66-b3af-1a4521440f97",
   "metadata": {},
   "source": [
    "- next thing is map input and output"
   ]
  },
  {
   "cell_type": "code",
   "execution_count": 14,
   "id": "8af68274-e057-4312-871a-dc548b0032f2",
   "metadata": {},
   "outputs": [
    {
     "data": {
      "text/plain": [
       "<map at 0x1c139393e20>"
      ]
     },
     "execution_count": 14,
     "metadata": {},
     "output_type": "execute_result"
    }
   ],
   "source": [
    "list1=['hyd','mumbai','chennai']\n",
    "map(lambda i:i.capitalize(),list1)"
   ]
  },
  {
   "cell_type": "markdown",
   "id": "334b4536-aa7f-4e9e-8c93-a55c8ab9a56b",
   "metadata": {},
   "source": [
    "- store the output"
   ]
  },
  {
   "cell_type": "code",
   "execution_count": 18,
   "id": "c633dbd2-c3f3-48a3-a2c8-f7d56234a15c",
   "metadata": {},
   "outputs": [
    {
     "data": {
      "text/plain": [
       "['Hyd', 'Mumbai', 'Chennai']"
      ]
     },
     "execution_count": 18,
     "metadata": {},
     "output_type": "execute_result"
    }
   ],
   "source": [
    "list(map(lambda i:i.capitalize(),list1))"
   ]
  },
  {
   "cell_type": "markdown",
   "id": "12053634-63c2-4cd7-a7ff-6d76cdde833d",
   "metadata": {},
   "source": [
    "- first make a lambda function\n",
    "- second add your iterator\n",
    "- map both function and iterator\n",
    "- save the result in a list"
   ]
  },
  {
   "cell_type": "code",
   "execution_count": 21,
   "id": "c571f59d-9516-4d00-bb7e-6387ca2efe3f",
   "metadata": {},
   "outputs": [
    {
     "data": {
      "text/plain": [
       "['Hyd', 'Mumbai', 'Chennai']"
      ]
     },
     "execution_count": 21,
     "metadata": {},
     "output_type": "execute_result"
    }
   ],
   "source": [
    "list1=['hyd','mumbai','chennai']\n",
    "lambda i:i.capitalize(),list1\n",
    "map(lambda i:i.capitalize(),list1)\n",
    "list(map(lambda i:i.capitalize(),list1))\n"
   ]
  },
  {
   "cell_type": "code",
   "execution_count": 25,
   "id": "7abcb839-f1ad-4801-807f-916b1eefa494",
   "metadata": {},
   "outputs": [
    {
     "data": {
      "text/plain": [
       "[1, 4, 9, 16, 25]"
      ]
     },
     "execution_count": 25,
     "metadata": {},
     "output_type": "execute_result"
    }
   ],
   "source": [
    "# WAP to dquare the list using append method\n",
    "list1=[1,2,3,4,5]\n",
    "list2=[]\n",
    "for i in list1:\n",
    "    list2.append(i*i)\n",
    "\n",
    "list2\n",
    "    "
   ]
  },
  {
   "cell_type": "code",
   "execution_count": 27,
   "id": "eb697e58-2c8a-4823-94bf-347e54ca585c",
   "metadata": {},
   "outputs": [
    {
     "data": {
      "text/plain": [
       "[1, 4, 9, 16, 25]"
      ]
     },
     "execution_count": 27,
     "metadata": {},
     "output_type": "execute_result"
    }
   ],
   "source": [
    "# by using list comphrension method\n",
    "list1=[1,2,3,4,5]\n",
    "list2=[i*i for i in list1]\n",
    "list2"
   ]
  },
  {
   "cell_type": "code",
   "execution_count": 31,
   "id": "53821afa-abe2-4bc2-9fd0-6da25cd85c6b",
   "metadata": {},
   "outputs": [
    {
     "data": {
      "text/plain": [
       "[1, 4, 9, 16, 25]"
      ]
     },
     "execution_count": 31,
     "metadata": {},
     "output_type": "execute_result"
    }
   ],
   "source": [
    "# by using lambda function\n",
    "list(map(lambda i:i*i,list1))"
   ]
  },
  {
   "cell_type": "code",
   "execution_count": 49,
   "id": "641e2431-79e3-4354-adf3-bcf1e6b90774",
   "metadata": {},
   "outputs": [
    {
     "data": {
      "text/plain": [
       "[12, 24, 36]"
      ]
     },
     "execution_count": 49,
     "metadata": {},
     "output_type": "execute_result"
    }
   ],
   "source": [
    "# WAP \n",
    "list1=[1,2,3]\n",
    "list2=[11,22,33]\n",
    "list(map(lambda i,j:i+j, list1,list2))"
   ]
  },
  {
   "cell_type": "code",
   "execution_count": 51,
   "id": "e3c4a409-d54f-491b-a138-952cc349f9c8",
   "metadata": {},
   "outputs": [
    {
     "data": {
      "text/plain": [
       "[12, 24, 36]"
      ]
     },
     "execution_count": 51,
     "metadata": {},
     "output_type": "execute_result"
    }
   ],
   "source": [
    "# By using append method\n",
    "list1=[1,2,3]\n",
    "list2=[11,22,33]\n",
    "list3=[]\n",
    "for i,j in zip(list1,list2):\n",
    "    list3.append(i+j)\n",
    "\n",
    "list3"
   ]
  },
  {
   "cell_type": "code",
   "execution_count": 73,
   "id": "e071b419-19ed-4155-a6c9-69ad7b3dc4a8",
   "metadata": {},
   "outputs": [
    {
     "ename": "SyntaxError",
     "evalue": "did you forget parentheses around the comprehension target? (4049634910.py, line 2)",
     "output_type": "error",
     "traceback": [
      "\u001b[1;36m  Cell \u001b[1;32mIn[73], line 2\u001b[1;36m\u001b[0m\n\u001b[1;33m    list3=[(i,j), i+j for i,j in zip(list1,list2)]\u001b[0m\n\u001b[1;37m           ^\u001b[0m\n\u001b[1;31mSyntaxError\u001b[0m\u001b[1;31m:\u001b[0m did you forget parentheses around the comprehension target?\n"
     ]
    }
   ],
   "source": [
    "# bY using list comphrension method\n",
    "list3=[(i,j), i+j for i,j in zip(list1,list2)]\n",
    "list3"
   ]
  },
  {
   "cell_type": "code",
   "execution_count": 57,
   "id": "c662b035-1c06-43ff-b875-aa93c873de1b",
   "metadata": {},
   "outputs": [
    {
     "data": {
      "text/plain": [
       "['h#d', 'mum#bai']"
      ]
     },
     "execution_count": 57,
     "metadata": {},
     "output_type": "execute_result"
    }
   ],
   "source": [
    "# WAP\n",
    "list1=['h#d','mum#bai','chennai']\n",
    "list2=[]\n",
    "for i in list1:\n",
    "    if '#' in i:\n",
    "        list2.append(i)   \n",
    "\n",
    "list2\n",
    "\n",
    "    "
   ]
  },
  {
   "cell_type": "code",
   "execution_count": 65,
   "id": "feaf0472-99db-42e4-9b03-4382233c3f54",
   "metadata": {},
   "outputs": [
    {
     "data": {
      "text/plain": [
       "['h#d', 'mum#bai']"
      ]
     },
     "execution_count": 65,
     "metadata": {},
     "output_type": "execute_result"
    }
   ],
   "source": [
    "# by list comphrension method\n",
    "list2=[i for i in list1 if '#' in i]\n",
    "list2"
   ]
  },
  {
   "cell_type": "code",
   "execution_count": null,
   "id": "c78be4f6-78a1-441a-8f89-130dcf50317e",
   "metadata": {},
   "outputs": [],
   "source": [
    "# lambda <argument>:<condition>,<iterator>"
   ]
  },
  {
   "cell_type": "code",
   "execution_count": 77,
   "id": "6ec41c5c-effb-4425-b54d-ff6bb5f053b0",
   "metadata": {},
   "outputs": [
    {
     "data": {
      "text/plain": [
       "[True, True, False]"
      ]
     },
     "execution_count": 77,
     "metadata": {},
     "output_type": "execute_result"
    }
   ],
   "source": [
    " # by lambda function\n",
    "list1=['h#d','mum#bai','chennai']\n",
    "list(map(lambda i:'#' in i,list1))\n",
    "\n",
    "# condition mapping to list of items"
   ]
  },
  {
   "cell_type": "code",
   "execution_count": 81,
   "id": "d280d9ef-b30d-4b26-8322-6dd980522c74",
   "metadata": {},
   "outputs": [
    {
     "data": {
      "text/plain": [
       "True"
      ]
     },
     "execution_count": 81,
     "metadata": {},
     "output_type": "execute_result"
    }
   ],
   "source": [
    "list1=['h#d','mum#bai','chennai']\n",
    "'#' in 'h#d'"
   ]
  },
  {
   "cell_type": "code",
   "execution_count": 83,
   "id": "47d447c1-3275-46fd-aaf4-28cd85ac1eb3",
   "metadata": {},
   "outputs": [
    {
     "data": {
      "text/plain": [
       "['h#d', 'mum#bai']"
      ]
     },
     "execution_count": 83,
     "metadata": {},
     "output_type": "execute_result"
    }
   ],
   "source": [
    "# filtering \n",
    "list1=['h#d','mum#bai','chennai']\n",
    "list(filter(lambda i:'#' in i,list1))"
   ]
  },
  {
   "cell_type": "code",
   "execution_count": null,
   "id": "8f489b96-4641-4707-bee9-a82dbe15d2db",
   "metadata": {},
   "outputs": [],
   "source": [
    "- in lambda function if there is only if condn not else condn then we use \n",
    "- lambda <arg>:<condn>,<iterator>"
   ]
  },
  {
   "cell_type": "code",
   "execution_count": null,
   "id": "ecba37c8-5d61-4ac5-8169-021f5f8abba9",
   "metadata": {},
   "outputs": [],
   "source": []
  }
 ],
 "metadata": {
  "kernelspec": {
   "display_name": "Python 3 (ipykernel)",
   "language": "python",
   "name": "python3"
  },
  "language_info": {
   "codemirror_mode": {
    "name": "ipython",
    "version": 3
   },
   "file_extension": ".py",
   "mimetype": "text/x-python",
   "name": "python",
   "nbconvert_exporter": "python",
   "pygments_lexer": "ipython3",
   "version": "3.12.7"
  }
 },
 "nbformat": 4,
 "nbformat_minor": 5
}
