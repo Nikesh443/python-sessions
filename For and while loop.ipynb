{
 "cells": [
  {
   "cell_type": "markdown",
   "id": "f9e6f4c4-9e90-40b3-96a1-707826f99aa5",
   "metadata": {},
   "source": [
    "# Loop"
   ]
  },
  {
   "cell_type": "markdown",
   "id": "2c10663a-1f7b-4e76-866f-9f9cef1140f7",
   "metadata": {},
   "source": [
    "- for loop\n",
    "- while loop"
   ]
  },
  {
   "cell_type": "markdown",
   "id": "bb8f0289-0abb-41d9-8f1a-35906fb7c20d",
   "metadata": {},
   "source": [
    "### for loop"
   ]
  },
  {
   "cell_type": "markdown",
   "id": "dd391713-a4ba-433b-8227-56681eef48ff",
   "metadata": {},
   "source": [
    "- you will be in the loop\n",
    "- when you will enter into the loop\n",
    "- how much time you will stay in the loop\n",
    "- how will you come out of the loop"
   ]
  },
  {
   "cell_type": "markdown",
   "id": "d9f166a9-bd68-4f45-b75b-77caf0c2ac4a",
   "metadata": {},
   "source": [
    "- initialization\n",
    "- increment or decrement\n",
    "- condition to stop the loop"
   ]
  },
  {
   "cell_type": "code",
   "execution_count": null,
   "id": "354ecf96-060d-4856-a409-3c71c19b999e",
   "metadata": {},
   "outputs": [],
   "source": [
    "# I want to print first ten numbers\n",
    "\n",
    "# initial point=0\n",
    "# increment\n",
    "# cond=10"
   ]
  },
  {
   "cell_type": "markdown",
   "id": "90973b01-dc64-4866-8098-a73218d23a42",
   "metadata": {},
   "source": [
    "$pattern-1$"
   ]
  },
  {
   "cell_type": "code",
   "execution_count": null,
   "id": "092e9928-7bd8-4f3c-8896-3a6b721ab14f",
   "metadata": {},
   "outputs": [],
   "source": [
    "for i in range(stop):\n",
    "\n",
    "- in the bracket if we have only single value that is consider as stop value\n",
    "- the default start value is =0\n",
    "- python index always start  with:0\n",
    "- if direction is not mentioned: increment(+) sign\n",
    "- if direction is positive side then end=stop-1"
   ]
  },
  {
   "cell_type": "code",
   "execution_count": 9,
   "id": "adb8391b-121c-4e7d-bfab-66a7cd72c747",
   "metadata": {},
   "outputs": [
    {
     "name": "stdout",
     "output_type": "stream",
     "text": [
      "0\n",
      "1\n",
      "2\n",
      "3\n",
      "4\n",
      "5\n",
      "6\n",
      "7\n",
      "8\n",
      "9\n"
     ]
    }
   ],
   "source": [
    "for i in range(10):\n",
    "    print(i)\n",
    "\n",
    "# start=0\n",
    "# direc=+ve\n",
    "# end=stop-1\n",
    "      = 10-1\n",
    "       =  9"
   ]
  },
  {
   "cell_type": "code",
   "execution_count": 11,
   "id": "47ba0353-c3b9-42cd-b71d-9df03c6b09ec",
   "metadata": {},
   "outputs": [
    {
     "name": "stdout",
     "output_type": "stream",
     "text": [
      "0\n",
      "1\n",
      "2\n",
      "3\n",
      "4\n"
     ]
    }
   ],
   "source": [
    "for i in range(5):\n",
    "    print(i)\n",
    "\n",
    "# start=0\n",
    "# direc=+\n",
    "# end=5-1\n",
    "     =4"
   ]
  },
  {
   "cell_type": "code",
   "execution_count": 1,
   "id": "58f06c0f-5616-4e64-babf-9c6db84f5a88",
   "metadata": {},
   "outputs": [
    {
     "name": "stdout",
     "output_type": "stream",
     "text": [
      "0 1 2 3 4 hello:friends\n"
     ]
    }
   ],
   "source": [
    "# end operator:\n",
    "for i in range(5):\n",
    "    print(i,end=' ')\n",
    "\n",
    "# sep operator\n",
    "print('hello','friends',sep=':')"
   ]
  },
  {
   "cell_type": "markdown",
   "id": "f0f04480-ca8a-41d6-b91d-67e910c189db",
   "metadata": {},
   "source": [
    "$ pattern-2$"
   ]
  },
  {
   "cell_type": "code",
   "execution_count": null,
   "id": "97066c45-72f4-4d67-b2c5-8900d50ba11d",
   "metadata": {},
   "outputs": [],
   "source": [
    "for i in range(start,stop)\n",
    "- start: start of the loop, initial point.\n",
    "- direction sign not mentioned: +ve direction i.e increment\n",
    "-end= stop"
   ]
  },
  {
   "cell_type": "code",
   "execution_count": 24,
   "id": "872e5131-21da-47d4-bf76-14f216ae2ded",
   "metadata": {},
   "outputs": [
    {
     "name": "stdout",
     "output_type": "stream",
     "text": [
      "10  11  12  13  14  15  16  17  18  19  "
     ]
    }
   ],
   "source": [
    "for i in range(10,20):\n",
    "    print(i,end='  ')\n",
    "\n",
    "# start=10\n",
    "# direc=+ve because not mentioned\n",
    "# end=20-1\n",
    "#    =19\n",
    "\n"
   ]
  },
  {
   "cell_type": "markdown",
   "id": "54cac43b-56a4-43e0-96fe-64391ac823b2",
   "metadata": {},
   "source": [
    "$ pattern-3$"
   ]
  },
  {
   "cell_type": "markdown",
   "id": "6f8c7fe2-3e5b-4100-b0ee-a932d28cde13",
   "metadata": {},
   "source": [
    "for i in range(start,stop,step)\n",
    "\n",
    "- start: start of the loop, initial point.\n",
    "\n",
    "- direction sign not mentioned: +ve direction i.e increment\n",
    "\n",
    "- direction: what is sign of step value,that is direction\n",
    "\n",
    "          - direction will not decide by start and stop value.\n",
    "\n",
    "          - direction will provided by step value.\n",
    "\n",
    "- if step value is positive direction\n",
    "\n",
    "              end=stop-1\n",
    "\n",
    "- if step value is negative direction\n",
    "\n",
    "             end=stop+1"
   ]
  },
  {
   "cell_type": "code",
   "execution_count": 28,
   "id": "5c0267a9-16d9-4d18-885a-2c59cd8e78e7",
   "metadata": {},
   "outputs": [
    {
     "name": "stdout",
     "output_type": "stream",
     "text": [
      "2  4  6  8  10  12  14  16  18  "
     ]
    }
   ],
   "source": [
    "for i in range (2,20,2):\n",
    "    print(i,end='  ')\n",
    "\n",
    "# start:2\n",
    "# dir: step size= +2\n",
    "# end=stop-1"
   ]
  },
  {
   "cell_type": "code",
   "execution_count": 37,
   "id": "5c081d99-c51d-404f-8368-dcaac3cfd2a3",
   "metadata": {},
   "outputs": [
    {
     "name": "stdout",
     "output_type": "stream",
     "text": [
      "-1  -2  -3  -4  -5  -6  -7  -8  -9  "
     ]
    }
   ],
   "source": [
    "for i in range(-1,-10,-1):\n",
    "    print(i,end='  ')\n",
    "\n",
    "# -1  -2  -3  -4  -5  -6  -7  -8  -9 \n",
    "\n",
    "# start: -1\n",
    "# direc: step size=-1\n",
    "# end: -10+1\n",
    "#     : -9"
   ]
  },
  {
   "cell_type": "code",
   "execution_count": 41,
   "id": "7fadf62e-f93d-44ad-99f8-f7cfe53fe4f9",
   "metadata": {},
   "outputs": [],
   "source": [
    "for i in range(-1,-10, 1):\n",
    "    print(i,end='  ')\n",
    "\n",
    "# start: -1\n",
    "# direc: step size=+1\n",
    "# end: -10+1\n",
    "#     : -9\n",
    "# is this possible? =====> look at line\n",
    "# this is not possible`"
   ]
  },
  {
   "cell_type": "code",
   "execution_count": 45,
   "id": "a6561cc8-d834-4194-9788-8c9dbe849df8",
   "metadata": {},
   "outputs": [],
   "source": [
    " for i in range(8,20,-2):\n",
    "     print(i,end='  ')\n",
    "\n",
    "# start: 8\n",
    "# dir: step size=-2 ====> negative\n",
    "# end = stop+1======>20+1\n",
    "# not possible"
   ]
  },
  {
   "cell_type": "code",
   "execution_count": null,
   "id": "fbc515b3-5a21-4d07-aa7c-54cd87d9c3f7",
   "metadata": {},
   "outputs": [],
   "source": [
    "range(3,25,3)  # p\n",
    "range(3,25,-3)  # np\n",
    "range(3,-25,3)  # np\n",
    "range(3,-25,-3) # p\n",
    "range(-3,25,3)  # p\n",
    "range(-3,-25,3) # np\n",
    "range(-3,25,-3) # np\n",
    "range(-3,-25,-3) # p"
   ]
  },
  {
   "cell_type": "code",
   "execution_count": 1,
   "id": "7f0da5eb-85bd-4561-970c-72b814d8b6cc",
   "metadata": {},
   "outputs": [
    {
     "name": "stdout",
     "output_type": "stream",
     "text": [
      "Hello\n",
      "Hello\n",
      "Hello\n"
     ]
    }
   ],
   "source": [
    "# WAp print : hello3 times/ itterations======>\n",
    "for i in range(3):\n",
    "    print(\"Hello\")\n"
   ]
  },
  {
   "cell_type": "code",
   "execution_count": 3,
   "id": "620acac9-785c-4a0e-9e2f-4a5989200332",
   "metadata": {},
   "outputs": [
    {
     "name": "stdout",
     "output_type": "stream",
     "text": [
      "hai\n",
      "Hello\n",
      "Hello\n",
      "Hello\n",
      "How do you do?\n"
     ]
    }
   ],
   "source": [
    "print('hai')\n",
    "for i in range(3):\n",
    "    print(\"Hello\")\n",
    "\n",
    "print('How do you do?')\n"
   ]
  },
  {
   "cell_type": "code",
   "execution_count": null,
   "id": "547b3a7e-69a0-4a00-b9ed-61ef3e865d44",
   "metadata": {},
   "outputs": [],
   "source": [
    "# A\n",
    "# A\n",
    "# A\n",
    "# B\n",
    "# B\n",
    "# C\n",
    "# C\n",
    "# C"
   ]
  },
  {
   "cell_type": "code",
   "execution_count": 5,
   "id": "cbd7739a-cb39-4d69-96f7-f853ab3caf7d",
   "metadata": {},
   "outputs": [
    {
     "name": "stdout",
     "output_type": "stream",
     "text": [
      "A\n",
      "A\n",
      "A\n",
      "B\n",
      "B\n",
      "C\n",
      "C\n",
      "C\n"
     ]
    }
   ],
   "source": [
    "for i in range(3):\n",
    "    print('A')\n",
    "\n",
    "for i in range(2):\n",
    "    print('B')\n",
    "\n",
    "for i in range(3):\n",
    "    print('C')"
   ]
  },
  {
   "cell_type": "code",
   "execution_count": null,
   "id": "69cbd18f-74be-4f77-9cc3-7b6b32766fdc",
   "metadata": {},
   "outputs": [],
   "source": [
    "# A\n",
    "# B\n",
    "# A\n",
    "# B\n",
    "# A\n",
    "# B\n",
    "# C\n",
    "# C\n",
    "# C"
   ]
  },
  {
   "cell_type": "code",
   "execution_count": 1,
   "id": "14e87fcb-9a99-4c15-ba8a-db5ec75e40a5",
   "metadata": {},
   "outputs": [
    {
     "name": "stdout",
     "output_type": "stream",
     "text": [
      "A\n",
      "B\n",
      "A\n",
      "B\n",
      "A\n",
      "B\n",
      "C\n",
      "C\n",
      "C\n"
     ]
    }
   ],
   "source": [
    "for i in range(3):\n",
    "    print('A')\n",
    "    print('B')\n",
    "\n",
    "for i in range(3):\n",
    "    print('C')"
   ]
  },
  {
   "cell_type": "code",
   "execution_count": 7,
   "id": "9f6d69f1-41cb-4a50-9e71-5a477964991c",
   "metadata": {},
   "outputs": [
    {
     "name": "stdout",
     "output_type": "stream",
     "text": [
      "Square of 10 is 100.\n",
      "Square of 11 is 121.\n",
      "Square of 12 is 144.\n",
      "Square of 13 is 169.\n",
      "Square of 14 is 196.\n",
      "Square of 15 is 225.\n"
     ]
    }
   ],
   "source": [
    "# WAP ask the user to get the square of the numbers between 10 to 15\n",
    "\n",
    "for i in range(10,16):\n",
    "    square=i*i\n",
    "    print('Square of {} is {}.'.format(i,square))\n",
    "\n"
   ]
  },
  {
   "cell_type": "code",
   "execution_count": 21,
   "id": "af4447de-ec56-485d-8978-c34a99597c48",
   "metadata": {},
   "outputs": [
    {
     "name": "stdin",
     "output_type": "stream",
     "text": [
      "Enter the start number:  10\n",
      "Enter the end number:  16\n"
     ]
    },
    {
     "name": "stdout",
     "output_type": "stream",
     "text": [
      "Square of 10 is 100.\n",
      "Square of 11 is 121.\n",
      "Square of 12 is 144.\n",
      "Square of 13 is 169.\n",
      "Square of 14 is 196.\n",
      "Square of 15 is 225.\n"
     ]
    }
   ],
   "source": [
    "# same above question but take numbers from user/keyboard\n",
    "\n",
    "a=eval(input('Enter the start number: '))\n",
    "b=eval(input('Enter the end number: '))\n",
    "for i in range(a,b):\n",
    "    print('Square of {} is {}.'.format(i,i*i))"
   ]
  },
  {
   "cell_type": "code",
   "execution_count": 19,
   "id": "cf7fb9b0-9211-4c3a-a4dc-9b1d9beb69b0",
   "metadata": {},
   "outputs": [
    {
     "name": "stdin",
     "output_type": "stream",
     "text": [
      "Enter the start number:  11\n",
      "Enter the end number:  19\n"
     ]
    },
    {
     "name": "stdout",
     "output_type": "stream",
     "text": [
      "Square of 11 is 121.\n",
      "Square of 12 is 144.\n",
      "Square of 13 is 169.\n",
      "Square of 14 is 196.\n",
      "Square of 15 is 225.\n",
      "Square of 16 is 256.\n",
      "Square of 17 is 289.\n",
      "Square of 18 is 324.\n"
     ]
    }
   ],
   "source": [
    "try:\n",
    "    a=eval(input('Enter the start number: '))\n",
    "    b=eval(input('Enter the end number: '))\n",
    "    for i in range(a,b):\n",
    "        print('Square of {} is {}.'.format(i,i*i))\n",
    "\n",
    "except Exception as e:\n",
    "    print(e)\n",
    "    "
   ]
  },
  {
   "cell_type": "code",
   "execution_count": 25,
   "id": "411a6a44-4d7d-4bfc-8ea3-86cf69539611",
   "metadata": {},
   "outputs": [
    {
     "name": "stdin",
     "output_type": "stream",
     "text": [
      "Enter the start number:  12\n",
      "Enter the end number:  20\n"
     ]
    },
    {
     "name": "stdout",
     "output_type": "stream",
     "text": [
      "Square of 12 is 144.\n",
      "Square of 13 is 169.\n",
      "Square of 14 is 196.\n",
      "Square of 15 is 225.\n",
      "Square of 16 is 256.\n",
      "Square of 17 is 289.\n",
      "Square of 18 is 324.\n",
      "Square of 19 is 361.\n"
     ]
    }
   ],
   "source": [
    "\n",
    "# Alternative process\n",
    "try:\n",
    "    for i in range(eval(input('Enter the start number: '))\n",
    "                   ,eval(input('Enter the end number: '))):\n",
    "        print('Square of {} is {}.'.format(i,i*i))\n",
    "\n",
    "except Exception as e:\n",
    "    print(e)"
   ]
  },
  {
   "cell_type": "code",
   "execution_count": 29,
   "id": "b28eb86b-83ee-4e24-a19a-48944f1658b1",
   "metadata": {},
   "outputs": [
    {
     "name": "stdin",
     "output_type": "stream",
     "text": [
      "Enter the start number:  10\n",
      "Enter the end number: 16\n"
     ]
    },
    {
     "name": "stdout",
     "output_type": "stream",
     "text": [
      "The square of 10 is 100.\n",
      "The square of 11 is 121.\n",
      "The square of 12 is 144.\n",
      "The square of 13 is 169.\n",
      "The square of 14 is 196.\n",
      "The square of 15 is 225.\n"
     ]
    }
   ],
   "source": [
    "# Function without arguments.\n",
    "def nikesh():\n",
    "    try:\n",
    "        a=eval(input('Enter the start number: '))\n",
    "        b=eval(input('Enter the end number:'))\n",
    "        for i in range(a,b):\n",
    "            print('The square of {} is {}.'.format(i,i*i))\n",
    "\n",
    "    except Exception as e:\n",
    "        print(e)\n",
    "nikesh()"
   ]
  },
  {
   "cell_type": "code",
   "execution_count": 31,
   "id": "a2f9549f-40b2-4c7a-9d7d-4bfc5a81fcd6",
   "metadata": {},
   "outputs": [
    {
     "name": "stdout",
     "output_type": "stream",
     "text": [
      " The square of 10 is 100 \n",
      " The square of 11 is 121 \n",
      " The square of 12 is 144 \n",
      " The square of 13 is 169 \n",
      " The square of 14 is 196 \n",
      " The square of 15 is 225 \n"
     ]
    }
   ],
   "source": [
    "# functions with arguments\n",
    "def nikesh(a,b):\n",
    "    try:\n",
    "        for i in range(a,b):\n",
    "            print(f' The square of {i} is {i*i} ')\n",
    "\n",
    "    except Exception as e:\n",
    "        print(e)\n",
    "\n",
    "nikesh(10,16)\n",
    "    \n",
    "        "
   ]
  },
  {
   "cell_type": "code",
   "execution_count": 41,
   "id": "fb9621b7-4d21-4dee-a492-7ddeba6bdd97",
   "metadata": {},
   "outputs": [
    {
     "name": "stdin",
     "output_type": "stream",
     "text": [
      "Enter the number:  12\n"
     ]
    },
    {
     "name": "stdout",
     "output_type": "stream",
     "text": [
      "The square of 12 is 144\n"
     ]
    },
    {
     "name": "stdin",
     "output_type": "stream",
     "text": [
      "Enter the number:  13\n"
     ]
    },
    {
     "name": "stdout",
     "output_type": "stream",
     "text": [
      "The square of 13 is 169\n"
     ]
    },
    {
     "name": "stdin",
     "output_type": "stream",
     "text": [
      "Enter the number:  14\n"
     ]
    },
    {
     "name": "stdout",
     "output_type": "stream",
     "text": [
      "The square of 14 is 196\n"
     ]
    },
    {
     "name": "stdin",
     "output_type": "stream",
     "text": [
      "Enter the number:  15\n"
     ]
    },
    {
     "name": "stdout",
     "output_type": "stream",
     "text": [
      "The square of 15 is 225\n"
     ]
    },
    {
     "name": "stdin",
     "output_type": "stream",
     "text": [
      "Enter the number:  16\n"
     ]
    },
    {
     "name": "stdout",
     "output_type": "stream",
     "text": [
      "The square of 16 is 256\n"
     ]
    }
   ],
   "source": [
    "# WAP ask the user to print square of five numbers and these five numbers you need to ask user every time\n",
    "for i in range(5):\n",
    "    num=eval(input('Enter the number: '))\n",
    "    print(f'The square of {num} is {num*num}')"
   ]
  },
  {
   "cell_type": "code",
   "execution_count": 43,
   "id": "252ab5fc-b82d-498b-b048-f4a145450edc",
   "metadata": {},
   "outputs": [
    {
     "name": "stdin",
     "output_type": "stream",
     "text": [
      "Enter the number:  12\n"
     ]
    },
    {
     "name": "stdout",
     "output_type": "stream",
     "text": [
      "The square of 12 is 144\n",
      "The square of 12 is 144\n",
      "The square of 12 is 144\n",
      "The square of 12 is 144\n",
      "The square of 12 is 144\n"
     ]
    }
   ],
   "source": [
    "num=eval(input('Enter the number: '))\n",
    "for i in range(5):\n",
    "    print(f'The square of {num} is {num*num}')"
   ]
  },
  {
   "cell_type": "code",
   "execution_count": 47,
   "id": "7d505b0b-c6e9-4663-bb59-4039ae8758d5",
   "metadata": {},
   "outputs": [
    {
     "name": "stdout",
     "output_type": "stream",
     "text": [
      "The square of 9 is 81\n",
      "The square of 15 is 225\n",
      "The square of 11 is 121\n",
      "The square of 4 is 16\n",
      "The square of 10 is 100\n"
     ]
    }
   ],
   "source": [
    "# WAP ask the user to print five times square of a number\n",
    "# this time you need to take every time a random number betwee 1 to 20\n",
    "import random\n",
    "try:\n",
    "    for i in range(5):\n",
    "        num=random.randint(1,20)\n",
    "        print(f'The square of {num} is {num*num}')\n",
    "\n",
    "except Exception as e:\n",
    "    print(e)\n",
    "    "
   ]
  },
  {
   "cell_type": "code",
   "execution_count": 51,
   "id": "5fd4379a-a237-4681-88da-84a7eb31ac58",
   "metadata": {},
   "outputs": [
    {
     "name": "stdout",
     "output_type": "stream",
     "text": [
      "The number 10 is even number.\n",
      "The number 11 is odd number\n",
      "The number 12 is even number.\n",
      "The number 13 is odd number\n",
      "The number 14 is even number.\n",
      "The number 15 is odd number\n",
      "The number 16 is even number.\n",
      "The number 17 is odd number\n",
      "The number 18 is even number.\n",
      "The number 19 is odd number\n",
      "The number 20 is even number.\n",
      "The number 21 is odd number\n",
      "The number 22 is even number.\n",
      "The number 23 is odd number\n",
      "The number 24 is even number.\n",
      "The number 25 is odd number\n",
      "The number 26 is even number.\n",
      "The number 27 is odd number\n",
      "The number 28 is even number.\n",
      "The number 29 is odd number\n",
      "The number 30 is even number.\n"
     ]
    }
   ],
   "source": [
    "# WAP ask the user print the given number is even or odd\n",
    "# you need to take the number between 10 to 30\n",
    "\n",
    "for i in range(10,31):\n",
    "    if (i%2==0):\n",
    "        print(\"The number {} is even number.\".format(i))\n",
    "\n",
    "    else:\n",
    "        print(f'The number {i} is odd number')"
   ]
  },
  {
   "cell_type": "code",
   "execution_count": 57,
   "id": "00d360ab-1a58-4b6a-8454-ba862ea56d8d",
   "metadata": {},
   "outputs": [
    {
     "name": "stdout",
     "output_type": "stream",
     "text": [
      "The number 21 is odd number\n",
      "The number 22 is even number\n",
      "The number 15 is odd number\n",
      "The number 14 is even number\n",
      "The number 18 is even number\n"
     ]
    }
   ],
   "source": [
    "# # WAP ask the user print the given number is even or odd\n",
    "# you need to take the random number between 10 to 30\n",
    "# This process need to be done 5 times\n",
    "import random\n",
    "try:\n",
    "    for num in range(5):\n",
    "        a=random.randint(10,30)\n",
    "        if a%2==0:\n",
    "            print(f'The number {a} is even number')\n",
    "\n",
    "        else:\n",
    "            print(f'The number {a} is odd number')\n",
    "\n",
    "except Exception as e:\n",
    "    print(e)\n"
   ]
  },
  {
   "cell_type": "code",
   "execution_count": 69,
   "id": "99a7bd1a-2593-4159-945c-d0e3cd1b4d49",
   "metadata": {},
   "outputs": [
    {
     "name": "stdout",
     "output_type": "stream",
     "text": [
      "The number 22 is even number\n",
      "The number 18 is even number\n",
      "The number 18 is even number\n",
      "The number 30 is even number\n",
      "The number 24 is even number\n"
     ]
    }
   ],
   "source": [
    "\n",
    "def nikesh(a):\n",
    "    \n",
    "    if a%2==0:\n",
    "         print(f'The number {a} is even number')\n",
    "\n",
    "    else:\n",
    "         print(f'The number {a} is odd number')\n",
    "        \n",
    "for i in range(5):\n",
    "    nikesh(random.randint(10,31))\n"
   ]
  },
  {
   "cell_type": "code",
   "execution_count": 85,
   "id": "9fce0ec0-d66f-4077-87f7-2d0757a19e40",
   "metadata": {},
   "outputs": [
    {
     "name": "stdin",
     "output_type": "stream",
     "text": [
      "Enter the number between 1 to 10:  2\n"
     ]
    },
    {
     "name": "stdout",
     "output_type": "stream",
     "text": [
      "You lost because random number is 5.\n",
      "No of chances left is 2\n"
     ]
    },
    {
     "name": "stdin",
     "output_type": "stream",
     "text": [
      "Enter the number between 1 to 10:  3\n"
     ]
    },
    {
     "name": "stdout",
     "output_type": "stream",
     "text": [
      "You lost because random number is 6.\n",
      "No of chances left is 1\n"
     ]
    },
    {
     "name": "stdin",
     "output_type": "stream",
     "text": [
      "Enter the number between 1 to 10:  4\n"
     ]
    },
    {
     "name": "stdout",
     "output_type": "stream",
     "text": [
      "You lost because random number is 5.\n",
      "No of chances left is 0\n"
     ]
    }
   ],
   "source": [
    "# GAME:\n",
    "import random\n",
    "for i in range(3):\n",
    "    a=random.randint(1,10)\n",
    "    b=eval(input('Enter the number between 1 to 10: '))\n",
    "    if a==b:\n",
    "        print('You won because random number is {}.'.format(a))\n",
    "        break\n",
    "\n",
    "    else:\n",
    "        print('You lost because random number is {}.'.format(a))\n",
    "        print('No of chances left is {}'.format(2-i))\n",
    "\n"
   ]
  },
  {
   "cell_type": "code",
   "execution_count": 101,
   "id": "1b2e092b-cc8f-4130-a487-7834e7ad3b61",
   "metadata": {},
   "outputs": [
    {
     "name": "stdin",
     "output_type": "stream",
     "text": [
      "How many chances do you want:  3\n",
      "Enter the number between 1 to 10:  1\n"
     ]
    },
    {
     "name": "stdout",
     "output_type": "stream",
     "text": [
      "You lost because random number is 4.\n",
      "No of chance left is 2.\n"
     ]
    },
    {
     "name": "stdin",
     "output_type": "stream",
     "text": [
      "Enter the number between 1 to 10:  3\n"
     ]
    },
    {
     "name": "stdout",
     "output_type": "stream",
     "text": [
      "You lost because random number is 7.\n",
      "No of chance left is 1.\n"
     ]
    },
    {
     "name": "stdin",
     "output_type": "stream",
     "text": [
      "Enter the number between 1 to 10:  5\n"
     ]
    },
    {
     "name": "stdout",
     "output_type": "stream",
     "text": [
      "You lost because random number is 1.\n",
      "Try again after 10 minutes.\n"
     ]
    }
   ],
   "source": [
    "import random\n",
    "chances=eval(input('How many chances do you want: '))\n",
    "for i in range(3):\n",
    "    a=random.randint(1,10)\n",
    "    b=eval(input('Enter the number between 1 to 10: '))\n",
    "    if a==b:\n",
    "        print('You won because random number is {}.'.format(a))\n",
    "        break\n",
    "\n",
    "    else:\n",
    "        print('You lost because random number is {}.'.format(a))\n",
    "        if (chances-1-i)==0:\n",
    "            print('Try again after 10 minutes.')\n",
    "\n",
    "        else:\n",
    "            print('No of chance left is {}.'.format(chances-1-i))\n"
   ]
  },
  {
   "cell_type": "code",
   "execution_count": 25,
   "id": "d40f4cce-ec13-4261-b6d9-bf257cd0f5d8",
   "metadata": {},
   "outputs": [
    {
     "name": "stdout",
     "output_type": "stream",
     "text": [
      "1+1 is :\n",
      "2\n",
      "2+2 is :\n",
      "4\n",
      "4+3 is :\n",
      "7\n",
      "7+4 is :\n",
      "11\n",
      "11+5 is :\n",
      "16\n",
      "16+6 is :\n",
      "22\n",
      "22+7 is :\n",
      "29\n",
      "29+8 is :\n",
      "37\n",
      "37+9 is :\n",
      "46\n",
      "46+10 is :\n",
      "56\n",
      "56\n"
     ]
    }
   ],
   "source": [
    "# WAP ask the user get the sum of 10 natural numbers.\n",
    "# 1+2+3+4+5+6+7+8+9+10=55\n",
    "summ=1\n",
    "for i in range(1,11):\n",
    "    print('{}+{} is :'.format(summ,i))\n",
    "    summ=summ+i\n",
    "    print(summ)\n",
    "print(summ)    # If we print outside the loop then we will get last value of sum\n",
    "# 1+1=2\n",
    "# 2+2=4\n",
    "# 4+3=7\n",
    "# 7+4=11\n",
    "# 11+5=16\n",
    "# 16+6=22\n",
    "               # Generalized form: (summ)+(i)=(sum)"
   ]
  },
  {
   "cell_type": "markdown",
   "id": "42e71dcf-4158-48d8-9fcf-81f21829ba23",
   "metadata": {},
   "source": [
    "- whenever if you want to implement counter program\n",
    "\n",
    "- sum program\n",
    "\n",
    "- initialize the variable with zero\n",
    "\n",
    "- like: summ=0 or count=0\n",
    "\n",
    "- inside the loop based on the problem update the variable like: summ=summ+i or count=count+i\n",
    "\n",
    "-                                                               : summ+=i        count+=i"
   ]
  },
  {
   "cell_type": "code",
   "execution_count": 17,
   "id": "5b3a2202-772c-4b93-aac3-2907f3e9018b",
   "metadata": {},
   "outputs": [
    {
     "name": "stdout",
     "output_type": "stream",
     "text": [
      "The number 27 is odd number\n",
      "The number 13 is odd number\n",
      "The number 11 is odd number\n",
      "The number 11 is odd number\n",
      "The number 23 is odd number\n",
      "Here even count is 0 and odd count is 5.\n"
     ]
    }
   ],
   "source": [
    "import random\n",
    "even_count=0\n",
    "odd_count=0\n",
    "try:\n",
    "    for num in range(5):\n",
    "        a=random.randint(10,30)\n",
    "        if a%2==0:\n",
    "            print(f'The number {a} is even number')\n",
    "            even_count=even_count+1\n",
    "\n",
    "        else:\n",
    "            print(f'The number {a} is odd number')\n",
    "            odd_count=odd_count+1\n",
    "\n",
    "except Exception as e:\n",
    "    print(e)\n",
    "print('Here even count is {} and odd count is {}.'.format(even_count,odd_count))\n",
    "   "
   ]
  },
  {
   "cell_type": "code",
   "execution_count": 29,
   "id": "18326ceb-8f29-4990-9b90-4bdab691d436",
   "metadata": {},
   "outputs": [
    {
     "name": "stdout",
     "output_type": "stream",
     "text": [
      "97\n",
      "89\n",
      "68\n",
      "64\n",
      "81\n",
      "The numbers greater than 50 is 5\n"
     ]
    }
   ],
   "source": [
    "# WAP ask the user take a random number between 1 to 99\n",
    "# itterate the loop 10 time\n",
    "# count how many times a number is coming and greater than 50\n",
    "\n",
    "\n",
    "import random\n",
    "count=0\n",
    "for i in range(10):\n",
    "    a=random.randint(1,99)\n",
    "    if a>50:\n",
    "        print(a)\n",
    "        count+=1\n",
    "\n",
    "print('The numbers greater than 50 is {}'.format(count))\n",
    "    \n",
    "    "
   ]
  },
  {
   "cell_type": "code",
   "execution_count": 49,
   "id": "35e53fd9-83ea-4896-b1e2-900cab8787e3",
   "metadata": {},
   "outputs": [
    {
     "name": "stdin",
     "output_type": "stream",
     "text": [
      "Enter the number of which divisors yo want to know:  10\n"
     ]
    },
    {
     "name": "stdout",
     "output_type": "stream",
     "text": [
      "10 is divisible by 1\n",
      "10 is divisible by 2\n",
      "10 is not divisible by 3\n",
      "10 is not divisible by 4\n",
      "10 is divisible by 5\n",
      "10 is not divisible by 6\n",
      "10 is not divisible by 7\n",
      "10 is not divisible by 8\n",
      "10 is not divisible by 9\n",
      "The number of divisors are:  3\n",
      "The number of non divisors are:  6\n"
     ]
    }
   ],
   "source": [
    "# Number of divisors program\n",
    "count=0\n",
    "count_d=0\n",
    "num=eval(input('Enter the number of which divisors yo want to know: '))\n",
    "for i in range(1,num):\n",
    "    if num%i==0:\n",
    "        print(f'{num} is divisible by {i}')\n",
    "        count=count+1\n",
    "\n",
    "    else:\n",
    "        print(f'{num} is not divisible by {i}')\n",
    "        count_d+=1\n",
    "\n",
    "print(\"The number of divisors are: \",count)\n",
    "print(\"The number of non divisors are: \",count_d)"
   ]
  },
  {
   "cell_type": "code",
   "execution_count": 55,
   "id": "cb8dc86e-8028-4a9a-957d-8562fcd69d76",
   "metadata": {},
   "outputs": [
    {
     "name": "stdin",
     "output_type": "stream",
     "text": [
      "Enter the number of which divisors yo want to know:  10\n"
     ]
    },
    {
     "name": "stdout",
     "output_type": "stream",
     "text": [
      "10 is divisible by 1\n",
      "10 is divisible by 2\n",
      "10 is not divisible by 3\n",
      "10 is not divisible by 4\n",
      "10 is divisible by 5\n",
      "10 is not divisible by 6\n",
      "10 is not divisible by 7\n",
      "10 is not divisible by 8\n",
      "10 is not divisible by 9\n",
      "3 6\n"
     ]
    }
   ],
   "source": [
    "def counter():\n",
    "    count=0\n",
    "    count_d=0\n",
    "    num=eval(input('Enter the number of which divisors yo want to know: '))\n",
    "    for i in range(1,num):\n",
    "        if num%i==0:\n",
    "            print(f'{num} is divisible by {i}')\n",
    "            count=count+1\n",
    "    \n",
    "        else:\n",
    "            print(f'{num} is not divisible by {i}')\n",
    "            count_d+=1\n",
    "            \n",
    "    return(count,count_d)\n",
    "\n",
    "a,b=counter()\n",
    "print(a,b)"
   ]
  },
  {
   "cell_type": "code",
   "execution_count": 72,
   "id": "c984b059-f28d-48e7-9987-b6b76e81564e",
   "metadata": {},
   "outputs": [
    {
     "name": "stdin",
     "output_type": "stream",
     "text": [
      "Enter the number of which divisors yo want to know:  10\n"
     ]
    },
    {
     "name": "stdout",
     "output_type": "stream",
     "text": [
      "10 is not divisible by 9\n"
     ]
    },
    {
     "ename": "UnboundLocalError",
     "evalue": "cannot access local variable 'count_d' where it is not associated with a value",
     "output_type": "error",
     "traceback": [
      "\u001b[1;31m---------------------------------------------------------------------------\u001b[0m",
      "\u001b[1;31mUnboundLocalError\u001b[0m                         Traceback (most recent call last)",
      "Cell \u001b[1;32mIn[72], line 17\u001b[0m\n\u001b[0;32m     12\u001b[0m           count_d\u001b[38;5;241m+\u001b[39m\u001b[38;5;241m=\u001b[39m\u001b[38;5;241m1\u001b[39m\n\u001b[0;32m     13\u001b[0m      \u001b[38;5;28;01mreturn\u001b[39;00m(count,count_d)\n\u001b[1;32m---> 17\u001b[0m a,b\u001b[38;5;241m=\u001b[39mcounter()\n\u001b[0;32m     18\u001b[0m \u001b[38;5;28mprint\u001b[39m(a,b)\n",
      "Cell \u001b[1;32mIn[72], line 12\u001b[0m, in \u001b[0;36mcounter\u001b[1;34m()\u001b[0m\n\u001b[0;32m     10\u001b[0m \u001b[38;5;28;01melse\u001b[39;00m:\n\u001b[0;32m     11\u001b[0m      \u001b[38;5;28mprint\u001b[39m(\u001b[38;5;124mf\u001b[39m\u001b[38;5;124m'\u001b[39m\u001b[38;5;132;01m{\u001b[39;00mnum\u001b[38;5;132;01m}\u001b[39;00m\u001b[38;5;124m is not divisible by \u001b[39m\u001b[38;5;132;01m{\u001b[39;00mi\u001b[38;5;132;01m}\u001b[39;00m\u001b[38;5;124m'\u001b[39m)\n\u001b[1;32m---> 12\u001b[0m      count_d\u001b[38;5;241m+\u001b[39m\u001b[38;5;241m=\u001b[39m\u001b[38;5;241m1\u001b[39m\n\u001b[0;32m     13\u001b[0m \u001b[38;5;28;01mreturn\u001b[39;00m(count,count_d)\n",
      "\u001b[1;31mUnboundLocalError\u001b[0m: cannot access local variable 'count_d' where it is not associated with a value"
     ]
    }
   ],
   "source": [
    "# Important error\n",
    "count=0\n",
    "count_d=0\n",
    "num=eval(input('Enter the number of which divisors yo want to know: '))\n",
    "def counter():\n",
    "     if num%i==0:\n",
    "            print(f'{num} is divisible by {i}')\n",
    "            count=count+1\n",
    "    \n",
    "     else:\n",
    "          print(f'{num} is not divisible by {i}')\n",
    "          count_d+=1\n",
    "     return(count,count_d)\n",
    "           \n",
    "            \n",
    "\n",
    "a,b=counter()\n",
    "print(a,b)\n"
   ]
  },
  {
   "cell_type": "code",
   "execution_count": 76,
   "id": "8f8cbe71-eea8-4bd1-b8e1-bd15f038cd31",
   "metadata": {},
   "outputs": [
    {
     "name": "stdout",
     "output_type": "stream",
     "text": [
      "10 is divisible by 1\n",
      "10 is divisible by 2\n",
      "10 is not divisible by 3\n",
      "10 is not divisible by 4\n",
      "10 is divisible by 5\n",
      "10 is not divisible by 6\n",
      "10 is not divisible by 7\n",
      "10 is not divisible by 8\n",
      "10 is not divisible by 9\n",
      "3 6\n"
     ]
    }
   ],
   "source": [
    "# Function with arguments\n",
    "def counter(num):\n",
    "    count=0\n",
    "    count_d=0\n",
    "    for i in range(1,num):\n",
    "        if num%i==0:\n",
    "            print(f'{num} is divisible by {i}')\n",
    "            count=count+1\n",
    "    \n",
    "        else:\n",
    "            print(f'{num} is not divisible by {i}')\n",
    "            count_d+=1\n",
    "            \n",
    "    return(count,count_d)\n",
    "\n",
    "a,b=counter(10)\n",
    "print(a,b)"
   ]
  },
  {
   "cell_type": "code",
   "execution_count": null,
   "id": "564407c4-70ac-4be2-b616-4a45751c94bb",
   "metadata": {},
   "outputs": [],
   "source": [
    "- whenever if you want to implement counter program\n",
    "\n",
    "- initialise counter inside the function only"
   ]
  },
  {
   "cell_type": "code",
   "execution_count": null,
   "id": "7977e602-ecc3-4e6a-af3b-42176b8d2656",
   "metadata": {},
   "outputs": [],
   "source": [
    "# Function in function important example:\n",
    "\n",
    "    "
   ]
  },
  {
   "cell_type": "code",
   "execution_count": 16,
   "id": "9328ee0d-1cfe-48b9-a828-629deee88ad0",
   "metadata": {},
   "outputs": [
    {
     "name": "stdin",
     "output_type": "stream",
     "text": [
      "Enter the number of which divisors yo want to know:  10\n"
     ]
    },
    {
     "name": "stdout",
     "output_type": "stream",
     "text": [
      "10 is divisible by 1\n",
      "10 is divisible by 2\n",
      "10 is not divisible by 3\n",
      "10 is not divisible by 4\n",
      "10 is divisible by 5\n",
      "10 is not divisible by 6\n",
      "10 is not divisible by 7\n",
      "10 is not divisible by 8\n",
      "10 is not divisible by 9\n",
      "10 is divisible by 10\n",
      "4 6\n"
     ]
    }
   ],
   "source": [
    "def condition(num,count,count_d,i):\n",
    "     if num%i==0:\n",
    "            print(f'{num} is divisible by {i}')\n",
    "            count=count+1\n",
    "    \n",
    "     else:\n",
    "          print(f'{num} is not divisible by {i}')\n",
    "          count_d+=1\n",
    "\n",
    "     return(count,count_d)\n",
    "\n",
    "\n",
    "def counter():\n",
    "    count=0\n",
    "    count_d=0\n",
    "    num=eval(input('Enter the number of which divisors yo want to know: '))\n",
    "    for i in range(1,num+1):\n",
    "      count,count_d=condition(num,count,count_d,i)\n",
    "            \n",
    "    return(count,count_d)\n",
    "\n",
    "a,b=counter()\n",
    "print(a,b)"
   ]
  },
  {
   "cell_type": "markdown",
   "id": "ddfd8c06-9970-40d6-9e82-d14a3c0095e1",
   "metadata": {},
   "source": [
    "# While loop         "
   ]
  },
  {
   "cell_type": "markdown",
   "id": "a77aac52-c426-4a45-968b-ce089750a59a",
   "metadata": {},
   "source": [
    "- any loop we need three things \n",
    "\n",
    "- Intialization,condition and increment/decrement"
   ]
  },
  {
   "cell_type": "markdown",
   "id": "dcb4f5ed-0045-4b14-9201-c130ae8dad41",
   "metadata": {},
   "source": [
    "- In while loop we need to provide three things individually"
   ]
  },
  {
   "cell_type": "code",
   "execution_count": null,
   "id": "2d4b7f1e-7f50-4939-9cc2-feeefdfe7e60",
   "metadata": {},
   "outputs": [],
   "source": [
    "# Wrapper \n",
    "\n",
    "i=0 # initialization point\n",
    "\n",
    "while <condition>:\n",
    "    # stat 1\n",
    "    # stat 2\n",
    "\n",
    "    i=i+1"
   ]
  },
  {
   "cell_type": "code",
   "execution_count": 28,
   "id": "35d1f939-f24b-4ba8-8008-9e29ad43bf36",
   "metadata": {},
   "outputs": [
    {
     "name": "stdout",
     "output_type": "stream",
     "text": [
      "0 1 2 3 4 5 6 7 8 9 "
     ]
    }
   ],
   "source": [
    "# I want to print first 10 numbers 0 to 9\n",
    "\n",
    "for i in range(10):\n",
    "    print(i,end=' ')"
   ]
  },
  {
   "cell_type": "code",
   "execution_count": 32,
   "id": "b24395b9-c4b0-4c9a-a96d-e92bfc4ee352",
   "metadata": {},
   "outputs": [
    {
     "name": "stdout",
     "output_type": "stream",
     "text": [
      "0 1 2 3 4 5 6 7 8 9 "
     ]
    }
   ],
   "source": [
    "i=0\n",
    "while i<10:\n",
    "    print(i,end=' ')\n",
    "    i=i+1\n",
    "\n",
    "# some true conditions based on i=0\n",
    "# i<100\n",
    "# i<10\n",
    "# i>-1"
   ]
  },
  {
   "cell_type": "code",
   "execution_count": 36,
   "id": "0fa9de86-b5df-4309-b4af-01b2f582da9e",
   "metadata": {},
   "outputs": [
    {
     "name": "stdout",
     "output_type": "stream",
     "text": [
      "0 1 2 3 4 5 6 7 8 9 "
     ]
    }
   ],
   "source": [
    "i=0\n",
    "while i<10:\n",
    "    print(i,end=' ')\n",
    "    i=i+1\n",
    "\n",
    "# step-1: i=0  0>=0 True print (0) i=0+1=1"
   ]
  },
  {
   "cell_type": "markdown",
   "id": "f3329fca-c515-4f74-b921-bb12ee54bf4b",
   "metadata": {},
   "source": [
    "- If you want avoid infinite loop, give proper a condition based on given question\n",
    "\n",
    "- Even though the condn is valid, you can enter inside the loop but never come out of the loop."
   ]
  },
  {
   "cell_type": "code",
   "execution_count": 49,
   "id": "380e7fac-9f96-4098-b9b0-73ec69972784",
   "metadata": {},
   "outputs": [
    {
     "name": "stdout",
     "output_type": "stream",
     "text": [
      "10 11 12 13 14 15 16 17 18 19 20 "
     ]
    }
   ],
   "source": [
    "# print 10 t0 20\n",
    "\n",
    "i=10\n",
    "while i<=20:\n",
    "    print(i,end=' ')\n",
    "    i=i+1"
   ]
  },
  {
   "cell_type": "code",
   "execution_count": 59,
   "id": "39d2d488-acd5-470a-9587-5b6ede00ab4d",
   "metadata": {},
   "outputs": [
    {
     "name": "stdout",
     "output_type": "stream",
     "text": [
      "-1 -2 -3 -4 -5 -6 -7 -8 -9 -10 "
     ]
    }
   ],
   "source": [
    "# print -1 to -10\n",
    "\n",
    "i=-1\n",
    "while i>=-10:\n",
    "    print(i,end=' ')\n",
    "    i=i-1\n"
   ]
  },
  {
   "cell_type": "code",
   "execution_count": 61,
   "id": "e2fbf805-66f0-4131-b681-c0ea77f5d9e4",
   "metadata": {},
   "outputs": [
    {
     "name": "stdout",
     "output_type": "stream",
     "text": [
      "-1 -2 -3 -4 -5 -6 -7 -8 -9 -10 "
     ]
    }
   ],
   "source": [
    "# Alternative process\n",
    "i=-1\n",
    "while True:\n",
    "    print(i,end=' ')\n",
    "    i=i-1\n",
    "    if i==-11:\n",
    "        break"
   ]
  },
  {
   "cell_type": "markdown",
   "id": "28a9125a-3879-4ef5-a5e0-970d6a7ac57d",
   "metadata": {},
   "source": [
    "- By mistake you provided not a valid condn\n",
    "- then your loop is going infinite\n",
    "- then provide a if condition inside the loop"
   ]
  },
  {
   "cell_type": "code",
   "execution_count": 68,
   "id": "a0ab3813-2f7e-4085-91e4-8bba1394065c",
   "metadata": {},
   "outputs": [
    {
     "name": "stdout",
     "output_type": "stream",
     "text": [
      "0 1 2 3 4 5 6 7 8 9 10 "
     ]
    }
   ],
   "source": [
    "# Infinite loop stopping process\n",
    "\n",
    "i=0\n",
    "while i>=0:\n",
    "    print(i,end=' ')\n",
    "    i=i+1\n",
    "    if i==11:\n",
    "        break"
   ]
  },
  {
   "cell_type": "code",
   "execution_count": 72,
   "id": "3bf36df5-9a84-41f3-bba3-bea0ffd73b2b",
   "metadata": {},
   "outputs": [
    {
     "name": "stdin",
     "output_type": "stream",
     "text": [
      "Enter the number:  1\n"
     ]
    },
    {
     "name": "stdout",
     "output_type": "stream",
     "text": [
      "1\n"
     ]
    },
    {
     "name": "stdin",
     "output_type": "stream",
     "text": [
      "Enter the number:  2\n"
     ]
    },
    {
     "name": "stdout",
     "output_type": "stream",
     "text": [
      "4\n"
     ]
    },
    {
     "name": "stdin",
     "output_type": "stream",
     "text": [
      "Enter the number:  3\n"
     ]
    },
    {
     "name": "stdout",
     "output_type": "stream",
     "text": [
      "9\n"
     ]
    },
    {
     "name": "stdin",
     "output_type": "stream",
     "text": [
      "Enter the number:  4\n"
     ]
    },
    {
     "name": "stdout",
     "output_type": "stream",
     "text": [
      "16\n"
     ]
    },
    {
     "name": "stdin",
     "output_type": "stream",
     "text": [
      "Enter the number:  5\n"
     ]
    },
    {
     "name": "stdout",
     "output_type": "stream",
     "text": [
      "25\n"
     ]
    }
   ],
   "source": [
    "# Ask the user enter a number 5 times\n",
    "# print the square  of the number\n",
    "\n",
    "\n",
    "# by for loop\n",
    "for i in range(5):\n",
    "    a=eval(input('Enter the number: '))\n",
    "    square=a*a\n",
    "    print(square)\n",
    "    "
   ]
  },
  {
   "cell_type": "code",
   "execution_count": 76,
   "id": "981dd290-0589-43f7-a1e0-c0c02cc7216b",
   "metadata": {},
   "outputs": [
    {
     "name": "stdin",
     "output_type": "stream",
     "text": [
      "Enter the number:  1\n"
     ]
    },
    {
     "name": "stdout",
     "output_type": "stream",
     "text": [
      "1\n"
     ]
    },
    {
     "name": "stdin",
     "output_type": "stream",
     "text": [
      "Enter the number:  2\n"
     ]
    },
    {
     "name": "stdout",
     "output_type": "stream",
     "text": [
      "4\n"
     ]
    },
    {
     "name": "stdin",
     "output_type": "stream",
     "text": [
      "Enter the number:  3\n"
     ]
    },
    {
     "name": "stdout",
     "output_type": "stream",
     "text": [
      "9\n"
     ]
    },
    {
     "name": "stdin",
     "output_type": "stream",
     "text": [
      "Enter the number:  4\n"
     ]
    },
    {
     "name": "stdout",
     "output_type": "stream",
     "text": [
      "16\n"
     ]
    },
    {
     "name": "stdin",
     "output_type": "stream",
     "text": [
      "Enter the number:  5\n"
     ]
    },
    {
     "name": "stdout",
     "output_type": "stream",
     "text": [
      "25\n"
     ]
    }
   ],
   "source": [
    "# by while loop\n",
    "\n",
    "i=0\n",
    "while True:\n",
    "    a=eval(input('Enter the number: '))\n",
    "    square=a*a\n",
    "    print(square)\n",
    "    i=i+1\n",
    "    if i==5:\n",
    "         break\n",
    "        "
   ]
  },
  {
   "cell_type": "code",
   "execution_count": 78,
   "id": "a272d98c-fed9-4a5f-9f81-1747364a2648",
   "metadata": {},
   "outputs": [
    {
     "name": "stdout",
     "output_type": "stream",
     "text": [
      "The square of 10 is 100\n",
      "The square of 20 is 400\n",
      "The square of 13 is 169\n",
      "The square of 16 is 256\n",
      "The square of 20 is 400\n"
     ]
    }
   ],
   "source": [
    "# WAP take a random number between 10 t0 20, five times you need to take and print the square of number\n",
    "#by for loop\n",
    "import random\n",
    "for i in range(5):\n",
    "    a=random.randint(10,20)\n",
    "    print(f'The square of {a} is {a*a}')"
   ]
  },
  {
   "cell_type": "code",
   "execution_count": 84,
   "id": "e0bdd326-dd06-45fd-9a53-6ac162e9259e",
   "metadata": {},
   "outputs": [
    {
     "name": "stdout",
     "output_type": "stream",
     "text": [
      "The square of 15 is 225\n",
      "The square of 10 is 100\n",
      "The square of 17 is 289\n",
      "The square of 13 is 169\n",
      "The square of 16 is 256\n"
     ]
    }
   ],
   "source": [
    "# by while loop\n",
    "import random\n",
    "i=0  # initial point=0\n",
    "while True:\n",
    "    a=random.randint(10,20)\n",
    "    print(f'The square of {a} is {a*a}')\n",
    "    i=i+1\n",
    "    if i==5:  # final point=5\n",
    "        break\n",
    "    "
   ]
  },
  {
   "cell_type": "code",
   "execution_count": 86,
   "id": "367023e4-e400-406e-ac23-cce0eb47855c",
   "metadata": {},
   "outputs": [
    {
     "name": "stdout",
     "output_type": "stream",
     "text": [
      "The number 10 is even\n",
      "The number 11 is odd\n",
      "The number 12 is even\n",
      "The number 13 is odd\n",
      "The number 14 is even\n",
      "The number 15 is odd\n",
      "The number 16 is even\n",
      "The number 17 is odd\n",
      "The number 18 is even\n",
      "The number 19 is odd\n",
      "The number 20 is even\n"
     ]
    }
   ],
   "source": [
    "# WAP ask the user print a number is even or odd numbers \n",
    "# consider numbers from 10 to 20\n",
    "# by for and while loop\n",
    "\n",
    "# by for loop\n",
    "for i in range(10,21):\n",
    "    if i%2==0:\n",
    "        print(f'The number {i} is even')\n",
    "    else:\n",
    "        print(f'The number {i} is odd')"
   ]
  },
  {
   "cell_type": "code",
   "execution_count": 88,
   "id": "443d496b-9af3-444d-84d6-479cde669f70",
   "metadata": {},
   "outputs": [
    {
     "name": "stdout",
     "output_type": "stream",
     "text": [
      "The number 10 is even\n",
      "The number 11 is odd\n",
      "The number 12 is even\n",
      "The number 13 is odd\n",
      "The number 14 is even\n",
      "The number 15 is odd\n",
      "The number 16 is even\n",
      "The number 17 is odd\n",
      "The number 18 is even\n",
      "The number 19 is odd\n",
      "The number 20 is even\n"
     ]
    }
   ],
   "source": [
    "# by while loop\n",
    "\n",
    "i=10\n",
    "while True:\n",
    "    if i%2==0:\n",
    "        print(f'The number {i} is even')\n",
    "    else:\n",
    "        print(f'The number {i} is odd')\n",
    "    i=i+1\n",
    "    if i==21:\n",
    "        break\n"
   ]
  },
  {
   "cell_type": "code",
   "execution_count": 131,
   "id": "ababf44a-1a09-4a9d-ad6f-cced87e29738",
   "metadata": {},
   "outputs": [
    {
     "name": "stdout",
     "output_type": "stream",
     "text": [
      "The sum of 10 natural numbers is 55\n"
     ]
    }
   ],
   "source": [
    "# print sum of first 10 natural numbers.\n",
    "# by for loop\n",
    "summ=0\n",
    "for i in range(1,11):\n",
    "    summ=summ+i\n",
    "\n",
    "print(f'The sum of 10 natural numbers is {summ}')\n",
    "    \n"
   ]
  },
  {
   "cell_type": "code",
   "execution_count": 129,
   "id": "4febe6a2-6334-44b4-acac-e447c0e513eb",
   "metadata": {},
   "outputs": [
    {
     "name": "stdout",
     "output_type": "stream",
     "text": [
      "The sum of 10 natural numbers is 55\n"
     ]
    }
   ],
   "source": [
    "# by while loop\n",
    "summ=0\n",
    "i=1\n",
    "while True:\n",
    "    summ=summ+i\n",
    "    i=i+1\n",
    "    if i==11:\n",
    "        break\n",
    "\n",
    "print(f'The sum of 10 natural numbers is {summ}')\n",
    "    "
   ]
  },
  {
   "cell_type": "code",
   "execution_count": 137,
   "id": "b1822376-a35c-4c1b-bb36-07c94abf6f0f",
   "metadata": {},
   "outputs": [
    {
     "name": "stdout",
     "output_type": "stream",
     "text": [
      "The sum of 10 random numbers is 509\n"
     ]
    }
   ],
   "source": [
    "# WAP get the random numbers between 1 to 100 and sum those numbers\n",
    "# By for loop\n",
    "summ=0\n",
    "import random\n",
    "for i in range(10):\n",
    "    a=random.randint(1,100)\n",
    "    summ+=a\n",
    "print(f'The sum of 10 random numbers is {summ}')\n",
    "    "
   ]
  },
  {
   "cell_type": "code",
   "execution_count": 141,
   "id": "72f44379-b8e5-439f-845a-a6d2e3c39017",
   "metadata": {},
   "outputs": [
    {
     "name": "stdout",
     "output_type": "stream",
     "text": [
      "The sum of 10 random numbers is 566\n"
     ]
    }
   ],
   "source": [
    "# By while loop\n",
    "import random\n",
    "summ=0\n",
    "i=0\n",
    "while True:\n",
    "    a=random.randint(1,100)\n",
    "    summ+=a\n",
    "    i=i+1\n",
    "    if i==11:\n",
    "        break\n",
    "print(f'The sum of 10 random numbers is {summ}')\n",
    "    "
   ]
  },
  {
   "cell_type": "code",
   "execution_count": 151,
   "id": "71127286-30a6-482c-81c8-2b69dcec9fcb",
   "metadata": {},
   "outputs": [
    {
     "name": "stdout",
     "output_type": "stream",
     "text": [
      "95\n",
      "73\n",
      "63\n",
      "84\n",
      "46\n",
      "67\n",
      "64\n",
      "12\n",
      "91\n",
      "34\n",
      "The numbers greater than 50 are 7\n"
     ]
    }
   ],
   "source": [
    "# WAP ask the user get 10 random number between 10 to 100\n",
    "# count how many are greater than 50\n",
    "\n",
    "# By for loop\n",
    "import random\n",
    "count=0\n",
    "for i in range(10):\n",
    "    a=random.randint(10,100)\n",
    "    print(a)\n",
    "    if a>50:\n",
    "        count=count+1\n",
    "        \n",
    "print(f'The numbers greater than 50 are {count}')"
   ]
  },
  {
   "cell_type": "code",
   "execution_count": 153,
   "id": "94639400-bca7-436e-ac95-ffe704a8d412",
   "metadata": {},
   "outputs": [
    {
     "name": "stdout",
     "output_type": "stream",
     "text": [
      "51\n",
      "35\n",
      "32\n",
      "24\n",
      "87\n",
      "46\n",
      "84\n",
      "15\n",
      "66\n",
      "19\n",
      "98\n",
      "The numbers greater than 50 are 5\n"
     ]
    }
   ],
   "source": [
    "# By while loop\n",
    "import random\n",
    "count=0\n",
    "i=0\n",
    "while True:\n",
    "    a=random.randint(10,100)\n",
    "    print(a)\n",
    "    if a>50:\n",
    "        count=count+1\n",
    "\n",
    "    i=i+1\n",
    "    if i==11:\n",
    "        break\n",
    "        \n",
    "print(f'The numbers greater than 50 are {count}')\n",
    "    "
   ]
  },
  {
   "cell_type": "code",
   "execution_count": 155,
   "id": "22b8589a-b81d-4db8-93e7-dde3e068d327",
   "metadata": {},
   "outputs": [
    {
     "name": "stdout",
     "output_type": "stream",
     "text": [
      "5\n",
      "29\n",
      "49\n",
      "70\n",
      "83\n",
      "24\n",
      "16\n",
      "82\n",
      "26\n",
      "5\n",
      "The numbers greater than 50 is 3\n",
      "The numbers greater than 50 is 0\n"
     ]
    }
   ],
   "source": [
    "# WAP ask the user get 10 random number between 0 to 100\n",
    "# count how many are greater than 50 and equals to zero\n",
    "\n",
    "# By for loop\n",
    "count_1=0\n",
    "count_2=0\n",
    "import random\n",
    "for i in range(10):\n",
    "    a=random.randint(0,100)\n",
    "    print(a)\n",
    "    if a>50:\n",
    "        count_1+=1\n",
    "\n",
    "    elif a==0:\n",
    "        count_2+=1\n",
    "\n",
    "print(f'The numbers greater than 50 is {count_1}')\n",
    "print(f'The numbers greater than 50 is {count_2}')\n",
    "        \n",
    "    \n"
   ]
  },
  {
   "cell_type": "code",
   "execution_count": 157,
   "id": "a1abd6de-de3b-4d9f-a1d6-c29e87f811a9",
   "metadata": {},
   "outputs": [
    {
     "name": "stdout",
     "output_type": "stream",
     "text": [
      "21\n",
      "93\n",
      "45\n",
      "41\n",
      "98\n",
      "13\n",
      "11\n",
      "85\n",
      "98\n",
      "58\n",
      "1\n",
      "The numbers greater than 50 is 5\n",
      "The numbers greater than 50 is 0\n"
     ]
    }
   ],
   "source": [
    "# By while loop\n",
    "import random\n",
    "count_1=0\n",
    "count_2=0\n",
    "i=0\n",
    "while True:\n",
    "    a=random.randint(0,100)\n",
    "    print(a)\n",
    "    if a>50:\n",
    "        count_1+=1\n",
    "\n",
    "    elif a==0:\n",
    "        count_2+=1\n",
    "\n",
    "    i=i+1\n",
    "    if i==11:\n",
    "        break\n",
    "\n",
    "print(f'The numbers greater than 50 is {count_1}')\n",
    "print(f'The numbers greater than 50 is {count_2}')\n",
    "        \n",
    "    "
   ]
  },
  {
   "cell_type": "code",
   "execution_count": 161,
   "id": "baede70a-2652-4514-8b4a-f8e3a5edfb7e",
   "metadata": {},
   "outputs": [
    {
     "name": "stdin",
     "output_type": "stream",
     "text": [
      "Enter a number:  2\n"
     ]
    },
    {
     "name": "stdout",
     "output_type": "stream",
     "text": [
      "You lost because the random num is 1\n"
     ]
    },
    {
     "name": "stdin",
     "output_type": "stream",
     "text": [
      "Enter a number:  3\n"
     ]
    },
    {
     "name": "stdout",
     "output_type": "stream",
     "text": [
      "You lost because the random num is 4\n"
     ]
    },
    {
     "name": "stdin",
     "output_type": "stream",
     "text": [
      "Enter a number:  9\n"
     ]
    },
    {
     "name": "stdout",
     "output_type": "stream",
     "text": [
      "You lost because the random num is 1\n"
     ]
    }
   ],
   "source": [
    "# you won and you lost\n",
    "\n",
    "# By for loop\n",
    "import random\n",
    "for i in range(3):\n",
    "    a=eval(input('Enter a number: '))\n",
    "    b=random.randint(1,10)\n",
    "    if a==b:\n",
    "        print(f'You won because the random num is {b}')\n",
    "\n",
    "    else:\n",
    "        print(f'You lost because the random num is {b}')\n",
    "\n"
   ]
  },
  {
   "cell_type": "code",
   "execution_count": 165,
   "id": "65410b0c-6bc0-45c0-aef2-756ef869aa7c",
   "metadata": {},
   "outputs": [
    {
     "name": "stdin",
     "output_type": "stream",
     "text": [
      "Enter a number:  1\n"
     ]
    },
    {
     "name": "stdout",
     "output_type": "stream",
     "text": [
      "You lost because the random num is 10\n"
     ]
    },
    {
     "name": "stdin",
     "output_type": "stream",
     "text": [
      "Enter a number:  2\n"
     ]
    },
    {
     "name": "stdout",
     "output_type": "stream",
     "text": [
      "You lost because the random num is 5\n"
     ]
    },
    {
     "name": "stdin",
     "output_type": "stream",
     "text": [
      "Enter a number:  3\n"
     ]
    },
    {
     "name": "stdout",
     "output_type": "stream",
     "text": [
      "You lost because the random num is 1\n"
     ]
    }
   ],
   "source": [
    "# By while loop\n",
    "import random\n",
    "i=0\n",
    "while True:\n",
    "    a=eval(input('Enter a number: '))\n",
    "    b=random.randint(1,10)\n",
    "    if a==b:\n",
    "        print(f'You won because the random num is {b}')\n",
    "\n",
    "    else:\n",
    "        print(f'You lost because the random num is {b}')\n",
    "\n",
    "    i=i+1\n",
    "    if i==3:\n",
    "        break\n",
    "    "
   ]
  },
  {
   "cell_type": "code",
   "execution_count": null,
   "id": "17e28242-6809-445a-a1cc-0430fbc778c4",
   "metadata": {},
   "outputs": [],
   "source": [
    "# Homeworkk\n",
    "\n",
    "# By for loop\n"
   ]
  }
 ],
 "metadata": {
  "kernelspec": {
   "display_name": "Python 3 (ipykernel)",
   "language": "python",
   "name": "python3"
  },
  "language_info": {
   "codemirror_mode": {
    "name": "ipython",
    "version": 3
   },
   "file_extension": ".py",
   "mimetype": "text/x-python",
   "name": "python",
   "nbconvert_exporter": "python",
   "pygments_lexer": "ipython3",
   "version": "3.12.7"
  }
 },
 "nbformat": 4,
 "nbformat_minor": 5
}
