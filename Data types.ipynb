{
 "cells": [
  {
   "cell_type": "code",
   "execution_count": 3,
   "id": "3026bfd1-2b8f-4ae3-a86e-36427be8299a",
   "metadata": {},
   "outputs": [
    {
     "data": {
      "text/plain": [
       "['BPF',\n",
       " 'LOG4',\n",
       " 'NV_MAGICCONST',\n",
       " 'RECIP_BPF',\n",
       " 'Random',\n",
       " 'SG_MAGICCONST',\n",
       " 'SystemRandom',\n",
       " 'TWOPI',\n",
       " '_ONE',\n",
       " '_Sequence',\n",
       " '__all__',\n",
       " '__builtins__',\n",
       " '__cached__',\n",
       " '__doc__',\n",
       " '__file__',\n",
       " '__loader__',\n",
       " '__name__',\n",
       " '__package__',\n",
       " '__spec__',\n",
       " '_accumulate',\n",
       " '_acos',\n",
       " '_bisect',\n",
       " '_ceil',\n",
       " '_cos',\n",
       " '_e',\n",
       " '_exp',\n",
       " '_fabs',\n",
       " '_floor',\n",
       " '_index',\n",
       " '_inst',\n",
       " '_isfinite',\n",
       " '_lgamma',\n",
       " '_log',\n",
       " '_log2',\n",
       " '_os',\n",
       " '_pi',\n",
       " '_random',\n",
       " '_repeat',\n",
       " '_sha512',\n",
       " '_sin',\n",
       " '_sqrt',\n",
       " '_test',\n",
       " '_test_generator',\n",
       " '_urandom',\n",
       " '_warn',\n",
       " 'betavariate',\n",
       " 'binomialvariate',\n",
       " 'choice',\n",
       " 'choices',\n",
       " 'expovariate',\n",
       " 'gammavariate',\n",
       " 'gauss',\n",
       " 'getrandbits',\n",
       " 'getstate',\n",
       " 'lognormvariate',\n",
       " 'normalvariate',\n",
       " 'paretovariate',\n",
       " 'randbytes',\n",
       " 'randint',\n",
       " 'random',\n",
       " 'randrange',\n",
       " 'sample',\n",
       " 'seed',\n",
       " 'setstate',\n",
       " 'shuffle',\n",
       " 'triangular',\n",
       " 'uniform',\n",
       " 'vonmisesvariate',\n",
       " 'weibullvariate']"
      ]
     },
     "execution_count": 3,
     "metadata": {},
     "output_type": "execute_result"
    }
   ],
   "source": [
    "import random\n",
    "dir(random)"
   ]
  },
  {
   "cell_type": "code",
   "execution_count": 7,
   "id": "50ac2315-5af9-4071-844d-e040a52c4a9e",
   "metadata": {},
   "outputs": [
    {
     "name": "stdout",
     "output_type": "stream",
     "text": [
      "Help on method randint in module random:\n",
      "\n",
      "randint(a, b) method of random.Random instance\n",
      "    Return random integer in range [a, b], including both end points.\n",
      "\n"
     ]
    }
   ],
   "source": [
    "help(random.randint)"
   ]
  },
  {
   "cell_type": "code",
   "execution_count": 9,
   "id": "22971cd6-7bc9-4e2e-88c2-3a223643fde7",
   "metadata": {},
   "outputs": [
    {
     "data": {
      "text/plain": [
       "38"
      ]
     },
     "execution_count": 9,
     "metadata": {},
     "output_type": "execute_result"
    }
   ],
   "source": [
    "random.randint(1,100)"
   ]
  },
  {
   "cell_type": "code",
   "execution_count": 11,
   "id": "a608599b-ae4c-4670-9268-efb37ec3f230",
   "metadata": {},
   "outputs": [
    {
     "data": {
      "text/plain": [
       "['__doc__',\n",
       " '__loader__',\n",
       " '__name__',\n",
       " '__package__',\n",
       " '__spec__',\n",
       " 'acos',\n",
       " 'acosh',\n",
       " 'asin',\n",
       " 'asinh',\n",
       " 'atan',\n",
       " 'atan2',\n",
       " 'atanh',\n",
       " 'cbrt',\n",
       " 'ceil',\n",
       " 'comb',\n",
       " 'copysign',\n",
       " 'cos',\n",
       " 'cosh',\n",
       " 'degrees',\n",
       " 'dist',\n",
       " 'e',\n",
       " 'erf',\n",
       " 'erfc',\n",
       " 'exp',\n",
       " 'exp2',\n",
       " 'expm1',\n",
       " 'fabs',\n",
       " 'factorial',\n",
       " 'floor',\n",
       " 'fmod',\n",
       " 'frexp',\n",
       " 'fsum',\n",
       " 'gamma',\n",
       " 'gcd',\n",
       " 'hypot',\n",
       " 'inf',\n",
       " 'isclose',\n",
       " 'isfinite',\n",
       " 'isinf',\n",
       " 'isnan',\n",
       " 'isqrt',\n",
       " 'lcm',\n",
       " 'ldexp',\n",
       " 'lgamma',\n",
       " 'log',\n",
       " 'log10',\n",
       " 'log1p',\n",
       " 'log2',\n",
       " 'modf',\n",
       " 'nan',\n",
       " 'nextafter',\n",
       " 'perm',\n",
       " 'pi',\n",
       " 'pow',\n",
       " 'prod',\n",
       " 'radians',\n",
       " 'remainder',\n",
       " 'sin',\n",
       " 'sinh',\n",
       " 'sqrt',\n",
       " 'sumprod',\n",
       " 'tan',\n",
       " 'tanh',\n",
       " 'tau',\n",
       " 'trunc',\n",
       " 'ulp']"
      ]
     },
     "execution_count": 11,
     "metadata": {},
     "output_type": "execute_result"
    }
   ],
   "source": [
    "import math\n",
    "dir(math)"
   ]
  },
  {
   "cell_type": "code",
   "execution_count": 13,
   "id": "474982eb-bec7-4471-b88d-41a13b49bf4e",
   "metadata": {},
   "outputs": [
    {
     "name": "stdout",
     "output_type": "stream",
     "text": [
      "Help on built-in function sinh in module math:\n",
      "\n",
      "sinh(x, /)\n",
      "    Return the hyperbolic sine of x.\n",
      "\n"
     ]
    }
   ],
   "source": [
    "help(math.sinh)"
   ]
  },
  {
   "cell_type": "code",
   "execution_count": 15,
   "id": "b6cf0289-d786-416a-af08-e31c3f4466b5",
   "metadata": {},
   "outputs": [
    {
     "data": {
      "text/plain": [
       "5.710036949078421e+25"
      ]
     },
     "execution_count": 15,
     "metadata": {},
     "output_type": "execute_result"
    }
   ],
   "source": [
    "math.sinh(60)"
   ]
  },
  {
   "cell_type": "markdown",
   "id": "e5703522-8e5e-4d5f-8f7c-bd97bbb7ffc0",
   "metadata": {},
   "source": [
    "# learning Python"
   ]
  },
  {
   "cell_type": "code",
   "execution_count": 22,
   "id": "6cb245a1-6d7b-48b3-9b9a-10d03aecaeb9",
   "metadata": {},
   "outputs": [
    {
     "data": {
      "text/plain": [
       "array([1, 2, 3])"
      ]
     },
     "execution_count": 22,
     "metadata": {},
     "output_type": "execute_result"
    }
   ],
   "source": [
    "numpy.array([1,2,3])"
   ]
  },
  {
   "cell_type": "code",
   "execution_count": 24,
   "id": "dae05e3b-d27d-4a7c-92b0-99e8b7ec520e",
   "metadata": {},
   "outputs": [
    {
     "data": {
      "text/plain": [
       "52"
      ]
     },
     "execution_count": 24,
     "metadata": {},
     "output_type": "execute_result"
    }
   ],
   "source": [
    "from random import randint\n",
    "randint(1,100)"
   ]
  },
  {
   "cell_type": "code",
   "execution_count": 28,
   "id": "ed20c41f-d4c8-4bb9-bd56-2ad18e5b5dad",
   "metadata": {},
   "outputs": [
    {
     "data": {
      "text/plain": [
       "-0.3048106211022167"
      ]
     },
     "execution_count": 28,
     "metadata": {},
     "output_type": "execute_result"
    }
   ],
   "source": [
    "from math import sin\n",
    "sin(60)"
   ]
  },
  {
   "cell_type": "markdown",
   "id": "0e35f640-f7d4-4e2e-a931-fc13625a41f6",
   "metadata": {},
   "source": [
    "- python is my friend\n",
    "- python is easy"
   ]
  },
  {
   "cell_type": "code",
   "execution_count": 31,
   "id": "37aab2c1-b7be-4166-91b2-a05b7386e8e6",
   "metadata": {},
   "outputs": [
    {
     "data": {
      "text/plain": [
       "10"
      ]
     },
     "execution_count": 31,
     "metadata": {},
     "output_type": "execute_result"
    }
   ],
   "source": [
    "a=10 # here a is the variable where 10 is stored\n",
    "a"
   ]
  },
  {
   "cell_type": "code",
   "execution_count": 33,
   "id": "81aa566f-e382-493b-a513-5d55683074be",
   "metadata": {},
   "outputs": [
    {
     "data": {
      "text/plain": [
       "['BPF',\n",
       " 'LOG4',\n",
       " 'NV_MAGICCONST',\n",
       " 'RECIP_BPF',\n",
       " 'Random',\n",
       " 'SG_MAGICCONST',\n",
       " 'SystemRandom',\n",
       " 'TWOPI',\n",
       " '_ONE',\n",
       " '_Sequence',\n",
       " '__all__',\n",
       " '__builtins__',\n",
       " '__cached__',\n",
       " '__doc__',\n",
       " '__file__',\n",
       " '__loader__',\n",
       " '__name__',\n",
       " '__package__',\n",
       " '__spec__',\n",
       " '_accumulate',\n",
       " '_acos',\n",
       " '_bisect',\n",
       " '_ceil',\n",
       " '_cos',\n",
       " '_e',\n",
       " '_exp',\n",
       " '_fabs',\n",
       " '_floor',\n",
       " '_index',\n",
       " '_inst',\n",
       " '_isfinite',\n",
       " '_lgamma',\n",
       " '_log',\n",
       " '_log2',\n",
       " '_os',\n",
       " '_pi',\n",
       " '_random',\n",
       " '_repeat',\n",
       " '_sha512',\n",
       " '_sin',\n",
       " '_sqrt',\n",
       " '_test',\n",
       " '_test_generator',\n",
       " '_urandom',\n",
       " '_warn',\n",
       " 'betavariate',\n",
       " 'binomialvariate',\n",
       " 'choice',\n",
       " 'choices',\n",
       " 'expovariate',\n",
       " 'gammavariate',\n",
       " 'gauss',\n",
       " 'getrandbits',\n",
       " 'getstate',\n",
       " 'lognormvariate',\n",
       " 'normalvariate',\n",
       " 'paretovariate',\n",
       " 'randbytes',\n",
       " 'randint',\n",
       " 'random',\n",
       " 'randrange',\n",
       " 'sample',\n",
       " 'seed',\n",
       " 'setstate',\n",
       " 'shuffle',\n",
       " 'triangular',\n",
       " 'uniform',\n",
       " 'vonmisesvariate',\n",
       " 'weibullvariate']"
      ]
     },
     "execution_count": 33,
     "metadata": {},
     "output_type": "execute_result"
    }
   ],
   "source": [
    "import random\n",
    "dir(random)"
   ]
  },
  {
   "cell_type": "code",
   "execution_count": 35,
   "id": "cc8a51b4-961a-4517-8544-5dd29d209ac6",
   "metadata": {},
   "outputs": [
    {
     "name": "stdout",
     "output_type": "stream",
     "text": [
      "Help on method randint in module random:\n",
      "\n",
      "randint(a, b) method of random.Random instance\n",
      "    Return random integer in range [a, b], including both end points.\n",
      "\n"
     ]
    }
   ],
   "source": [
    "help(random.randint)"
   ]
  },
  {
   "cell_type": "code",
   "execution_count": 37,
   "id": "9c0d2175-ed63-4c8e-a43f-6037d2d09527",
   "metadata": {},
   "outputs": [
    {
     "data": {
      "text/plain": [
       "91"
      ]
     },
     "execution_count": 37,
     "metadata": {},
     "output_type": "execute_result"
    }
   ],
   "source": [
    "random.randint(1,100)"
   ]
  },
  {
   "cell_type": "markdown",
   "id": "586ad638-269d-49d8-b121-f0df96b331e0",
   "metadata": {},
   "source": [
    "### Package name= numpy"
   ]
  },
  {
   "cell_type": "code",
   "execution_count": 40,
   "id": "311c8fab-a70d-4b05-93bc-8723673ceac1",
   "metadata": {},
   "outputs": [
    {
     "data": {
      "text/plain": [
       "5.710036949078421e+25"
      ]
     },
     "execution_count": 40,
     "metadata": {},
     "output_type": "execute_result"
    }
   ],
   "source": [
    "import numpy\n",
    "numpy.sinh(60)"
   ]
  },
  {
   "cell_type": "code",
   "execution_count": 45,
   "id": "30fa1fc2-0e27-403f-b72b-7594a695a69d",
   "metadata": {},
   "outputs": [
    {
     "data": {
      "text/plain": [
       "25"
      ]
     },
     "execution_count": 45,
     "metadata": {},
     "output_type": "execute_result"
    }
   ],
   "source": [
    "import random\n",
    "random.randint(1,100) "
   ]
  },
  {
   "cell_type": "markdown",
   "id": "ad194009-3419-45e5-8047-e7ef2124c601",
   "metadata": {},
   "source": [
    "# Locataionof all packages"
   ]
  },
  {
   "cell_type": "code",
   "execution_count": 47,
   "id": "4eedd734-ee67-4d65-9426-c1db8566c7db",
   "metadata": {},
   "outputs": [
    {
     "data": {
      "text/plain": [
       "<module 'random' from 'C:\\\\Users\\\\pc\\\\anaconda3\\\\Lib\\\\random.py'>"
      ]
     },
     "execution_count": 47,
     "metadata": {},
     "output_type": "execute_result"
    }
   ],
   "source": [
    "import random\n",
    "random"
   ]
  },
  {
   "cell_type": "markdown",
   "id": "6ac5c4b8-d3da-4125-920d-55673f520b8d",
   "metadata": {},
   "source": [
    "# If you want to become good developer understand the error carefully"
   ]
  },
  {
   "cell_type": "code",
   "execution_count": 51,
   "id": "b8649a76-9365-497d-965a-1ae6ffe65acc",
   "metadata": {},
   "outputs": [
    {
     "data": {
      "text/plain": [
       "['__all__',\n",
       " '__builtins__',\n",
       " '__cached__',\n",
       " '__doc__',\n",
       " '__file__',\n",
       " '__loader__',\n",
       " '__name__',\n",
       " '__package__',\n",
       " '__spec__',\n",
       " 'iskeyword',\n",
       " 'issoftkeyword',\n",
       " 'kwlist',\n",
       " 'softkwlist']"
      ]
     },
     "execution_count": 51,
     "metadata": {},
     "output_type": "execute_result"
    }
   ],
   "source": [
    "# package name = keyword\n",
    "import keyword\n",
    "dir(keyword)\n"
   ]
  },
  {
   "cell_type": "markdown",
   "id": "b0c9c9a2-41d4-49b4-bdbb-706e9a5bcff8",
   "metadata": {},
   "source": [
    "# Variables"
   ]
  },
  {
   "cell_type": "code",
   "execution_count": 2,
   "id": "ff5cf3f7-4b14-40cd-b47c-7e973c4eeb32",
   "metadata": {},
   "outputs": [
    {
     "data": {
      "text/plain": [
       "20"
      ]
     },
     "execution_count": 2,
     "metadata": {},
     "output_type": "execute_result"
    }
   ],
   "source": [
    "a=100  # Here 100 is stored in variable called a\n",
    "a=20   # variable vary so outupt is 20\n",
    "a"
   ]
  },
  {
   "cell_type": "markdown",
   "id": "85991e71-ac00-4110-830c-6c141deeed65",
   "metadata": {},
   "source": [
    "# Data types"
   ]
  },
  {
   "cell_type": "markdown",
   "id": "927d7ba9-b943-4bce-ab0d-ad2ca0f648f9",
   "metadata": {},
   "source": [
    "- integer\n",
    "- float\n",
    "- boolean\n",
    "- string\n",
    "- complex"
   ]
  },
  {
   "cell_type": "markdown",
   "id": "39eb00c1-76f0-4ba2-969a-e242297832e2",
   "metadata": {},
   "source": [
    "$integer$"
   ]
  },
  {
   "cell_type": "code",
   "execution_count": 7,
   "id": "bfbac617-2fec-4aec-aa79-fe8cdccabec1",
   "metadata": {},
   "outputs": [
    {
     "data": {
      "text/plain": [
       "100"
      ]
     },
     "execution_count": 7,
     "metadata": {},
     "output_type": "execute_result"
    }
   ],
   "source": [
    "a=100\n",
    "a"
   ]
  },
  {
   "cell_type": "code",
   "execution_count": 9,
   "id": "db402000-7f1f-444b-906b-0a55aaa62e02",
   "metadata": {},
   "outputs": [
    {
     "data": {
      "text/plain": [
       "int"
      ]
     },
     "execution_count": 9,
     "metadata": {},
     "output_type": "execute_result"
    }
   ],
   "source": [
    "type(a)"
   ]
  },
  {
   "cell_type": "markdown",
   "id": "a09fcddd-c9c5-43cd-ad33-757baeb2a667",
   "metadata": {},
   "source": [
    "# Binary "
   ]
  },
  {
   "cell_type": "markdown",
   "id": "416d6f3b-8766-46e8-b6fa-919772097436",
   "metadata": {},
   "source": [
    "- Binary means 2\n",
    "- so base is also 2\n",
    "- 0 1 2 3 4 5 6 7 8 9\n",
    "- Here we will use only two digits: 0 and 1\n",
    "- representaion is 0b<combination of 0 and 1>\n",
    "- for eg: 0b11101    0b11001100"
   ]
  },
  {
   "cell_type": "code",
   "execution_count": 20,
   "id": "4fff4963-f115-4cbc-8d33-f7c6f3a0b1d9",
   "metadata": {},
   "outputs": [
    {
     "data": {
      "text/plain": [
       "7"
      ]
     },
     "execution_count": 20,
     "metadata": {},
     "output_type": "execute_result"
    }
   ],
   "source": [
    "0b111\n",
    "# python output will come as decimal format only."
   ]
  },
  {
   "cell_type": "code",
   "execution_count": 23,
   "id": "59926c72-c129-40c0-be33-bec0f2c7cb8e",
   "metadata": {},
   "outputs": [
    {
     "data": {
      "text/plain": [
       "15"
      ]
     },
     "execution_count": 23,
     "metadata": {},
     "output_type": "execute_result"
    }
   ],
   "source": [
    "0b1111"
   ]
  },
  {
   "cell_type": "markdown",
   "id": "a9784386-5d20-4326-a5aa-e7ecb02504cc",
   "metadata": {},
   "source": [
    "# Octa"
   ]
  },
  {
   "cell_type": "markdown",
   "id": "6886679b-fc52-4193-88d6-ae32323ba09e",
   "metadata": {},
   "source": [
    "- Octa means 8\n",
    "- so base is also 8\n",
    "- 0 1 2 3 4 5 6 7 8 9 \n",
    "- Here we will use only eight digits: 0,1,2,3,4,5,6,7\n",
    "- representaion is 0o<combination of 0 to 7>\n",
    "- for eg: 0o2234  0o2356"
   ]
  },
  {
   "cell_type": "code",
   "execution_count": 27,
   "id": "443a5d5c-4cab-4864-b8c3-dee911f79334",
   "metadata": {},
   "outputs": [
    {
     "data": {
      "text/plain": [
       "1180"
      ]
     },
     "execution_count": 27,
     "metadata": {},
     "output_type": "execute_result"
    }
   ],
   "source": [
    "0o2234\n",
    "# python will give outuput in decimal format only"
   ]
  },
  {
   "cell_type": "code",
   "execution_count": 32,
   "id": "16d0193b-3c57-4d60-876f-962ec04dee71",
   "metadata": {},
   "outputs": [
    {
     "data": {
      "text/plain": [
       "1335"
      ]
     },
     "execution_count": 32,
     "metadata": {},
     "output_type": "execute_result"
    }
   ],
   "source": [
    "0o2467"
   ]
  },
  {
   "cell_type": "markdown",
   "id": "0089c345-8c21-4533-a7ec-119142f322a7",
   "metadata": {},
   "source": [
    "# Hexa"
   ]
  },
  {
   "cell_type": "code",
   "execution_count": null,
   "id": "8eec972f-432b-4c0e-af8a-05fe114b9a58",
   "metadata": {},
   "outputs": [],
   "source": [
    "- Hexa means 16\n",
    "- so base is also 16\n",
    "- 0 1 2 3 4 5 6 7 8 9 A B C D E F\n",
    "- Here we will use only 16 digits: 0,1,2,3,4,5,6,7,8,9,A,B,C,D,E,F\n",
    "- representaion is 0x<combination of 0 to F>\n",
    "- for eg: 0xAB001   0x22F12"
   ]
  },
  {
   "cell_type": "code",
   "execution_count": 37,
   "id": "bed0789f-83fa-4147-a402-e1a62858aa3c",
   "metadata": {},
   "outputs": [
    {
     "data": {
      "text/plain": [
       "700417"
      ]
     },
     "execution_count": 37,
     "metadata": {},
     "output_type": "execute_result"
    }
   ],
   "source": [
    "0xAB001"
   ]
  },
  {
   "cell_type": "code",
   "execution_count": 39,
   "id": "15856ef4-c234-4552-a98a-6a7d12d0bf01",
   "metadata": {},
   "outputs": [
    {
     "data": {
      "text/plain": [
       "143122"
      ]
     },
     "execution_count": 39,
     "metadata": {},
     "output_type": "execute_result"
    }
   ],
   "source": [
    "0x22F12"
   ]
  },
  {
   "cell_type": "markdown",
   "id": "3582b40d-3691-4d7d-acbf-8dff523a1071",
   "metadata": {},
   "source": [
    "# Float"
   ]
  },
  {
   "cell_type": "code",
   "execution_count": 13,
   "id": "2f1a743d-d9ae-4f8e-9def-bc587006bc33",
   "metadata": {},
   "outputs": [
    {
     "data": {
      "text/plain": [
       "float"
      ]
     },
     "execution_count": 13,
     "metadata": {},
     "output_type": "execute_result"
    }
   ],
   "source": [
    "b=1000.30\n",
    "type(b)"
   ]
  },
  {
   "cell_type": "markdown",
   "id": "87fbecef-309d-44bb-9a12-d35ebe4b1dcd",
   "metadata": {},
   "source": [
    "# e representation "
   ]
  },
  {
   "cell_type": "code",
   "execution_count": 45,
   "id": "6eef6731-533f-4be1-a59d-9c3997ea5d17",
   "metadata": {},
   "outputs": [
    {
     "data": {
      "text/plain": [
       "10000.0"
      ]
     },
     "execution_count": 45,
     "metadata": {},
     "output_type": "execute_result"
    }
   ],
   "source": [
    "10e3 # 10 * 1000"
   ]
  },
  {
   "cell_type": "code",
   "execution_count": 48,
   "id": "8d45d77c-8f1e-4db0-b0f1-97e9728d1934",
   "metadata": {},
   "outputs": [
    {
     "data": {
      "text/plain": [
       "10000.0"
      ]
     },
     "execution_count": 48,
     "metadata": {},
     "output_type": "execute_result"
    }
   ],
   "source": [
    "10e+3 # 10e3 and 10e+3 both are same"
   ]
  },
  {
   "cell_type": "code",
   "execution_count": 50,
   "id": "5c0a4e17-89fe-476e-b70f-05ea0d8eb5f9",
   "metadata": {},
   "outputs": [
    {
     "data": {
      "text/plain": [
       "1000000.0"
      ]
     },
     "execution_count": 50,
     "metadata": {},
     "output_type": "execute_result"
    }
   ],
   "source": [
    "10e5 # 10* 100000"
   ]
  },
  {
   "cell_type": "code",
   "execution_count": 52,
   "id": "ba995d56-f6d2-41c6-89d7-63c89a8c2b12",
   "metadata": {},
   "outputs": [
    {
     "data": {
      "text/plain": [
       "0.01"
      ]
     },
     "execution_count": 52,
     "metadata": {},
     "output_type": "execute_result"
    }
   ],
   "source": [
    "10e-3   # 10/1000"
   ]
  },
  {
   "cell_type": "code",
   "execution_count": 54,
   "id": "67c0aec3-2db7-4d8d-b4e0-99b74b984945",
   "metadata": {},
   "outputs": [
    {
     "data": {
      "text/plain": [
       "0.01"
      ]
     },
     "execution_count": 54,
     "metadata": {},
     "output_type": "execute_result"
    }
   ],
   "source": [
    "1000e-5 # 1000/100000"
   ]
  },
  {
   "cell_type": "code",
   "execution_count": 56,
   "id": "c04cdd51-5dcb-4fbd-bbcc-34c0d382e8dd",
   "metadata": {},
   "outputs": [
    {
     "data": {
      "text/plain": [
       "1e-09"
      ]
     },
     "execution_count": 56,
     "metadata": {},
     "output_type": "execute_result"
    }
   ],
   "source": [
    "10e-10  # 10 * 10000000000"
   ]
  },
  {
   "cell_type": "markdown",
   "id": "4ca74cbb-f675-437b-a5ee-7b2b7c74b6c4",
   "metadata": {},
   "source": [
    "# Strings"
   ]
  },
  {
   "cell_type": "code",
   "execution_count": 61,
   "id": "c6749747-4fb3-49b3-aaa5-ee916d742912",
   "metadata": {},
   "outputs": [
    {
     "data": {
      "text/plain": [
       "'python'"
      ]
     },
     "execution_count": 61,
     "metadata": {},
     "output_type": "execute_result"
    }
   ],
   "source": [
    "name=\"python\" # Write anythings in quotes\n",
    "name"
   ]
  },
  {
   "cell_type": "code",
   "execution_count": 63,
   "id": "06852ff5-eb80-4419-869f-5315a46ffaa0",
   "metadata": {},
   "outputs": [
    {
     "data": {
      "text/plain": [
       "str"
      ]
     },
     "execution_count": 63,
     "metadata": {},
     "output_type": "execute_result"
    }
   ],
   "source": [
    "type(name)"
   ]
  },
  {
   "cell_type": "code",
   "execution_count": 65,
   "id": "5d220701-d02d-48f6-9ac3-6dca1f3f8541",
   "metadata": {},
   "outputs": [
    {
     "data": {
      "text/plain": [
       "str"
      ]
     },
     "execution_count": 65,
     "metadata": {},
     "output_type": "execute_result"
    }
   ],
   "source": [
    "name2=\"100\"\n",
    "type(name2)"
   ]
  },
  {
   "cell_type": "code",
   "execution_count": 71,
   "id": "d12851e4-c4c8-4899-a58c-d618aebe9975",
   "metadata": {},
   "outputs": [
    {
     "data": {
      "text/plain": [
       "'hello'"
      ]
     },
     "execution_count": 71,
     "metadata": {},
     "output_type": "execute_result"
    }
   ],
   "source": [
    "name3='hello' # single quotes also work\n",
    "name3"
   ]
  },
  {
   "cell_type": "code",
   "execution_count": 73,
   "id": "66e7fea3-54e3-4dd8-b391-5e0ccb19db2d",
   "metadata": {},
   "outputs": [
    {
     "data": {
      "text/plain": [
       "str"
      ]
     },
     "execution_count": 73,
     "metadata": {},
     "output_type": "execute_result"
    }
   ],
   "source": [
    "type(name3)"
   ]
  },
  {
   "cell_type": "code",
   "execution_count": 77,
   "id": "641ca4d0-8f56-443c-ab92-4cb1a6197aa4",
   "metadata": {},
   "outputs": [
    {
     "data": {
      "text/plain": [
       "'hi\\nHow are you doing\\nI am Nikesh Wagle'"
      ]
     },
     "execution_count": 77,
     "metadata": {},
     "output_type": "execute_result"
    }
   ],
   "source": [
    "# For multi lines we use triple quotes\n",
    "a= \"\"\"hi\n",
    "How are you doing\n",
    "I am Nikesh Wagle\"\"\"\n",
    "a\n",
    "# doc string"
   ]
  },
  {
   "cell_type": "markdown",
   "id": "8812659c-2cbb-46b9-8727-5510d6268c2e",
   "metadata": {},
   "source": [
    " What is doc string?\n",
    " - Doc string is the information we write before the python code to make others understand.\n",
    " - We use triple quotes for doc string."
   ]
  },
  {
   "cell_type": "markdown",
   "id": "e2aef1a7-293c-4eb0-8151-83dfa63f571c",
   "metadata": {},
   "source": [
    "# Boolean"
   ]
  },
  {
   "cell_type": "code",
   "execution_count": 1,
   "id": "7ca88a0b-6de9-4e21-85b3-aa088deddf55",
   "metadata": {},
   "outputs": [
    {
     "data": {
      "text/plain": [
       "True"
      ]
     },
     "execution_count": 1,
     "metadata": {},
     "output_type": "execute_result"
    }
   ],
   "source": [
    "value= True  #we are assigning false in a variable value\n",
    "value"
   ]
  },
  {
   "cell_type": "code",
   "execution_count": 17,
   "id": "e69ab9e4-d616-4aa3-9dd0-8b35ed0622e4",
   "metadata": {},
   "outputs": [
    {
     "data": {
      "text/plain": [
       "bool"
      ]
     },
     "execution_count": 17,
     "metadata": {},
     "output_type": "execute_result"
    }
   ],
   "source": [
    "c=True  # Whenever we ask anything to the computer its reply is True or False\n",
    "type(c)"
   ]
  },
  {
   "cell_type": "code",
   "execution_count": 3,
   "id": "ff8c92cf-f7cf-410d-84dd-4ae261767c12",
   "metadata": {},
   "outputs": [
    {
     "data": {
      "text/plain": [
       "500"
      ]
     },
     "execution_count": 3,
     "metadata": {},
     "output_type": "execute_result"
    }
   ],
   "source": [
    "a=100 # 100 is saved in a\n",
    "b=200 # 200 is saved in b\n",
    "a=b    # b is saved in a\n",
    "b=a    # a is saved in b\n",
    "a=500  # 500 is saved in a\n",
    "b=a    # a is saved in b\n",
    "b=900  # 900 is saved in b\n",
    "a"
   ]
  },
  {
   "cell_type": "markdown",
   "id": "a17995ee-55f8-4800-92ed-e0486cfc4a69",
   "metadata": {},
   "source": [
    "# Complex conjugate"
   ]
  },
  {
   "cell_type": "markdown",
   "id": "832e7b11-a337-45b3-834f-7c7dd7594ce2",
   "metadata": {},
   "source": [
    "- a+jb or a+ib\n",
    "- where a is real number and b is imaginary number\n",
    "- i=sqrt(-1)"
   ]
  },
  {
   "cell_type": "code",
   "execution_count": 7,
   "id": "dfa3bb68-312f-45a7-99a9-db4d5bb9f5f9",
   "metadata": {},
   "outputs": [
    {
     "data": {
      "text/plain": [
       "(3+5j)"
      ]
     },
     "execution_count": 7,
     "metadata": {},
     "output_type": "execute_result"
    }
   ],
   "source": [
    "number= 3+5j  # In python i doesnot works.\n",
    "number"
   ]
  },
  {
   "cell_type": "code",
   "execution_count": 9,
   "id": "887b0467-26be-4469-ad4a-5deee48aa7ab",
   "metadata": {},
   "outputs": [
    {
     "data": {
      "text/plain": [
       "complex"
      ]
     },
     "execution_count": 9,
     "metadata": {},
     "output_type": "execute_result"
    }
   ],
   "source": [
    " type(number)"
   ]
  },
  {
   "cell_type": "code",
   "execution_count": 11,
   "id": "1c507510-77cf-43f0-8e3c-581a228e17fd",
   "metadata": {},
   "outputs": [
    {
     "data": {
      "text/plain": [
       "(3-5j)"
      ]
     },
     "execution_count": 11,
     "metadata": {},
     "output_type": "execute_result"
    }
   ],
   "source": [
    "number= 3-5j\n",
    "number"
   ]
  },
  {
   "cell_type": "code",
   "execution_count": 13,
   "id": "b8bacedd-e070-4391-a1af-d596abc4660f",
   "metadata": {},
   "outputs": [
    {
     "data": {
      "text/plain": [
       "['__abs__',\n",
       " '__add__',\n",
       " '__bool__',\n",
       " '__class__',\n",
       " '__complex__',\n",
       " '__delattr__',\n",
       " '__dir__',\n",
       " '__doc__',\n",
       " '__eq__',\n",
       " '__format__',\n",
       " '__ge__',\n",
       " '__getattribute__',\n",
       " '__getnewargs__',\n",
       " '__getstate__',\n",
       " '__gt__',\n",
       " '__hash__',\n",
       " '__init__',\n",
       " '__init_subclass__',\n",
       " '__le__',\n",
       " '__lt__',\n",
       " '__mul__',\n",
       " '__ne__',\n",
       " '__neg__',\n",
       " '__new__',\n",
       " '__pos__',\n",
       " '__pow__',\n",
       " '__radd__',\n",
       " '__reduce__',\n",
       " '__reduce_ex__',\n",
       " '__repr__',\n",
       " '__rmul__',\n",
       " '__rpow__',\n",
       " '__rsub__',\n",
       " '__rtruediv__',\n",
       " '__setattr__',\n",
       " '__sizeof__',\n",
       " '__str__',\n",
       " '__sub__',\n",
       " '__subclasshook__',\n",
       " '__truediv__',\n",
       " 'conjugate',\n",
       " 'imag',\n",
       " 'real']"
      ]
     },
     "execution_count": 13,
     "metadata": {},
     "output_type": "execute_result"
    }
   ],
   "source": [
    "dir(number)"
   ]
  },
  {
   "cell_type": "code",
   "execution_count": 15,
   "id": "bc3640f6-90ab-4028-9953-0d57690fbf4f",
   "metadata": {},
   "outputs": [
    {
     "data": {
      "text/plain": [
       "3.0"
      ]
     },
     "execution_count": 15,
     "metadata": {},
     "output_type": "execute_result"
    }
   ],
   "source": [
    "number.real"
   ]
  },
  {
   "cell_type": "code",
   "execution_count": 17,
   "id": "f5f779c7-3ace-48d6-93fc-f6733861d941",
   "metadata": {},
   "outputs": [
    {
     "data": {
      "text/plain": [
       "-5.0"
      ]
     },
     "execution_count": 17,
     "metadata": {},
     "output_type": "execute_result"
    }
   ],
   "source": [
    "number.imag"
   ]
  },
  {
   "cell_type": "code",
   "execution_count": 21,
   "id": "eef0077f-1e9e-4802-bbbb-dbe030e46526",
   "metadata": {},
   "outputs": [
    {
     "data": {
      "text/plain": [
       "(3+5j)"
      ]
     },
     "execution_count": 21,
     "metadata": {},
     "output_type": "execute_result"
    }
   ],
   "source": [
    "number.conjugate() # If we see brackets () then it is called functions/method."
   ]
  },
  {
   "cell_type": "code",
   "execution_count": 23,
   "id": "4bcaeb5d-aff2-42ca-ba5d-244f73085725",
   "metadata": {},
   "outputs": [],
   "source": [
    "number=5+6j\n",
    "# number.real= 5.o\n",
    "# number.imag= 6.0\n",
    "# number.conjugate()=5-6j"
   ]
  },
  {
   "cell_type": "code",
   "execution_count": 25,
   "id": "b1018fbf-0c3a-46b1-8e49-0cf9ec8d8f02",
   "metadata": {},
   "outputs": [
    {
     "data": {
      "text/plain": [
       "(5+7j)"
      ]
     },
     "execution_count": 25,
     "metadata": {},
     "output_type": "execute_result"
    }
   ],
   "source": [
    "complex(5,7) # What we see inside the bracket is parameters/arguments"
   ]
  },
  {
   "cell_type": "code",
   "execution_count": 27,
   "id": "6d048873-571d-4dda-86b8-d4908055a380",
   "metadata": {},
   "outputs": [
    {
     "data": {
      "text/plain": [
       "0j"
      ]
     },
     "execution_count": 27,
     "metadata": {},
     "output_type": "execute_result"
    }
   ],
   "source": [
    "complex() # If there are no parameters/arguments we use real and imag value as 0."
   ]
  },
  {
   "cell_type": "code",
   "execution_count": null,
   "id": "fe4e2cd9-bac0-4a07-9b62-e7d675de52fb",
   "metadata": {},
   "outputs": [],
   "source": []
  }
 ],
 "metadata": {
  "kernelspec": {
   "display_name": "Python 3 (ipykernel)",
   "language": "python",
   "name": "python3"
  },
  "language_info": {
   "codemirror_mode": {
    "name": "ipython",
    "version": 3
   },
   "file_extension": ".py",
   "mimetype": "text/x-python",
   "name": "python",
   "nbconvert_exporter": "python",
   "pygments_lexer": "ipython3",
   "version": "3.12.7"
  }
 },
 "nbformat": 4,
 "nbformat_minor": 5
}
