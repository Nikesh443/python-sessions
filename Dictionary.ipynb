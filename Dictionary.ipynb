{
 "cells": [
  {
   "cell_type": "code",
   "execution_count": 43,
   "id": "9b6c5322-0362-4ee0-89ca-f23cd5656311",
   "metadata": {},
   "outputs": [
    {
     "name": "stdout",
     "output_type": "stream",
     "text": [
      "Ram has age 26\n",
      "Hari has age 7\n",
      "Shyam has age 88\n"
     ]
    }
   ],
   "source": [
    "list1=['Ram','Hari','Shyam']\n",
    "list2=[26,7,88]\n",
    "for i,j in zip(list1,list2):\n",
    "    print(f'{i} has age {j}')"
   ]
  },
  {
   "cell_type": "markdown",
   "id": "43765d81-34d1-42d6-8008-5f25fe2cbacc",
   "metadata": {},
   "source": [
    "# Dictionary"
   ]
  },
  {
   "cell_type": "markdown",
   "id": "5a422ca5-8fbb-4567-9597-7bb67b2945f2",
   "metadata": {},
   "source": [
    "- A dictionary is a kind of data structure that stores items in key-value pairs."
   ]
  },
  {
   "cell_type": "code",
   "execution_count": 47,
   "id": "f76f50b6-5486-4e46-9dfc-9bddb628f4cf",
   "metadata": {},
   "outputs": [
    {
     "data": {
      "text/plain": [
       "{'Ram': 25, 'Hari': 7, 'Shyam': 88}"
      ]
     },
     "execution_count": 47,
     "metadata": {},
     "output_type": "execute_result"
    }
   ],
   "source": [
    "# {key: value}\n",
    "d1={'Ram':25,\n",
    " 'Hari':7,\n",
    " 'Shyam':88}\n",
    "d1\n",
    "# keys='Ram','Hari','Shyam'\n",
    "# values=25,7,88"
   ]
  },
  {
   "cell_type": "code",
   "execution_count": 49,
   "id": "ab159973-4717-42f6-956a-93153fcd8b70",
   "metadata": {},
   "outputs": [
    {
     "data": {
      "text/plain": [
       "{100: 'Nikesh', 200: 'Sudha', 300: 'Sagun'}"
      ]
     },
     "execution_count": 49,
     "metadata": {},
     "output_type": "execute_result"
    }
   ],
   "source": [
    "dic1={100:'Nikesh',200:'Sudha',\n",
    "      300:'Sagun'\n",
    "      \n",
    "    \n",
    "}\n",
    "dic1\n",
    "# keys=100,200,300\n",
    "# values='Nikesh','Sudha','Sagun'\n"
   ]
  },
  {
   "cell_type": "code",
   "execution_count": 51,
   "id": "5d303285-21c0-42bf-bcec-2871954c983a",
   "metadata": {},
   "outputs": [
    {
     "data": {
      "text/plain": [
       "{'even': [2, 4, 6], 'odd': [1, 3, 5]}"
      ]
     },
     "execution_count": 51,
     "metadata": {},
     "output_type": "execute_result"
    }
   ],
   "source": [
    "d3={'even':[2,4,6],\n",
    "   'odd':[1,3,5]}\n",
    "d3"
   ]
  },
  {
   "cell_type": "code",
   "execution_count": 53,
   "id": "f9af6a53-81f9-41bb-b7ad-11ef414f589f",
   "metadata": {},
   "outputs": [
    {
     "ename": "TypeError",
     "evalue": "unhashable type: 'list'",
     "output_type": "error",
     "traceback": [
      "\u001b[1;31m---------------------------------------------------------------------------\u001b[0m",
      "\u001b[1;31mTypeError\u001b[0m                                 Traceback (most recent call last)",
      "Cell \u001b[1;32mIn[53], line 1\u001b[0m\n\u001b[1;32m----> 1\u001b[0m d4\u001b[38;5;241m=\u001b[39m{[\u001b[38;5;241m2\u001b[39m,\u001b[38;5;241m4\u001b[39m,\u001b[38;5;241m6\u001b[39m]:\u001b[38;5;124m'\u001b[39m\u001b[38;5;124meven\u001b[39m\u001b[38;5;124m'\u001b[39m,\n\u001b[0;32m      2\u001b[0m     [\u001b[38;5;241m1\u001b[39m,\u001b[38;5;241m3\u001b[39m,\u001b[38;5;241m5\u001b[39m]:\u001b[38;5;124m'\u001b[39m\u001b[38;5;124modd\u001b[39m\u001b[38;5;124m'\u001b[39m\n\u001b[0;32m      3\u001b[0m     \n\u001b[0;32m      4\u001b[0m }\n\u001b[0;32m      5\u001b[0m d4\n",
      "\u001b[1;31mTypeError\u001b[0m: unhashable type: 'list'"
     ]
    }
   ],
   "source": [
    "d4={[2,4,6]:'even',\n",
    "    [1,3,5]:'odd'\n",
    "    \n",
    "}\n",
    "d4  # we cannot provide list in keys but we can provide in values"
   ]
  },
  {
   "cell_type": "code",
   "execution_count": 61,
   "id": "f9829702-55cd-42dd-9259-d2edb3072526",
   "metadata": {},
   "outputs": [
    {
     "data": {
      "text/plain": [
       "{'even': (2, 4, 6), 'odd': (1, 3, 5)}"
      ]
     },
     "execution_count": 61,
     "metadata": {},
     "output_type": "execute_result"
    }
   ],
   "source": [
    "d4={'even':(2,4,6),\n",
    "    'odd':(1,3,5)}\n",
    "d4   # we can provide tuples in values"
   ]
  },
  {
   "cell_type": "code",
   "execution_count": 55,
   "id": "b432f3d2-1427-4862-9653-1c6346a83e49",
   "metadata": {},
   "outputs": [
    {
     "data": {
      "text/plain": [
       "{(2, 4, 6): 'even', (1, 3, 5): 'odd'}"
      ]
     },
     "execution_count": 55,
     "metadata": {},
     "output_type": "execute_result"
    }
   ],
   "source": [
    "d4={(2,4,6):'even',\n",
    "    (1,3,5):'odd'\n",
    "    \n",
    "}\n",
    "d4  # we can provide tuple in keys"
   ]
  },
  {
   "cell_type": "code",
   "execution_count": 65,
   "id": "d8aa21f9-5639-4d67-b451-469de03587f1",
   "metadata": {},
   "outputs": [
    {
     "ename": "TypeError",
     "evalue": "unhashable type: 'dict'",
     "output_type": "error",
     "traceback": [
      "\u001b[1;31m---------------------------------------------------------------------------\u001b[0m",
      "\u001b[1;31mTypeError\u001b[0m                                 Traceback (most recent call last)",
      "Cell \u001b[1;32mIn[65], line 2\u001b[0m\n\u001b[0;32m      1\u001b[0m \u001b[38;5;66;03m# dictionary in dictionary\u001b[39;00m\n\u001b[1;32m----> 2\u001b[0m d5\u001b[38;5;241m=\u001b[39m{{\u001b[38;5;124m'\u001b[39m\u001b[38;5;124mfruits\u001b[39m\u001b[38;5;124m'\u001b[39m:\u001b[38;5;124m'\u001b[39m\u001b[38;5;124mApple\u001b[39m\u001b[38;5;124m'\u001b[39m}:\u001b[38;5;124m'\u001b[39m\u001b[38;5;124mitems_list\u001b[39m\u001b[38;5;124m'\u001b[39m}\n\u001b[0;32m      3\u001b[0m d5\n",
      "\u001b[1;31mTypeError\u001b[0m: unhashable type: 'dict'"
     ]
    }
   ],
   "source": [
    "# dictionary in dictionary\n",
    "d5={{'fruits':'Apple'}:'items_list'}\n",
    "d5\n"
   ]
  },
  {
   "cell_type": "code",
   "execution_count": 71,
   "id": "bad110c8-781c-4458-8a8a-71b8f9f4ad8f",
   "metadata": {},
   "outputs": [
    {
     "data": {
      "text/plain": [
       "{'items_list': {'fruits': 'Apple'}}"
      ]
     },
     "execution_count": 71,
     "metadata": {},
     "output_type": "execute_result"
    }
   ],
   "source": [
    "d6={'items_list':{'fruits':'Apple'}}\n",
    "d6"
   ]
  },
  {
   "cell_type": "code",
   "execution_count": null,
   "id": "c7a4c4df-5b13-4d26-aa4a-2127dd417e89",
   "metadata": {},
   "outputs": [],
   "source": [
    "a=[1,2]\n",
    "b=(1,2)"
   ]
  },
  {
   "cell_type": "code",
   "execution_count": 73,
   "id": "3b2058c5-dd59-4cdc-b342-c83f277c3a80",
   "metadata": {},
   "outputs": [
    {
     "data": {
      "text/plain": [
       "(1, 2)"
      ]
     },
     "execution_count": 73,
     "metadata": {},
     "output_type": "execute_result"
    }
   ],
   "source": [
    "a,b=[1,2]\n",
    "a,b"
   ]
  },
  {
   "cell_type": "code",
   "execution_count": 77,
   "id": "4b3ac9fa-5b40-4a6b-9206-c918326488fe",
   "metadata": {},
   "outputs": [
    {
     "data": {
      "text/plain": [
       "(1, 2)"
      ]
     },
     "execution_count": 77,
     "metadata": {},
     "output_type": "execute_result"
    }
   ],
   "source": [
    "a=1,2\n",
    "a"
   ]
  },
  {
   "cell_type": "code",
   "execution_count": 79,
   "id": "a1620669-ce62-4419-b950-cd1399a7ebeb",
   "metadata": {},
   "outputs": [
    {
     "data": {
      "text/plain": [
       "{'A': 3, 'B': 2}"
      ]
     },
     "execution_count": 79,
     "metadata": {},
     "output_type": "execute_result"
    }
   ],
   "source": [
    "d1={'A':1,'B':2,'A':3}     # Duplicates are not allowed\n",
    "d1"
   ]
  },
  {
   "cell_type": "markdown",
   "id": "7fca652d-c83c-4419-9480-8ed213d6d5a7",
   "metadata": {},
   "source": [
    "- Dictionary is a key: value pair\n",
    "- at values position you can take any data type\n",
    "- at keys position list and dictionary will fail\n",
    "- Duplicates are not allowed\n",
    "- If you will update a key value, latest value it will take"
   ]
  },
  {
   "cell_type": "code",
   "execution_count": 7,
   "id": "19c6c3ed-f2e3-48ee-84f8-4bc14230998c",
   "metadata": {},
   "outputs": [
    {
     "data": {
      "text/plain": [
       "dict"
      ]
     },
     "execution_count": 7,
     "metadata": {},
     "output_type": "execute_result"
    }
   ],
   "source": [
    "type(dic1)"
   ]
  },
  {
   "cell_type": "code",
   "execution_count": 82,
   "id": "886326dc-5c3f-463e-bfac-3ef8dcdce9e2",
   "metadata": {},
   "outputs": [
    {
     "data": {
      "text/plain": [
       "('Nikesh', 'Wagle')"
      ]
     },
     "execution_count": 82,
     "metadata": {},
     "output_type": "execute_result"
    }
   ],
   "source": [
    "list2=['Nikesh','Wagle']\n",
    "tuple(list2)"
   ]
  },
  {
   "cell_type": "code",
   "execution_count": 84,
   "id": "ee2d9d9a-ac92-4542-a809-04cc0613a450",
   "metadata": {},
   "outputs": [
    {
     "ename": "ValueError",
     "evalue": "dictionary update sequence element #0 has length 6; 2 is required",
     "output_type": "error",
     "traceback": [
      "\u001b[1;31m---------------------------------------------------------------------------\u001b[0m",
      "\u001b[1;31mValueError\u001b[0m                                Traceback (most recent call last)",
      "Cell \u001b[1;32mIn[84], line 2\u001b[0m\n\u001b[0;32m      1\u001b[0m list2\u001b[38;5;241m=\u001b[39m[\u001b[38;5;124m'\u001b[39m\u001b[38;5;124mNikesh\u001b[39m\u001b[38;5;124m'\u001b[39m,\u001b[38;5;124m'\u001b[39m\u001b[38;5;124mWagle\u001b[39m\u001b[38;5;124m'\u001b[39m]\n\u001b[1;32m----> 2\u001b[0m \u001b[38;5;28mdict\u001b[39m(list2)\n",
      "\u001b[1;31mValueError\u001b[0m: dictionary update sequence element #0 has length 6; 2 is required"
     ]
    }
   ],
   "source": [
    "list2=['Nikesh','Wagle'] \n",
    "dict(list2)"
   ]
  },
  {
   "cell_type": "code",
   "execution_count": 89,
   "id": "79dd28d0-9332-4146-ad03-69e4eb1e6a5e",
   "metadata": {},
   "outputs": [
    {
     "data": {
      "text/plain": [
       "[1, 'Nikesh']"
      ]
     },
     "execution_count": 89,
     "metadata": {},
     "output_type": "execute_result"
    }
   ],
   "source": [
    "tuple_=(1,'Nikesh')\n",
    "list(tuple_)"
   ]
  },
  {
   "cell_type": "code",
   "execution_count": 91,
   "id": "e8d73829-d5eb-4257-8190-0cf49f9614eb",
   "metadata": {},
   "outputs": [
    {
     "data": {
      "text/plain": [
       "'Robert'"
      ]
     },
     "execution_count": 91,
     "metadata": {},
     "output_type": "execute_result"
    }
   ],
   "source": [
    "dic8={'Ram':25,'Hari':30,'Robert':3}\n",
    "max(dic8)"
   ]
  },
  {
   "cell_type": "markdown",
   "id": "916cb0ed-aee7-4486-ac4a-36de2ec1fbe7",
   "metadata": {},
   "source": [
    "- Maximum value and minium value based on key only"
   ]
  },
  {
   "cell_type": "code",
   "execution_count": 9,
   "id": "c1d82b53-d944-4d14-894a-ac726935ddca",
   "metadata": {},
   "outputs": [
    {
     "data": {
      "text/plain": [
       "3"
      ]
     },
     "execution_count": 9,
     "metadata": {},
     "output_type": "execute_result"
    }
   ],
   "source": [
    "len(dic1)"
   ]
  },
  {
   "cell_type": "code",
   "execution_count": 15,
   "id": "74e62ac2-5901-4a42-8406-a81bd893e384",
   "metadata": {},
   "outputs": [
    {
     "data": {
      "text/plain": [
       "300"
      ]
     },
     "execution_count": 15,
     "metadata": {},
     "output_type": "execute_result"
    }
   ],
   "source": [
    "max(dic1)"
   ]
  },
  {
   "cell_type": "code",
   "execution_count": 17,
   "id": "a3351206-b73b-4b4d-8254-bfaa3e8cced7",
   "metadata": {},
   "outputs": [
    {
     "data": {
      "text/plain": [
       "100"
      ]
     },
     "execution_count": 17,
     "metadata": {},
     "output_type": "execute_result"
    }
   ],
   "source": [
    "min(dic1)"
   ]
  },
  {
   "cell_type": "code",
   "execution_count": 93,
   "id": "e6859747-ec92-4de9-b51c-3b4ae5030ca3",
   "metadata": {},
   "outputs": [
    {
     "data": {
      "text/plain": [
       "300"
      ]
     },
     "execution_count": 93,
     "metadata": {},
     "output_type": "execute_result"
    }
   ],
   "source": [
    "d9={100:1,200:9}\n",
    "sum(d9)"
   ]
  },
  {
   "cell_type": "markdown",
   "id": "90f1e4a4-8d30-4bf0-a689-62d38080a253",
   "metadata": {},
   "source": [
    "- Sum of dictionary wil add only keys \n",
    "- if we provide string in any of key or values then addition will not work"
   ]
  },
  {
   "cell_type": "markdown",
   "id": "fff910fc-ea9d-45a9-a56d-241b260b9e25",
   "metadata": {},
   "source": [
    "## In operator"
   ]
  },
  {
   "cell_type": "code",
   "execution_count": 100,
   "id": "422d1860-fd96-440b-8066-bd3b7981248f",
   "metadata": {},
   "outputs": [
    {
     "data": {
      "text/plain": [
       "True"
      ]
     },
     "execution_count": 100,
     "metadata": {},
     "output_type": "execute_result"
    }
   ],
   "source": [
    "dic8={'Ram':25,'Hari':30,'Robert':3}\n",
    "'Ram' in dic8"
   ]
  },
  {
   "cell_type": "code",
   "execution_count": 102,
   "id": "3ff926a1-8e70-4155-adf5-fb2c79294724",
   "metadata": {},
   "outputs": [
    {
     "data": {
      "text/plain": [
       "False"
      ]
     },
     "execution_count": 102,
     "metadata": {},
     "output_type": "execute_result"
    }
   ],
   "source": [
    "'Nikesh' in dic8"
   ]
  },
  {
   "cell_type": "code",
   "execution_count": 104,
   "id": "8ce63edc-93e9-49f8-84d2-27b779c1c8e9",
   "metadata": {},
   "outputs": [
    {
     "name": "stdout",
     "output_type": "stream",
     "text": [
      "Ram\n",
      "Hari\n",
      "Robert\n"
     ]
    }
   ],
   "source": [
    "for i in dic8:\n",
    "    print(i)"
   ]
  },
  {
   "cell_type": "markdown",
   "id": "79e9017b-355f-48f8-91f3-0142e7f15020",
   "metadata": {},
   "source": [
    "## Indexing"
   ]
  },
  {
   "cell_type": "code",
   "execution_count": 106,
   "id": "efec80b9-b320-487e-b444-4c168352687a",
   "metadata": {},
   "outputs": [
    {
     "ename": "KeyError",
     "evalue": "slice(None, None, -1)",
     "output_type": "error",
     "traceback": [
      "\u001b[1;31m---------------------------------------------------------------------------\u001b[0m",
      "\u001b[1;31mKeyError\u001b[0m                                  Traceback (most recent call last)",
      "Cell \u001b[1;32mIn[106], line 2\u001b[0m\n\u001b[0;32m      1\u001b[0m dic8\u001b[38;5;241m=\u001b[39m{\u001b[38;5;124m'\u001b[39m\u001b[38;5;124mRam\u001b[39m\u001b[38;5;124m'\u001b[39m:\u001b[38;5;241m25\u001b[39m,\u001b[38;5;124m'\u001b[39m\u001b[38;5;124mHari\u001b[39m\u001b[38;5;124m'\u001b[39m:\u001b[38;5;241m30\u001b[39m,\u001b[38;5;124m'\u001b[39m\u001b[38;5;124mRobert\u001b[39m\u001b[38;5;124m'\u001b[39m:\u001b[38;5;241m3\u001b[39m}\n\u001b[1;32m----> 2\u001b[0m dic8[::\u001b[38;5;241m-\u001b[39m\u001b[38;5;241m1\u001b[39m]\n",
      "\u001b[1;31mKeyError\u001b[0m: slice(None, None, -1)"
     ]
    }
   ],
   "source": [
    "dic8={'Ram':25,'Hari':30,'Robert':3}\n",
    "dic8[::-1]"
   ]
  },
  {
   "cell_type": "code",
   "execution_count": 108,
   "id": "e6588100-aeb6-470b-a9e7-a3a60edd5582",
   "metadata": {},
   "outputs": [
    {
     "data": {
      "text/plain": [
       "25"
      ]
     },
     "execution_count": 108,
     "metadata": {},
     "output_type": "execute_result"
    }
   ],
   "source": [
    "dic8={'Ram':25,'Hari':30,'Robert':3}\n",
    "dic8['Ram']"
   ]
  },
  {
   "cell_type": "code",
   "execution_count": 124,
   "id": "83420d9b-29f7-4711-9b93-a9662194faf9",
   "metadata": {},
   "outputs": [
    {
     "name": "stdout",
     "output_type": "stream",
     "text": [
      "The age of Ram is 25\n",
      "The age of Hari is 30\n",
      "The age of Robert is 3\n"
     ]
    }
   ],
   "source": [
    "\n",
    "for i in dic8:\n",
    "    print(f'The age of {i} is {dic8[i]}')"
   ]
  },
  {
   "cell_type": "code",
   "execution_count": 129,
   "id": "0a1920ab-ce3a-4d95-af10-1db7053f77cf",
   "metadata": {},
   "outputs": [
    {
     "name": "stdout",
     "output_type": "stream",
     "text": [
      "0\n",
      "1\n",
      "2\n"
     ]
    }
   ],
   "source": [
    "dic1={100:'Nikesh',200:'Sudha',\n",
    "      300:'Sagun' }\n",
    "for key in range(len(dic1)):\n",
    "    print(key)"
   ]
  },
  {
   "cell_type": "code",
   "execution_count": 139,
   "id": "ee9b3d2a-6f92-4f94-9d04-f330dd2f02ba",
   "metadata": {},
   "outputs": [
    {
     "name": "stdout",
     "output_type": "stream",
     "text": [
      "apple\n"
     ]
    }
   ],
   "source": [
    "# creating a empty dictionary and update it\n",
    "# for string\n",
    "s=''\n",
    "for i in 'apple':\n",
    "    s=s+i\n",
    "\n",
    "print(s)\n",
    "    \n"
   ]
  },
  {
   "cell_type": "code",
   "execution_count": 141,
   "id": "4d89a5b9-0359-4193-8e6d-e430a0306265",
   "metadata": {},
   "outputs": [
    {
     "data": {
      "text/plain": [
       "[0, 1, 2, 3, 4, 5, 6, 7, 8, 9]"
      ]
     },
     "execution_count": 141,
     "metadata": {},
     "output_type": "execute_result"
    }
   ],
   "source": [
    "# for list\n",
    "l=[i for i in range(10)]\n",
    "\n",
    "l=[]\n",
    "for i in range(10):\n",
    "    l.append(i)\n",
    "\n",
    "l"
   ]
  },
  {
   "cell_type": "code",
   "execution_count": 149,
   "id": "a477dbc0-f3f9-4184-ba96-edd6c02a7bca",
   "metadata": {},
   "outputs": [
    {
     "data": {
      "text/plain": [
       "{'fruit': 'apple'}"
      ]
     },
     "execution_count": 149,
     "metadata": {},
     "output_type": "execute_result"
    }
   ],
   "source": [
    "# Finally dictionary\n",
    "d1={}\n",
    "d1['fruit']='apple'\n",
    "d1\n"
   ]
  },
  {
   "cell_type": "code",
   "execution_count": 151,
   "id": "2b527b56-206e-45df-9780-1e38b8baf9be",
   "metadata": {},
   "outputs": [
    {
     "data": {
      "text/plain": [
       "{20: 'Nikesh', 30: 'Wagle'}"
      ]
     },
     "execution_count": 151,
     "metadata": {},
     "output_type": "execute_result"
    }
   ],
   "source": [
    "d={}\n",
    "d[20]='Nikesh'\n",
    "d[30]='Wagle'\n",
    "d"
   ]
  },
  {
   "cell_type": "code",
   "execution_count": 153,
   "id": "eaaa344c-eb31-4724-be01-9f7d1c14d66f",
   "metadata": {},
   "outputs": [
    {
     "data": {
      "text/plain": [
       "{'Ram': 25, 'Raheem': 30, 'Robert': 35}"
      ]
     },
     "execution_count": 153,
     "metadata": {},
     "output_type": "execute_result"
    }
   ],
   "source": [
    "# WAP create a dictionary based on two lists\n",
    "# list1=['Ram','Raheem','Robert'\n",
    "# list2=[25,30,35]\n",
    "\n",
    "dic0={}\n",
    "dic0['Ram']=25\n",
    "dic0['Raheem']=30\n",
    "dic0['Robert']=35\n",
    "dic0\n",
    "# Generalized form: dic0[i]=j"
   ]
  },
  {
   "cell_type": "code",
   "execution_count": 155,
   "id": "6bf56cdc-e729-4962-b44a-11b18fb4d9f0",
   "metadata": {},
   "outputs": [
    {
     "name": "stdout",
     "output_type": "stream",
     "text": [
      "{'Ram': 25, 'Raheem': 30, 'Robert': 35}\n"
     ]
    }
   ],
   "source": [
    "list1=['Ram','Raheem','Robert']\n",
    "list2=[25,30,35]\n",
    "dic7={}\n",
    "for i,j in zip(list1,list2):\n",
    "    dic7[i]=j\n",
    "\n",
    "print(dic7)"
   ]
  },
  {
   "cell_type": "code",
   "execution_count": 163,
   "id": "49997541-6957-4659-9646-e2a01c0a9357",
   "metadata": {},
   "outputs": [
    {
     "name": "stdout",
     "output_type": "stream",
     "text": [
      "0 Ram 25\n",
      "1 Raheem 30\n",
      "2 Robert 35\n",
      "{'Ram': 25, 'Raheem': 30, 'Robert': 35}\n"
     ]
    }
   ],
   "source": [
    "list1=['Ram','Raheem','Robert']\n",
    "list2=[25,30,35]\n",
    "dic1={}\n",
    "for i in range(len(list1)):\n",
    "    print(i,list1[i],list2[i])\n",
    "    dic1[list1[i]]=list2[i]\n",
    "\n",
    "print(dic1)"
   ]
  },
  {
   "cell_type": "code",
   "execution_count": 110,
   "id": "9e9b24f8-677e-4616-ac94-f2bc39ea4f57",
   "metadata": {},
   "outputs": [
    {
     "ename": "KeyError",
     "evalue": "slice(None, None, -1)",
     "output_type": "error",
     "traceback": [
      "\u001b[1;31m---------------------------------------------------------------------------\u001b[0m",
      "\u001b[1;31mKeyError\u001b[0m                                  Traceback (most recent call last)",
      "Cell \u001b[1;32mIn[110], line 4\u001b[0m\n\u001b[0;32m      1\u001b[0m dic1\u001b[38;5;241m=\u001b[39m{\u001b[38;5;241m100\u001b[39m:\u001b[38;5;124m'\u001b[39m\u001b[38;5;124mNikesh\u001b[39m\u001b[38;5;124m'\u001b[39m,\u001b[38;5;241m200\u001b[39m:\u001b[38;5;124m'\u001b[39m\u001b[38;5;124mSudha\u001b[39m\u001b[38;5;124m'\u001b[39m,\n\u001b[0;32m      2\u001b[0m       \u001b[38;5;241m300\u001b[39m:\u001b[38;5;124m'\u001b[39m\u001b[38;5;124mSagun\u001b[39m\u001b[38;5;124m'\u001b[39m    \n\u001b[0;32m      3\u001b[0m }\n\u001b[1;32m----> 4\u001b[0m dic1[::\u001b[38;5;241m-\u001b[39m\u001b[38;5;241m1\u001b[39m]\n",
      "\u001b[1;31mKeyError\u001b[0m: slice(None, None, -1)"
     ]
    }
   ],
   "source": [
    "dic1={100:'Nikesh',200:'Sudha',\n",
    "      300:'Sagun'    \n",
    "}\n",
    "dic1[::-1]"
   ]
  },
  {
   "cell_type": "markdown",
   "id": "25b0c654-c3f0-46a9-8604-a6912ee4e1a3",
   "metadata": {},
   "source": [
    "## Dictionary comphrensions"
   ]
  },
  {
   "cell_type": "code",
   "execution_count": 172,
   "id": "d3fc6047-31b0-4c41-be77-f49998f6bafd",
   "metadata": {},
   "outputs": [
    {
     "data": {
      "text/plain": [
       "{'Ram': 25, 'Raheem': 30, 'Robert': 35}"
      ]
     },
     "execution_count": 172,
     "metadata": {},
     "output_type": "execute_result"
    }
   ],
   "source": [
    "list1=['Ram','Raheem','Robert']\n",
    "list2=[25,30,35]\n",
    "dict1={list1[i]:list2[i] for i in range(len(list1))}\n",
    "dict1"
   ]
  },
  {
   "cell_type": "code",
   "execution_count": 174,
   "id": "575e9d48-00c7-4799-a7c3-3326a935c7fc",
   "metadata": {},
   "outputs": [
    {
     "data": {
      "text/plain": [
       "{'Ram': 25, 'Raheem': 30, 'Robert': 35}"
      ]
     },
     "execution_count": 174,
     "metadata": {},
     "output_type": "execute_result"
    }
   ],
   "source": [
    "dict1={list1:list2 for list1,list2 in zip(list1,list2)}\n",
    "dic1"
   ]
  },
  {
   "cell_type": "code",
   "execution_count": 194,
   "id": "9a8c3c41-bb78-4957-8305-1d660be67fb5",
   "metadata": {},
   "outputs": [
    {
     "data": {
      "text/plain": [
       "{'even': ['954', '636'], 'odd': ['31', '183', '45']}"
      ]
     },
     "execution_count": 194,
     "metadata": {},
     "output_type": "execute_result"
    }
   ],
   "source": [
    "# wap take 5 random numbers\n",
    "# and create a dictionary with even and odd\n",
    "import random\n",
    "dic9={}\n",
    "list1=[]\n",
    "list2=[]\n",
    "for key in range(5):\n",
    "    a=random.randint(1,1000)\n",
    "    if a%2==0:\n",
    "        list1.append(f'{a}')\n",
    "    else:\n",
    "        list2.append(f'{a}')\n",
    "\n",
    "dic9['even']=list1\n",
    "dic9['odd']=list2\n",
    "dic9"
   ]
  },
  {
   "cell_type": "markdown",
   "id": "eec0c92d-8979-4ba8-a1da-571305d3fb7f",
   "metadata": {},
   "source": [
    "## mutuable and immutuable"
   ]
  },
  {
   "cell_type": "code",
   "execution_count": 5,
   "id": "63a08f9c-e5dc-42b8-a438-81a4b1994bd6",
   "metadata": {},
   "outputs": [
    {
     "data": {
      "text/plain": [
       "{100: 'Nirmala', 200: 'Sudha', 300: 'Sagun'}"
      ]
     },
     "execution_count": 5,
     "metadata": {},
     "output_type": "execute_result"
    }
   ],
   "source": [
    "dic1={100:'Nikesh',200:'Sudha',\n",
    "      300:'Sagun'    \n",
    "}\n",
    "dic1[100]='Nirmala'\n",
    "dic1"
   ]
  },
  {
   "cell_type": "markdown",
   "id": "3ac7d579-83ef-4328-a553-4faa1b0ea3af",
   "metadata": {},
   "source": [
    "- Hence dictionary is mutuable because we can change the values stored inside ir"
   ]
  },
  {
   "cell_type": "code",
   "execution_count": 1,
   "id": "ff9c85de-eef9-4bf8-9156-bcc2db9f0131",
   "metadata": {},
   "outputs": [],
   "source": [
    "import os"
   ]
  },
  {
   "cell_type": "code",
   "execution_count": 3,
   "id": "e15f6190-2a15-4061-b7d7-755e8e0f87c1",
   "metadata": {},
   "outputs": [
    {
     "data": {
      "text/plain": [
       "'C:\\\\Users\\\\pc\\\\Desktop\\\\Data Science'"
      ]
     },
     "execution_count": 3,
     "metadata": {},
     "output_type": "execute_result"
    }
   ],
   "source": [
    "os.getcwd()"
   ]
  },
  {
   "cell_type": "markdown",
   "id": "bef32708-b1ac-4fdf-87b2-473f413b0c00",
   "metadata": {},
   "source": [
    "## Dictionary Methods"
   ]
  },
  {
   "cell_type": "code",
   "execution_count": 12,
   "id": "e4b5a04d-1f84-416b-9b30-17988cc1100e",
   "metadata": {},
   "outputs": [
    {
     "data": {
      "text/plain": [
       "['__class__',\n",
       " '__class_getitem__',\n",
       " '__contains__',\n",
       " '__delattr__',\n",
       " '__delitem__',\n",
       " '__dir__',\n",
       " '__doc__',\n",
       " '__eq__',\n",
       " '__format__',\n",
       " '__ge__',\n",
       " '__getattribute__',\n",
       " '__getitem__',\n",
       " '__getstate__',\n",
       " '__gt__',\n",
       " '__hash__',\n",
       " '__init__',\n",
       " '__init_subclass__',\n",
       " '__ior__',\n",
       " '__iter__',\n",
       " '__le__',\n",
       " '__len__',\n",
       " '__lt__',\n",
       " '__ne__',\n",
       " '__new__',\n",
       " '__or__',\n",
       " '__reduce__',\n",
       " '__reduce_ex__',\n",
       " '__repr__',\n",
       " '__reversed__',\n",
       " '__ror__',\n",
       " '__setattr__',\n",
       " '__setitem__',\n",
       " '__sizeof__',\n",
       " '__str__',\n",
       " '__subclasshook__',\n",
       " 'clear',\n",
       " 'copy',\n",
       " 'fromkeys',\n",
       " 'get',\n",
       " 'items',\n",
       " 'keys',\n",
       " 'pop',\n",
       " 'popitem',\n",
       " 'setdefault',\n",
       " 'update',\n",
       " 'values']"
      ]
     },
     "execution_count": 12,
     "metadata": {},
     "output_type": "execute_result"
    }
   ],
   "source": [
    "dic1={100:'Nikesh',200:'Sudha',\n",
    "      300:'Sagun'}\n",
    "dir(dic1)"
   ]
  },
  {
   "cell_type": "markdown",
   "id": "1cc713d9-6d61-4483-8487-a8f286127a1b",
   "metadata": {},
   "source": [
    "$ items-keys-values$"
   ]
  },
  {
   "cell_type": "code",
   "execution_count": 15,
   "id": "6e88f7e1-501f-44f2-9fb6-0168d7269bd0",
   "metadata": {},
   "outputs": [
    {
     "data": {
      "text/plain": [
       "dict_items([(100, 'Nikesh'), (200, 'Sudha'), (300, 'Sagun')])"
      ]
     },
     "execution_count": 15,
     "metadata": {},
     "output_type": "execute_result"
    }
   ],
   "source": [
    "# items\n",
    "\n",
    "dic1={100:'Nikesh',200:'Sudha',\n",
    "      300:'Sagun'}\n",
    "dic1.items()"
   ]
  },
  {
   "cell_type": "code",
   "execution_count": 17,
   "id": "7507c2e9-7051-4f82-ab39-b2cefda84a67",
   "metadata": {},
   "outputs": [
    {
     "data": {
      "text/plain": [
       "dict_keys([100, 200, 300])"
      ]
     },
     "execution_count": 17,
     "metadata": {},
     "output_type": "execute_result"
    }
   ],
   "source": [
    "# keys\n",
    "dic1.keys()"
   ]
  },
  {
   "cell_type": "code",
   "execution_count": 45,
   "id": "de9a8aba-2b8d-4b3a-af53-fdd4c11a4893",
   "metadata": {},
   "outputs": [
    {
     "data": {
      "text/plain": [
       "dict_values(['Nikesh', 'Sudha', 'Sagun'])"
      ]
     },
     "execution_count": 45,
     "metadata": {},
     "output_type": "execute_result"
    }
   ],
   "source": [
    "#values\n",
    "values=dic1.values()\n",
    "values"
   ]
  },
  {
   "cell_type": "code",
   "execution_count": 49,
   "id": "6b51e067-1a46-4e1a-8f76-f0cf0d6a15f0",
   "metadata": {},
   "outputs": [
    {
     "data": {
      "text/plain": [
       "['Nikesh', 'Sudha', 'Sagun']"
      ]
     },
     "execution_count": 49,
     "metadata": {},
     "output_type": "execute_result"
    }
   ],
   "source": [
    "nikesh=list(values)\n",
    "nikesh"
   ]
  },
  {
   "cell_type": "code",
   "execution_count": 53,
   "id": "d61e76e9-2c05-4bf7-a3df-64077925b2ec",
   "metadata": {},
   "outputs": [
    {
     "data": {
      "text/plain": [
       "['Nikesh', 'Sudha', 'Sagun', 'Nirmala', 'Nirmala']"
      ]
     },
     "execution_count": 53,
     "metadata": {},
     "output_type": "execute_result"
    }
   ],
   "source": [
    "nikesh.append('Nirmala')\n",
    "nikesh"
   ]
  },
  {
   "cell_type": "code",
   "execution_count": 55,
   "id": "c63b4711-5859-4261-b001-f4e269f18fb5",
   "metadata": {},
   "outputs": [
    {
     "data": {
      "text/plain": [
       "([100, 200, 300], ['Nikesh', 'Sudha', 'Sagun'])"
      ]
     },
     "execution_count": 55,
     "metadata": {},
     "output_type": "execute_result"
    }
   ],
   "source": [
    "# I will give dictionary make list of keys and values and again create dictionary\n",
    "dic1={100:'Nikesh',200:'Sudha',\n",
    "      300:'Sagun'}\n",
    "keys=list(dic1.keys())\n",
    "values=list(dic1.values())\n",
    "keys,values"
   ]
  },
  {
   "cell_type": "code",
   "execution_count": 61,
   "id": "6aae795b-8740-4af5-844f-fb276d14ef8b",
   "metadata": {},
   "outputs": [
    {
     "data": {
      "text/plain": [
       "{100: 'Nikesh', 200: 'Sudha', 300: 'Sagun'}"
      ]
     },
     "execution_count": 61,
     "metadata": {},
     "output_type": "execute_result"
    }
   ],
   "source": [
    "d1={}\n",
    "for i in range(len(keys)):\n",
    "    d1[keys[i]]=values[i]\n",
    "\n",
    "d1"
   ]
  },
  {
   "cell_type": "code",
   "execution_count": 65,
   "id": "1803484e-e4a5-4698-86bb-159a5b9a494f",
   "metadata": {},
   "outputs": [
    {
     "data": {
      "text/plain": [
       "{100: 'Nikesh', 200: 'Sudha', 300: 'Sagun'}"
      ]
     },
     "execution_count": 65,
     "metadata": {},
     "output_type": "execute_result"
    }
   ],
   "source": [
    "# Alternative\n",
    "{i:j for i,j in zip(keys,values)}"
   ]
  },
  {
   "cell_type": "code",
   "execution_count": 7,
   "id": "e7e1b4db-e281-46bd-9aca-5e2e2ca87cb6",
   "metadata": {},
   "outputs": [
    {
     "data": {
      "text/plain": [
       "{100: 'Nikesh', 200: 'Sudha', 300: 'Sagun'}"
      ]
     },
     "execution_count": 7,
     "metadata": {},
     "output_type": "execute_result"
    }
   ],
   "source": [
    "# more alternatives\n",
    "dic1={100:'Nikesh',200:'Sudha',\n",
    "      300:'Sagun'}\n",
    "keys=list(dic1.keys())\n",
    "values=list(dic1.values())\n",
    "dict(zip(keys,values))"
   ]
  },
  {
   "cell_type": "code",
   "execution_count": 62,
   "id": "e86f999c-b948-4ba0-835f-0c39dbb7222a",
   "metadata": {},
   "outputs": [
    {
     "data": {
      "text/plain": [
       "['virat.kohli@blr.com', 'Rohit.sharma@mumbai.com', 'kl.rahul@lucknow.com']"
      ]
     },
     "execution_count": 62,
     "metadata": {},
     "output_type": "execute_result"
    }
   ],
   "source": [
    "s1='virat.kohli@blr.com,Rohit.sharma@mumbai.com,kl.rahul@lucknow.com'\n",
    "a=s1.split(',')\n",
    "first_name=[]\n",
    "secomd_name=[]\n",
    "company=[]\n",
    "for i in range(len(a)):\n",
    "    a[]\n",
    "\n",
    "\n"
   ]
  },
  {
   "cell_type": "code",
   "execution_count": 106,
   "id": "0bb6d230-cbcc-467a-a6e5-f56082e5fbdb",
   "metadata": {},
   "outputs": [
    {
     "data": {
      "text/plain": [
       "{'first_name': ['virat', 'Rohit', 'kl'],\n",
       " 'second_name': ['kohli', 'sharma', 'rahul'],\n",
       " 'company_name': ['blr', 'mumbai', 'lucknow']}"
      ]
     },
     "execution_count": 106,
     "metadata": {},
     "output_type": "execute_result"
    }
   ],
   "source": [
    "str1= 'virat.kohli@blr.com'\n",
    "d1={}\n",
    "f_name=[str1[0:str1.find('.')]for str1 in s1.split(',')]\n",
    "s_name=[str1[str1.find('.')+1:str1.find('@')]for str1 in s1.split(',')]\n",
    "c_name=[str1[str1.find('@')+1:str1.find('.',str1.find('.')+1)]for str1 in s1.split(',')]\n",
    "f_name,s_name,c_name\n",
    "\n",
    "d1['first_name']=f_name\n",
    "d1['second_name']=s_name\n",
    "d1['company_name']=c_name\n",
    "d1\n",
    "\n",
    "\n"
   ]
  },
  {
   "cell_type": "markdown",
   "id": "ccd23a6e-09c7-4c05-a59d-fbe23ea88870",
   "metadata": {},
   "source": [
    "$ words-frequency$"
   ]
  },
  {
   "cell_type": "code",
   "execution_count": 123,
   "id": "197a76b6-a5c5-4df8-8517-904393a7aca5",
   "metadata": {},
   "outputs": [
    {
     "data": {
      "text/plain": [
       "{'can': 4, 'you': 2, 'canner': 2, 'able': 1, 'to': 1}"
      ]
     },
     "execution_count": 123,
     "metadata": {},
     "output_type": "execute_result"
    }
   ],
   "source": [
    "str1='can can you canner can you able to can canner'\n",
    "l1=str1.split(' ')\n",
    "d1={}\n",
    "for i in l1:\n",
    "    d1[i]=l1.count(i)\n",
    "\n",
    "d1"
   ]
  },
  {
   "cell_type": "code",
   "execution_count": 5,
   "id": "6dc65e62-4103-4345-8d58-6d568a3b219c",
   "metadata": {},
   "outputs": [
    {
     "data": {
      "text/plain": [
       "{'a': 70, 'b': 130, 'c': 280}"
      ]
     },
     "execution_count": 5,
     "metadata": {},
     "output_type": "execute_result"
    }
   ],
   "source": [
    "d1={'a':20,'b':30,'c':40}\n",
    "d2={'a':50,'b':100,'c':240}\n",
    "for i in d2:\n",
    "    d1[i]+=d2[i]\n",
    "\n",
    "d1\n",
    "\n"
   ]
  },
  {
   "cell_type": "code",
   "execution_count": 11,
   "id": "e041f6a8-cbcd-444c-b8c4-b1be7a989b3b",
   "metadata": {},
   "outputs": [
    {
     "data": {
      "text/plain": [
       "{'a': 70, 'b': 130, 'c': 280, 'd': 500}"
      ]
     },
     "execution_count": 11,
     "metadata": {},
     "output_type": "execute_result"
    }
   ],
   "source": [
    "d1={'a':20,'b':30,'c':40,'d':500}\n",
    "d2={'a':50,'b':100,'c':240}\n",
    "for i in d2:\n",
    "    d1[i]+=d2[i]\n",
    "\n",
    "d1\n",
    "\n",
    "# which ever is max lengeth iterate through that dictionary"
   ]
  },
  {
   "cell_type": "code",
   "execution_count": 9,
   "id": "1d119ea4-3c69-46db-8ced-d112c2c43731",
   "metadata": {},
   "outputs": [
    {
     "data": {
      "text/plain": [
       "20"
      ]
     },
     "execution_count": 9,
     "metadata": {},
     "output_type": "execute_result"
    }
   ],
   "source": [
    "d1={'a':20,'b':30,'c':40,'d':500}\n",
    "d1['a']"
   ]
  },
  {
   "cell_type": "code",
   "execution_count": 15,
   "id": "1a62dfd4-ffb0-4642-9096-5ef950b12a51",
   "metadata": {},
   "outputs": [
    {
     "data": {
      "text/plain": [
       "{'a': 70, 'b': 130, 'c': 280, 'd': 500}"
      ]
     },
     "execution_count": 15,
     "metadata": {},
     "output_type": "execute_result"
    }
   ],
   "source": [
    "d1={'a':20,'b':30,'c':40,'d':500}\n",
    "d2={'a':50,'b':100,'c':240}\n",
    "for i in d2:\n",
    "    d1[i]+=d2[i]\n",
    "\n",
    "d1"
   ]
  },
  {
   "cell_type": "code",
   "execution_count": null,
   "id": "fc8fdfa7-022f-4d4b-97f4-0cc9b8476469",
   "metadata": {},
   "outputs": [],
   "source": [
    "# clear for list\n",
    "list1=[1,'A','B','C']\n",
    "list1.clear()"
   ]
  },
  {
   "cell_type": "code",
   "execution_count": 27,
   "id": "1f40d97e-26e8-40bc-9c48-5336f18ecf9c",
   "metadata": {},
   "outputs": [
    {
     "data": {
      "text/plain": [
       "[]"
      ]
     },
     "execution_count": 27,
     "metadata": {},
     "output_type": "execute_result"
    }
   ],
   "source": [
    "list1"
   ]
  },
  {
   "cell_type": "code",
   "execution_count": 21,
   "id": "359b7590-62db-4138-a495-3c7c24c537be",
   "metadata": {},
   "outputs": [],
   "source": [
    "# clear======> Remove all items from the dict\n",
    "dic1={100:'Nikesh',200:'Sudha',\n",
    "      300:'Sagun'}\n",
    "dic1.clear()"
   ]
  },
  {
   "cell_type": "code",
   "execution_count": 23,
   "id": "45ecbe18-a08c-469c-b31e-2382b347a683",
   "metadata": {},
   "outputs": [
    {
     "data": {
      "text/plain": [
       "{}"
      ]
     },
     "execution_count": 23,
     "metadata": {},
     "output_type": "execute_result"
    }
   ],
   "source": [
    "dic1"
   ]
  },
  {
   "cell_type": "code",
   "execution_count": 3,
   "id": "6625a1ec-4334-4c15-979f-5e67007f7a75",
   "metadata": {},
   "outputs": [
    {
     "data": {
      "text/plain": [
       "{100: 'Nikesh', 200: 'Sudha', 300: 'Sagun'}"
      ]
     },
     "execution_count": 3,
     "metadata": {},
     "output_type": "execute_result"
    }
   ],
   "source": [
    "# copy\n",
    "dic1={100:'Nikesh',200:'Sudha',\n",
    "      300:'Sagun'}\n",
    "dic2={1:'Nirmala'}\n",
    "dic1.copy()\n"
   ]
  },
  {
   "cell_type": "code",
   "execution_count": 10,
   "id": "594a5f5f-4ae2-48d3-a735-330b67db7e89",
   "metadata": {},
   "outputs": [
    {
     "data": {
      "text/plain": [
       "[100, 200, 'Nikesh', [300, 400, 'Wagle']]"
      ]
     },
     "execution_count": 10,
     "metadata": {},
     "output_type": "execute_result"
    }
   ],
   "source": [
    "# append in list\n",
    "list1=[100,200,'Nikesh']\n",
    "list2=[300,400,'Wagle']\n",
    "list1.append(list2)\n",
    "list1"
   ]
  },
  {
   "cell_type": "code",
   "execution_count": 14,
   "id": "82f3fecc-6fde-40fe-b628-626dfb35b5d6",
   "metadata": {},
   "outputs": [
    {
     "data": {
      "text/plain": [
       "[100, 200, 'Nikesh', 300, 400, 'Wagle']"
      ]
     },
     "execution_count": 14,
     "metadata": {},
     "output_type": "execute_result"
    }
   ],
   "source": [
    "# extend\n",
    "list1=[100,200,'Nikesh']\n",
    "list2=[300,400,'Wagle']\n",
    "list1.extend(list2)\n",
    "list1"
   ]
  },
  {
   "cell_type": "code",
   "execution_count": 3,
   "id": "314a0a38-72d6-47a0-8e63-8518657d65d1",
   "metadata": {},
   "outputs": [
    {
     "data": {
      "text/plain": [
       "{100: 'Nikesh', 200: 'Sudha', 300: 'Sagun', 400: 'Apple', 500: 'Orange'}"
      ]
     },
     "execution_count": 3,
     "metadata": {},
     "output_type": "execute_result"
    }
   ],
   "source": [
    "# update =====> its like append in list\n",
    "dic1={100:'Nikesh',200:'Sudha',\n",
    "      300:'Sagun'}\n",
    "dic2={ 400:'Apple',500:'Orange'}\n",
    "dic1.update(dic2)\n",
    "dic1"
   ]
  },
  {
   "cell_type": "code",
   "execution_count": 5,
   "id": "d0908214-7449-41e0-8e57-1183c58acdce",
   "metadata": {},
   "outputs": [
    {
     "data": {
      "text/plain": [
       "{400: 'Apple', 500: 'Orange', 100: 'Nikesh', 200: 'Sudha', 300: 'Sagun'}"
      ]
     },
     "execution_count": 5,
     "metadata": {},
     "output_type": "execute_result"
    }
   ],
   "source": [
    "dic2.update(dic1)\n",
    "dic2"
   ]
  },
  {
   "cell_type": "markdown",
   "id": "75b9303a-bdc3-44b5-bc9e-941646d2dcca",
   "metadata": {},
   "source": [
    "$pop-popitems$"
   ]
  },
  {
   "cell_type": "code",
   "execution_count": 8,
   "id": "b6a05ced-16ca-4fa3-b446-a004e139b14a",
   "metadata": {},
   "outputs": [
    {
     "data": {
      "text/plain": [
       "{200: 'Sudha', 300: 'Sagun'}"
      ]
     },
     "execution_count": 8,
     "metadata": {},
     "output_type": "execute_result"
    }
   ],
   "source": [
    "# pop\n",
    "dic1={100:'Nikesh',200:'Sudha',\n",
    "      300:'Sagun'}\n",
    "dic1.pop(100)\n",
    "dic1"
   ]
  },
  {
   "cell_type": "code",
   "execution_count": 20,
   "id": "7dae2285-db89-44cf-a7ec-58c765d17aa4",
   "metadata": {},
   "outputs": [
    {
     "data": {
      "text/plain": [
       "(300, 'Sagun')"
      ]
     },
     "execution_count": 20,
     "metadata": {},
     "output_type": "execute_result"
    }
   ],
   "source": [
    "#pop items\n",
    "dic1={100:'Nikesh',200:'Sudha',\n",
    "      300:'Sagun'}\n",
    "dic1.popitem()\n",
    "\n"
   ]
  },
  {
   "cell_type": "code",
   "execution_count": 27,
   "id": "e24d8578-b3ad-46ad-962c-644116e88302",
   "metadata": {},
   "outputs": [
    {
     "ename": "KeyError",
     "evalue": "'popitem(): dictionary is empty'",
     "output_type": "error",
     "traceback": [
      "\u001b[1;31m---------------------------------------------------------------------------\u001b[0m",
      "\u001b[1;31mKeyError\u001b[0m                                  Traceback (most recent call last)",
      "Cell \u001b[1;32mIn[27], line 3\u001b[0m\n\u001b[0;32m      1\u001b[0m \u001b[38;5;66;03m# Raises error if the dic is empty\u001b[39;00m\n\u001b[0;32m      2\u001b[0m dict3\u001b[38;5;241m=\u001b[39m{}\n\u001b[1;32m----> 3\u001b[0m dict3\u001b[38;5;241m.\u001b[39mpopitem()\n",
      "\u001b[1;31mKeyError\u001b[0m: 'popitem(): dictionary is empty'"
     ]
    }
   ],
   "source": [
    "# Raises error if the dic is empty\n",
    "dict3={}\n",
    "dict3.popitem()"
   ]
  },
  {
   "cell_type": "markdown",
   "id": "9557fd19-5087-46d8-a068-eea9d389970e",
   "metadata": {},
   "source": [
    "$del$"
   ]
  },
  {
   "cell_type": "code",
   "execution_count": 7,
   "id": "fa2cb95b-86c0-437c-ab1c-364d5153ddac",
   "metadata": {},
   "outputs": [],
   "source": [
    "dic1={100:'Nikesh',200:'Sudha',\n",
    "      300:'Sagun'}\n",
    "del dic1[100]"
   ]
  },
  {
   "cell_type": "code",
   "execution_count": 9,
   "id": "622f6f16-db61-4ff6-8929-ca0450469305",
   "metadata": {},
   "outputs": [
    {
     "data": {
      "text/plain": [
       "{200: 'Sudha', 300: 'Sagun'}"
      ]
     },
     "execution_count": 9,
     "metadata": {},
     "output_type": "execute_result"
    }
   ],
   "source": [
    "dic1"
   ]
  },
  {
   "cell_type": "code",
   "execution_count": 11,
   "id": "0fdfbb22-0161-428d-9d58-b794b3f3bd52",
   "metadata": {},
   "outputs": [],
   "source": [
    "dic1={100:'Nikesh',200:'Sudha',\n",
    "      300:'Sagun'}\n",
    "del(dic1)"
   ]
  },
  {
   "cell_type": "code",
   "execution_count": 13,
   "id": "80d2587b-f3c3-4ebf-bffb-e600b791fb1e",
   "metadata": {},
   "outputs": [
    {
     "ename": "NameError",
     "evalue": "name 'dic1' is not defined",
     "output_type": "error",
     "traceback": [
      "\u001b[1;31m---------------------------------------------------------------------------\u001b[0m",
      "\u001b[1;31mNameError\u001b[0m                                 Traceback (most recent call last)",
      "Cell \u001b[1;32mIn[13], line 1\u001b[0m\n\u001b[1;32m----> 1\u001b[0m dic1\n",
      "\u001b[1;31mNameError\u001b[0m: name 'dic1' is not defined"
     ]
    }
   ],
   "source": [
    "dic1"
   ]
  },
  {
   "cell_type": "markdown",
   "id": "af44d73c-8d06-4d9f-9aaf-996d0b20ea7f",
   "metadata": {},
   "source": [
    "$set default$"
   ]
  },
  {
   "cell_type": "markdown",
   "id": "d277bd90-413e-4b0e-bdcc-3cc7cdde4c8c",
   "metadata": {},
   "source": [
    "- returns value of the key\n",
    "- if key is not present return default=none"
   ]
  },
  {
   "cell_type": "code",
   "execution_count": 66,
   "id": "2c31c6b2-85bb-40cb-bda0-ab7a33f1e78b",
   "metadata": {},
   "outputs": [
    {
     "data": {
      "text/plain": [
       "{100: 'Nikesh', 200: 'Sudha', 300: 'Sagun', 400: 'misty'}"
      ]
     },
     "execution_count": 66,
     "metadata": {},
     "output_type": "execute_result"
    }
   ],
   "source": [
    "dic1={100:'Nikesh',200:'Sudha',\n",
    "      300:'Sagun'}\n",
    "dic1.setdefault(400,'misty')\n",
    "dic1"
   ]
  },
  {
   "cell_type": "markdown",
   "id": "c38ae5a8-4e2a-4467-b638-1be41fcfb2ae",
   "metadata": {},
   "source": [
    "$from keys and get$"
   ]
  },
  {
   "cell_type": "code",
   "execution_count": 24,
   "id": "6b66aa4e-5485-4ce9-b1ac-455bc19a408f",
   "metadata": {},
   "outputs": [
    {
     "data": {
      "text/plain": [
       "'Nikesh'"
      ]
     },
     "execution_count": 24,
     "metadata": {},
     "output_type": "execute_result"
    }
   ],
   "source": [
    "dic1={100:'Nikesh',200:'Sudha',\n",
    "      300:'Sagun'}\n",
    "dic1.get(100)"
   ]
  },
  {
   "cell_type": "markdown",
   "id": "26c1b458-cdf3-45b0-bd94-8bd04bffc8c6",
   "metadata": {},
   "source": [
    "- how many ways we can do\n",
    "- what output it is returning\n",
    "- what is the difference\n",
    "- we can access the values by providing key as index and key in get method\n",
    "- It will not give error in get method if key is not there in the dict"
   ]
  },
  {
   "cell_type": "code",
   "execution_count": 35,
   "id": "b5182b56-def7-4cb1-868a-9fee48735a77",
   "metadata": {},
   "outputs": [
    {
     "data": {
      "text/plain": [
       "300"
      ]
     },
     "execution_count": 35,
     "metadata": {},
     "output_type": "execute_result"
    }
   ],
   "source": [
    "dic1={100:'Nikesh',200:'Sudha',\n",
    "      300:'Sagun'}\n",
    "max(list(dic1.keys()))"
   ]
  },
  {
   "cell_type": "markdown",
   "id": "21f36200-cf0a-49dd-a0dc-c6bf4dba245b",
   "metadata": {},
   "source": [
    "$from_keys$"
   ]
  },
  {
   "cell_type": "code",
   "execution_count": null,
   "id": "4a86b67d-acc9-4010-9e0d-14e5fb3e60c4",
   "metadata": {},
   "outputs": [],
   "source": [
    "# it creates a new dictionary\n",
    "# create a new dictionary from the given sequenc of elements\n",
    "# create a new dictionary with iterable key"
   ]
  },
  {
   "cell_type": "code",
   "execution_count": 60,
   "id": "7cbc58af-998f-40e1-b4cd-0fef454fd5b1",
   "metadata": {},
   "outputs": [
    {
     "data": {
      "text/plain": [
       "{1: 'odd', 2: 'odd', 3: 'odd'}"
      ]
     },
     "execution_count": 60,
     "metadata": {},
     "output_type": "execute_result"
    }
   ],
   "source": [
    "dic1={'Nikesh':100,'sudha':300}\n",
    "d2=dic1.fromkeys([1,2,3],'odd')\n",
    "d2"
   ]
  },
  {
   "cell_type": "code",
   "execution_count": null,
   "id": "c594d8fb-d615-4998-a0f6-e0168576d4e2",
   "metadata": {},
   "outputs": [],
   "source": []
  }
 ],
 "metadata": {
  "kernelspec": {
   "display_name": "Python 3 (ipykernel)",
   "language": "python",
   "name": "python3"
  },
  "language_info": {
   "codemirror_mode": {
    "name": "ipython",
    "version": 3
   },
   "file_extension": ".py",
   "mimetype": "text/x-python",
   "name": "python",
   "nbconvert_exporter": "python",
   "pygments_lexer": "ipython3",
   "version": "3.12.7"
  }
 },
 "nbformat": 4,
 "nbformat_minor": 5
}
