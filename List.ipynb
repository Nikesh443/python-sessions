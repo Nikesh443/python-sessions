{
 "cells": [
  {
   "cell_type": "markdown",
   "id": "8a57c12d-d46e-4eca-b11f-b42fe9193372",
   "metadata": {},
   "source": [
    "# List"
   ]
  },
  {
   "cell_type": "code",
   "execution_count": 2,
   "id": "470845a5-5f9a-4661-8259-122498a83226",
   "metadata": {},
   "outputs": [
    {
     "data": {
      "text/plain": [
       "[1, 2, 3, 4]"
      ]
     },
     "execution_count": 2,
     "metadata": {},
     "output_type": "execute_result"
    }
   ],
   "source": [
    "list1=[1,2,3,4]\n",
    "list1"
   ]
  },
  {
   "cell_type": "code",
   "execution_count": 8,
   "id": "3b80b5e8-9c0f-4636-bbe4-a2f3f62a3f0e",
   "metadata": {},
   "outputs": [
    {
     "data": {
      "text/plain": [
       "['A', 'B', 'C', 'D']"
      ]
     },
     "execution_count": 8,
     "metadata": {},
     "output_type": "execute_result"
    }
   ],
   "source": [
    "list2=['A','B','C', 'D']\n",
    "list2   # You can write strings in list"
   ]
  },
  {
   "cell_type": "code",
   "execution_count": 10,
   "id": "b5042bb5-3de2-4102-946a-eb97de6c781e",
   "metadata": {},
   "outputs": [
    {
     "data": {
      "text/plain": [
       "[1, 2, 3, 4, 'A', 'B']"
      ]
     },
     "execution_count": 10,
     "metadata": {},
     "output_type": "execute_result"
    }
   ],
   "source": [
    "list3=[1,2,3,4,'A','B']\n",
    "list3"
   ]
  },
  {
   "cell_type": "code",
   "execution_count": 14,
   "id": "cff138ff-1236-4720-b4bc-1c3f41da5ad4",
   "metadata": {},
   "outputs": [
    {
     "data": {
      "text/plain": [
       "[1, 'Apple', 2, 'Ball', (10+20j), True]"
      ]
     },
     "execution_count": 14,
     "metadata": {},
     "output_type": "execute_result"
    }
   ],
   "source": [
    "list4=[1,'Apple',2,'Ball',10+20j,True]\n",
    "list4"
   ]
  },
  {
   "cell_type": "code",
   "execution_count": 18,
   "id": "a0c5dfcb-736a-431f-83d4-262b7486df8a",
   "metadata": {},
   "outputs": [
    {
     "data": {
      "text/plain": [
       "[100, 100, 100, 100]"
      ]
     },
     "execution_count": 18,
     "metadata": {},
     "output_type": "execute_result"
    }
   ],
   "source": [
    "list5=[100,100,100,100]\n",
    "list5"
   ]
  },
  {
   "cell_type": "code",
   "execution_count": 20,
   "id": "a68d2a8b-334b-4774-b061-d09238808205",
   "metadata": {},
   "outputs": [
    {
     "data": {
      "text/plain": [
       "[[1, 2, 3, 4]]"
      ]
     },
     "execution_count": 20,
     "metadata": {},
     "output_type": "execute_result"
    }
   ],
   "source": [
    "list6=[[1,2,3,4]]\n",
    "list6"
   ]
  },
  {
   "cell_type": "markdown",
   "id": "559e779b-ea2e-4aa0-836c-079194aed1f0",
   "metadata": {},
   "source": [
    "- list is an array of elements\n",
    "- list elements heterogenous(different) data types are allowed\n",
    "- duplicates are allowed\n",
    "- list in list also works"
   ]
  },
  {
   "cell_type": "code",
   "execution_count": 23,
   "id": "78e55118-edfd-49c6-9aff-83c8d34d9885",
   "metadata": {},
   "outputs": [
    {
     "data": {
      "text/plain": [
       "list"
      ]
     },
     "execution_count": 23,
     "metadata": {},
     "output_type": "execute_result"
    }
   ],
   "source": [
    "type(list4)"
   ]
  },
  {
   "cell_type": "markdown",
   "id": "e4e0b457-cfde-4e51-85ae-09de27b55558",
   "metadata": {},
   "source": [
    "$max$"
   ]
  },
  {
   "cell_type": "code",
   "execution_count": 25,
   "id": "40370be4-c977-4262-bcff-41f2567797af",
   "metadata": {},
   "outputs": [
    {
     "name": "stdout",
     "output_type": "stream",
     "text": [
      "4\n",
      "D\n"
     ]
    },
    {
     "ename": "TypeError",
     "evalue": "'>' not supported between instances of 'str' and 'int'",
     "output_type": "error",
     "traceback": [
      "\u001b[1;31m---------------------------------------------------------------------------\u001b[0m",
      "\u001b[1;31mTypeError\u001b[0m                                 Traceback (most recent call last)",
      "Cell \u001b[1;32mIn[25], line 3\u001b[0m\n\u001b[0;32m      1\u001b[0m \u001b[38;5;28mprint\u001b[39m(\u001b[38;5;28mmax\u001b[39m(list1))\n\u001b[0;32m      2\u001b[0m \u001b[38;5;28mprint\u001b[39m(\u001b[38;5;28mmax\u001b[39m(list2))\n\u001b[1;32m----> 3\u001b[0m \u001b[38;5;28mprint\u001b[39m(\u001b[38;5;28mmax\u001b[39m(list3))\n\u001b[0;32m      4\u001b[0m \u001b[38;5;28mprint\u001b[39m(\u001b[38;5;28mmax\u001b[39m(list4))\n",
      "\u001b[1;31mTypeError\u001b[0m: '>' not supported between instances of 'str' and 'int'"
     ]
    }
   ],
   "source": [
    "print(max(list1)) # =======> 4\n",
    "print(max(list2)) # ========> D ====>  ascii ord\n",
    "print(max(list3)) # =======> >' not supported between instances of 'str' and 'int'\n",
    "print(max(list4)) # ========> >' not supported between instances of 'str' and 'int'"
   ]
  },
  {
   "cell_type": "markdown",
   "id": "d394f5c3-e2ce-4c60-b255-05f174523ea9",
   "metadata": {},
   "source": [
    "$min$"
   ]
  },
  {
   "cell_type": "code",
   "execution_count": 34,
   "id": "78258160-9ad2-49e0-a1fe-7942cfd970f5",
   "metadata": {},
   "outputs": [
    {
     "name": "stdout",
     "output_type": "stream",
     "text": [
      "1\n",
      "A\n"
     ]
    },
    {
     "ename": "TypeError",
     "evalue": "'<' not supported between instances of 'str' and 'int'",
     "output_type": "error",
     "traceback": [
      "\u001b[1;31m---------------------------------------------------------------------------\u001b[0m",
      "\u001b[1;31mTypeError\u001b[0m                                 Traceback (most recent call last)",
      "Cell \u001b[1;32mIn[34], line 3\u001b[0m\n\u001b[0;32m      1\u001b[0m \u001b[38;5;28mprint\u001b[39m(\u001b[38;5;28mmin\u001b[39m(list1)) \u001b[38;5;66;03m# =======> 1\u001b[39;00m\n\u001b[0;32m      2\u001b[0m \u001b[38;5;28mprint\u001b[39m(\u001b[38;5;28mmin\u001b[39m(list2)) \u001b[38;5;66;03m# ========> A ====>  ascii ord\u001b[39;00m\n\u001b[1;32m----> 3\u001b[0m \u001b[38;5;28mprint\u001b[39m(\u001b[38;5;28mmin\u001b[39m(list3)) \u001b[38;5;66;03m# =======> >' not supported between instances of 'str' and 'int'\u001b[39;00m\n\u001b[0;32m      4\u001b[0m \u001b[38;5;28mprint\u001b[39m(\u001b[38;5;28mmin\u001b[39m(list4))\n",
      "\u001b[1;31mTypeError\u001b[0m: '<' not supported between instances of 'str' and 'int'"
     ]
    }
   ],
   "source": [
    "print(min(list1)) # =======> 1\n",
    "print(min(list2)) # ========> A ====>  ascii ord\n",
    "print(min(list3)) # =======> >' not supported between instances of 'str' and 'int'\n",
    "print(min(list4)) # ========> >' not supported between instances of 'str' and 'int'"
   ]
  },
  {
   "cell_type": "markdown",
   "id": "b025c002-8f51-4178-8c93-0d39824a9197",
   "metadata": {},
   "source": [
    "$len$"
   ]
  },
  {
   "cell_type": "code",
   "execution_count": 39,
   "id": "4d1fa334-1ef5-4654-a198-14cef17733d8",
   "metadata": {},
   "outputs": [
    {
     "name": "stdout",
     "output_type": "stream",
     "text": [
      "4\n",
      "4\n",
      "6\n",
      "6\n"
     ]
    }
   ],
   "source": [
    "print(len(list1)) \n",
    "print(len(list2)) \n",
    "print(len(list3)) \n",
    "print(len(list4)) "
   ]
  },
  {
   "cell_type": "markdown",
   "id": "69c58303-5d52-4fa4-bf72-83e6dfe9c72f",
   "metadata": {},
   "source": [
    "$sum$"
   ]
  },
  {
   "cell_type": "code",
   "execution_count": 44,
   "id": "7567ce8d-ebb5-450d-9446-6f1c74ddf3ac",
   "metadata": {},
   "outputs": [
    {
     "name": "stdout",
     "output_type": "stream",
     "text": [
      "[1, 2, 3, 4]\n",
      "10\n"
     ]
    }
   ],
   "source": [
    "print(list1)\n",
    "print(sum(list1))"
   ]
  },
  {
   "cell_type": "code",
   "execution_count": 46,
   "id": "2aa68296-ddeb-44d7-a06b-8a31b2ba7c01",
   "metadata": {},
   "outputs": [
    {
     "name": "stdout",
     "output_type": "stream",
     "text": [
      "[1, 2, 3, 4, 'A', 'B']\n"
     ]
    },
    {
     "ename": "TypeError",
     "evalue": "unsupported operand type(s) for +: 'int' and 'str'",
     "output_type": "error",
     "traceback": [
      "\u001b[1;31m---------------------------------------------------------------------------\u001b[0m",
      "\u001b[1;31mTypeError\u001b[0m                                 Traceback (most recent call last)",
      "Cell \u001b[1;32mIn[46], line 2\u001b[0m\n\u001b[0;32m      1\u001b[0m \u001b[38;5;28mprint\u001b[39m(list3)\n\u001b[1;32m----> 2\u001b[0m \u001b[38;5;28mprint\u001b[39m(\u001b[38;5;28msum\u001b[39m(list3))\n",
      "\u001b[1;31mTypeError\u001b[0m: unsupported operand type(s) for +: 'int' and 'str'"
     ]
    }
   ],
   "source": [
    "print(list3)\n",
    "print(sum(list3))  # unsupported operand type(s) for +: 'int' and 'str'"
   ]
  },
  {
   "cell_type": "markdown",
   "id": "aa37ada6-9b7f-4e71-b788-b88dce837ea2",
   "metadata": {},
   "source": [
    "$in$"
   ]
  },
  {
   "cell_type": "code",
   "execution_count": 53,
   "id": "2016a252-8fa2-491a-8425-b93103294c09",
   "metadata": {},
   "outputs": [
    {
     "name": "stdout",
     "output_type": "stream",
     "text": [
      "[1, 2, 3, 4]\n"
     ]
    }
   ],
   "source": [
    "print(list1)"
   ]
  },
  {
   "cell_type": "code",
   "execution_count": 49,
   "id": "5f717d1f-5235-4ebc-b5b9-8ea17ce0e95f",
   "metadata": {},
   "outputs": [
    {
     "data": {
      "text/plain": [
       "True"
      ]
     },
     "execution_count": 49,
     "metadata": {},
     "output_type": "execute_result"
    }
   ],
   "source": [
    "1 in list1"
   ]
  },
  {
   "cell_type": "code",
   "execution_count": 51,
   "id": "294ad1a8-8753-4698-bac3-a3edcdd0dc8e",
   "metadata": {},
   "outputs": [
    {
     "data": {
      "text/plain": [
       "True"
      ]
     },
     "execution_count": 51,
     "metadata": {},
     "output_type": "execute_result"
    }
   ],
   "source": [
    "4 in list1"
   ]
  },
  {
   "cell_type": "code",
   "execution_count": 55,
   "id": "92690735-967f-498b-bef1-d4b2e8acb11f",
   "metadata": {},
   "outputs": [
    {
     "data": {
      "text/plain": [
       "False"
      ]
     },
     "execution_count": 55,
     "metadata": {},
     "output_type": "execute_result"
    }
   ],
   "source": [
    "5 in list1"
   ]
  },
  {
   "cell_type": "markdown",
   "id": "eb50234b-4c37-40d0-a6a8-b25f43376563",
   "metadata": {},
   "source": [
    "$ concatenation$"
   ]
  },
  {
   "cell_type": "code",
   "execution_count": 60,
   "id": "a357170f-3d77-471a-a5e5-c31c96ddfecc",
   "metadata": {},
   "outputs": [
    {
     "data": {
      "text/plain": [
       "[1, 2, 3, 4]"
      ]
     },
     "execution_count": 60,
     "metadata": {},
     "output_type": "execute_result"
    }
   ],
   "source": [
    "list1"
   ]
  },
  {
   "cell_type": "code",
   "execution_count": 62,
   "id": "22eaf1c5-6597-4a7d-99a3-0b2fc8386edd",
   "metadata": {},
   "outputs": [
    {
     "data": {
      "text/plain": [
       "['A', 'B', 'C', 'D']"
      ]
     },
     "execution_count": 62,
     "metadata": {},
     "output_type": "execute_result"
    }
   ],
   "source": [
    "list2"
   ]
  },
  {
   "cell_type": "code",
   "execution_count": 64,
   "id": "cd4bb0ba-0a45-4f0a-8aaf-abb8ab6632f9",
   "metadata": {},
   "outputs": [
    {
     "name": "stdout",
     "output_type": "stream",
     "text": [
      "[1, 2, 3, 4, 'A', 'B', 'C', 'D']\n"
     ]
    }
   ],
   "source": [
    "print(list1+list2)"
   ]
  },
  {
   "cell_type": "code",
   "execution_count": 66,
   "id": "02c4fda3-1fab-4175-9177-a72ba57bc916",
   "metadata": {},
   "outputs": [
    {
     "name": "stdout",
     "output_type": "stream",
     "text": [
      "['A', 'B', 'C', 'D', 1, 2, 3, 4]\n"
     ]
    }
   ],
   "source": [
    "print(list2+list1)"
   ]
  },
  {
   "cell_type": "code",
   "execution_count": 68,
   "id": "ad6614e0-e5d2-422a-a94e-ea9c76a9aa5e",
   "metadata": {},
   "outputs": [
    {
     "name": "stdout",
     "output_type": "stream",
     "text": [
      "[1, 2, 3, 4, 'A', 'B', 'C', 'D', 1, 2, 3, 4, 'A', 'B']\n"
     ]
    }
   ],
   "source": [
    "print(list1+list2+list3)"
   ]
  },
  {
   "cell_type": "code",
   "execution_count": 70,
   "id": "8d3da44e-dc8c-42db-ac85-04b26450fc6c",
   "metadata": {},
   "outputs": [
    {
     "data": {
      "text/plain": [
       "[1, 2, 3, 4, 1, 2, 3, 4, 1, 2, 3, 4]"
      ]
     },
     "execution_count": 70,
     "metadata": {},
     "output_type": "execute_result"
    }
   ],
   "source": [
    "list1*3"
   ]
  },
  {
   "cell_type": "code",
   "execution_count": null,
   "id": "058c49d0-16af-495a-9c00-3101add71758",
   "metadata": {},
   "outputs": [],
   "source": [
    "# Can i iterate through for loop?"
   ]
  },
  {
   "cell_type": "code",
   "execution_count": 57,
   "id": "1dd10a71-3f1f-4744-8eb1-77a394b9b4b7",
   "metadata": {},
   "outputs": [
    {
     "name": "stdout",
     "output_type": "stream",
     "text": [
      "odd\n",
      "even\n",
      "odd\n",
      "even\n"
     ]
    }
   ],
   "source": [
    "count=0\n",
    "for i in list1:\n",
    "    if i%2==0:\n",
    "        print('even')\n",
    "\n",
    "    else:\n",
    "        print('odd')\n",
    "\n",
    "\n",
    "    "
   ]
  },
  {
   "cell_type": "markdown",
   "id": "108e146a-2cd1-4f29-bba6-c696b8447302",
   "metadata": {},
   "source": [
    "$index$"
   ]
  },
  {
   "cell_type": "code",
   "execution_count": 73,
   "id": "364dcfc4-e3a4-423e-82f5-8d1772236bd9",
   "metadata": {},
   "outputs": [
    {
     "data": {
      "text/plain": [
       "(1, 2, 3, 4)"
      ]
     },
     "execution_count": 73,
     "metadata": {},
     "output_type": "execute_result"
    }
   ],
   "source": [
    "# python index starts with 0\n",
    "list3[0],list3[1],list3[2],list3[3]\n",
    "\n",
    "# list3[i]\n",
    "# i=0 1 2 3 "
   ]
  },
  {
   "cell_type": "code",
   "execution_count": 79,
   "id": "b7171238-667d-40ae-bbe5-bedfc4e49dd0",
   "metadata": {},
   "outputs": [
    {
     "name": "stdout",
     "output_type": "stream",
     "text": [
      "1\n",
      "2\n",
      "3\n",
      "4\n",
      "A\n",
      "B\n"
     ]
    }
   ],
   "source": [
    "for i in list3:\n",
    "    print(i)"
   ]
  },
  {
   "cell_type": "code",
   "execution_count": 81,
   "id": "2a464d30-3f5f-4d48-a0c9-584e929d0109",
   "metadata": {},
   "outputs": [
    {
     "name": "stdout",
     "output_type": "stream",
     "text": [
      "1\n",
      "2\n",
      "3\n",
      "4\n",
      "A\n",
      "B\n"
     ]
    }
   ],
   "source": [
    "for i in range(len(list3)):\n",
    "    print(list3[i])"
   ]
  },
  {
   "cell_type": "code",
   "execution_count": 83,
   "id": "bd9f91cc-c0d6-4137-af1c-fb57a7d8d983",
   "metadata": {},
   "outputs": [
    {
     "data": {
      "text/plain": [
       "'B'"
      ]
     },
     "execution_count": 83,
     "metadata": {},
     "output_type": "execute_result"
    }
   ],
   "source": [
    "list3[-1]"
   ]
  },
  {
   "cell_type": "code",
   "execution_count": null,
   "id": "4c058e8a-d97b-4d41-89ac-509907d850c6",
   "metadata": {},
   "outputs": [],
   "source": [
    "-6 -5 -4 -3 -2 -1\n",
    "1  2  3  4  A  B \n",
    "0  1  2  3  4  5 "
   ]
  },
  {
   "cell_type": "code",
   "execution_count": 92,
   "id": "46ec669e-8f83-406b-814d-a03bde92fb3f",
   "metadata": {},
   "outputs": [
    {
     "data": {
      "text/plain": [
       "3"
      ]
     },
     "execution_count": 92,
     "metadata": {},
     "output_type": "execute_result"
    }
   ],
   "source": [
    "list3[-4]"
   ]
  },
  {
   "cell_type": "code",
   "execution_count": 94,
   "id": "b2132ef2-f9bc-4c18-8d18-d2d468bb0635",
   "metadata": {},
   "outputs": [
    {
     "data": {
      "text/plain": [
       "[1, 2, 3, 4]"
      ]
     },
     "execution_count": 94,
     "metadata": {},
     "output_type": "execute_result"
    }
   ],
   "source": [
    "list3[:4]"
   ]
  },
  {
   "cell_type": "code",
   "execution_count": 98,
   "id": "2f1cf7a5-57a8-4db8-98b2-2af5c88b6df2",
   "metadata": {},
   "outputs": [
    {
     "data": {
      "text/plain": [
       "[4, 'A', 'B']"
      ]
     },
     "execution_count": 98,
     "metadata": {},
     "output_type": "execute_result"
    }
   ],
   "source": [
    "list3[list3[-4]:]"
   ]
  },
  {
   "cell_type": "code",
   "execution_count": 104,
   "id": "c95109a2-09b9-4fe5-ae07-d9234736ac45",
   "metadata": {},
   "outputs": [
    {
     "name": "stdout",
     "output_type": "stream",
     "text": [
      "The positive index is 0 and negative index is -6 for 1\n",
      "The positive index is 1 and negative index is -5 for 2\n",
      "The positive index is 2 and negative index is -4 for 3\n",
      "The positive index is 3 and negative index is -3 for 4\n",
      "The positive index is 4 and negative index is -2 for A\n",
      "The positive index is 5 and negative index is -1 for B\n"
     ]
    }
   ],
   "source": [
    "for i in range(len(list3)):\n",
    "    print(f'The positive index is {i} and negative index is {i-len(list3)} for {list3[i]}')"
   ]
  },
  {
   "cell_type": "code",
   "execution_count": 110,
   "id": "254a3d5a-08ed-4054-a6a4-93333b1667ab",
   "metadata": {},
   "outputs": [
    {
     "name": "stdout",
     "output_type": "stream",
     "text": [
      "Ab\n",
      "cd\n",
      "Ef\n"
     ]
    }
   ],
   "source": [
    "# WAP find the elements which are having len<3\n",
    "list5=['Apple','Ball','cat','Ab','cd','Ef']\n",
    "for i in range(len(list5)):\n",
    "    if len(list5[i])<3:\n",
    "        print(list5[i])\n",
    "    "
   ]
  },
  {
   "cell_type": "code",
   "execution_count": 112,
   "id": "d1d63484-5bae-4f48-90a5-6d1874e140d2",
   "metadata": {},
   "outputs": [
    {
     "name": "stdout",
     "output_type": "stream",
     "text": [
      "Ab\n",
      "cd\n",
      "Ef\n"
     ]
    }
   ],
   "source": [
    "for i in list5:\n",
    "    if len(i)<3:\n",
    "        print(i)"
   ]
  },
  {
   "cell_type": "code",
   "execution_count": 118,
   "id": "2a401c49-6acc-434c-8c31-eaec3790ef56",
   "metadata": {},
   "outputs": [
    {
     "name": "stdout",
     "output_type": "stream",
     "text": [
      "App#e\n",
      "B#ll\n",
      "c#t\n"
     ]
    }
   ],
   "source": [
    "# WAP find the elements having # symbol\n",
    "list5=['App#e','B#ll','c#t','Ab','cd','Ef']\n",
    "for i in range(len(list5)):\n",
    "    if '#' in list5[i]:\n",
    "        print(list5[i])"
   ]
  },
  {
   "cell_type": "code",
   "execution_count": 124,
   "id": "eb40cc9a-2f08-4f56-bbdf-f302bdd11cd9",
   "metadata": {},
   "outputs": [
    {
     "name": "stdout",
     "output_type": "stream",
     "text": [
      "App#e\n",
      "B#ll\n",
      "c#t\n",
      "3\n"
     ]
    }
   ],
   "source": [
    "count=0\n",
    "list5=['App#e','B#ll','c#t','Ab','cd','Ef']\n",
    "for i in range(len(list5)):\n",
    "    if '#' in list5[i]:\n",
    "        count+=1\n",
    "        print(list5[i])\n",
    "\n",
    "print(count)"
   ]
  },
  {
   "cell_type": "code",
   "execution_count": 132,
   "id": "6ddf7800-59dd-4070-9f68-333bf998cf04",
   "metadata": {},
   "outputs": [
    {
     "data": {
      "text/plain": [
       "1"
      ]
     },
     "execution_count": 132,
     "metadata": {},
     "output_type": "execute_result"
    }
   ],
   "source": [
    "list1=[1,2,3,['Apple','Ball']]    # No of elements=3 i.e 1     2    3     ['Apple','Ball']\n",
    "list1[3].index('Ball')"
   ]
  },
  {
   "cell_type": "code",
   "execution_count": 134,
   "id": "06e672ca-abb9-490e-aa02-0706018c195c",
   "metadata": {},
   "outputs": [
    {
     "data": {
      "text/plain": [
       "'Ball'"
      ]
     },
     "execution_count": 134,
     "metadata": {},
     "output_type": "execute_result"
    }
   ],
   "source": [
    "list1[3][1]"
   ]
  },
  {
   "cell_type": "code",
   "execution_count": 152,
   "id": "0f1b3706-9b9f-4022-8695-3b6507f7f5f7",
   "metadata": {},
   "outputs": [
    {
     "data": {
      "text/plain": [
       "'cherry'"
      ]
     },
     "execution_count": 152,
     "metadata": {},
     "output_type": "execute_result"
    }
   ],
   "source": [
    "list2=[[[[[[['cherry']]]]]]]\n",
    "list2[0][0][0][0][0][0][0]"
   ]
  },
  {
   "cell_type": "code",
   "execution_count": 160,
   "id": "bce33bc7-08d2-4ba4-9799-e0d6ab7fd33b",
   "metadata": {},
   "outputs": [
    {
     "data": {
      "text/plain": [
       "'car'"
      ]
     },
     "execution_count": 160,
     "metadata": {},
     "output_type": "execute_result"
    }
   ],
   "source": [
    "list3=[[[['A','B',[[[1,2,3,['car']]]]]]]]\n",
    "list3[0][0][0][2][0][0][3][0]"
   ]
  },
  {
   "cell_type": "markdown",
   "id": "4fec6a4f-920e-4325-aaaa-879bb1353dde",
   "metadata": {},
   "source": [
    "$ Mutuable $"
   ]
  },
  {
   "cell_type": "code",
   "execution_count": 163,
   "id": "5077ac1e-0b8a-41c4-b116-bef8bf30902d",
   "metadata": {},
   "outputs": [
    {
     "data": {
      "text/plain": [
       "[1, 4, 3, 4]"
      ]
     },
     "execution_count": 163,
     "metadata": {},
     "output_type": "execute_result"
    }
   ],
   "source": [
    "list3=[1,2,3,4]\n",
    "list3[1]=4\n",
    "list3"
   ]
  },
  {
   "cell_type": "markdown",
   "id": "94161d89-0abf-44b8-95b5-11b641e13e0f",
   "metadata": {},
   "source": [
    "- Hence list are mutuable but strings are not mutuable by index method"
   ]
  },
  {
   "cell_type": "markdown",
   "id": "aebef34f-dd79-40b2-b764-5ccd525053f9",
   "metadata": {},
   "source": [
    "$ slice$"
   ]
  },
  {
   "cell_type": "code",
   "execution_count": 169,
   "id": "c164aaa4-bd2e-4e12-9129-2e085cef198d",
   "metadata": {},
   "outputs": [
    {
     "data": {
      "text/plain": [
       "[30, 'p', 'H', 'a']"
      ]
     },
     "execution_count": 169,
     "metadata": {},
     "output_type": "execute_result"
    }
   ],
   "source": [
    "list1=[10,20,30,40,50,'p','y','T','H','o','N','a','b','c','D']\n",
    "list1[2:14:3] # 30,'p','H','a'"
   ]
  },
  {
   "cell_type": "code",
   "execution_count": 171,
   "id": "63112290-89f0-4b90-9060-fa87c311247a",
   "metadata": {},
   "outputs": [
    {
     "data": {
      "text/plain": [
       "'ioa '"
      ]
     },
     "execution_count": 171,
     "metadata": {},
     "output_type": "execute_result"
    }
   ],
   "source": [
    "string1='hai how are you'\n",
    "string1[2:14:3]"
   ]
  },
  {
   "cell_type": "code",
   "execution_count": 181,
   "id": "4f8fec07-0b0d-4dec-8732-5ce39e97e987",
   "metadata": {},
   "outputs": [
    {
     "data": {
      "text/plain": [
       "[]"
      ]
     },
     "execution_count": 181,
     "metadata": {},
     "output_type": "execute_result"
    }
   ],
   "source": [
    "list1[2:14:-3] # np\n",
    "list1[2:-14:3] #np\n",
    "list1[2:-14:-2] # 30\n",
    "list1[-2:14:3]  # c\n",
    "list1[-2:-14:3] # np\n",
    "list1[-2:-14:-3] # c n t 50\n",
    "list1[-2:14:-3] # np\n"
   ]
  },
  {
   "cell_type": "markdown",
   "id": "38aa5037-31d7-49a8-a702-1c74691d1d9b",
   "metadata": {},
   "source": [
    "### list methods"
   ]
  },
  {
   "cell_type": "code",
   "execution_count": 183,
   "id": "63549d10-db0b-4dbd-aeea-7fc3ac673921",
   "metadata": {},
   "outputs": [
    {
     "data": {
      "text/plain": [
       "['__add__',\n",
       " '__class__',\n",
       " '__class_getitem__',\n",
       " '__contains__',\n",
       " '__delattr__',\n",
       " '__delitem__',\n",
       " '__dir__',\n",
       " '__doc__',\n",
       " '__eq__',\n",
       " '__format__',\n",
       " '__ge__',\n",
       " '__getattribute__',\n",
       " '__getitem__',\n",
       " '__getstate__',\n",
       " '__gt__',\n",
       " '__hash__',\n",
       " '__iadd__',\n",
       " '__imul__',\n",
       " '__init__',\n",
       " '__init_subclass__',\n",
       " '__iter__',\n",
       " '__le__',\n",
       " '__len__',\n",
       " '__lt__',\n",
       " '__mul__',\n",
       " '__ne__',\n",
       " '__new__',\n",
       " '__reduce__',\n",
       " '__reduce_ex__',\n",
       " '__repr__',\n",
       " '__reversed__',\n",
       " '__rmul__',\n",
       " '__setattr__',\n",
       " '__setitem__',\n",
       " '__sizeof__',\n",
       " '__str__',\n",
       " '__subclasshook__',\n",
       " 'append',\n",
       " 'clear',\n",
       " 'copy',\n",
       " 'count',\n",
       " 'extend',\n",
       " 'index',\n",
       " 'insert',\n",
       " 'pop',\n",
       " 'remove',\n",
       " 'reverse',\n",
       " 'sort']"
      ]
     },
     "execution_count": 183,
     "metadata": {},
     "output_type": "execute_result"
    }
   ],
   "source": [
    "dir([])"
   ]
  },
  {
   "cell_type": "markdown",
   "id": "5e0d184d-4365-4df9-9492-cba4a3b5c888",
   "metadata": {},
   "source": [
    "$clear and copy$"
   ]
  },
  {
   "cell_type": "code",
   "execution_count": 186,
   "id": "40058dd8-fd8d-4413-a503-476aac7d407d",
   "metadata": {},
   "outputs": [
    {
     "data": {
      "text/plain": [
       "[1, 2, 3, 4]"
      ]
     },
     "execution_count": 186,
     "metadata": {},
     "output_type": "execute_result"
    }
   ],
   "source": [
    "list1=[1,2,3,4]\n",
    " # I want to copy these elements in a list2\n",
    "list2=list1.copy()\n",
    "list2"
   ]
  },
  {
   "cell_type": "code",
   "execution_count": 188,
   "id": "33d04b19-da37-4142-b763-c46bcd4cfcdf",
   "metadata": {},
   "outputs": [
    {
     "name": "stdout",
     "output_type": "stream",
     "text": [
      "[]\n"
     ]
    }
   ],
   "source": [
    "list1.clear()\n",
    "print(list1)"
   ]
  },
  {
   "cell_type": "code",
   "execution_count": 190,
   "id": "3afbbb6f-03f0-4a11-afcb-5d5a38dc8ac6",
   "metadata": {},
   "outputs": [
    {
     "name": "stdout",
     "output_type": "stream",
     "text": [
      "[1, 2, 3, 4]\n"
     ]
    }
   ],
   "source": [
    "print(list2)"
   ]
  },
  {
   "cell_type": "code",
   "execution_count": null,
   "id": "67deff4d-857c-489c-9da9-fb373c69d6a9",
   "metadata": {},
   "outputs": [],
   "source": [
    "# side heading\n",
    "\n",
    "# write the code \n",
    "\n",
    "# insight/ observation from above code"
   ]
  },
  {
   "cell_type": "markdown",
   "id": "961e4875-c7ec-4d60-8493-7b629eba4666",
   "metadata": {},
   "source": [
    "$append$"
   ]
  },
  {
   "cell_type": "code",
   "execution_count": 22,
   "id": "09745c0b-9f14-46b7-80af-3f723dde733a",
   "metadata": {},
   "outputs": [
    {
     "data": {
      "text/plain": [
       "[100, 200, 300]"
      ]
     },
     "execution_count": 22,
     "metadata": {},
     "output_type": "execute_result"
    }
   ],
   "source": [
    "# add something o the end of the written document\n",
    "\n",
    "list1=[100,200]\n",
    "#[100,200,300]\n",
    "list1.append(300)\n",
    "list1"
   ]
  },
  {
   "cell_type": "code",
   "execution_count": 32,
   "id": "b23c6fed-b945-4377-910d-3b05aacafa96",
   "metadata": {},
   "outputs": [
    {
     "data": {
      "text/plain": [
       "[100, 200, 300]"
      ]
     },
     "execution_count": 32,
     "metadata": {},
     "output_type": "execute_result"
    }
   ],
   "source": [
    "list1=[]\n",
    "list1.append(100)\n",
    "list1.append(200)\n",
    "list1.append(300)\n",
    "list1\n"
   ]
  },
  {
   "cell_type": "code",
   "execution_count": 48,
   "id": "8eb614e4-4a98-49da-86cb-afc024c1ecb0",
   "metadata": {},
   "outputs": [
    {
     "name": "stdout",
     "output_type": "stream",
     "text": [
      "1\n",
      "4\n",
      "9\n",
      "16\n",
      "25\n"
     ]
    }
   ],
   "source": [
    "# Input list=[1,2,3,4,5]\n",
    "# create a new list=[1,4,9,16,25]\n",
    "\n",
    "list2=[1,2,3,4,5]\n",
    "for i in list2:\n",
    "    print(i*i)\n",
    "\n",
    "# I want to save the output in a list.\n"
   ]
  },
  {
   "cell_type": "code",
   "execution_count": 54,
   "id": "7c6d4eaf-2418-435a-87e2-163b1fe621a1",
   "metadata": {},
   "outputs": [
    {
     "name": "stdout",
     "output_type": "stream",
     "text": [
      "[1, 4, 9, 16, 25]\n"
     ]
    }
   ],
   "source": [
    "\n",
    "## Very very important and frequently used\n",
    "list2=[1,2,3,4,5]\n",
    "output=[]\n",
    "for i in list2:\n",
    "    output.append(i*i)\n",
    "print(output)"
   ]
  },
  {
   "cell_type": "code",
   "execution_count": 103,
   "id": "421fbffe-ee40-4bfe-b391-fe81e9452969",
   "metadata": {},
   "outputs": [
    {
     "name": "stdout",
     "output_type": "stream",
     "text": [
      "['Hyd', 'Bengaluru', 'Delhi']\n"
     ]
    }
   ],
   "source": [
    "list2=['hyd','bengaluru','delhi']\n",
    "output=[]\n",
    "for i in list2:\n",
    "    output.append(i.capitalize())\n",
    "\n",
    "print(output)"
   ]
  },
  {
   "cell_type": "code",
   "execution_count": 115,
   "id": "530ba942-a6ae-47ed-9e85-9cf017aaa956",
   "metadata": {},
   "outputs": [
    {
     "data": {
      "text/plain": [
       "['h#d', 'beng#luru']"
      ]
     },
     "execution_count": 115,
     "metadata": {},
     "output_type": "execute_result"
    }
   ],
   "source": [
    "list2=['h#d','beng#luru','delhi']\n",
    "output=[]\n",
    "for i in list2:\n",
    "    if '#' in i:\n",
    "        output.append(i)\n",
    "\n",
    "output\n",
    "\n",
    "    \n",
    "\n",
    "    \n"
   ]
  },
  {
   "cell_type": "markdown",
   "id": "3fc009d3-172a-45d6-b417-ec573b3f933c",
   "metadata": {},
   "source": [
    "### list comphrension"
   ]
  },
  {
   "cell_type": "code",
   "execution_count": 122,
   "id": "29ff6d8f-a17e-489c-9b16-ec8d39ecbcf7",
   "metadata": {},
   "outputs": [
    {
     "data": {
      "text/plain": [
       "[1, 4, 9, 16, 25]"
      ]
     },
     "execution_count": 122,
     "metadata": {},
     "output_type": "execute_result"
    }
   ],
   "source": [
    "# code in a single line \n",
    "list2=[1,2,3,4,5]  # input\n",
    "\n",
    "\n",
    "output=[]\n",
    "for i in list2:\n",
    "    output.append(i*i)\n",
    "\n",
    "output=[i*i for i in list2]\n",
    "output\n",
    "#[<output> <for loop>]"
   ]
  },
  {
   "cell_type": "code",
   "execution_count": 132,
   "id": "552aa750-1a86-4a64-b845-a6831af91426",
   "metadata": {},
   "outputs": [
    {
     "data": {
      "text/plain": [
       "['Hyd', 'Bengaluru', 'Delhi']"
      ]
     },
     "execution_count": 132,
     "metadata": {},
     "output_type": "execute_result"
    }
   ],
   "source": [
    "list2=['hyd','bengaluru','delhi']\n",
    "output=[i.capitalize() for i in list2]\n",
    "output"
   ]
  },
  {
   "cell_type": "code",
   "execution_count": 134,
   "id": "414d54bf-6a88-4979-94e7-59468680a47b",
   "metadata": {},
   "outputs": [
    {
     "data": {
      "text/plain": [
       "[1, 2, 3, 4, 5, 6, 7, 8, 9, 10, 11, 12, 13, 14, 15, 16, 17, 18, 19, 20]"
      ]
     },
     "execution_count": 134,
     "metadata": {},
     "output_type": "execute_result"
    }
   ],
   "source": [
    "# create the list of 20 numbers from 1 to 20\n",
    "output=[i for i in range(1,21)]\n",
    "output"
   ]
  },
  {
   "cell_type": "markdown",
   "id": "855c1dd3-b2cf-4eb8-839d-0358d8a610ba",
   "metadata": {},
   "source": [
    "## list comphrension with if condition"
   ]
  },
  {
   "cell_type": "code",
   "execution_count": 137,
   "id": "861e5d07-f20d-4251-bbe1-b5b2f058c968",
   "metadata": {},
   "outputs": [
    {
     "data": {
      "text/plain": [
       "['h#d', 'beng#luru']"
      ]
     },
     "execution_count": 137,
     "metadata": {},
     "output_type": "execute_result"
    }
   ],
   "source": [
    "list2=['h#d','beng#luru','delhi']\n",
    "output=[]\n",
    "for i in list2:\n",
    "    if '#' in i:\n",
    "        output.append(i)\n",
    "\n",
    "output=[i for i in list2  if '#' in i]\n",
    "output\n",
    "# [<o/p> <for loop> <if_condition>]\n"
   ]
  },
  {
   "cell_type": "code",
   "execution_count": 149,
   "id": "e67a50fd-53bb-49d0-88ef-cf8d59dacca5",
   "metadata": {},
   "outputs": [
    {
     "data": {
      "text/plain": [
       "['ac', 'a']"
      ]
     },
     "execution_count": 149,
     "metadata": {},
     "output_type": "execute_result"
    }
   ],
   "source": [
    "list4=['abcd','abc','ac','a']\n",
    "output=[i for i in list4 if len(i)<3]\n",
    "output\n",
    "    "
   ]
  },
  {
   "cell_type": "code",
   "execution_count": 160,
   "id": "f34de43a-8365-4dc4-887d-1788f488ed0d",
   "metadata": {},
   "outputs": [
    {
     "data": {
      "text/plain": [
       "['odd:1', 'even:2', 'odd:3', 'even:4', 'odd:5', 'even:6']"
      ]
     },
     "execution_count": 160,
     "metadata": {},
     "output_type": "execute_result"
    }
   ],
   "source": [
    "list1=[1,2,3,4,5,6]\n",
    "output=[]\n",
    "for i in list1:\n",
    "    if i%2==0:\n",
    "        output.append('even:{}'.format(i))\n",
    "    else:\n",
    "        output.append('odd:{}'.format(i))\n",
    "        \n",
    "output\n",
    "\n",
    "#[<if output> <if condition> <else> <else output> <for loop>]"
   ]
  },
  {
   "cell_type": "code",
   "execution_count": 162,
   "id": "0729d3f9-b610-4e33-b96c-1317c5d5b909",
   "metadata": {},
   "outputs": [
    {
     "data": {
      "text/plain": [
       "['odd:1', 'even:2', 'odd:3', 'even:4', 'odd:5', 'even:6']"
      ]
     },
     "execution_count": 162,
     "metadata": {},
     "output_type": "execute_result"
    }
   ],
   "source": [
    "output1=['even:{}'.format(i) if i%2==0 else 'odd:{}'.format(i) for i in list1  ]\n",
    "output1"
   ]
  },
  {
   "cell_type": "markdown",
   "id": "abcf930f-3d89-4edf-972f-3af8582ba90d",
   "metadata": {},
   "source": [
    "### count"
   ]
  },
  {
   "cell_type": "code",
   "execution_count": 167,
   "id": "90f84a20-dbe7-488f-960a-f313fa69a3a5",
   "metadata": {},
   "outputs": [
    {
     "data": {
      "text/plain": [
       "2"
      ]
     },
     "execution_count": 167,
     "metadata": {},
     "output_type": "execute_result"
    }
   ],
   "source": [
    "list1=[1,2,3,'A','B','B','C']\n",
    "list1.count('B')"
   ]
  },
  {
   "cell_type": "code",
   "execution_count": 183,
   "id": "75fdedc1-1772-4036-93ca-289a296c9c76",
   "metadata": {},
   "outputs": [
    {
     "data": {
      "text/plain": [
       "5"
      ]
     },
     "execution_count": 183,
     "metadata": {},
     "output_type": "execute_result"
    }
   ],
   "source": [
    "list1.index('B',5,7)"
   ]
  },
  {
   "cell_type": "code",
   "execution_count": 175,
   "id": "3c042df9-b192-4430-b659-a4ca5623b3d0",
   "metadata": {},
   "outputs": [
    {
     "data": {
      "text/plain": [
       "1"
      ]
     },
     "execution_count": 175,
     "metadata": {},
     "output_type": "execute_result"
    }
   ],
   "source": [
    "list1.count('A')"
   ]
  },
  {
   "cell_type": "markdown",
   "id": "475bf345-3f35-42f9-a872-1e92a9da6dcd",
   "metadata": {},
   "source": [
    "### Extend"
   ]
  },
  {
   "cell_type": "code",
   "execution_count": 190,
   "id": "8f9a1421-26a5-414a-8d33-582831cfdbd7",
   "metadata": {},
   "outputs": [
    {
     "data": {
      "text/plain": [
       "['A', 'B', 'C', 1, 2, 3]"
      ]
     },
     "execution_count": 190,
     "metadata": {},
     "output_type": "execute_result"
    }
   ],
   "source": [
    "list1=['A','B','C']\n",
    "list2=[1,2,3]\n",
    "list1.extend(list2)\n",
    "list1\n",
    "# here list1 will be updated with list2 values"
   ]
  },
  {
   "cell_type": "code",
   "execution_count": 194,
   "id": "6e5f4716-3d00-45c3-ba4f-14b3f83ca1e0",
   "metadata": {},
   "outputs": [
    {
     "data": {
      "text/plain": [
       "['A', 'B', 'C', [1, 2, 3]]"
      ]
     },
     "execution_count": 194,
     "metadata": {},
     "output_type": "execute_result"
    }
   ],
   "source": [
    "# append\n",
    "list1=['A','B','C']\n",
    "list2=[1,2,3]\n",
    "list1.append(list2)\n",
    "list1"
   ]
  },
  {
   "cell_type": "markdown",
   "id": "ef02e8eb-f81e-4bdd-a985-581f335e4a21",
   "metadata": {},
   "source": [
    "#### append vs extend vs concat"
   ]
  },
  {
   "cell_type": "markdown",
   "id": "5a540919-440c-4dea-8bdc-77eb1df23cbd",
   "metadata": {},
   "source": [
    "- append will add the element at last , that element can be any type\n",
    "\n",
    "             - list1=['A','B','C']\n",
    "\n",
    "             - list2=[1,2,3]\n",
    "\n",
    "             - list1.append(list2)=['A', 'B', 'C', [1, 2, 3]]\n",
    "\n",
    "- extend will update the list by adding new elements , that result also save in a same list\n",
    "\n",
    "             - list1=['A','B','C']\n",
    "\n",
    "             - list2=[1,2,3]\n",
    "\n",
    "             - list1.extend(list2)=['A', 'B', 'C', 1, 2, 3]\n",
    "\n",
    "- concat will add two list , that result will not update in same list\n",
    "\n",
    "             - list1=['A','B','C']\n",
    "\n",
    "             - list2=[1,2,3]\n",
    "\n",
    "             - list1+list2=['A', 'B', 'C', 1, 2, 3]\n",
    "            "
   ]
  },
  {
   "cell_type": "markdown",
   "id": "442412e6-eb1e-468c-947a-ae52a4c4db18",
   "metadata": {},
   "source": [
    "### iterator"
   ]
  },
  {
   "cell_type": "markdown",
   "id": "0303856b-2c2f-4bb4-a36f-15dfc793771f",
   "metadata": {},
   "source": [
    "- iterator word ====> loop\n",
    "\n",
    "- The elements we can print using for loop\n"
   ]
  },
  {
   "cell_type": "code",
   "execution_count": 206,
   "id": "6d0459f7-783b-4eba-9c4e-681c7c5d5556",
   "metadata": {},
   "outputs": [
    {
     "name": "stdout",
     "output_type": "stream",
     "text": [
      "n\n",
      "o\n",
      "h\n",
      "t\n",
      "y\n",
      "p\n"
     ]
    }
   ],
   "source": [
    "a=reversed('python')\n",
    "for i in a:\n",
    "    print(i)\n",
    "\n",
    "     "
   ]
  },
  {
   "cell_type": "code",
   "execution_count": 208,
   "id": "bbda08ab-f6e7-43e4-971f-1f19193edc55",
   "metadata": {},
   "outputs": [
    {
     "data": {
      "text/plain": [
       "[1, 2, 3, 'p', 'y', 't', 'h', 'o', 'n']"
      ]
     },
     "execution_count": 208,
     "metadata": {},
     "output_type": "execute_result"
    }
   ],
   "source": [
    "list1=[1,2,3]\n",
    "list1.extend('python')\n",
    "list1"
   ]
  },
  {
   "cell_type": "markdown",
   "id": "09718d5b-db95-4940-8458-facb422c1934",
   "metadata": {},
   "source": [
    "### pop remove del"
   ]
  },
  {
   "cell_type": "code",
   "execution_count": 241,
   "id": "0ccf412f-5616-4e76-952b-691a4c88ef98",
   "metadata": {},
   "outputs": [
    {
     "data": {
      "text/plain": [
       "[1, 2, 3, 4, 5, 6]"
      ]
     },
     "execution_count": 241,
     "metadata": {},
     "output_type": "execute_result"
    }
   ],
   "source": [
    "list1=[1,2,3,4,5,6]\n",
    "list1"
   ]
  },
  {
   "cell_type": "code",
   "execution_count": 243,
   "id": "2fcf948f-46ea-4ecf-90ac-ae927d5b893d",
   "metadata": {},
   "outputs": [
    {
     "data": {
      "text/plain": [
       "4"
      ]
     },
     "execution_count": 243,
     "metadata": {},
     "output_type": "execute_result"
    }
   ],
   "source": [
    "list1.pop(3)"
   ]
  },
  {
   "cell_type": "code",
   "execution_count": 245,
   "id": "495b4eb8-3312-46b9-b293-f7fb107c33ae",
   "metadata": {},
   "outputs": [
    {
     "data": {
      "text/plain": [
       "[1, 2, 3, 5, 6]"
      ]
     },
     "execution_count": 245,
     "metadata": {},
     "output_type": "execute_result"
    }
   ],
   "source": [
    "list1"
   ]
  },
  {
   "cell_type": "code",
   "execution_count": 247,
   "id": "48a3002e-cb0c-4ff4-a177-f5178d84f9d3",
   "metadata": {},
   "outputs": [],
   "source": [
    "## remove"
   ]
  },
  {
   "cell_type": "code",
   "execution_count": 257,
   "id": "f3d69420-66f3-42d1-8cc8-a89cb50d4e8f",
   "metadata": {},
   "outputs": [
    {
     "data": {
      "text/plain": [
       "[200, 100, 500]"
      ]
     },
     "execution_count": 257,
     "metadata": {},
     "output_type": "execute_result"
    }
   ],
   "source": [
    "list5=[100,200,100,500]  # duplicates are allowed\n",
    "list5.remove(100)        # first occurence will gone\n",
    "list5                    # will not freturn any value"
   ]
  },
  {
   "cell_type": "code",
   "execution_count": 261,
   "id": "d0c19b63-4de5-4133-af3c-5e39c07a92b0",
   "metadata": {},
   "outputs": [
    {
     "data": {
      "text/plain": [
       "[1, 2, 3, 4, 5]"
      ]
     },
     "execution_count": 261,
     "metadata": {},
     "output_type": "execute_result"
    }
   ],
   "source": [
    "list6=[1,2,3,4,5,6]\n",
    "list6.remove(6)\n",
    "list6"
   ]
  },
  {
   "cell_type": "code",
   "execution_count": 263,
   "id": "8e4c9418-f9a2-49ea-b8a4-fd28c10767ae",
   "metadata": {},
   "outputs": [],
   "source": [
    "### del"
   ]
  },
  {
   "cell_type": "code",
   "execution_count": 265,
   "id": "db072c92-4451-4c37-b913-8422b4caca30",
   "metadata": {},
   "outputs": [],
   "source": [
    "del(list1)"
   ]
  },
  {
   "cell_type": "code",
   "execution_count": 267,
   "id": "4b31ce4c-9631-4a04-a241-63b7de163c11",
   "metadata": {},
   "outputs": [
    {
     "ename": "NameError",
     "evalue": "name 'list1' is not defined",
     "output_type": "error",
     "traceback": [
      "\u001b[1;31m---------------------------------------------------------------------------\u001b[0m",
      "\u001b[1;31mNameError\u001b[0m                                 Traceback (most recent call last)",
      "Cell \u001b[1;32mIn[267], line 1\u001b[0m\n\u001b[1;32m----> 1\u001b[0m list1\n",
      "\u001b[1;31mNameError\u001b[0m: name 'list1' is not defined"
     ]
    }
   ],
   "source": [
    "list1"
   ]
  },
  {
   "cell_type": "code",
   "execution_count": 269,
   "id": "7cb49836-215e-4e3c-b5c8-de8356be77f9",
   "metadata": {},
   "outputs": [],
   "source": [
    "list1=[100,200,300]\n",
    "del list1[2]"
   ]
  },
  {
   "cell_type": "code",
   "execution_count": 271,
   "id": "58265336-5f8d-4b2f-8831-1aaddf8714ad",
   "metadata": {},
   "outputs": [
    {
     "data": {
      "text/plain": [
       "[100, 200]"
      ]
     },
     "execution_count": 271,
     "metadata": {},
     "output_type": "execute_result"
    }
   ],
   "source": [
    "list1"
   ]
  },
  {
   "cell_type": "markdown",
   "id": "b653230c-ed84-4902-9e7e-d3f59fc6d622",
   "metadata": {},
   "source": [
    "- index\n",
    "- insert\n",
    "- reverse=====reversed\n",
    "- sort=======sorted"
   ]
  },
  {
   "cell_type": "code",
   "execution_count": 276,
   "id": "bb5d009a-fade-493d-b7a9-a8a699a41d2b",
   "metadata": {},
   "outputs": [
    {
     "data": {
      "text/plain": [
       "5"
      ]
     },
     "execution_count": 276,
     "metadata": {},
     "output_type": "execute_result"
    }
   ],
   "source": [
    "list1=[1,2,3,4,5,'A','b','A']\n",
    "list1.index('A')"
   ]
  },
  {
   "cell_type": "code",
   "execution_count": 284,
   "id": "451e1777-14c2-457f-9238-d08d0fe439ee",
   "metadata": {},
   "outputs": [
    {
     "data": {
      "text/plain": [
       "7"
      ]
     },
     "execution_count": 284,
     "metadata": {},
     "output_type": "execute_result"
    }
   ],
   "source": [
    "list1.index('A',6)"
   ]
  },
  {
   "cell_type": "markdown",
   "id": "fd803ab9-477a-4543-a274-e7a77914f3c1",
   "metadata": {},
   "source": [
    "## insert"
   ]
  },
  {
   "cell_type": "code",
   "execution_count": 289,
   "id": "dfd850dc-5e85-4c29-bee5-106d8b3ed2b9",
   "metadata": {},
   "outputs": [],
   "source": [
    "list1=[1,2,3,4,5,'A','b','A']\n",
    "list1.insert(5,'C')"
   ]
  },
  {
   "cell_type": "code",
   "execution_count": 291,
   "id": "3f4d6fe1-a1e7-44f0-95cf-aeb91e37c1be",
   "metadata": {},
   "outputs": [
    {
     "data": {
      "text/plain": [
       "[1, 2, 3, 4, 5, 'C', 'A', 'b', 'A']"
      ]
     },
     "execution_count": 291,
     "metadata": {},
     "output_type": "execute_result"
    }
   ],
   "source": [
    "list1"
   ]
  },
  {
   "cell_type": "markdown",
   "id": "679b73d3-b0d6-479d-a4d9-1f7aef0a511a",
   "metadata": {},
   "source": [
    "## reverse\n"
   ]
  },
  {
   "cell_type": "code",
   "execution_count": 294,
   "id": "32430583-f647-41a5-9bbc-bce514be8e09",
   "metadata": {},
   "outputs": [],
   "source": [
    "list1=[1,2,3,4,5,'A','b','A']\n",
    "list1.reverse()"
   ]
  },
  {
   "cell_type": "code",
   "execution_count": 296,
   "id": "97a69d82-962c-4107-b668-f8bb48b10061",
   "metadata": {},
   "outputs": [
    {
     "data": {
      "text/plain": [
       "['A', 'b', 'A', 5, 4, 3, 2, 1]"
      ]
     },
     "execution_count": 296,
     "metadata": {},
     "output_type": "execute_result"
    }
   ],
   "source": [
    "list1"
   ]
  },
  {
   "cell_type": "markdown",
   "id": "00d36a27-9db2-4ce5-a20b-733288c8bf8d",
   "metadata": {},
   "source": [
    "## reversed"
   ]
  },
  {
   "cell_type": "code",
   "execution_count": 308,
   "id": "5615f1d9-1818-4bfb-8974-2c655f77ca5c",
   "metadata": {},
   "outputs": [
    {
     "name": "stdout",
     "output_type": "stream",
     "text": [
      "h\n",
      "s\n",
      "e\n",
      "k\n",
      "i\n",
      "N\n"
     ]
    }
   ],
   "source": [
    "a=reversed('Nikesh')\n",
    "for i in a:\n",
    "    print(i)"
   ]
  },
  {
   "cell_type": "markdown",
   "id": "697b4ec9-ee34-4b04-b485-4df151e2f374",
   "metadata": {},
   "source": [
    "### sort"
   ]
  },
  {
   "cell_type": "code",
   "execution_count": 318,
   "id": "afbe2e99-c986-48bb-b58b-f4c36981cd30",
   "metadata": {},
   "outputs": [],
   "source": [
    "list1=[2,4,6,5,8,9,3]\n",
    "list1.sort()"
   ]
  },
  {
   "cell_type": "code",
   "execution_count": 320,
   "id": "49ce212b-a9f0-46a7-ac34-ef36f99bc0a9",
   "metadata": {},
   "outputs": [
    {
     "data": {
      "text/plain": [
       "[2, 3, 4, 5, 6, 8, 9]"
      ]
     },
     "execution_count": 320,
     "metadata": {},
     "output_type": "execute_result"
    }
   ],
   "source": [
    "list1"
   ]
  },
  {
   "cell_type": "markdown",
   "id": "50975516-f012-4298-bd33-09f0cd9cca97",
   "metadata": {},
   "source": [
    "### sorted"
   ]
  },
  {
   "cell_type": "code",
   "execution_count": 327,
   "id": "d3145832-67c0-4771-9ea9-6a7b8d2a5930",
   "metadata": {},
   "outputs": [
    {
     "name": "stdout",
     "output_type": "stream",
     "text": [
      "2\n",
      "3\n",
      "4\n",
      "4\n",
      "5\n",
      "5\n",
      "7\n",
      "8\n",
      "9\n"
     ]
    }
   ],
   "source": [
    "a=[8,7,9,4,5,3,2,4,5]\n",
    "b=sorted(a)\n",
    "for i in b:\n",
    "    print(i)\n"
   ]
  },
  {
   "cell_type": "code",
   "execution_count": 333,
   "id": "fa251119-1c91-45b4-aa63-712b65485aa4",
   "metadata": {},
   "outputs": [
    {
     "name": "stdout",
     "output_type": "stream",
     "text": [
      "Ram age is 25\n",
      "Robert age is 30\n",
      "Raheem age is 35\n"
     ]
    }
   ],
   "source": [
    "list1=['Ram','Robert','Raheem']\n",
    "list2=[25,30,35]\n",
    "for i,j in zip(list1,list2):\n",
    "    print('{} age is {}'.format(i,j))"
   ]
  },
  {
   "cell_type": "code",
   "execution_count": 341,
   "id": "101a51e4-6654-4ab7-ae83-ea16cf6b2084",
   "metadata": {},
   "outputs": [
    {
     "data": {
      "text/plain": [
       "[125, 230, 335]"
      ]
     },
     "execution_count": 341,
     "metadata": {},
     "output_type": "execute_result"
    }
   ],
   "source": [
    "list1=[100,200,300]\n",
    "list2=[25,30,35]\n",
    "# output=[125,230,335]\n",
    "output=[]\n",
    "for i,j in zip(list1,list2):\n",
    "    output.append(i+j)\n",
    "\n",
    "output"
   ]
  },
  {
   "cell_type": "code",
   "execution_count": 343,
   "id": "6ba97ec6-1e99-4b57-b21c-a018d6776b23",
   "metadata": {},
   "outputs": [
    {
     "data": {
      "text/plain": [
       "[125, 230, 335]"
      ]
     },
     "execution_count": 343,
     "metadata": {},
     "output_type": "execute_result"
    }
   ],
   "source": [
    "list1=[100,200,300]\n",
    "list2=[25,30,35]\n",
    "output=[i+j for i,j in zip(list1,list2)]\n",
    "output"
   ]
  },
  {
   "cell_type": "code",
   "execution_count": null,
   "id": "58704e70-b681-40cc-8298-e984c5b5ff67",
   "metadata": {},
   "outputs": [],
   "source": [
    "# Question and answes left"
   ]
  },
  {
   "cell_type": "code",
   "execution_count": null,
   "id": "5189c906-0c25-484d-a5bf-addcf752558c",
   "metadata": {},
   "outputs": [],
   "source": []
  }
 ],
 "metadata": {
  "kernelspec": {
   "display_name": "Python 3 (ipykernel)",
   "language": "python",
   "name": "python3"
  },
  "language_info": {
   "codemirror_mode": {
    "name": "ipython",
    "version": 3
   },
   "file_extension": ".py",
   "mimetype": "text/x-python",
   "name": "python",
   "nbconvert_exporter": "python",
   "pygments_lexer": "ipython3",
   "version": "3.12.7"
  }
 },
 "nbformat": 4,
 "nbformat_minor": 5
}
