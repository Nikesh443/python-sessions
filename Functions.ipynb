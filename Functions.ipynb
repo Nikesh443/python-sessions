{
 "cells": [
  {
   "cell_type": "markdown",
   "id": "e05adc6e-3285-4bbe-874b-2c09096022e5",
   "metadata": {},
   "source": [
    "# Functions"
   ]
  },
  {
   "cell_type": "markdown",
   "id": "398b82b7-be5a-47be-9097-735c092f4c16",
   "metadata": {},
   "source": [
    "#### Function without arguments concept"
   ]
  },
  {
   "cell_type": "code",
   "execution_count": null,
   "id": "fa282e61-4cb2-4d59-a653-3e8d1112f30c",
   "metadata": {},
   "outputs": [],
   "source": [
    "- Reuse any part of the code."
   ]
  },
  {
   "cell_type": "code",
   "execution_count": 2,
   "id": "1f9e235c-871c-4dde-a61e-dbd1c5fdbefd",
   "metadata": {},
   "outputs": [
    {
     "name": "stdout",
     "output_type": "stream",
     "text": [
      "The addition of 10 and 20 is 30.\n"
     ]
    }
   ],
   "source": [
    "n1=10\n",
    "n2=20\n",
    "add=n1+n2\n",
    "print(\"The addition of {} and {} is {}.\".format(n1,n2,add))"
   ]
  },
  {
   "cell_type": "code",
   "execution_count": null,
   "id": "f4ad16d5-d7b5-4015-8b8d-6c8428e240a5",
   "metadata": {},
   "outputs": [],
   "source": [
    "# syntax.\n",
    "\n",
    "def=definition\n",
    "def <function_name>():\n",
    "    # Write your code here.\n"
   ]
  },
  {
   "cell_type": "code",
   "execution_count": 6,
   "id": "f3ec89e9-ea80-4b58-a70f-fb239ee3c849",
   "metadata": {},
   "outputs": [],
   "source": [
    "def addition():\n",
    "    n1=10\n",
    "    n2=20\n",
    "    add=n1+n2\n",
    "    print(\"The addition of {} and {} is {}.\".format(n1,n2,add))\n",
    "    "
   ]
  },
  {
   "cell_type": "code",
   "execution_count": null,
   "id": "8a4bc4fe-e974-4a51-a14e-134fd24081ff",
   "metadata": {},
   "outputs": [],
   "source": [
    "# The output will not display until you call the function."
   ]
  },
  {
   "cell_type": "code",
   "execution_count": 8,
   "id": "602b4d26-9362-4f86-8ff7-21fb23ea35ba",
   "metadata": {},
   "outputs": [
    {
     "name": "stdout",
     "output_type": "stream",
     "text": [
      "The addition of 10 and 20 is 30.\n"
     ]
    }
   ],
   "source": [
    "addition()"
   ]
  },
  {
   "cell_type": "code",
   "execution_count": 14,
   "id": "34e41444-95b9-4389-902d-b61a008fdf6b",
   "metadata": {},
   "outputs": [],
   "source": [
    "def addition():\n",
    "    eval(input(\"Enter a number: \"))\n",
    "    print('Hello world')\n",
    "    print('I am calling function')\n",
    "    "
   ]
  },
  {
   "cell_type": "code",
   "execution_count": 16,
   "id": "dcd1bb9e-8512-4a60-a896-d733b2d51989",
   "metadata": {},
   "outputs": [
    {
     "name": "stdin",
     "output_type": "stream",
     "text": [
      "Enter a number:  10\n"
     ]
    },
    {
     "name": "stdout",
     "output_type": "stream",
     "text": [
      "Hello world\n",
      "I am calling function\n"
     ]
    }
   ],
   "source": [
    "addition()"
   ]
  },
  {
   "cell_type": "code",
   "execution_count": 18,
   "id": "570f97e9-43d9-47d3-b370-f0f2ae70b22f",
   "metadata": {},
   "outputs": [
    {
     "name": "stdout",
     "output_type": "stream",
     "text": [
      "Hello Nikesh\n"
     ]
    }
   ],
   "source": [
    "def hello():\n",
    "    print(\"Hello Nikesh\")\n",
    "hello()"
   ]
  },
  {
   "cell_type": "code",
   "execution_count": 22,
   "id": "fe04fe47-79a3-477f-982c-88ca9564fe52",
   "metadata": {},
   "outputs": [
    {
     "name": "stdin",
     "output_type": "stream",
     "text": [
      "Enter num1:  1\n",
      "Enter num2:  2\n",
      "Enter num3:  3\n"
     ]
    },
    {
     "name": "stdout",
     "output_type": "stream",
     "text": [
      "The average of 1,2 and 3 is 2.0\n"
     ]
    }
   ],
   "source": [
    "# Take three numbers and find average\n",
    "def Nikesh():\n",
    "    a=eval(input(\"Enter num1: \"))\n",
    "    b=eval(input(\"Enter num2: \"))\n",
    "    c=eval(input(\"Enter num3: \"))\n",
    "    avg=(a+b+c)/3\n",
    "    print(\"The average of {},{} and {} is {}\".format(a,b,c,avg))\n",
    "Nikesh()"
   ]
  },
  {
   "cell_type": "code",
   "execution_count": null,
   "id": "8c37441c-f3c5-4aff-8183-702feac007ff",
   "metadata": {},
   "outputs": [],
   "source": [
    "**** Note******\n",
    "  we are not sure, function is defined correct or worng\n",
    "    until unless we call the function. "
   ]
  },
  {
   "cell_type": "code",
   "execution_count": null,
   "id": "70126b4e-6cb1-4b2c-b589-dd8b31f4dcd7",
   "metadata": {},
   "outputs": [],
   "source": [
    "def Nikesh():\n",
    "    try:\n",
    "        a=eval(input(\"Enter num1: \"))\n",
    "        b=eval(input(\"Enter num2: \"))\n",
    "        c=eval(input(\"Enter num3: \"))\n",
    "        avg=(a+b+c)/3\n",
    "        print(\"The average of {},{} and {} is {}\".format(a,b,c,avg))\n",
    "\n",
    "    except Exception as e:\n",
    "        print(e)\n",
    "       \n",
    "    \n",
    "   "
   ]
  },
  {
   "cell_type": "code",
   "execution_count": 24,
   "id": "4dbca3cb-1f73-43a0-aae5-31968782c6f5",
   "metadata": {},
   "outputs": [
    {
     "name": "stdin",
     "output_type": "stream",
     "text": [
      "Enter num1:  1\n",
      "Enter num2:  2\n",
      "Enter num3:  3\n"
     ]
    },
    {
     "name": "stdout",
     "output_type": "stream",
     "text": [
      "The average of 1,2 and 3 is 2.0\n"
     ]
    }
   ],
   "source": [
    "Nikesh()"
   ]
  },
  {
   "cell_type": "code",
   "execution_count": 26,
   "id": "08d4c818-ff0d-4c3e-9dcb-42f263c52358",
   "metadata": {},
   "outputs": [
    {
     "name": "stdin",
     "output_type": "stream",
     "text": [
      "Enter the bill amount:  100\n",
      "Enter the tip amount:  50\n"
     ]
    },
    {
     "name": "stdout",
     "output_type": "stream",
     "text": [
      "The total bill is 150.\n"
     ]
    }
   ],
   "source": [
    "# WAP ask the user enter bill amount,tip amount and total amount.\n",
    "a=eval(input(\"Enter the bill amount: \"))\n",
    "b=eval(input(\"Enter the tip amount: \"))\n",
    "Total_bill=a+b\n",
    "print(\"The total bill is {}.\".format(Total_bill))\n"
   ]
  },
  {
   "cell_type": "code",
   "execution_count": 32,
   "id": "72490f1d-a568-4c93-876e-b0b6486ad609",
   "metadata": {},
   "outputs": [
    {
     "name": "stdin",
     "output_type": "stream",
     "text": [
      "Enter the bill amount:  100\n",
      "Enter the tip amount:  50\n"
     ]
    },
    {
     "name": "stdout",
     "output_type": "stream",
     "text": [
      "The total bill is 150.\n"
     ]
    }
   ],
   "source": [
    "def Nikesh():\n",
    "    try:\n",
    "        a=eval(input(\"Enter the bill amount: \"))\n",
    "        b=eval(input(\"Enter the tip amount: \"))\n",
    "        Total_bill=a+b\n",
    "        print(\"The total bill is {}.\".format(Total_bill))\n",
    "\n",
    "    except Exception as e:\n",
    "        print(e)\n",
    "Nikesh()"
   ]
  },
  {
   "cell_type": "code",
   "execution_count": 34,
   "id": "900d1f6c-3e0a-4f8d-95dc-797473e3aa17",
   "metadata": {},
   "outputs": [
    {
     "name": "stdout",
     "output_type": "stream",
     "text": [
      "The number 68 is even number. \n"
     ]
    }
   ],
   "source": [
    "# WAP ask user get a random number between 1 to 10 and find even or odd\n",
    "import random\n",
    "num=random.randint(1,100)\n",
    "if (num%2==0):\n",
    "    print(\"The number {} is even number. \".format(num))\n",
    "else:\n",
    "    print(\"The number {} is odd number.\".format(num))\n",
    "    "
   ]
  },
  {
   "cell_type": "code",
   "execution_count": 42,
   "id": "53c0bdd8-82c6-4202-80b3-d76907ebdd6f",
   "metadata": {},
   "outputs": [
    {
     "name": "stdout",
     "output_type": "stream",
     "text": [
      "The number 35 is odd number.\n"
     ]
    }
   ],
   "source": [
    "import random  # package always at top.\n",
    "def Nikesh():\n",
    "    try:\n",
    "        num=random.randint(1,100)\n",
    "        if (num%2==0):\n",
    "            print(\"The number {} is even number. \".format(num))\n",
    "        else:\n",
    "            print(\"The number {} is odd number.\".format(num))\n",
    "\n",
    "    except Exception as e:\n",
    "        print(e)\n",
    "\n",
    "Nikesh()"
   ]
  },
  {
   "cell_type": "code",
   "execution_count": 46,
   "id": "ddfc7210-1484-48bb-a3ee-6c37a7872c8f",
   "metadata": {},
   "outputs": [
    {
     "name": "stdout",
     "output_type": "stream",
     "text": [
      "mul function starts\n",
      "sub function starts\n",
      "anything remains.\n",
      "no\n",
      "then call the function.\n",
      "sub: -10\n",
      "sub is done.\n",
      "mul: 600\n",
      "mul is done.\n",
      "addition: 50\n"
     ]
    }
   ],
   "source": [
    "def addition():\n",
    "    n1=20\n",
    "    n2=30\n",
    "    print('addition:',n1+n2)\n",
    "\n",
    "print(\"mul function starts\")\n",
    "def mul():\n",
    "    n1=20\n",
    "    n2=30\n",
    "    print('mul:',n1*n2)\n",
    "    print(\"mul is done.\")\n",
    "\n",
    "print(\"sub function starts\")\n",
    "def sub():\n",
    "    n1=20\n",
    "    n2=30\n",
    "    print('sub:',n1-n2)\n",
    "    print(\"sub is done.\")\n",
    "\n",
    "print(\"anything remains.\")\n",
    "print(\"no\")\n",
    "print(\"then call the function.\")\n",
    "sub()\n",
    "mul()\n",
    "addition()\n",
    "    "
   ]
  },
  {
   "cell_type": "markdown",
   "id": "8706a529-5faa-4e53-9c4f-f20bf7b8e619",
   "metadata": {},
   "source": [
    "- if you are not mentioning any values inside the function bracket\n",
    "\n",
    "- with out arguments or with out parameters.\n",
    "\n",
    "- arguments or parameters"
   ]
  },
  {
   "cell_type": "markdown",
   "id": "5f02ceec-ed84-4f68-a136-d8dfdcd83b01",
   "metadata": {},
   "source": [
    "#### Function with arguments concept"
   ]
  },
  {
   "cell_type": "code",
   "execution_count": 58,
   "id": "964fde0c-1536-41be-83df-196c991900bc",
   "metadata": {},
   "outputs": [
    {
     "name": "stdout",
     "output_type": "stream",
     "text": [
      "The addition of 10 and 20 is 30\n"
     ]
    }
   ],
   "source": [
    "def addition():\n",
    "    n1=10\n",
    "    n2=20\n",
    "    add=n1+n2\n",
    "    print(\"The addition of {} and {} is {}\".format(n1,n2,add))\n",
    "\n",
    "addition()\n",
    "\n",
    "# 1Q) inside functions how many variables are there\n",
    "#     3variables\n",
    "# 2Q) how many user provided variables\n",
    "#     2 variables"
   ]
  },
  {
   "cell_type": "code",
   "execution_count": 60,
   "id": "1a6c6e45-7a6b-4cfe-a8c8-6d631345fadf",
   "metadata": {},
   "outputs": [
    {
     "name": "stdout",
     "output_type": "stream",
     "text": [
      "The addition of 20 and 30 is 50\n"
     ]
    }
   ],
   "source": [
    "def addition(n1,n2):  # arguments \n",
    "    add=n1+n2\n",
    "    print(\"The addition of {} and {} is {}\".format(n1,n2,add))\n",
    "\n",
    "addition(20,30)   #n1=20 n2=30"
   ]
  },
  {
   "cell_type": "code",
   "execution_count": 62,
   "id": "4d1c6f43-8bd2-4c84-bddb-cc5f1d602edc",
   "metadata": {},
   "outputs": [
    {
     "ename": "TypeError",
     "evalue": "addition() missing 1 required positional argument: 'n2'",
     "output_type": "error",
     "traceback": [
      "\u001b[1;31m---------------------------------------------------------------------------\u001b[0m",
      "\u001b[1;31mTypeError\u001b[0m                                 Traceback (most recent call last)",
      "Cell \u001b[1;32mIn[62], line 5\u001b[0m\n\u001b[0;32m      2\u001b[0m     add\u001b[38;5;241m=\u001b[39mn1\u001b[38;5;241m+\u001b[39mn2\n\u001b[0;32m      3\u001b[0m     \u001b[38;5;28mprint\u001b[39m(\u001b[38;5;124m\"\u001b[39m\u001b[38;5;124mThe addition of \u001b[39m\u001b[38;5;132;01m{}\u001b[39;00m\u001b[38;5;124m and \u001b[39m\u001b[38;5;132;01m{}\u001b[39;00m\u001b[38;5;124m is \u001b[39m\u001b[38;5;132;01m{}\u001b[39;00m\u001b[38;5;124m\"\u001b[39m\u001b[38;5;241m.\u001b[39mformat(n1,n2,add))\n\u001b[1;32m----> 5\u001b[0m addition(\u001b[38;5;241m200\u001b[39m)\n",
      "\u001b[1;31mTypeError\u001b[0m: addition() missing 1 required positional argument: 'n2'"
     ]
    }
   ],
   "source": [
    "# Error-1\n",
    "def addition(n1,n2):  # arguments \n",
    "    add=n1+n2\n",
    "    print(\"The addition of {} and {} is {}\".format(n1,n2,add))\n",
    "\n",
    "addition(200) "
   ]
  },
  {
   "cell_type": "code",
   "execution_count": 64,
   "id": "437ac09f-72bd-47bf-910c-94ac53cbd1e9",
   "metadata": {},
   "outputs": [
    {
     "ename": "TypeError",
     "evalue": "can only concatenate str (not \"int\") to str",
     "output_type": "error",
     "traceback": [
      "\u001b[1;31m---------------------------------------------------------------------------\u001b[0m",
      "\u001b[1;31mTypeError\u001b[0m                                 Traceback (most recent call last)",
      "Cell \u001b[1;32mIn[64], line 5\u001b[0m\n\u001b[0;32m      2\u001b[0m     add\u001b[38;5;241m=\u001b[39mn1\u001b[38;5;241m+\u001b[39mn2\n\u001b[0;32m      3\u001b[0m     \u001b[38;5;28mprint\u001b[39m(\u001b[38;5;124m\"\u001b[39m\u001b[38;5;124mThe addition of \u001b[39m\u001b[38;5;132;01m{}\u001b[39;00m\u001b[38;5;124m and \u001b[39m\u001b[38;5;132;01m{}\u001b[39;00m\u001b[38;5;124m is \u001b[39m\u001b[38;5;132;01m{}\u001b[39;00m\u001b[38;5;124m\"\u001b[39m\u001b[38;5;241m.\u001b[39mformat(n1,n2,add))\n\u001b[1;32m----> 5\u001b[0m addition(\u001b[38;5;124m'\u001b[39m\u001b[38;5;124mhello\u001b[39m\u001b[38;5;124m'\u001b[39m,\u001b[38;5;241m200\u001b[39m)\n",
      "Cell \u001b[1;32mIn[64], line 2\u001b[0m, in \u001b[0;36maddition\u001b[1;34m(n1, n2)\u001b[0m\n\u001b[0;32m      1\u001b[0m \u001b[38;5;28;01mdef\u001b[39;00m \u001b[38;5;21maddition\u001b[39m(n1,n2):  \u001b[38;5;66;03m# arguments \u001b[39;00m\n\u001b[1;32m----> 2\u001b[0m     add\u001b[38;5;241m=\u001b[39mn1\u001b[38;5;241m+\u001b[39mn2\n\u001b[0;32m      3\u001b[0m     \u001b[38;5;28mprint\u001b[39m(\u001b[38;5;124m\"\u001b[39m\u001b[38;5;124mThe addition of \u001b[39m\u001b[38;5;132;01m{}\u001b[39;00m\u001b[38;5;124m and \u001b[39m\u001b[38;5;132;01m{}\u001b[39;00m\u001b[38;5;124m is \u001b[39m\u001b[38;5;132;01m{}\u001b[39;00m\u001b[38;5;124m\"\u001b[39m\u001b[38;5;241m.\u001b[39mformat(n1,n2,add))\n",
      "\u001b[1;31mTypeError\u001b[0m: can only concatenate str (not \"int\") to str"
     ]
    }
   ],
   "source": [
    "# Error-2\n",
    "def addition(n1,n2):  # arguments \n",
    "    add=n1+n2\n",
    "    print(\"The addition of {} and {} is {}\".format(n1,n2,add))\n",
    "\n",
    "addition('hello',200) "
   ]
  },
  {
   "cell_type": "code",
   "execution_count": 66,
   "id": "c2be245e-919d-47e0-86b1-75c111024741",
   "metadata": {},
   "outputs": [
    {
     "ename": "TypeError",
     "evalue": "addition() takes 0 positional arguments but 2 were given",
     "output_type": "error",
     "traceback": [
      "\u001b[1;31m---------------------------------------------------------------------------\u001b[0m",
      "\u001b[1;31mTypeError\u001b[0m                                 Traceback (most recent call last)",
      "Cell \u001b[1;32mIn[66], line 5\u001b[0m\n\u001b[0;32m      2\u001b[0m     add\u001b[38;5;241m=\u001b[39mn1\u001b[38;5;241m+\u001b[39mn2\n\u001b[0;32m      3\u001b[0m     \u001b[38;5;28mprint\u001b[39m(\u001b[38;5;124m\"\u001b[39m\u001b[38;5;124mThe addition of \u001b[39m\u001b[38;5;132;01m{}\u001b[39;00m\u001b[38;5;124m and \u001b[39m\u001b[38;5;132;01m{}\u001b[39;00m\u001b[38;5;124m is \u001b[39m\u001b[38;5;132;01m{}\u001b[39;00m\u001b[38;5;124m\"\u001b[39m\u001b[38;5;241m.\u001b[39mformat(n1,n2,add))\n\u001b[1;32m----> 5\u001b[0m addition(\u001b[38;5;241m200\u001b[39m,\u001b[38;5;241m300\u001b[39m)\n",
      "\u001b[1;31mTypeError\u001b[0m: addition() takes 0 positional arguments but 2 were given"
     ]
    }
   ],
   "source": [
    "# Error-3\n",
    "def addition():  # arguments \n",
    "    add=n1+n2\n",
    "    print(\"The addition of {} and {} is {}\".format(n1,n2,add))\n",
    "\n",
    "addition(200,300) "
   ]
  },
  {
   "cell_type": "code",
   "execution_count": 94,
   "id": "36d1042f-38b0-487e-9e8f-ade566bf5659",
   "metadata": {},
   "outputs": [
    {
     "name": "stdout",
     "output_type": "stream",
     "text": [
      "num1:  20\n",
      "num2:  30\n",
      "num3:  40\n",
      "The average of 20,30 and 40 is 30.0.\n"
     ]
    }
   ],
   "source": [
    "# Find average of 3 numbers using arguments.\n",
    "def avg(a,b,c):\n",
    "    try:\n",
    "        print(\"num1: \",a)\n",
    "        print(\"num2: \",b)\n",
    "        print(\"num3: \",c)\n",
    "        avg=(a+b+c)/3\n",
    "        print(\"The average of {},{} and {} is {}.\".format(a,b,c,avg))\n",
    "    except Exception as e:\n",
    "        print(e)\n",
    "\n",
    "avg(20,30,40)"
   ]
  },
  {
   "cell_type": "code",
   "execution_count": 96,
   "id": "324325ef-6ca4-42f5-ae72-4dbd4d1152ee",
   "metadata": {},
   "outputs": [
    {
     "data": {
      "text/plain": [
       "1234"
      ]
     },
     "execution_count": 96,
     "metadata": {},
     "output_type": "execute_result"
    }
   ],
   "source": [
    "num=12345\n",
    "v1=num%10\n",
    "v11=num//10\n",
    "v11"
   ]
  },
  {
   "cell_type": "code",
   "execution_count": 100,
   "id": "7835adcb-9b41-43ab-ad1f-d81036667c8d",
   "metadata": {},
   "outputs": [
    {
     "data": {
      "text/plain": [
       "123"
      ]
     },
     "execution_count": 100,
     "metadata": {},
     "output_type": "execute_result"
    }
   ],
   "source": [
    "v2=v11%10\n",
    "v22=v11//10\n",
    "v22"
   ]
  },
  {
   "cell_type": "code",
   "execution_count": 124,
   "id": "64a9fc99-6022-47f9-be1c-2be81c39ce19",
   "metadata": {},
   "outputs": [
    {
     "name": "stdout",
     "output_type": "stream",
     "text": [
      "Bill amount:  1000\n",
      "Tip amount:  2000\n",
      "The total bill is 3000.\n"
     ]
    }
   ],
   "source": [
    "def bill(bill_amount,tip_amount):\n",
    "    try:\n",
    "        Total_bill=bill_amount+tip_amount\n",
    "        print(\"Bill amount: \",bill_amount)\n",
    "        print(\"Tip amount: \",tip_amount)\n",
    "        print(\"The total bill is {}.\".format(Total_bill))\n",
    "\n",
    "    except Exception as e:\n",
    "        print(e)\n",
    "\n",
    "bill(1000,2000)\n"
   ]
  },
  {
   "cell_type": "code",
   "execution_count": 126,
   "id": "27c74215-6e79-419a-a659-6ce19d75dd5e",
   "metadata": {},
   "outputs": [
    {
     "name": "stdin",
     "output_type": "stream",
     "text": [
      "Enter a number:  4\n"
     ]
    },
    {
     "name": "stdout",
     "output_type": "stream",
     "text": [
      "The square of 4 is 16.\n"
     ]
    }
   ],
   "source": [
    "# WAP ask the user enter a number and find square of the number\n",
    "# Using function without arguments.\n",
    "def square():\n",
    "    try:\n",
    "        a=eval(input(\"Enter a number: \"))\n",
    "        sqr=a*a\n",
    "        print(\"The square of {} is {}.\".format(a,sqr))\n",
    "\n",
    "    except Exception as e:\n",
    "        print(e)\n",
    "\n",
    "square()"
   ]
  },
  {
   "cell_type": "code",
   "execution_count": 128,
   "id": "e2b234f2-cbf8-49eb-b494-32e8cbcafa85",
   "metadata": {},
   "outputs": [
    {
     "name": "stdout",
     "output_type": "stream",
     "text": [
      "The square of 6 is 36.\n"
     ]
    }
   ],
   "source": [
    "# using function with arguments.\n",
    "def square(a):\n",
    "    try:\n",
    "        sqr=a*a\n",
    "        print(\"The square of {} is {}.\".format(a,sqr))\n",
    "\n",
    "    except Exception as e:\n",
    "        print(e)\n",
    "\n",
    "square(6)"
   ]
  },
  {
   "cell_type": "code",
   "execution_count": 3,
   "id": "d26dc91e-ca63-4afd-8cae-b90b94a163a5",
   "metadata": {},
   "outputs": [
    {
     "name": "stdin",
     "output_type": "stream",
     "text": [
      "Enter a number:  12\n"
     ]
    },
    {
     "name": "stdout",
     "output_type": "stream",
     "text": [
      "You lost.\n"
     ]
    }
   ],
   "source": [
    "# WAP ask user get random number 1 to 20 and compare them\n",
    "\n",
    "# Using function without arguments\n",
    "import random\n",
    "def nikesh():\n",
    "    try:\n",
    "        a=random.randint(1,20)\n",
    "        b=eval(input(\"Enter a number: \"))\n",
    "        if a==b:\n",
    "            print(\"You won.\")\n",
    "        else:\n",
    "            print(\"You lost.\")\n",
    "            \n",
    "    except Exception as e:\n",
    "        print(e)\n",
    "\n",
    "\n",
    "nikesh()\n",
    "     "
   ]
  },
  {
   "cell_type": "code",
   "execution_count": 9,
   "id": "6a16fdc3-fc8a-4206-abb7-8599d06381a2",
   "metadata": {},
   "outputs": [
    {
     "name": "stdin",
     "output_type": "stream",
     "text": [
      "Enter a number:  1\n"
     ]
    },
    {
     "name": "stdout",
     "output_type": "stream",
     "text": [
      "You won because random number is 1.\n"
     ]
    }
   ],
   "source": [
    "# using functions with arguments:\n",
    "import random\n",
    "def nikesh(b):\n",
    "    try:\n",
    "        a=random.randint(1,20)\n",
    "        if a==b:\n",
    "            print(\"You won because random number is {}.\".format(a))\n",
    "        else:\n",
    "            print(\"You lost because random number is {}.\".format(a))\n",
    "            \n",
    "    except Exception as e:\n",
    "        print(e)\n",
    "\n",
    "\n",
    "nikesh(eval(input('Enter a number: ')))\n",
    "\n",
    "# step-1: import random\n",
    "# step-2: function will define but will not give output\n",
    "# step-3: call the function \n"
   ]
  },
  {
   "cell_type": "code",
   "execution_count": 11,
   "id": "3a66edb2-0336-4c96-8d1e-2cd454e78ff4",
   "metadata": {},
   "outputs": [
    {
     "name": "stdin",
     "output_type": "stream",
     "text": [
      "Enter a number:  12\n"
     ]
    },
    {
     "name": "stdout",
     "output_type": "stream",
     "text": [
      "You lost because random number is 10.\n"
     ]
    }
   ],
   "source": [
    "import random\n",
    "a=random.randint(1,20)\n",
    "def nikesh(b):\n",
    "    try:\n",
    "        if a==b:\n",
    "            print(\"You won because random number is {}.\".format(a))\n",
    "        else:\n",
    "            print(\"You lost because random number is {}.\".format(a))\n",
    "            \n",
    "    except Exception as e:\n",
    "        print(e)\n",
    "\n",
    "\n",
    "nikesh(eval(input('Enter a number: ')))\n"
   ]
  },
  {
   "cell_type": "code",
   "execution_count": 13,
   "id": "f77c3d08-e726-4674-8210-bd512ab308e1",
   "metadata": {},
   "outputs": [
    {
     "data": {
      "text/plain": [
       "11"
      ]
     },
     "execution_count": 13,
     "metadata": {},
     "output_type": "execute_result"
    }
   ],
   "source": [
    "from random import randint\n",
    "randint(1,20)"
   ]
  },
  {
   "cell_type": "code",
   "execution_count": 19,
   "id": "ce36ce95-4cfe-4cbc-bdce-05c5615daaba",
   "metadata": {},
   "outputs": [
    {
     "name": "stdin",
     "output_type": "stream",
     "text": [
      "Enter a number:  12\n"
     ]
    },
    {
     "name": "stdout",
     "output_type": "stream",
     "text": [
      "You lost because random number is 10.\n"
     ]
    }
   ],
   "source": [
    "# It also works like this.\n",
    "import random\n",
    "def nikesh(a,b):\n",
    "    try:\n",
    "        if a==b:\n",
    "            print(\"You won because random number is {}.\".format(a))\n",
    "        else:\n",
    "            print(\"You lost because random number is {}.\".format(a))\n",
    "            \n",
    "    except Exception as e:\n",
    "        print(e)\n",
    "\n",
    "\n",
    "nikesh(random.randint(1,20),\n",
    "       eval(input('Enter a number: ')))"
   ]
  },
  {
   "cell_type": "code",
   "execution_count": 23,
   "id": "9a9af078-54f9-429e-a14b-2cb34efe2ee0",
   "metadata": {},
   "outputs": [
    {
     "name": "stdin",
     "output_type": "stream",
     "text": [
      "Enter a salary:  1000\n",
      "Enter the tax percentage:  10\n"
     ]
    },
    {
     "name": "stdout",
     "output_type": "stream",
     "text": [
      "The total tax to pay is 100.0.\n"
     ]
    }
   ],
   "source": [
    "# WAP ask the user enter salary.\n",
    "\n",
    "\n",
    "# using functions without arguments.\n",
    "def nikesh():\n",
    "    try:\n",
    "        salary=eval(input('Enter a salary: '))\n",
    "        tax_per=eval(input('Enter the tax percentage: '))\n",
    "        Total_tax=(tax_per*salary)/100\n",
    "        print(\"The total tax to pay is {}.\".format(Total_tax))\n",
    "\n",
    "    except Exception as e:\n",
    "        print(e)\n",
    "\n",
    "nikesh()"
   ]
  },
  {
   "cell_type": "code",
   "execution_count": 25,
   "id": "05e110d6-1f06-4219-8c26-973d6e0c06cd",
   "metadata": {},
   "outputs": [
    {
     "name": "stdin",
     "output_type": "stream",
     "text": [
      "Enter the salary:  1000\n",
      "Enter tax percentage:  10\n"
     ]
    },
    {
     "name": "stdout",
     "output_type": "stream",
     "text": [
      "The total tax to pay is 100.0.\n"
     ]
    }
   ],
   "source": [
    "# using functions with arguments.\n",
    "def nikesh(salary,tax_per):\n",
    "    try:\n",
    "        Total_tax=(tax_per*salary)/100\n",
    "        print(\"The total tax to pay is {}.\".format(Total_tax))\n",
    "\n",
    "    except Exception as e:\n",
    "        print(e)\n",
    "\n",
    "nikesh(eval(input('Enter the salary: ')),\n",
    "      eval(input('Enter tax percentage: ')))"
   ]
  },
  {
   "cell_type": "code",
   "execution_count": 27,
   "id": "f3f5ce85-f083-4bb7-99a3-e894204c4dd1",
   "metadata": {},
   "outputs": [
    {
     "name": "stdout",
     "output_type": "stream",
     "text": [
      "The total tax to pay is 400.0.\n"
     ]
    }
   ],
   "source": [
    "# If tax_per is fixed that is 20 then\n",
    "def nikesh(salary,tax_per=20):\n",
    "    try:\n",
    "        Total_tax=(tax_per*salary)/100\n",
    "        print(\"The total tax to pay is {}.\".format(Total_tax))\n",
    "\n",
    "    except Exception as e:\n",
    "        print(e)\n",
    "\n",
    "nikesh(2000)  # default parameter"
   ]
  },
  {
   "cell_type": "code",
   "execution_count": 31,
   "id": "58bcd0d0-1434-4b16-a6c5-19f0c393492d",
   "metadata": {},
   "outputs": [
    {
     "name": "stdout",
     "output_type": "stream",
     "text": [
      "The average is 30.0.\n"
     ]
    }
   ],
   "source": [
    "def avg(num1,num2,num3):\n",
    "    print(\"The average is {}.\".format((num1+num2+num3)/3))\n",
    "\n",
    "avg(20,30,40)\n"
   ]
  },
  {
   "cell_type": "code",
   "execution_count": 37,
   "id": "d61ea13d-5330-4fbb-b651-b4f5d10c56db",
   "metadata": {},
   "outputs": [
    {
     "name": "stdout",
     "output_type": "stream",
     "text": [
      "num1:  20\n",
      "num2:  30\n",
      "num3:  40\n",
      "The average is 30.0.\n"
     ]
    }
   ],
   "source": [
    "def avg(num1,num2,num3=40):  # default parameter num3=40\n",
    "    print('num1: ',num1)\n",
    "    print('num2: ',num2)\n",
    "    print('num3: ',num3)\n",
    "    print(\"The average is {}.\".format((num1+num2+num3)/3))\n",
    "\n",
    "avg(20,30)\n"
   ]
  },
  {
   "cell_type": "code",
   "execution_count": 43,
   "id": "ea562923-aa72-463d-a752-c2a49f5a43e6",
   "metadata": {},
   "outputs": [
    {
     "name": "stdout",
     "output_type": "stream",
     "text": [
      "Hello World\n"
     ]
    }
   ],
   "source": [
    "print('Hello', end=' ')\n",
    "print('World')"
   ]
  },
  {
   "cell_type": "code",
   "execution_count": 49,
   "id": "db17b606-797e-4b47-a22f-a34b469985ec",
   "metadata": {},
   "outputs": [
    {
     "ename": "SyntaxError",
     "evalue": "parameter without a default follows parameter with a default (1116235765.py, line 3)",
     "output_type": "error",
     "traceback": [
      "\u001b[1;36m  Cell \u001b[1;32mIn[49], line 3\u001b[1;36m\u001b[0m\n\u001b[1;33m    def avg(num1,num2=50,num3):  # default parameter num3=40\u001b[0m\n\u001b[1;37m                         ^\u001b[0m\n\u001b[1;31mSyntaxError\u001b[0m\u001b[1;31m:\u001b[0m parameter without a default follows parameter with a default\n"
     ]
    }
   ],
   "source": [
    "# Error:parameter without a default follows parameter with a default\n",
    "\n",
    "def avg(num1,num2=50,num3):  # default parameter num3=40\n",
    "    print('num1: ',num1)\n",
    "    print('num2: ',num2)\n",
    "    print('num3: ',num3)\n",
    "    print(\"The average is {}.\".format((num1+num2+num3)/3))\n",
    "\n",
    "avg(20,30)\n"
   ]
  },
  {
   "cell_type": "code",
   "execution_count": 51,
   "id": "ba95b748-f324-4213-8738-01b50751aee3",
   "metadata": {},
   "outputs": [
    {
     "name": "stdout",
     "output_type": "stream",
     "text": [
      "num1:  20\n",
      "num2:  30\n",
      "num3:  60\n",
      "The average is 36.666666666666664.\n"
     ]
    }
   ],
   "source": [
    "def avg(num1,num2=50,num3=60):  # default parameter num3=40\n",
    "    print('num1: ',num1)\n",
    "    print('num2: ',num2)\n",
    "    print('num3: ',num3)\n",
    "    print(\"The average is {}.\".format((num1+num2+num3)/3))\n",
    "\n",
    "avg(20,30)"
   ]
  },
  {
   "cell_type": "code",
   "execution_count": 53,
   "id": "772e4970-9fa7-4569-aa1e-c574c62c942d",
   "metadata": {},
   "outputs": [
    {
     "name": "stdout",
     "output_type": "stream",
     "text": [
      "num1:  20\n",
      "num2:  30\n",
      "num3:  60\n",
      "The average is 150.0.\n"
     ]
    }
   ],
   "source": [
    "def avg(num1,num2=50,num3=60):  # default parameter num3=40\n",
    "    print('num1: ',num1)\n",
    "    print('num2: ',num2)\n",
    "    print('num3: ',num3)\n",
    "    num3=400\n",
    "    print(\"The average is {}.\".format((num1+num2+num3)/3))\n",
    "\n",
    "avg(20,30)\n",
    "\n",
    "# while defining function num3=60\n",
    "# while calling the function num3=400\n",
    "# after enter inside the function num3=400"
   ]
  },
  {
   "cell_type": "code",
   "execution_count": 57,
   "id": "c56c490d-ed70-476e-866b-e8cc386e18cc",
   "metadata": {},
   "outputs": [
    {
     "ename": "TypeError",
     "evalue": "Random.randint() missing 2 required positional arguments: 'a' and 'b'",
     "output_type": "error",
     "traceback": [
      "\u001b[1;31m---------------------------------------------------------------------------\u001b[0m",
      "\u001b[1;31mTypeError\u001b[0m                                 Traceback (most recent call last)",
      "Cell \u001b[1;32mIn[57], line 2\u001b[0m\n\u001b[0;32m      1\u001b[0m \u001b[38;5;28;01mimport\u001b[39;00m \u001b[38;5;21;01mrandom\u001b[39;00m\n\u001b[1;32m----> 2\u001b[0m random\u001b[38;5;241m.\u001b[39mrandint()\n",
      "\u001b[1;31mTypeError\u001b[0m: Random.randint() missing 2 required positional arguments: 'a' and 'b'"
     ]
    }
   ],
   "source": [
    "import random\n",
    "random.randint()\n",
    "# expecting arguments inside bracket\n",
    "# function=method\n",
    "# There are not default paramater we need to provide values"
   ]
  },
  {
   "cell_type": "code",
   "execution_count": 59,
   "id": "52163e0f-032d-40d7-b006-5d9ff231a216",
   "metadata": {},
   "outputs": [
    {
     "data": {
      "text/plain": [
       "0j"
      ]
     },
     "execution_count": 59,
     "metadata": {},
     "output_type": "execute_result"
    }
   ],
   "source": [
    "complex()\n",
    "# There are already default parameters/arguments.\n"
   ]
  },
  {
   "cell_type": "code",
   "execution_count": 17,
   "id": "de0ca367-091b-435e-b61d-fb40adc29417",
   "metadata": {},
   "outputs": [
    {
     "name": "stdin",
     "output_type": "stream",
     "text": [
      "Enter the radius of the circle:  2\n"
     ]
    },
    {
     "name": "stdout",
     "output_type": "stream",
     "text": [
      "The area of the circle is 12.566370614359172.\n"
     ]
    }
   ],
   "source": [
    "# WAp ask the user to find the area of circle\n",
    "# function without arguments\n",
    "import math\n",
    "def nikesh():\n",
    "    try:\n",
    "        radius=eval(input(\"Enter the radius of the circle: \"))\n",
    "        pie=math.pi\n",
    "        area=pie*radius*radius\n",
    "        print(\"The area of the circle is {}.\".format(area))\n",
    "\n",
    "    except Exception as e:\n",
    "        print(e)\n",
    "\n",
    "nikesh()\n",
    "        "
   ]
  },
  {
   "cell_type": "code",
   "execution_count": 21,
   "id": "c9a83e14-22cc-4f5d-b528-9d22a769e84f",
   "metadata": {},
   "outputs": [
    {
     "name": "stdin",
     "output_type": "stream",
     "text": [
      "Enter the radius of the circle:  2\n"
     ]
    },
    {
     "name": "stdout",
     "output_type": "stream",
     "text": [
      "The area of the circle is 12.566370614359172.\n"
     ]
    }
   ],
   "source": [
    "# function with arguments\n",
    "import math\n",
    "def nikesh(radius):\n",
    "    try:\n",
    "        pie=math.pi\n",
    "        area=pie*radius*radius\n",
    "        print(\"The area of the circle is {}.\".format(area))\n",
    "\n",
    "    except Exception as e:\n",
    "        print(e)\n",
    "value=eval(input(\"Enter the radius of the circle: \"))\n",
    "nikesh(value)"
   ]
  },
  {
   "cell_type": "code",
   "execution_count": 31,
   "id": "4e20cd19-8b5e-40c4-a4ab-faadeef06b94",
   "metadata": {},
   "outputs": [
    {
     "name": "stdout",
     "output_type": "stream",
     "text": [
      "The area of the circle is 1256.6370614359173.\n"
     ]
    }
   ],
   "source": [
    "# function with default arguments\n",
    "import math\n",
    "def nikesh(pie,radius=20):\n",
    "    try:\n",
    "        area=pie*radius*radius\n",
    "        print(\"The area of the circle is {}.\".format(area))\n",
    "\n",
    "    except Exception as e:\n",
    "        print(e)\n",
    "nikesh(math.pi)"
   ]
  },
  {
   "cell_type": "markdown",
   "id": "e5059457-9e74-46f4-9ec3-e84549a00168",
   "metadata": {},
   "source": [
    "### Return"
   ]
  },
  {
   "cell_type": "code",
   "execution_count": 28,
   "id": "1d4adc66-0bc9-4525-9386-9c52f6ce5562",
   "metadata": {},
   "outputs": [
    {
     "name": "stdin",
     "output_type": "stream",
     "text": [
      "Enter the radius of the circle:  11\n"
     ]
    },
    {
     "name": "stdout",
     "output_type": "stream",
     "text": [
      "The area of the circle is 380.1327110843649.\n",
      "380.1327110843649\n",
      "3.141592653589793\n"
     ]
    }
   ],
   "source": [
    "import math\n",
    "def nikesh():\n",
    "    try:\n",
    "        radius=eval(input(\"Enter the radius of the circle: \"))\n",
    "        pie=math.pi\n",
    "        area=pie*radius*radius\n",
    "        print(\"The area of the circle is {}.\".format(area))\n",
    "        return(area,pie)\n",
    "\n",
    "    except Exception as e:\n",
    "        print(e)\n",
    "\n",
    "area,pie=nikesh()  # nikesh() will return two values\n",
    "                     # area,pie\n",
    "                     # area will store in variable: Nikesh\n",
    "                     # pie will store in variable : pie\n",
    "print(area)\n",
    "print(pie)"
   ]
  },
  {
   "cell_type": "code",
   "execution_count": 36,
   "id": "7cc230f1-5703-4b16-a143-a5b5cc47a183",
   "metadata": {},
   "outputs": [
    {
     "name": "stdout",
     "output_type": "stream",
     "text": [
      "The average of 12,13 and 14 is 13.0.\n",
      "13.0\n"
     ]
    }
   ],
   "source": [
    "# WAP ask tye user enter three numbers\n",
    "# Find the average\n",
    "# Return average value\n",
    "def nikesh(num1,num2,num3):\n",
    "    try:\n",
    "        avg=(num1+num2+num3)/3\n",
    "        print(\"The average of {},{} and {} is {}.\".format(num1,num2,num3,avg))\n",
    "        return(avg)\n",
    "        \n",
    "    except Exception as e:\n",
    "        print(e)\n",
    "avg=nikesh(12,13,14)\n",
    "print(avg)"
   ]
  },
  {
   "cell_type": "code",
   "execution_count": 38,
   "id": "0033f402-bb0a-4384-bea3-6cf3f68a633e",
   "metadata": {},
   "outputs": [
    {
     "name": "stdout",
     "output_type": "stream",
     "text": [
      "The average of 12,13 and 14 is 13.0.\n",
      "13.0\n",
      "12\n",
      "13\n"
     ]
    }
   ],
   "source": [
    "def nikesh(num1,num2,num3):\n",
    "    try:\n",
    "        avg=(num1+num2+num3)/3\n",
    "        print(\"The average of {},{} and {} is {}.\".format(num1,num2,num3,avg))\n",
    "        return(avg,num1,num2,num3)\n",
    "        \n",
    "    except Exception as e:\n",
    "        print(e)\n",
    "avg,num1,num2,num3=nikesh(12,13,14)\n",
    "print(avg)\n",
    "print(num1)\n",
    "print(num2)"
   ]
  },
  {
   "cell_type": "code",
   "execution_count": 40,
   "id": "ff5213e7-341c-4e09-b110-6a729df3d0ca",
   "metadata": {},
   "outputs": [
    {
     "data": {
      "text/plain": [
       "12"
      ]
     },
     "execution_count": 40,
     "metadata": {},
     "output_type": "execute_result"
    }
   ],
   "source": [
    "num1"
   ]
  },
  {
   "cell_type": "code",
   "execution_count": 42,
   "id": "5600b29c-d183-401a-869e-a070e40e1ac0",
   "metadata": {},
   "outputs": [
    {
     "data": {
      "text/plain": [
       "13"
      ]
     },
     "execution_count": 42,
     "metadata": {},
     "output_type": "execute_result"
    }
   ],
   "source": [
    "num2"
   ]
  },
  {
   "cell_type": "code",
   "execution_count": 44,
   "id": "b015c571-09e1-4deb-994e-1d74393ad007",
   "metadata": {},
   "outputs": [
    {
     "name": "stdin",
     "output_type": "stream",
     "text": [
      "Enter the number 1:  12\n",
      "Enter the number 2:  13\n",
      "Enter the number 3:  14\n"
     ]
    },
    {
     "name": "stdout",
     "output_type": "stream",
     "text": [
      "14 is the biggest number.\n"
     ]
    }
   ],
   "source": [
    "# WAp find the biggest numbe rof 3 numbers\n",
    "def biggest_num():\n",
    "    try:\n",
    "        a=eval(input(\"Enter the number 1: \"))\n",
    "        b=eval(input(\"Enter the number 2: \"))\n",
    "        c=eval(input(\"Enter the number 3: \"))\n",
    "        if a>b>c:\n",
    "            print(\"{} is the biggest number.\".format(a))\n",
    "        elif b>c>a:\n",
    "            print(\"{} is the biggest number.\".format(b))\n",
    "        else:\n",
    "            print(\"{} is the biggest number.\".format(c))\n",
    "\n",
    "    except Exception as e:\n",
    "        print(e)\n",
    "\n",
    "biggest_num()\n"
   ]
  },
  {
   "cell_type": "code",
   "execution_count": 48,
   "id": "4c60fa30-f4c9-4f3c-9329-f1df4df98673",
   "metadata": {},
   "outputs": [
    {
     "name": "stdout",
     "output_type": "stream",
     "text": [
      "12 is the biggest number.\n",
      "12\n"
     ]
    }
   ],
   "source": [
    "def biggest_num(a,b,c):\n",
    "    try:\n",
    "        if a>b>c:\n",
    "            print(\"{} is the biggest number.\".format(a))\n",
    "            return(a)\n",
    "        elif b>c>a:\n",
    "            print(\"{} is the biggest number.\".format(b))\n",
    "            return(b)\n",
    "        else:\n",
    "            print(\"{} is the biggest number.\".format(c))\n",
    "            return(c)\n",
    "\n",
    "    except Exception as e:\n",
    "        print(e)\n",
    "\n",
    "biggest=biggest_num(10,11,12)\n",
    "print(biggest)"
   ]
  },
  {
   "cell_type": "code",
   "execution_count": 54,
   "id": "8e7c281b-6f77-46cd-9264-3bbcf3f22a39",
   "metadata": {},
   "outputs": [
    {
     "name": "stdout",
     "output_type": "stream",
     "text": [
      "50 600 0.67\n"
     ]
    }
   ],
   "source": [
    "def add(a,b):\n",
    "    return(a+b)\n",
    "def mul(a,b):\n",
    "    return(a*b)\n",
    "def div(a,b):\n",
    "    return(a/b)\n",
    "\n",
    "val_add=add(20,30)\n",
    "val_mul=mul(20,30)\n",
    "val_div=div(20,30)\n",
    "print(val_add,val_mul,round(val_div,2))\n",
    "\n"
   ]
  },
  {
   "cell_type": "code",
   "execution_count": 58,
   "id": "854ff879-8a2c-48e7-94a6-de832c3e1be3",
   "metadata": {},
   "outputs": [
    {
     "name": "stdout",
     "output_type": "stream",
     "text": [
      "50 -10 600 0.6666666666666666\n"
     ]
    }
   ],
   "source": [
    "# Easiest way\n",
    "\n",
    "def agrr(a,b):\n",
    "    return(a+b,a-b,a*b,a/b)\n",
    "\n",
    "add,sub,mul,div=agrr(20,30)\n",
    "print(add,sub,mul,div)"
   ]
  },
  {
   "cell_type": "code",
   "execution_count": 60,
   "id": "36b5b146-a7cb-4615-8319-443cfc9bf306",
   "metadata": {},
   "outputs": [
    {
     "name": "stdout",
     "output_type": "stream",
     "text": [
      "(50, -10, 600, 0.6666666666666666)\n"
     ]
    }
   ],
   "source": [
    "def agrr(a,b):\n",
    "    return(a+b,a-b,a*b,a/b)\n",
    "\n",
    "value=agrr(20,30)\n",
    "print(value)"
   ]
  },
  {
   "cell_type": "markdown",
   "id": "7b0fc506-2bde-41cb-9444-7cd1cc6250a7",
   "metadata": {},
   "source": [
    "## Local variables"
   ]
  },
  {
   "cell_type": "code",
   "execution_count": null,
   "id": "2d4f734c-38ae-492b-99c4-3b223ade2ccf",
   "metadata": {},
   "outputs": [],
   "source": [
    "local variables:\n",
    "\n",
    "     The variables provided inside the functions is called local variables.\n",
    "\n",
    "Global variables:\n",
    "\n",
    "           The variables provided outside the function is called global variables."
   ]
  },
  {
   "cell_type": "code",
   "execution_count": 6,
   "id": "49d1ed4a-9930-4867-8c3b-3b56ac2b0331",
   "metadata": {},
   "outputs": [
    {
     "name": "stdout",
     "output_type": "stream",
     "text": [
      "30\n"
     ]
    }
   ],
   "source": [
    "def addition():\n",
    "    n1=10\n",
    "    n2=20\n",
    "    add=n1+n2\n",
    "    print(add)\n",
    "\n",
    "# Here n1 and n2 are the variables inside the function so it is called local variables.\n",
    "\n",
    "addition()"
   ]
  },
  {
   "cell_type": "code",
   "execution_count": 8,
   "id": "5290a5d5-d317-471a-911f-46cfae1c9418",
   "metadata": {},
   "outputs": [
    {
     "name": "stdout",
     "output_type": "stream",
     "text": [
      "30\n"
     ]
    }
   ],
   "source": [
    "n1=10\n",
    "n2=20\n",
    "def addition():\n",
    "    add=n1+n2\n",
    "    print(add)\n",
    "\n",
    "# Here n1 and n2 are the variables outside the function so it is called global variables.\n",
    "\n",
    "addition()"
   ]
  },
  {
   "cell_type": "code",
   "execution_count": 12,
   "id": "384926dd-273e-4182-814f-c093355bbd3b",
   "metadata": {},
   "outputs": [
    {
     "name": "stdout",
     "output_type": "stream",
     "text": [
      "20.0\n",
      "20.0\n"
     ]
    }
   ],
   "source": [
    "# Global variables\n",
    "def avg():\n",
    "    avg=(n1+n2+n3)/3\n",
    "    print(avg)\n",
    "    return(avg)\n",
    "\n",
    "n1=10\n",
    "n2=20\n",
    "n3=30\n",
    "nikesh=avg()\n",
    "print(nikesh)"
   ]
  },
  {
   "cell_type": "code",
   "execution_count": 16,
   "id": "71ca2cdb-3ee5-4557-b37f-c11501cb1ec8",
   "metadata": {},
   "outputs": [
    {
     "data": {
      "text/plain": [
       "20.0"
      ]
     },
     "execution_count": 16,
     "metadata": {},
     "output_type": "execute_result"
    }
   ],
   "source": [
    "nikesh"
   ]
  },
  {
   "cell_type": "markdown",
   "id": "298d7d4f-2cd1-4381-bca1-aca3bee0e32a",
   "metadata": {},
   "source": [
    "- Local variables are inside the functions.\n",
    "\n",
    "- local variables values can not use outside the function.\n",
    "\n",
    "- until unless you return those values"
   ]
  },
  {
   "cell_type": "code",
   "execution_count": null,
   "id": "95d6439f-5471-4536-be83-c557afdb5c30",
   "metadata": {},
   "outputs": [],
   "source": [
    "def avg():\n",
    "    avg=(n1+n2+n3)/3\n",
    "    print(avg)\n",
    "\n",
    "n1=10\n",
    "n2=20\n",
    "n3=30\n",
    "avg()"
   ]
  },
  {
   "cell_type": "code",
   "execution_count": 19,
   "id": "0cdec36c-1736-4c7f-8558-22aa9a4b4964",
   "metadata": {},
   "outputs": [
    {
     "data": {
      "text/plain": [
       "10"
      ]
     },
     "execution_count": 19,
     "metadata": {},
     "output_type": "execute_result"
    }
   ],
   "source": [
    "n1"
   ]
  },
  {
   "cell_type": "code",
   "execution_count": 21,
   "id": "3998d9f4-41bd-4169-a0d4-6c3db1deb154",
   "metadata": {},
   "outputs": [
    {
     "data": {
      "text/plain": [
       "20"
      ]
     },
     "execution_count": 21,
     "metadata": {},
     "output_type": "execute_result"
    }
   ],
   "source": [
    "n2"
   ]
  },
  {
   "cell_type": "markdown",
   "id": "f61ceedf-903a-46bb-83c0-c497abdd9705",
   "metadata": {},
   "source": [
    "- global variables are outside the functions.\n",
    "\n",
    "- global variables values can be used outside the function without returning values."
   ]
  },
  {
   "cell_type": "code",
   "execution_count": 26,
   "id": "47d0cda4-2cf9-4026-814a-f8a501654e16",
   "metadata": {},
   "outputs": [
    {
     "name": "stdout",
     "output_type": "stream",
     "text": [
      "500\n",
      "20\n"
     ]
    }
   ],
   "source": [
    "n1=20\n",
    "n2=30\n",
    "def addition():\n",
    "    n1=200\n",
    "    n2=300\n",
    "    add=n1+n2\n",
    "    print(add)\n",
    "\n",
    "addition()\n",
    "print(n1)"
   ]
  },
  {
   "cell_type": "code",
   "execution_count": 28,
   "id": "66cdb92d-f590-41af-893d-ec06013c8884",
   "metadata": {},
   "outputs": [
    {
     "name": "stdout",
     "output_type": "stream",
     "text": [
      "800\n",
      "20\n"
     ]
    }
   ],
   "source": [
    "n1=20\n",
    "n2=30\n",
    "def addition(n1):\n",
    "    n2=300\n",
    "    add=n1+n2\n",
    "    print(add)\n",
    "\n",
    "addition(500)\n",
    "print(n1)"
   ]
  },
  {
   "cell_type": "code",
   "execution_count": 32,
   "id": "a1040708-3f68-4b53-a235-74140cd194cb",
   "metadata": {},
   "outputs": [
    {
     "name": "stdout",
     "output_type": "stream",
     "text": [
      "1300\n",
      "20\n"
     ]
    }
   ],
   "source": [
    "n1=20\n",
    "n2=30\n",
    "def addition(n1=500,n2=600):\n",
    "    add=n1+n2\n",
    "    print(add)\n",
    "\n",
    "addition(800,500)\n",
    "print(n1)\n",
    "\n",
    "# Here latest value of n1 is 800 and n2 is 500"
   ]
  },
  {
   "cell_type": "code",
   "execution_count": 34,
   "id": "78c00506-1542-4362-ad7c-8914c9686cb9",
   "metadata": {},
   "outputs": [
    {
     "name": "stdout",
     "output_type": "stream",
     "text": [
      "12 is the biggest number.\n",
      "12\n"
     ]
    }
   ],
   "source": [
    "def biggest_num(a,b,c):\n",
    "    try:\n",
    "        if a>b>c:\n",
    "            print(\"{} is the biggest number.\".format(a))\n",
    "            return(a)\n",
    "        elif b>c>a:\n",
    "            print(\"{} is the biggest number.\".format(b))\n",
    "            return(b)\n",
    "        else:\n",
    "            print(\"{} is the biggest number.\".format(c))\n",
    "            return(c)\n",
    "\n",
    "    except Exception as e:\n",
    "        print(e)\n",
    "biggest=biggest_num(10,11,12)\n",
    "print(biggest)"
   ]
  },
  {
   "cell_type": "code",
   "execution_count": null,
   "id": "39a2597c-a983-41e6-9801-26a03289a5a5",
   "metadata": {},
   "outputs": [],
   "source": [
    "# We cannot use local variables values outside the function until unless we call the function\n",
    "\n",
    "# I want to use local variable outside the function with out using return statement"
   ]
  },
  {
   "cell_type": "code",
   "execution_count": null,
   "id": "cca4bc74-f645-4a1f-96bd-ce135d59be27",
   "metadata": {},
   "outputs": [],
   "source": [
    "global "
   ]
  },
  {
   "cell_type": "code",
   "execution_count": 41,
   "id": "d26383fe-1e02-4ef0-abe7-dceeeed07209",
   "metadata": {},
   "outputs": [
    {
     "name": "stdout",
     "output_type": "stream",
     "text": [
      "n1 value inside function is:  110\n",
      "110\n"
     ]
    }
   ],
   "source": [
    "num1=10\n",
    "def update():\n",
    "    global num1\n",
    "    num1=num1+100\n",
    "    print(\"n1 value inside function is: \",num1)\n",
    "\n",
    "update()\n",
    "print(num1)\n",
    "\n",
    "# without return n1, we need to get the updated value\n",
    "# we need to use local variable outside the function."
   ]
  },
  {
   "cell_type": "code",
   "execution_count": 43,
   "id": "9a697ac0-dadf-4408-a2c0-1ab760f36680",
   "metadata": {},
   "outputs": [
    {
     "data": {
      "text/plain": [
       "110"
      ]
     },
     "execution_count": 43,
     "metadata": {},
     "output_type": "execute_result"
    }
   ],
   "source": [
    "num1"
   ]
  },
  {
   "cell_type": "code",
   "execution_count": 45,
   "id": "e5e845c0-3128-4416-b98e-e868052c1c4b",
   "metadata": {},
   "outputs": [
    {
     "name": "stdin",
     "output_type": "stream",
     "text": [
      "Enter the num1:  12\n",
      "Enter the num2:  13\n"
     ]
    },
    {
     "name": "stdout",
     "output_type": "stream",
     "text": [
      "The addition of 12 and 13 is 25.\n",
      "12\n",
      "13\n",
      "25\n"
     ]
    }
   ],
   "source": [
    "# without returning get the values\n",
    "def nikesh():\n",
    "    global n11,n22,add\n",
    "    n11=eval(input(\"Enter the num1: \"))\n",
    "    n22=eval(input(\"Enter the num2: \"))\n",
    "    add=n11+n22\n",
    "    print(\"The addition of {} and {} is {}.\".format(n11,n22,add))\n",
    "\n",
    "nikesh()\n",
    "print(n11)\n",
    "print(n22)\n",
    "print(add)"
   ]
  },
  {
   "cell_type": "code",
   "execution_count": 59,
   "id": "08c2bb23-54eb-4b41-837e-cf75b2738d26",
   "metadata": {},
   "outputs": [
    {
     "name": "stdout",
     "output_type": "stream",
     "text": [
      "45\n"
     ]
    }
   ],
   "source": [
    "# by using return values\n",
    "def nikesh(n11,n22):\n",
    "    return(n11+n22)\n",
    "\n",
    "add=nikesh(22,23)\n",
    "print(add)\n"
   ]
  },
  {
   "cell_type": "markdown",
   "id": "724566b1-e51e-431a-9e71-5d69b5ee1e2d",
   "metadata": {},
   "source": [
    "## Function in function"
   ]
  },
  {
   "cell_type": "code",
   "execution_count": 62,
   "id": "34ea64bd-ce29-4608-afb6-45c0bbe7219a",
   "metadata": {},
   "outputs": [
    {
     "name": "stdout",
     "output_type": "stream",
     "text": [
      "Hello\n",
      "python\n"
     ]
    }
   ],
   "source": [
    "def greet():\n",
    "    print(\"Hello\")\n",
    "\n",
    "def name():\n",
    "    print('python')\n",
    "\n",
    "greet()\n",
    "name()"
   ]
  },
  {
   "cell_type": "code",
   "execution_count": 77,
   "id": "e38da61b-ab62-4625-b80b-7910dedf43a6",
   "metadata": {},
   "outputs": [
    {
     "name": "stdout",
     "output_type": "stream",
     "text": [
      "python\n",
      "Hello\n"
     ]
    }
   ],
   "source": [
    "def greet():\n",
    "    print(\"Hello\")\n",
    "\n",
    "def name():\n",
    "    print('python')\n",
    "    greet()\n",
    "    \n",
    "name()"
   ]
  },
  {
   "cell_type": "code",
   "execution_count": 73,
   "id": "05b19bbc-a314-4529-8790-eede10d10188",
   "metadata": {},
   "outputs": [
    {
     "name": "stdout",
     "output_type": "stream",
     "text": [
      "Hello\n",
      "Python\n"
     ]
    }
   ],
   "source": [
    "def greet():\n",
    "    print('Hello')\n",
    "    name()\n",
    "\n",
    "def name():\n",
    "    print('Python')\n",
    "\n",
    "greet()\n",
    "\n"
   ]
  },
  {
   "cell_type": "code",
   "execution_count": 79,
   "id": "2f43c325-215d-4d03-9b02-a431c6bbb69e",
   "metadata": {},
   "outputs": [
    {
     "name": "stdout",
     "output_type": "stream",
     "text": [
      "Hello\n",
      "Python\n"
     ]
    }
   ],
   "source": [
    "def greet():\n",
    "    print('Hello')\n",
    "    name()\n",
    "\n",
    "def name():\n",
    "    print('Python')\n",
    "\n",
    "greet()\n",
    "\n",
    "\n"
   ]
  },
  {
   "cell_type": "code",
   "execution_count": 87,
   "id": "d6b530b4-c392-45c5-a1fa-6451cec578ba",
   "metadata": {},
   "outputs": [
    {
     "name": "stdout",
     "output_type": "stream",
     "text": [
      "3\n",
      "10+10\n",
      "20\n",
      "Hello\n",
      "python\n",
      "3+5\n",
      "8\n",
      "Hello\n",
      "python\n",
      "good\n"
     ]
    }
   ],
   "source": [
    "print(3)             # 3 , ('10+10'), 20, hello,python, ('3+5'), 8, hello,python, good\n",
    "\n",
    "def fun1():\n",
    "    print('Hello')\n",
    "    print('python')\n",
    "\n",
    "print('10+10')\n",
    "def fun2():\n",
    "    print('3+5')\n",
    "    print(3+5)\n",
    "    fun1()\n",
    "    print('good')\n",
    "\n",
    "print(10+10)\n",
    "def fun3():\n",
    "    fun1()\n",
    "    fun2()\n",
    "\n",
    "fun3()\n",
    "\n"
   ]
  },
  {
   "cell_type": "code",
   "execution_count": 106,
   "id": "e614d7d7-ea67-41f9-89f0-b6046def4e87",
   "metadata": {},
   "outputs": [
    {
     "name": "stdin",
     "output_type": "stream",
     "text": [
      "Enter a number 1:  12\n",
      "Enter a number 2:  13\n",
      "Enter the operation you want:  1\n"
     ]
    },
    {
     "name": "stdout",
     "output_type": "stream",
     "text": [
      "25\n"
     ]
    }
   ],
   "source": [
    "a=eval(input(\"Enter a number 1: \"))\n",
    "b=eval(input(\"Enter a number 2: \"))\n",
    "def add(a,b):\n",
    "    print(a+b)\n",
    "\n",
    "def sub(a,b):\n",
    "    print(a-b)\n",
    "\n",
    "def mul(a,b):\n",
    "    print(a*b)\n",
    "\n",
    "def div(a,b):\n",
    "    print(a/b)\n",
    "\n",
    "def main():\n",
    "    operation=input('Enter the operation you want: ')\n",
    "    if operation=='1':\n",
    "        add(a,b)\n",
    "\n",
    "    elif operation=='2':\n",
    "        sub(a,b)\n",
    "\n",
    "    elif operation=='3':\n",
    "        mul(a,b)\n",
    "\n",
    "    else:\n",
    "        div(a,b)\n",
    "main()\n"
   ]
  },
  {
   "cell_type": "code",
   "execution_count": null,
   "id": "f0689e37-cff1-46cd-9287-6018f57a275d",
   "metadata": {},
   "outputs": [],
   "source": []
  }
 ],
 "metadata": {
  "kernelspec": {
   "display_name": "Python 3 (ipykernel)",
   "language": "python",
   "name": "python3"
  },
  "language_info": {
   "codemirror_mode": {
    "name": "ipython",
    "version": 3
   },
   "file_extension": ".py",
   "mimetype": "text/x-python",
   "name": "python",
   "nbconvert_exporter": "python",
   "pygments_lexer": "ipython3",
   "version": "3.12.7"
  }
 },
 "nbformat": 4,
 "nbformat_minor": 5
}
