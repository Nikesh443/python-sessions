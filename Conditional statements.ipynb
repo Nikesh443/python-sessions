{
 "cells": [
  {
   "cell_type": "code",
   "execution_count": null,
   "id": "6ceb50a9-7bdf-4284-b5ef-c1dda7771a98",
   "metadata": {},
   "outputs": [],
   "source": [
    "# Conditional statements\n",
    "name=\"python\"\n",
    "if <condition>:\n",
    "    # sta-1\n",
    "    code\n",
    "else:\n",
    "    #code\n",
    "\n",
    "\n"
   ]
  },
  {
   "cell_type": "code",
   "execution_count": 1,
   "id": "07c28f09-dfe7-411e-aaef-79d73a3fa45a",
   "metadata": {},
   "outputs": [
    {
     "name": "stdout",
     "output_type": "stream",
     "text": [
      "Won\n"
     ]
    }
   ],
   "source": [
    "name='python'\n",
    "if name=='python':\n",
    "    print(\"Won\")\n",
    "else:\n",
    "    print(\"Lose\")"
   ]
  },
  {
   "cell_type": "code",
   "execution_count": 3,
   "id": "e6eb263a-cb59-46ef-8a35-9c0b777b0dd3",
   "metadata": {},
   "outputs": [
    {
     "name": "stdout",
     "output_type": "stream",
     "text": [
      "Lose\n"
     ]
    }
   ],
   "source": [
    "name='nikesh'\n",
    "if name=='python':\n",
    "    print(\"Won\")\n",
    "else:\n",
    "    print(\"Lose\")"
   ]
  },
  {
   "cell_type": "code",
   "execution_count": null,
   "id": "f91ed6ac-5cf8-4a49-a705-b2bffff09785",
   "metadata": {},
   "outputs": [],
   "source": [
    "a=10 # value 10 stored in variable 'a'.\n",
    "a==10 # the value of a is really equal to 10."
   ]
  },
  {
   "cell_type": "code",
   "execution_count": 5,
   "id": "f2e02a1b-8423-4993-8e83-1ed4224c99df",
   "metadata": {},
   "outputs": [
    {
     "data": {
      "text/plain": [
       "True"
      ]
     },
     "execution_count": 5,
     "metadata": {},
     "output_type": "execute_result"
    }
   ],
   "source": [
    "name='python'\n",
    "name=='python'"
   ]
  },
  {
   "cell_type": "code",
   "execution_count": 7,
   "id": "c0152c58-5bb0-491b-ad55-2a3879fa9cef",
   "metadata": {},
   "outputs": [
    {
     "data": {
      "text/plain": [
       "False"
      ]
     },
     "execution_count": 7,
     "metadata": {},
     "output_type": "execute_result"
    }
   ],
   "source": [
    "name='pythonn'\n",
    "name=='python'"
   ]
  },
  {
   "cell_type": "code",
   "execution_count": 11,
   "id": "5ac39d2a-400b-48cd-be77-6b44c076ac6c",
   "metadata": {},
   "outputs": [
    {
     "name": "stdout",
     "output_type": "stream",
     "text": [
      "70\n"
     ]
    }
   ],
   "source": [
    "name='Nikesh'\n",
    "if name=='Nikesh':\n",
    "    a=10\n",
    "    b=20\n",
    "    c=40\n",
    "    print(a+b+c)\n",
    "else:\n",
    "    print(20+40+50)"
   ]
  },
  {
   "cell_type": "code",
   "execution_count": 13,
   "id": "9ac361d7-ca4a-4298-b8c2-004dbbd5ff66",
   "metadata": {},
   "outputs": [
    {
     "name": "stdout",
     "output_type": "stream",
     "text": [
      "110\n"
     ]
    }
   ],
   "source": [
    "name='Nikeshh'\n",
    "if name=='Nikesh':\n",
    "    a=10\n",
    "    b=20\n",
    "    c=40\n",
    "    print(a+b+c)\n",
    "else:\n",
    "    print(20+40+50)"
   ]
  },
  {
   "cell_type": "code",
   "execution_count": 20,
   "id": "9c96f18a-ce42-4931-9b85-3a7069cc9bc5",
   "metadata": {},
   "outputs": [
    {
     "name": "stdin",
     "output_type": "stream",
     "text": [
      "Enter a num1:  10\n",
      "Enter a num2:  10\n"
     ]
    },
    {
     "name": "stdout",
     "output_type": "stream",
     "text": [
      "The addition of 10 and 10 is 20.\n"
     ]
    }
   ],
   "source": [
    "num1=eval(input(\"Enter a num1: \"))\n",
    "num2=eval(input(\"Enter a num2: \"))\n",
    "if num1==num2:\n",
    "    print(\"The addition of {} and {} is {}.\".format(num1,num2,num1+num2))\n",
    "else:\n",
    "    print(\"The multiplication of {} and {} is {}.\".format(num1,num2,num1*num2))"
   ]
  },
  {
   "cell_type": "code",
   "execution_count": 22,
   "id": "3cbb1396-26d8-4671-ae01-cd6f9272cd7d",
   "metadata": {},
   "outputs": [
    {
     "name": "stdin",
     "output_type": "stream",
     "text": [
      "Enter a num1:  10\n",
      "Enter a num2:  20\n"
     ]
    },
    {
     "name": "stdout",
     "output_type": "stream",
     "text": [
      "The multiplication of 10 and 20 is 200.\n"
     ]
    }
   ],
   "source": [
    "num1=eval(input(\"Enter a num1: \"))\n",
    "num2=eval(input(\"Enter a num2: \"))\n",
    "if num1==num2:\n",
    "    print(\"The addition of {} and {} is {}.\".format(num1,num2,num1+num2))\n",
    "else:\n",
    "    print(\"The multiplication of {} and {} is {}.\".format(num1,num2,num1*num2))"
   ]
  },
  {
   "cell_type": "code",
   "execution_count": 26,
   "id": "d6d8701e-2e75-4c83-90ee-3dc6ef8ab419",
   "metadata": {},
   "outputs": [
    {
     "name": "stdin",
     "output_type": "stream",
     "text": [
      "Enter a number: 10\n"
     ]
    },
    {
     "name": "stdout",
     "output_type": "stream",
     "text": [
      "The number 10 is even.\n"
     ]
    }
   ],
   "source": [
    "# WAP ask the user enter a number\n",
    "# Find the number is even or odd\n",
    "a=eval(input(\"Enter a number:\"))\n",
    "if (a%2==0):\n",
    "     print(\"The number {} is even.\".format(a))\n",
    "      \n",
    "else:\n",
    "    print(\"The number {} is odd.\".format(a))\n",
    "      \n",
    "      "
   ]
  },
  {
   "cell_type": "code",
   "execution_count": 36,
   "id": "b8fa7865-ff96-4a8e-9ac1-d18089d5a342",
   "metadata": {},
   "outputs": [
    {
     "name": "stdin",
     "output_type": "stream",
     "text": [
      "Enter a number: python\n"
     ]
    },
    {
     "name": "stdout",
     "output_type": "stream",
     "text": [
      "name 'python' is not defined\n"
     ]
    }
   ],
   "source": [
    "try:\n",
    "   a=eval(input(\"Enter a number:\"))\n",
    "   if (a%2==0):\n",
    "       print(\"The number {} is even.\".format(a))\n",
    "   else:\n",
    "       print(\"The number {} is odd.\".format(a))\n",
    "\n",
    "except Exception as e:\n",
    "    print(e)\n",
    "    \n"
   ]
  },
  {
   "cell_type": "code",
   "execution_count": 40,
   "id": "729e8157-5151-4949-8353-04595ecc970a",
   "metadata": {},
   "outputs": [
    {
     "name": "stdin",
     "output_type": "stream",
     "text": [
      "Enter a number: 11\n"
     ]
    },
    {
     "name": "stdout",
     "output_type": "stream",
     "text": [
      "The number 11 is odd.\n"
     ]
    }
   ],
   "source": [
    "a=eval(input(\"Enter a number:\"))\n",
    "if (a%2!=0):\n",
    "     print(\"The number {} is odd.\".format(a))\n",
    "      \n",
    "else:\n",
    "    print(\"The number {} is even.\".format(a))\n",
    "      "
   ]
  },
  {
   "cell_type": "code",
   "execution_count": 44,
   "id": "53fd80d1-7bf4-4087-9174-9d2903fa0242",
   "metadata": {},
   "outputs": [
    {
     "name": "stdout",
     "output_type": "stream",
     "text": [
      "The number 19 is odd number.\n"
     ]
    }
   ],
   "source": [
    "# WAP get a random number between 1 to 50\n",
    "# and check it is an even number or odd number\n",
    "import random\n",
    "a=random.randint(1,50)\n",
    "if (a%2==0):\n",
    "    print(\"The number {} is even number.\".format(a))\n",
    "\n",
    "else:\n",
    "    print(\"The number {} is odd number.\".format(a))\n"
   ]
  },
  {
   "cell_type": "code",
   "execution_count": 68,
   "id": "816ab0c4-79de-4b20-a474-ddbd84e753bd",
   "metadata": {},
   "outputs": [
    {
     "name": "stdout",
     "output_type": "stream",
     "text": [
      "79\n",
      "You won\n"
     ]
    }
   ],
   "source": [
    "# WAP get a random number between 1 to 200\n",
    "# print you won, if number between 10 to 99\n",
    "# other wise lost\n",
    "\n",
    "import random\n",
    "a=random.randint(1,200)\n",
    "if a>=10 and a<=99:\n",
    "    print(a)\n",
    "    print(\"You won\")\n",
    "\n",
    "else:\n",
    "    print(a)\n",
    "    print(\"You lose\")\n"
   ]
  },
  {
   "cell_type": "code",
   "execution_count": 83,
   "id": "9f239294-a37e-4d24-a0b2-9b92add41f05",
   "metadata": {},
   "outputs": [
    {
     "name": "stdout",
     "output_type": "stream",
     "text": [
      "26\n",
      "You won\n"
     ]
    }
   ],
   "source": [
    "# Alternative process\n",
    "import random\n",
    "a=random.randint(1,200)\n",
    "if (10<a<99):\n",
    "    print(a)\n",
    "    print(\"You won\")\n",
    "\n",
    "else:\n",
    "    print(a)\n",
    "    print(\"You lose\")"
   ]
  },
  {
   "cell_type": "code",
   "execution_count": 91,
   "id": "654a123d-cdba-4a99-b888-c64a12830f19",
   "metadata": {},
   "outputs": [
    {
     "name": "stdin",
     "output_type": "stream",
     "text": [
      "Enter a number:  -1\n"
     ]
    },
    {
     "name": "stdout",
     "output_type": "stream",
     "text": [
      "The number -1 is negative.\n"
     ]
    }
   ],
   "source": [
    "# WAP ask user enter a number\n",
    "# find it is positive or negative number\n",
    "try:\n",
    "    a=eval(input(\"Enter a number: \"))\n",
    "    if a>0:\n",
    "        print(\"The number {} is positive.\".format(a))\n",
    "    else:\n",
    "        print(\"The number {} is negative.\".format(a))\n",
    "\n",
    "except Exception as e:\n",
    "    print(e)"
   ]
  },
  {
   "cell_type": "code",
   "execution_count": 95,
   "id": "7a802438-920a-4a1c-a0a6-b2b5236b7841",
   "metadata": {},
   "outputs": [
    {
     "name": "stdin",
     "output_type": "stream",
     "text": [
      "Enter a number:  0\n"
     ]
    },
    {
     "name": "stdout",
     "output_type": "stream",
     "text": [
      "The number 0 is zero.\n"
     ]
    }
   ],
   "source": [
    "# elif condition.\n",
    "try:\n",
    "    a=eval(input(\"Enter a number: \"))\n",
    "    if a>0:\n",
    "        print(\"The number {} is positive.\".format(a))\n",
    "\n",
    "    elif a==0:\n",
    "        print(\"The number {} is zero.\".format(a))\n",
    "    else:\n",
    "        print(\"The number {} is negative.\".format(a))\n",
    "\n",
    "except Exception as e:\n",
    "    print(e)"
   ]
  },
  {
   "cell_type": "code",
   "execution_count": 105,
   "id": "24332a2c-3014-4e3b-863e-15615636db1a",
   "metadata": {},
   "outputs": [
    {
     "name": "stdin",
     "output_type": "stream",
     "text": [
      "Enter the percentage of marks:  100\n"
     ]
    },
    {
     "name": "stdout",
     "output_type": "stream",
     "text": [
      "A\n"
     ]
    }
   ],
   "source": [
    "# WAP ask the user percentage of marks\n",
    "try:\n",
    "    a=eval(input(\"Enter the percentage of marks: \"))\n",
    "    if a>90:\n",
    "        print(\"A\")\n",
    "\n",
    "    elif a>=70 and a<=90:\n",
    "        print(\"B\")\n",
    "\n",
    "    elif a>=50 and a<=70:\n",
    "        print(\"C\")\n",
    "\n",
    "    else:\n",
    "        print(\"D\")\n",
    "\n",
    "except Exception as e:\n",
    "    print(e)\n",
    "\n"
   ]
  },
  {
   "cell_type": "code",
   "execution_count": 5,
   "id": "afd7bb62-df56-4f95-aa82-c53864d3b47c",
   "metadata": {},
   "outputs": [
    {
     "name": "stdin",
     "output_type": "stream",
     "text": [
      "Enter the age:  12\n"
     ]
    },
    {
     "name": "stdout",
     "output_type": "stream",
     "text": [
      "child\n"
     ]
    }
   ],
   "source": [
    "# WAP ask the user enter the age\n",
    "try:\n",
    "    age=eval(input(\"Enter the age: \"))\n",
    "    if age>=60:\n",
    "        print(\"SC\")\n",
    "    elif age>=45:\n",
    "        print(\"aged\")\n",
    "    elif age>=30:\n",
    "        print(\"MA\")\n",
    "    elif age>=20:\n",
    "        print(\"young\")\n",
    "    elif age>=13:\n",
    "        print(\"teenage\")\n",
    "    else:\n",
    "        print(\"child\")\n",
    "\n",
    "except Exception as e:\n",
    "    print(e)\n",
    "    "
   ]
  },
  {
   "cell_type": "code",
   "execution_count": 9,
   "id": "f09ca9b6-a2b3-419b-9579-e7373425faf1",
   "metadata": {},
   "outputs": [
    {
     "name": "stdin",
     "output_type": "stream",
     "text": [
      "Enter the distance in km. 2\n"
     ]
    },
    {
     "name": "stdout",
     "output_type": "stream",
     "text": [
      "charge is RS 30.\n"
     ]
    }
   ],
   "source": [
    "# WAP ask the user enter the distance in km.\n",
    "# if distance is more than 10km print charge is rs 100\n",
    "# if distance is between 7 to 10km print charge is rs 70\n",
    "# if distance is between 4 to 7km print charge is rs 40\n",
    "# oyherwise print charge is rs 30.\n",
    "\n",
    "a=eval(input(\"Enter the distance in km.\"))\n",
    "if a>=10:\n",
    "    print(\"charge is RS 100.\")\n",
    "elif a>=7:\n",
    "    print(\"charge is RS 70.\")\n",
    "elif a>=4:\n",
    "    print(\"charge is RS 40.\")\n",
    "else:\n",
    "    print(\"charge is RS 30.\")"
   ]
  },
  {
   "cell_type": "code",
   "execution_count": 15,
   "id": "13da3bd0-e9f0-4078-804f-a2fa4f303532",
   "metadata": {},
   "outputs": [
    {
     "name": "stdin",
     "output_type": "stream",
     "text": [
      "Enter the salary in Lakhs:  3\n"
     ]
    },
    {
     "name": "stdout",
     "output_type": "stream",
     "text": [
      "Tax not required.\n"
     ]
    }
   ],
   "source": [
    "# WAP ask the user enter the salary.\n",
    "salary=eval(input(\"Enter the salary in Lakhs: \"))\n",
    "if salary>=10:\n",
    "    tax_per=eval(input(\"Enter the tax percentage: \"))\n",
    "    amount=(salary*tax_per)/100\n",
    "    print(\"The amount of tax paid in lakhs is {}.\".format(amount))\n",
    "elif salary>=7:\n",
    "    tax_per=eval(input(\"Enter the tax percentage: \"))\n",
    "    amount=(salary*tax_per)/100\n",
    "    print(\"The amount of tax paid in lakhs is {}.\".format(amount))\n",
    "elif salary>=4:\n",
    "    tax_per=eval(input(\"Enter the tax percentage: \"))\n",
    "    amount=(salary*tax_per)/100\n",
    "    print(\"The amount of tax paid in lakhs is {}.\".format(amount))\n",
    "\n",
    "else:\n",
    "    print(\"Tax not required.\")\n",
    "    \n",
    "    \n",
    "    "
   ]
  },
  {
   "cell_type": "code",
   "execution_count": 23,
   "id": "df491dbc-124b-498f-a21b-b0d18e34b654",
   "metadata": {},
   "outputs": [
    {
     "name": "stdin",
     "output_type": "stream",
     "text": [
      "Enter the operation you need to perform:  addition\n",
      "Enter the num 1:  10\n",
      "Enter the num 2:  20\n"
     ]
    },
    {
     "name": "stdout",
     "output_type": "stream",
     "text": [
      "We are doing addition operation.\n",
      "The addition of 10 and 20 is 30.\n"
     ]
    }
   ],
   "source": [
    "# WAP ask the user enter which operation you need to perfom.\n",
    "try:\n",
    "    operation=input(\"Enter the operation you need to perform: \")\n",
    "    num1=eval(input(\"Enter the num 1: \"))\n",
    "    num2=eval(input(\"Enter the num 2: \"))\n",
    "    if operation=='addition':\n",
    "        print(\"We are doing addition operation.\")\n",
    "        print(\"The addition of {} and {} is {}.\".format(num1,num2,num1+num2))\n",
    "    elif operation=='multiplication':\n",
    "        print(\"We are doing multiplication operation.\")\n",
    "        print(\"The multiplication of {} and {} is {}.\".format(num1,num2,num1*num2))\n",
    "    elif operation=='subtraction':\n",
    "         print(\"We are doing subtraction operation.\")\n",
    "         print(\"The subtraction of {} and {} is {}.\".format(num1,num2,num1-num2))\n",
    "    \n",
    "    elif operation=='division':\n",
    "        print(\"We are doing division operation.\")\n",
    "        print(\"The division of {} and {} is {}.\".format(num1,num2,num1/num2))\n",
    "    \n",
    "    else:\n",
    "        print(\"provide suitable operation.\")\n",
    "\n",
    "except Exception as e:\n",
    "    print(e)\n",
    "    \n",
    "    "
   ]
  },
  {
   "cell_type": "code",
   "execution_count": 31,
   "id": "1fe120ec-2062-42f5-ad90-b5d1e000fdd4",
   "metadata": {},
   "outputs": [
    {
     "name": "stdin",
     "output_type": "stream",
     "text": [
      "Enter the number:  -1\n"
     ]
    },
    {
     "name": "stdout",
     "output_type": "stream",
     "text": [
      "The number is negative number.\n"
     ]
    }
   ],
   "source": [
    "# WAP ask the user enter the number.\n",
    "\n",
    "num=eval(input(\"Enter the number: \"))\n",
    "if num>=0:\n",
    "    if num==0:\n",
    "        print(\"The number is zero.\")\n",
    "    else:\n",
    "        print(\"The number is positive number.\")\n",
    "\n",
    "else:\n",
    "    print(\"The number is negative number.\")"
   ]
  },
  {
   "cell_type": "code",
   "execution_count": 48,
   "id": "6e6f0bb8-c503-4df7-9bc6-67ec2b8ca4ae",
   "metadata": {},
   "outputs": [
    {
     "name": "stdin",
     "output_type": "stream",
     "text": [
      "Enter the gender:  male\n",
      "Enter the age:  20\n"
     ]
    },
    {
     "name": "stdout",
     "output_type": "stream",
     "text": [
      "Young boy\n"
     ]
    }
   ],
   "source": [
    "# WAP ask enter gender either male and female.\n",
    "try:\n",
    "    gender=input(\"Enter the gender: \")\n",
    "    if gender=='male':\n",
    "        age=eval(input(\"Enter the age: \"))\n",
    "        if age>=60:\n",
    "            print(\"SC\")\n",
    "        elif age>=30:\n",
    "            print(\"MA\")\n",
    "        elif age>=20:\n",
    "            print(\"Young boy\")\n",
    "        elif age>13:\n",
    "            print(\"teenage boy\")\n",
    "        else:\n",
    "            print(\"boy\")\n",
    "    elif gender=='female':\n",
    "        age=eval(input(\"Enter the age: \"))\n",
    "        if age>=60:\n",
    "            print(\"SC\")\n",
    "        elif age>=30:\n",
    "            print(\"MA\")\n",
    "        elif age>=20:\n",
    "            print(\"Young girl\")\n",
    "        elif age>13:\n",
    "            print(\"teenage girl\")\n",
    "        else:\n",
    "            print(\"girl\")\n",
    "    \n",
    "    else:\n",
    "        print(\"invalid gender\")\n",
    "\n",
    "except Exception as e:\n",
    "    print(e)\n",
    "    "
   ]
  },
  {
   "cell_type": "code",
   "execution_count": null,
   "id": "95ec450c-3436-49c5-8b5a-6ca40b76e9ed",
   "metadata": {},
   "outputs": [],
   "source": []
  }
 ],
 "metadata": {
  "kernelspec": {
   "display_name": "Python 3 (ipykernel)",
   "language": "python",
   "name": "python3"
  },
  "language_info": {
   "codemirror_mode": {
    "name": "ipython",
    "version": 3
   },
   "file_extension": ".py",
   "mimetype": "text/x-python",
   "name": "python",
   "nbconvert_exporter": "python",
   "pygments_lexer": "ipython3",
   "version": "3.12.7"
  }
 },
 "nbformat": 4,
 "nbformat_minor": 5
}
