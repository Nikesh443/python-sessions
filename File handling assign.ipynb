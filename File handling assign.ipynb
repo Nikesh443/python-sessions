{
 "cells": [
  {
   "cell_type": "code",
   "execution_count": 7,
   "id": "4374f634-efd1-45c7-9589-021f59594545",
   "metadata": {},
   "outputs": [
    {
     "data": {
      "text/plain": [
       "'C:\\\\Users\\\\pc\\\\Documents\\\\emails.txt'"
      ]
     },
     "execution_count": 7,
     "metadata": {},
     "output_type": "execute_result"
    }
   ],
   "source": [
    "file_name='emails'\n",
    "file_location='C:\\\\Users\\\\pc\\\\Documents'\n",
    "file_path='C:\\\\Users\\\\pc\\\\Documents\\\\emails.txt'\n",
    "file_path"
   ]
  },
  {
   "cell_type": "code",
   "execution_count": 9,
   "id": "ce6cfad3-4686-4e99-abc3-82f0b1628bdc",
   "metadata": {},
   "outputs": [
    {
     "name": "stdout",
     "output_type": "stream",
     "text": [
      "Santhanam, Jayendhran <jayendhran.ms@accenture.com>; Bhattacharjee, Sankalan <s.t.bhattacharjee@accenture.com>; Bansal, Vaishnavi <vaishnavi.a.bansal@accenture.com>; Chandra Shekhar, Pavuluri <p.a.chandra.shekhar@accenture.com>; J Doshi, Hiren <hiren.j.doshi@accenture.com>; Shimoga Prakash, Jeevan <j.shimoga.prakash@accenture.com>; Akhouri, Shreyash <shreyash.akhouri@accenture.com>; Nath, Nupanga <nupanga.nath@accenture.com>; Ponna, Ramesh <r.ponna@accenture.com>; Singhal, Aditya <aditya.d.singhal@accenture.com>; Gorai, Sumit <sumit.gorai@accenture.com>; Valdez, Mariele Dyan Francely <mariele.dyan.valdez@accenture.com>; Cancel, Abigail Kyle <abigail.kyle.cancel@accenture.com>; BONDALAKUNTA, POOJITHA <p.bondalakunta@accenture.com>; priyanka uppala, sai <sai.priyanka.uppala@accenture.com>; Nitin SHINDE, NIKHIL <nikhil.nitin.shinde@accenture.com>; Chidre, Swapna <swapna.chidre@accenture.com>; Sahu, Swastik <s.satyapragyan.sahu@accenture.com>; Sikka, Ankit <ankit.sikka@accenture.com>; Dara, Sai Madhukar <sai.madhukar.dara@accenture.com>; Pattanshetti, Sampreet <s.pattanshetti@accenture.com>; Sharma, Ayush <ayush.ad.sharma@accenture.com>; Latorena, Zairous Jay <zairous.jay.latorena@accenture.com>; Abhimanyu Pradhan, Roshankumar <r.abhimanyu.pradhan@accenture.com>; Jaiswal, Lehar <lehar.jaiswal@accenture.com>; Gupta, Retik <retik.gupta@accenture.com>; Satti, Phanindra Reddy <phanindra.r.satti@accenture.com>; Kumar, Manish <manish.dw.kumar@accenture.com>; Balakrishnan, Devi Priya <devi.p.balakrishnan@accenture.com>; M S, Roshni Priya <roshni.priya.m.s@accenture.com>; Cheerala, Vanaja <vanaja.cheerala@accenture.com>; G D, Chandrashekhar <chandrashekhar.g.d@accenture.com>; Nikhil Reddy, Madithati <m.nikhil.reddy@accenture.com>; Santos, Jeroshelle V. <jeroshelle.v.santos@accenture.com>; Milan, Gerald John <gerald.john.milan@accenture.com>; Gupta, Vivek <vivek.u.gupta@accenture.com>; Mandal, Sumit <s.sunilkumar.mandal@accenture.com>; Prakash Shukla, Ashok <ashok.prakash.shukla@accenture.com>; Naganathan, Siva <sivakumar.naganathan@accenture.com>; GAHLOT, NIKHIL <nikhil.gahlot@accenture.com>; Kanjilal, Sourav <s.a.kanti.kanjilal@accenture.com>; Nallagoni, Omkar <omkar.nallagoni@accenture.com>; Sahajan, Sandra <sandra.sahajan@accenture.com>; Nelluri, Chaitanya <chaitanya.nelluri@accenture.com>\n"
     ]
    }
   ],
   "source": [
    "file=open(file_path,encoding='utf-8-sig')\n",
    "print(file.read())"
   ]
  },
  {
   "cell_type": "code",
   "execution_count": 30,
   "id": "6ac23317-64f7-4203-8163-2d7bd3e944e6",
   "metadata": {},
   "outputs": [
    {
     "name": "stdout",
     "output_type": "stream",
     "text": [
      "['Santhanam,', 'Jayendhran', '<jayendhran.ms@accenture.com>;']\n"
     ]
    }
   ],
   "source": [
    "s1='Santhanam, Jayendhran <jayendhran.ms@accenture.com>;'\n",
    "string=s1.split()\n",
    "print(string)\n",
    "\n",
    "\n"
   ]
  },
  {
   "cell_type": "code",
   "execution_count": 48,
   "id": "f4c6e63c-c731-46e6-af7f-9c2cb437ed0b",
   "metadata": {},
   "outputs": [
    {
     "name": "stdout",
     "output_type": "stream",
     "text": [
      "Santhanam,\n",
      "Jayendhran\n",
      "<jayendhran.ms@accenture.com>;\n",
      "0\n",
      "11\n",
      "14\n"
     ]
    },
    {
     "data": {
      "text/plain": [
       "'ms'"
      ]
     },
     "execution_count": 48,
     "metadata": {},
     "output_type": "execute_result"
    }
   ],
   "source": [
    "print(string[0])\n",
    "print(string[1])\n",
    "email=string[2]\n",
    "print(email)\n",
    "print(email.find('<'))\n",
    "print(email.find('.'))\n",
    "print(email.find('@'))\n",
    "email[email.find('.')+1:email.find('@')]"
   ]
  },
  {
   "cell_type": "code",
   "execution_count": 91,
   "id": "52bf78f7-5909-4627-ac96-5749141bec19",
   "metadata": {},
   "outputs": [
    {
     "name": "stdout",
     "output_type": "stream",
     "text": [
      "[['Santhana', ' Jayendhran ', ' Sankalan ', ' Vaishnavi ', ' Pavuluri ', ' Hiren ', ' Jeevan ', ' Shreyash ', ' Nupanga ', ' Ramesh ', ' Aditya ', ' Sumit ', ' Mariele Dyan Francely ', ' Abigail Kyle ', ' POOJITHA ', ' sai ', ' NIKHIL ', ' Swapna ', ' Swastik ', ' Ankit ', ' Sai Madhukar ', ' Sampreet ', ' Ayush ', ' Zairous Jay ', ' Roshankumar ', ' Lehar ', ' Retik ', ' Phanindra Reddy ', ' Manish ', ' Devi Priya ', ' Roshni Priya ', ' Vanaja ', ' Chandrashekhar ', ' Madithati ', ' Jeroshelle V. ', ' Gerald John ', ' Vivek ', ' Sumit ', ' Ashok ', ' Siva ', ' NIKHIL ', ' Sourav ', ' Omkar ', ' Sandra ', ' Chaitanya ']]\n",
      "[['Santhana', ' Jayendhran <jayendhran.ms@accenture.com>; Bhattacharje', ' Sankalan <s.t.bhattacharjee@accenture.com>; Bansa', ' Vaishnavi <vaishnavi.a.bansal@accenture.com>; Chandra Shekha', ' Pavuluri <p.a.chandra.shekhar@accenture.com>; J Dosh', ' Hiren <hiren.j.doshi@accenture.com>; Shimoga Prakas', ' Jeevan <j.shimoga.prakash@accenture.com>; Akhour', ' Shreyash <shreyash.akhouri@accenture.com>; Nat', ' Nupanga <nupanga.nath@accenture.com>; Ponn', ' Ramesh <r.ponna@accenture.com>; Singha', ' Aditya <aditya.d.singhal@accenture.com>; Gora', ' Sumit <sumit.gorai@accenture.com>; Valde', ' Mariele Dyan Francely <mariele.dyan.valdez@accenture.com>; Cance', ' Abigail Kyle <abigail.kyle.cancel@accenture.com>; BONDALAKUNT', ' POOJITHA <p.bondalakunta@accenture.com>; priyanka uppal', ' sai <sai.priyanka.uppala@accenture.com>; Nitin SHIND', ' NIKHIL <nikhil.nitin.shinde@accenture.com>; Chidr', ' Swapna <swapna.chidre@accenture.com>; Sah', ' Swastik <s.satyapragyan.sahu@accenture.com>; Sikk', ' Ankit <ankit.sikka@accenture.com>; Dar', ' Sai Madhukar <sai.madhukar.dara@accenture.com>; Pattanshett', ' Sampreet <s.pattanshetti@accenture.com>; Sharm', ' Ayush <ayush.ad.sharma@accenture.com>; Latoren', ' Zairous Jay <zairous.jay.latorena@accenture.com>; Abhimanyu Pradha', ' Roshankumar <r.abhimanyu.pradhan@accenture.com>; Jaiswa', ' Lehar <lehar.jaiswal@accenture.com>; Gupt', ' Retik <retik.gupta@accenture.com>; Satt', ' Phanindra Reddy <phanindra.r.satti@accenture.com>; Kuma', ' Manish <manish.dw.kumar@accenture.com>; Balakrishna', ' Devi Priya <devi.p.balakrishnan@accenture.com>; M ', ' Roshni Priya <roshni.priya.m.s@accenture.com>; Cheeral', ' Vanaja <vanaja.cheerala@accenture.com>; G ', ' Chandrashekhar <chandrashekhar.g.d@accenture.com>; Nikhil Redd', ' Madithati <m.nikhil.reddy@accenture.com>; Santo', ' Jeroshelle V. <jeroshelle.v.santos@accenture.com>; Mila', ' Gerald John <gerald.john.milan@accenture.com>; Gupt', ' Vivek <vivek.u.gupta@accenture.com>; Manda', ' Sumit <s.sunilkumar.mandal@accenture.com>; Prakash Shukl', ' Ashok <ashok.prakash.shukla@accenture.com>; Naganatha', ' Siva <sivakumar.naganathan@accenture.com>; GAHLO', ' NIKHIL <nikhil.gahlot@accenture.com>; Kanjila', ' Sourav <s.a.kanti.kanjilal@accenture.com>; Nallagon', ' Omkar <omkar.nallagoni@accenture.com>; Sahaja', ' Sandra <sandra.sahajan@accenture.com>; Nellur', ' Chaitanya <chaitanya.nelluri@accenture.com']]\n",
      "[['Santhana', 'jayendhran.ms@accenture.com', 's.t.bhattacharjee@accenture.com', 'vaishnavi.a.bansal@accenture.com', 'p.a.chandra.shekhar@accenture.com', 'hiren.j.doshi@accenture.com', 'j.shimoga.prakash@accenture.com', 'shreyash.akhouri@accenture.com', 'nupanga.nath@accenture.com', 'r.ponna@accenture.com', 'aditya.d.singhal@accenture.com', 'sumit.gorai@accenture.com', 'mariele.dyan.valdez@accenture.com', 'abigail.kyle.cancel@accenture.com', 'p.bondalakunta@accenture.com', 'sai.priyanka.uppala@accenture.com', 'nikhil.nitin.shinde@accenture.com', 'swapna.chidre@accenture.com', 's.satyapragyan.sahu@accenture.com', 'ankit.sikka@accenture.com', 'sai.madhukar.dara@accenture.com', 's.pattanshetti@accenture.com', 'ayush.ad.sharma@accenture.com', 'zairous.jay.latorena@accenture.com', 'r.abhimanyu.pradhan@accenture.com', 'lehar.jaiswal@accenture.com', 'retik.gupta@accenture.com', 'phanindra.r.satti@accenture.com', 'manish.dw.kumar@accenture.com', 'devi.p.balakrishnan@accenture.com', 'roshni.priya.m.s@accenture.com', 'vanaja.cheerala@accenture.com', 'chandrashekhar.g.d@accenture.com', 'm.nikhil.reddy@accenture.com', 'jeroshelle.v.santos@accenture.com', 'gerald.john.milan@accenture.com', 'vivek.u.gupta@accenture.com', 's.sunilkumar.mandal@accenture.com', 'ashok.prakash.shukla@accenture.com', 'sivakumar.naganathan@accenture.com', 'nikhil.gahlot@accenture.com', 's.a.kanti.kanjilal@accenture.com', 'omkar.nallagoni@accenture.com', 'sandra.sahajan@accenture.com', 'chaitanya.nelluri@accenture.com']]\n",
      "[['Santhana', 'accenture', '', '', '', '', '', 'accenture', 'accenture', 'accenture', '', 'accenture', '', '', 'accenture', '', '', 'accenture', '', 'accenture', '', 'accenture', '', '', '', 'accenture', 'accenture', '', '', '', '', 'accenture', '', '', '', '', '', '', '', 'accenture', 'accenture', '', 'accenture', 'accenture', 'accenture']]\n"
     ]
    }
   ],
   "source": [
    "file_name='emails'\n",
    "file_location='C:\\\\Users\\\\pc\\\\Documents'\n",
    "file_path='C:\\\\Users\\\\pc\\\\Documents\\\\emails.txt'\n",
    "file=open(file_path,encoding='utf-8-sig')\n",
    "first_name=[]\n",
    "second_name=[]\n",
    "email=[]\n",
    "company_name=[]\n",
    "str1='Santhanam, Jayendhran <jayendhran.ms@accenture.com>;'\n",
    "for line in file:\n",
    "    s_name=[str1[:str1.find(',')] for str1 in line.split(',')]\n",
    "    f_name=[str1[str1.find(',')+1:str1.find('<')] for str1 in line.split(',')]\n",
    "    e=[str1[str1.find('<')+1:str1.find('>')]  for str1 in line.split(',')]\n",
    "    c_name=[str1[str1.find('@')+1:str1.find('.',str1.find('.')+1)]  for str1 in line.split(',')] \n",
    "\n",
    "    first_name.append(f_name)\n",
    "    second_name.append(s_name)\n",
    "    email.append(e)\n",
    "    company_name.append(c_name)\n",
    "\n",
    "print(first_name)\n",
    "print(second_name)\n",
    "print(email)\n",
    "print(company_name)\n",
    "    \n",
    "\n",
    "    \n",
    "\n",
    "\n",
    "\n",
    "    \n",
    "\n",
    "\n",
    "\n",
    "\n",
    "\n",
    "    \n",
    "    \n"
   ]
  },
  {
   "cell_type": "code",
   "execution_count": 49,
   "id": "211805fc-c84e-4f89-b64a-f75306708242",
   "metadata": {},
   "outputs": [
    {
     "data": {
      "text/plain": [
       "'Santhanam'"
      ]
     },
     "execution_count": 49,
     "metadata": {},
     "output_type": "execute_result"
    }
   ],
   "source": [
    "str1='Santhanam, Jayendhran <jayendhran.ms@accenture.com>;'\n",
    "s_name=str1[:str1.find(',')]\n",
    "f_name=str1[str1.find(',')+1:str1.find('<')]\n",
    "email=str1[str1.find('<')+1:str1.find('>')]\n",
    "c_name=str1[str1.find('@')+1:str1.index('.')+1]\n",
    "s_name"
   ]
  },
  {
   "cell_type": "code",
   "execution_count": 83,
   "id": "9c460f88-102c-44cb-8e73-6defb41d95d6",
   "metadata": {},
   "outputs": [
    {
     "name": "stdout",
     "output_type": "stream",
     "text": [
      "36\n"
     ]
    },
    {
     "data": {
      "text/plain": [
       "'accenture'"
      ]
     },
     "execution_count": 83,
     "metadata": {},
     "output_type": "execute_result"
    }
   ],
   "source": [
    "str1='Santhanam, Jayendhran <jayendhran.ms@accenture.com>;'\n",
    "str1.find('.')+1\n",
    "print(str1.find('@'))\n",
    "\n"
   ]
  },
  {
   "cell_type": "code",
   "execution_count": 95,
   "id": "990d1caa-a1c3-4f0a-9be6-2aafe7d21c2e",
   "metadata": {},
   "outputs": [
    {
     "data": {
      "text/plain": [
       "''"
      ]
     },
     "execution_count": 95,
     "metadata": {},
     "output_type": "execute_result"
    }
   ],
   "source": [
    "str3='Bhattacharjee, Sankalan <s.t.bhattacharjee@accenture.com>'\n",
    "str3[str3.find('@')+1:str3.find('.',str3.find('.')+1)]"
   ]
  },
  {
   "cell_type": "code",
   "execution_count": null,
   "id": "a70f3841-6265-472c-a345-a7e50d79881a",
   "metadata": {},
   "outputs": [],
   "source": []
  },
  {
   "cell_type": "code",
   "execution_count": null,
   "id": "539fb696-61aa-46ce-99de-10bb671d102a",
   "metadata": {},
   "outputs": [],
   "source": []
  },
  {
   "cell_type": "code",
   "execution_count": null,
   "id": "100ebcee-959a-49dd-92f1-86f0660fab8b",
   "metadata": {},
   "outputs": [],
   "source": []
  }
 ],
 "metadata": {
  "kernelspec": {
   "display_name": "Python 3 (ipykernel)",
   "language": "python",
   "name": "python3"
  },
  "language_info": {
   "codemirror_mode": {
    "name": "ipython",
    "version": 3
   },
   "file_extension": ".py",
   "mimetype": "text/x-python",
   "name": "python",
   "nbconvert_exporter": "python",
   "pygments_lexer": "ipython3",
   "version": "3.12.7"
  }
 },
 "nbformat": 4,
 "nbformat_minor": 5
}
