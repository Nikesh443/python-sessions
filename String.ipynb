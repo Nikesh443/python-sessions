{
 "cells": [
  {
   "cell_type": "code",
   "execution_count": null,
   "id": "a3013767-8582-416a-8e9f-949ea07c32d2",
   "metadata": {},
   "outputs": [],
   "source": [
    "# strings\n",
    "# list\n",
    "# Dictionary\n",
    "# Tuple\n",
    "# set"
   ]
  },
  {
   "cell_type": "markdown",
   "id": "0ec2446a-4125-43a7-bf7b-5bc98e2b3b51",
   "metadata": {},
   "source": [
    "# Strings"
   ]
  },
  {
   "cell_type": "markdown",
   "id": "bf9fac60-d8ec-4107-82f1-9e6fe7099769",
   "metadata": {},
   "source": [
    "### How to read the strings"
   ]
  },
  {
   "cell_type": "code",
   "execution_count": 2,
   "id": "ee775ec6-75c5-4132-bf05-053de1620413",
   "metadata": {},
   "outputs": [
    {
     "data": {
      "text/plain": [
       "'python'"
      ]
     },
     "execution_count": 2,
     "metadata": {},
     "output_type": "execute_result"
    }
   ],
   "source": [
    "# single quote\n",
    "string1='python'\n",
    "string1"
   ]
  },
  {
   "cell_type": "code",
   "execution_count": 4,
   "id": "3320c82b-111e-4822-891f-81a617206f83",
   "metadata": {},
   "outputs": [
    {
     "data": {
      "text/plain": [
       "'python'"
      ]
     },
     "execution_count": 4,
     "metadata": {},
     "output_type": "execute_result"
    }
   ],
   "source": [
    "# Double quote\n",
    "string2=\"python\"\n",
    "string2"
   ]
  },
  {
   "cell_type": "code",
   "execution_count": 8,
   "id": "d1abba99-7d5c-4f91-a1df-665fc8d34b01",
   "metadata": {},
   "outputs": [
    {
     "name": "stdout",
     "output_type": "stream",
     "text": [
      "Good morning\n"
     ]
    }
   ],
   "source": [
    "# Triple quotes\n",
    "# We also call this doc string\n",
    "# Doc string is used to say some information about pyton code\n",
    "\n",
    "\"\"\"\n",
    "I am creating a hello world function\n",
    "arguments: none\n",
    "return: none\n",
    "\"\"\"\n",
    "def hello():\n",
    "    print('Good morning')\n",
    "\n",
    "hello()"
   ]
  },
  {
   "cell_type": "code",
   "execution_count": 12,
   "id": "afe07b2e-6c46-497f-95ae-d0925dec0af1",
   "metadata": {},
   "outputs": [
    {
     "name": "stdout",
     "output_type": "stream",
     "text": [
      "hello 'python'\n"
     ]
    }
   ],
   "source": [
    "'hello python'  # I want to highlight the python\n",
    "string4=\"hello 'python'\"\n",
    "print(string4)"
   ]
  },
  {
   "cell_type": "code",
   "execution_count": 14,
   "id": "b1773efe-39bd-423f-a035-4028be330073",
   "metadata": {},
   "outputs": [
    {
     "name": "stdout",
     "output_type": "stream",
     "text": [
      "hello \"python\"\n"
     ]
    }
   ],
   "source": [
    "string5='hello \"python\"'\n",
    "print(string5)"
   ]
  },
  {
   "cell_type": "code",
   "execution_count": null,
   "id": "9081ca60-1642-41d7-96a4-ab4e20d6a07a",
   "metadata": {},
   "outputs": [],
   "source": [
    "- type\n",
    "\n",
    "-len\n",
    "\n",
    "-max\n",
    "\n",
    "-min"
   ]
  },
  {
   "cell_type": "code",
   "execution_count": 16,
   "id": "362c5c90-0410-4cee-a3f7-79544ceca6f6",
   "metadata": {},
   "outputs": [
    {
     "data": {
      "text/plain": [
       "'python'"
      ]
     },
     "execution_count": 16,
     "metadata": {},
     "output_type": "execute_result"
    }
   ],
   "source": [
    "string1"
   ]
  },
  {
   "cell_type": "code",
   "execution_count": 18,
   "id": "6acd0997-2a21-40fe-a0f4-a9e37ec58101",
   "metadata": {},
   "outputs": [
    {
     "data": {
      "text/plain": [
       "str"
      ]
     },
     "execution_count": 18,
     "metadata": {},
     "output_type": "execute_result"
    }
   ],
   "source": [
    "type(string1)"
   ]
  },
  {
   "cell_type": "code",
   "execution_count": 20,
   "id": "7fbe6783-6a98-4ce4-92ef-b5fb4d3f76ff",
   "metadata": {},
   "outputs": [
    {
     "data": {
      "text/plain": [
       "6"
      ]
     },
     "execution_count": 20,
     "metadata": {},
     "output_type": "execute_result"
    }
   ],
   "source": [
    "len(string1)"
   ]
  },
  {
   "cell_type": "code",
   "execution_count": 22,
   "id": "95d73572-e2bf-480b-a881-07bff1c46783",
   "metadata": {},
   "outputs": [
    {
     "data": {
      "text/plain": [
       "\"hello 'python'\""
      ]
     },
     "execution_count": 22,
     "metadata": {},
     "output_type": "execute_result"
    }
   ],
   "source": [
    "string4"
   ]
  },
  {
   "cell_type": "code",
   "execution_count": 24,
   "id": "8179d0a9-46b3-4af6-b68f-93fdc7ed15ae",
   "metadata": {},
   "outputs": [
    {
     "data": {
      "text/plain": [
       "14"
      ]
     },
     "execution_count": 24,
     "metadata": {},
     "output_type": "execute_result"
    }
   ],
   "source": [
    "len(string4)"
   ]
  },
  {
   "cell_type": "code",
   "execution_count": 26,
   "id": "5ed32e13-a87e-4d6b-85a4-55e31708caa7",
   "metadata": {},
   "outputs": [
    {
     "data": {
      "text/plain": [
       "'y'"
      ]
     },
     "execution_count": 26,
     "metadata": {},
     "output_type": "execute_result"
    }
   ],
   "source": [
    "max(string1) # python max===y"
   ]
  },
  {
   "cell_type": "code",
   "execution_count": 41,
   "id": "2f21985f-48d4-4c52-b7fb-c23a351c4078",
   "metadata": {},
   "outputs": [
    {
     "data": {
      "text/plain": [
       "('p', 'P')"
      ]
     },
     "execution_count": 41,
     "metadata": {},
     "output_type": "execute_result"
    }
   ],
   "source": [
    "string1='pP'\n",
    "max(string1),min(string1)\n",
    "\n",
    "# ASCII\n",
    "# 'A':65  'a':97"
   ]
  },
  {
   "cell_type": "markdown",
   "id": "a8afdd2b-ed61-4265-82e7-0c39849ae911",
   "metadata": {},
   "source": [
    "##### ord and chr"
   ]
  },
  {
   "cell_type": "code",
   "execution_count": 35,
   "id": "6d932cdc-424f-4275-8793-f9b43fa17c2b",
   "metadata": {},
   "outputs": [
    {
     "data": {
      "text/plain": [
       "112"
      ]
     },
     "execution_count": 35,
     "metadata": {},
     "output_type": "execute_result"
    }
   ],
   "source": [
    "ord('p')   # It will provide ASCII value of character"
   ]
  },
  {
   "cell_type": "code",
   "execution_count": 39,
   "id": "203ca8b9-5a1e-410c-b54b-16906f67f62e",
   "metadata": {},
   "outputs": [
    {
     "data": {
      "text/plain": [
       "80"
      ]
     },
     "execution_count": 39,
     "metadata": {},
     "output_type": "execute_result"
    }
   ],
   "source": [
    "ord('P')"
   ]
  },
  {
   "cell_type": "code",
   "execution_count": 43,
   "id": "648e0271-a6f8-4816-b5a0-dc6e943c6aea",
   "metadata": {},
   "outputs": [
    {
     "data": {
      "text/plain": [
       "('y', 'h')"
      ]
     },
     "execution_count": 43,
     "metadata": {},
     "output_type": "execute_result"
    }
   ],
   "source": [
    "string1='python'\n",
    "max(string1),min(string1)"
   ]
  },
  {
   "cell_type": "code",
   "execution_count": 45,
   "id": "0548e403-cfea-4aa8-af4f-598e1aab6f9e",
   "metadata": {},
   "outputs": [
    {
     "data": {
      "text/plain": [
       "(112, 121, 116, 104, 111, 110)"
      ]
     },
     "execution_count": 45,
     "metadata": {},
     "output_type": "execute_result"
    }
   ],
   "source": [
    "ord('p'),ord('y'),ord('t'),ord('h'),ord('o'),ord('n')"
   ]
  },
  {
   "cell_type": "code",
   "execution_count": 47,
   "id": "5a5379f7-91c2-4fc4-8b0f-333e3f5d4f33",
   "metadata": {},
   "outputs": [
    {
     "data": {
      "text/plain": [
       "'p'"
      ]
     },
     "execution_count": 47,
     "metadata": {},
     "output_type": "execute_result"
    }
   ],
   "source": [
    "chr(112)  # Chr is the opposite of ord"
   ]
  },
  {
   "cell_type": "code",
   "execution_count": 49,
   "id": "8705a625-aa4e-4746-a64f-6db927c3c27e",
   "metadata": {},
   "outputs": [
    {
     "data": {
      "text/plain": [
       "'y'"
      ]
     },
     "execution_count": 49,
     "metadata": {},
     "output_type": "execute_result"
    }
   ],
   "source": [
    "chr(121)"
   ]
  },
  {
   "cell_type": "code",
   "execution_count": 51,
   "id": "9b10096c-1798-4837-ac85-949cefee661a",
   "metadata": {},
   "outputs": [
    {
     "data": {
      "text/plain": [
       "'K'"
      ]
     },
     "execution_count": 51,
     "metadata": {},
     "output_type": "execute_result"
    }
   ],
   "source": [
    "chr(75)"
   ]
  },
  {
   "cell_type": "code",
   "execution_count": 53,
   "id": "e0c35e1c-a6aa-4097-91ae-c7261d66df62",
   "metadata": {},
   "outputs": [
    {
     "ename": "NameError",
     "evalue": "name 'rage' is not defined",
     "output_type": "error",
     "traceback": [
      "\u001b[1;31m---------------------------------------------------------------------------\u001b[0m",
      "\u001b[1;31mNameError\u001b[0m                                 Traceback (most recent call last)",
      "Cell \u001b[1;32mIn[53], line 1\u001b[0m\n\u001b[1;32m----> 1\u001b[0m \u001b[38;5;28;01mfor\u001b[39;00m i \u001b[38;5;129;01min\u001b[39;00m rage(\u001b[38;5;124m'\u001b[39m\u001b[38;5;124mpython\u001b[39m\u001b[38;5;124m'\u001b[39m):\n\u001b[0;32m      2\u001b[0m     \u001b[38;5;28mprint\u001b[39m(i)\n",
      "\u001b[1;31mNameError\u001b[0m: name 'rage' is not defined"
     ]
    }
   ],
   "source": [
    "for i in rage('python'):\n",
    "    print(i)"
   ]
  },
  {
   "cell_type": "code",
   "execution_count": 55,
   "id": "eddf383c-338b-4077-bad7-b634f78ae92e",
   "metadata": {},
   "outputs": [
    {
     "name": "stdout",
     "output_type": "stream",
     "text": [
      "0\n",
      "1\n",
      "2\n",
      "3\n",
      "4\n",
      "5\n"
     ]
    }
   ],
   "source": [
    "for i in range(len('Python')):\n",
    "    print(i)"
   ]
  },
  {
   "cell_type": "code",
   "execution_count": null,
   "id": "669794d8-4f67-4dc0-88f4-456ece450065",
   "metadata": {},
   "outputs": [],
   "source": [
    "# I want to print p y t h o n"
   ]
  },
  {
   "cell_type": "markdown",
   "id": "ab616f0b-12a9-480b-918b-5a8bf6b3731e",
   "metadata": {},
   "source": [
    "#### in "
   ]
  },
  {
   "cell_type": "code",
   "execution_count": 60,
   "id": "cb98f76e-6f0f-4ddb-8b38-65960b38de61",
   "metadata": {},
   "outputs": [
    {
     "data": {
      "text/plain": [
       "True"
      ]
     },
     "execution_count": 60,
     "metadata": {},
     "output_type": "execute_result"
    }
   ],
   "source": [
    "string1='python'\n",
    "\n",
    "'p' in string1\n",
    "'y' in string1\n",
    "'t' in string1\n",
    "'h' in string1\n",
    "'o' in string1\n",
    "'n' in string1\n",
    "\n",
    "\n",
    "# i in string1  ======> generalized expression"
   ]
  },
  {
   "cell_type": "code",
   "execution_count": 62,
   "id": "490b5f61-93ea-4f05-b1c9-e799c68180bf",
   "metadata": {},
   "outputs": [
    {
     "name": "stdout",
     "output_type": "stream",
     "text": [
      "p\n",
      "y\n",
      "t\n",
      "h\n",
      "o\n",
      "n\n"
     ]
    }
   ],
   "source": [
    "for i in string1:\n",
    "    print(i)"
   ]
  },
  {
   "cell_type": "markdown",
   "id": "4de01ada-83ea-43c9-9e7c-117f35b3857f",
   "metadata": {},
   "source": [
    "- range(): you need to provide number inside the range.\n",
    "\n",
    "- in   : is used only for strings\n",
    "\n",
    "- if you want print the letters using for loop go for in operator"
   ]
  },
  {
   "cell_type": "code",
   "execution_count": 66,
   "id": "da3ce7ee-b4e4-4172-8929-23dbc9c91e91",
   "metadata": {},
   "outputs": [
    {
     "name": "stdout",
     "output_type": "stream",
     "text": [
      "112\n",
      "121\n",
      "116\n",
      "104\n",
      "111\n",
      "110\n"
     ]
    }
   ],
   "source": [
    "\n",
    "print(ord('p'))\n",
    "print(ord('y'))\n",
    "print(ord('t'))\n",
    "print(ord('h'))\n",
    "print(ord('o'))\n",
    "print(ord('n'))"
   ]
  },
  {
   "cell_type": "code",
   "execution_count": 68,
   "id": "b0851f1c-2f16-499d-9683-3f818bdaede9",
   "metadata": {},
   "outputs": [
    {
     "name": "stdout",
     "output_type": "stream",
     "text": [
      "112\n",
      "121\n",
      "116\n",
      "104\n",
      "111\n",
      "110\n"
     ]
    }
   ],
   "source": [
    "for i in string1:\n",
    "    print(ord(i))"
   ]
  },
  {
   "cell_type": "code",
   "execution_count": 70,
   "id": "45441c74-5cd1-4b18-8f8f-635cad35d965",
   "metadata": {},
   "outputs": [
    {
     "data": {
      "text/plain": [
       "'Nikesh'"
      ]
     },
     "execution_count": 70,
     "metadata": {},
     "output_type": "execute_result"
    }
   ],
   "source": [
    "string6='Nikesh'\n",
    "string6"
   ]
  },
  {
   "cell_type": "code",
   "execution_count": 72,
   "id": "320ae501-828f-4aef-97e9-ebaf2ed48cf3",
   "metadata": {},
   "outputs": [
    {
     "name": "stdout",
     "output_type": "stream",
     "text": [
      "N\n",
      "i\n",
      "k\n",
      "e\n",
      "s\n",
      "h\n"
     ]
    }
   ],
   "source": [
    "for i in string6:\n",
    "    print(i)"
   ]
  },
  {
   "cell_type": "code",
   "execution_count": 82,
   "id": "e8548105-1d45-484a-82cb-18ff6802b266",
   "metadata": {},
   "outputs": [
    {
     "name": "stdout",
     "output_type": "stream",
     "text": [
      "The ascii value of N is 78\n",
      "The ascii value of i is 105\n",
      "The ascii value of k is 107\n",
      "The ascii value of e is 101\n",
      "The ascii value of s is 115\n",
      "The ascii value of h is 104\n"
     ]
    }
   ],
   "source": [
    "for i in string6:\n",
    "    print(f'The ascii value of {i} is {ord(i)}')"
   ]
  },
  {
   "cell_type": "code",
   "execution_count": 84,
   "id": "695d8e88-decc-4a0e-b690-52475902643b",
   "metadata": {},
   "outputs": [
    {
     "data": {
      "text/plain": [
       "'ABCDEFGHIJKLMNOPQRSTUVWXYZ'"
      ]
     },
     "execution_count": 84,
     "metadata": {},
     "output_type": "execute_result"
    }
   ],
   "source": [
    "a='ABCDEFGHIJKLMNOPQRSTUVWXYZ'\n",
    "a"
   ]
  },
  {
   "cell_type": "code",
   "execution_count": 86,
   "id": "5f2ff200-d92f-4ed5-b93d-2c8e09194086",
   "metadata": {},
   "outputs": [
    {
     "name": "stdout",
     "output_type": "stream",
     "text": [
      "A\n",
      "B\n",
      "C\n",
      "D\n",
      "E\n",
      "F\n",
      "G\n",
      "H\n",
      "I\n",
      "J\n",
      "K\n",
      "L\n",
      "M\n",
      "N\n",
      "O\n",
      "P\n",
      "Q\n",
      "R\n",
      "S\n",
      "T\n",
      "U\n",
      "V\n",
      "W\n",
      "X\n",
      "Y\n",
      "Z\n"
     ]
    }
   ],
   "source": [
    "for i in a:\n",
    "    print(i)"
   ]
  },
  {
   "cell_type": "code",
   "execution_count": 88,
   "id": "e8ea46a4-13fe-42ea-80fc-5de6c4a6e784",
   "metadata": {},
   "outputs": [
    {
     "name": "stdout",
     "output_type": "stream",
     "text": [
      "The ASCII value of A is 65\n",
      "The ASCII value of B is 66\n",
      "The ASCII value of C is 67\n",
      "The ASCII value of D is 68\n",
      "The ASCII value of E is 69\n",
      "The ASCII value of F is 70\n",
      "The ASCII value of G is 71\n",
      "The ASCII value of H is 72\n",
      "The ASCII value of I is 73\n",
      "The ASCII value of J is 74\n",
      "The ASCII value of K is 75\n",
      "The ASCII value of L is 76\n",
      "The ASCII value of M is 77\n",
      "The ASCII value of N is 78\n",
      "The ASCII value of O is 79\n",
      "The ASCII value of P is 80\n",
      "The ASCII value of Q is 81\n",
      "The ASCII value of R is 82\n",
      "The ASCII value of S is 83\n",
      "The ASCII value of T is 84\n",
      "The ASCII value of U is 85\n",
      "The ASCII value of V is 86\n",
      "The ASCII value of W is 87\n",
      "The ASCII value of X is 88\n",
      "The ASCII value of Y is 89\n",
      "The ASCII value of Z is 90\n"
     ]
    }
   ],
   "source": [
    "for i in a:\n",
    "    print(f'The ASCII value of {i} is {ord(i)}')\n",
    "    "
   ]
  },
  {
   "cell_type": "code",
   "execution_count": 90,
   "id": "45bb7305-6f6e-4a98-b7b6-319cb285a5ed",
   "metadata": {},
   "outputs": [
    {
     "data": {
      "text/plain": [
       "['Formatter',\n",
       " 'Template',\n",
       " '_ChainMap',\n",
       " '__all__',\n",
       " '__builtins__',\n",
       " '__cached__',\n",
       " '__doc__',\n",
       " '__file__',\n",
       " '__loader__',\n",
       " '__name__',\n",
       " '__package__',\n",
       " '__spec__',\n",
       " '_re',\n",
       " '_sentinel_dict',\n",
       " '_string',\n",
       " 'ascii_letters',\n",
       " 'ascii_lowercase',\n",
       " 'ascii_uppercase',\n",
       " 'capwords',\n",
       " 'digits',\n",
       " 'hexdigits',\n",
       " 'octdigits',\n",
       " 'printable',\n",
       " 'punctuation',\n",
       " 'whitespace']"
      ]
     },
     "execution_count": 90,
     "metadata": {},
     "output_type": "execute_result"
    }
   ],
   "source": [
    "# package name=string\n",
    "import string\n",
    "dir(string)"
   ]
  },
  {
   "cell_type": "code",
   "execution_count": 94,
   "id": "611cf8fb-25cd-4e2a-998c-e3d4cf89949d",
   "metadata": {},
   "outputs": [
    {
     "data": {
      "text/plain": [
       "'ABCDEFGHIJKLMNOPQRSTUVWXYZ'"
      ]
     },
     "execution_count": 94,
     "metadata": {},
     "output_type": "execute_result"
    }
   ],
   "source": [
    "string.ascii_uppercase"
   ]
  },
  {
   "cell_type": "code",
   "execution_count": 100,
   "id": "d3cb0b61-2e8f-4d39-867f-13b2672d0c2a",
   "metadata": {},
   "outputs": [
    {
     "name": "stdout",
     "output_type": "stream",
     "text": [
      "65\n",
      "66\n",
      "67\n",
      "68\n",
      "69\n",
      "70\n",
      "71\n",
      "72\n",
      "73\n",
      "74\n",
      "75\n",
      "76\n",
      "77\n",
      "78\n",
      "79\n",
      "80\n",
      "81\n",
      "82\n",
      "83\n",
      "84\n",
      "85\n",
      "86\n",
      "87\n",
      "88\n",
      "89\n",
      "90\n"
     ]
    }
   ],
   "source": [
    "import string\n",
    "for i in string.ascii_uppercase:\n",
    "    print(ord(i))"
   ]
  },
  {
   "cell_type": "code",
   "execution_count": 102,
   "id": "530672d4-3b29-4534-ac5f-e58493bf58ba",
   "metadata": {},
   "outputs": [
    {
     "name": "stdout",
     "output_type": "stream",
     "text": [
      "The ascii of a is 97\n",
      "The ascii of b is 98\n",
      "The ascii of c is 99\n",
      "The ascii of d is 100\n",
      "The ascii of e is 101\n",
      "The ascii of f is 102\n",
      "The ascii of g is 103\n",
      "The ascii of h is 104\n",
      "The ascii of i is 105\n",
      "The ascii of j is 106\n",
      "The ascii of k is 107\n",
      "The ascii of l is 108\n",
      "The ascii of m is 109\n",
      "The ascii of n is 110\n",
      "The ascii of o is 111\n",
      "The ascii of p is 112\n",
      "The ascii of q is 113\n",
      "The ascii of r is 114\n",
      "The ascii of s is 115\n",
      "The ascii of t is 116\n",
      "The ascii of u is 117\n",
      "The ascii of v is 118\n",
      "The ascii of w is 119\n",
      "The ascii of x is 120\n",
      "The ascii of y is 121\n",
      "The ascii of z is 122\n"
     ]
    }
   ],
   "source": [
    "for i in string.ascii_lowercase:\n",
    "    print(f'The ascii of {i} is {ord(i)}')"
   ]
  },
  {
   "cell_type": "code",
   "execution_count": 107,
   "id": "5cc76263-7702-4236-b2de-ae6e749e002a",
   "metadata": {},
   "outputs": [
    {
     "name": "stdout",
     "output_type": "stream",
     "text": [
      "The ascii of ! is 33\n",
      "The ascii of \" is 34\n",
      "The ascii of # is 35\n",
      "The ascii of $ is 36\n",
      "The ascii of % is 37\n",
      "The ascii of & is 38\n",
      "The ascii of ' is 39\n",
      "The ascii of ( is 40\n",
      "The ascii of ) is 41\n",
      "The ascii of * is 42\n",
      "The ascii of + is 43\n",
      "The ascii of , is 44\n",
      "The ascii of - is 45\n",
      "The ascii of . is 46\n",
      "The ascii of / is 47\n",
      "The ascii of : is 58\n",
      "The ascii of ; is 59\n",
      "The ascii of < is 60\n",
      "The ascii of = is 61\n",
      "The ascii of > is 62\n",
      "The ascii of ? is 63\n",
      "The ascii of @ is 64\n",
      "The ascii of [ is 91\n",
      "The ascii of \\ is 92\n",
      "The ascii of ] is 93\n",
      "The ascii of ^ is 94\n",
      "The ascii of _ is 95\n",
      "The ascii of ` is 96\n",
      "The ascii of { is 123\n",
      "The ascii of | is 124\n",
      "The ascii of } is 125\n",
      "The ascii of ~ is 126\n"
     ]
    }
   ],
   "source": [
    "import string\n",
    "for i in string.punctuation:\n",
    "    print(f'The ascii of {i} is {ord(i)}')"
   ]
  },
  {
   "cell_type": "code",
   "execution_count": 109,
   "id": "9067aa24-0762-40fa-98e3-fae8c9436e56",
   "metadata": {},
   "outputs": [
    {
     "name": "stdout",
     "output_type": "stream",
     "text": [
      "33 !\n",
      "34 \"\n",
      "35 #\n",
      "36 $\n",
      "37 %\n",
      "38 &\n",
      "39 '\n",
      "40 (\n",
      "41 )\n",
      "42 *\n",
      "43 +\n",
      "44 ,\n",
      "45 -\n",
      "46 .\n",
      "47 /\n",
      "48 0\n",
      "49 1\n",
      "50 2\n",
      "51 3\n",
      "52 4\n",
      "53 5\n",
      "54 6\n",
      "55 7\n",
      "56 8\n",
      "57 9\n",
      "58 :\n",
      "59 ;\n",
      "60 <\n",
      "61 =\n",
      "62 >\n",
      "63 ?\n",
      "64 @\n",
      "65 A\n",
      "66 B\n",
      "67 C\n",
      "68 D\n",
      "69 E\n",
      "70 F\n",
      "71 G\n",
      "72 H\n",
      "73 I\n",
      "74 J\n",
      "75 K\n",
      "76 L\n",
      "77 M\n",
      "78 N\n",
      "79 O\n",
      "80 P\n",
      "81 Q\n",
      "82 R\n",
      "83 S\n",
      "84 T\n",
      "85 U\n",
      "86 V\n",
      "87 W\n",
      "88 X\n",
      "89 Y\n",
      "90 Z\n",
      "91 [\n",
      "92 \\\n",
      "93 ]\n",
      "94 ^\n",
      "95 _\n",
      "96 `\n",
      "97 a\n",
      "98 b\n",
      "99 c\n",
      "100 d\n",
      "101 e\n",
      "102 f\n",
      "103 g\n",
      "104 h\n",
      "105 i\n",
      "106 j\n",
      "107 k\n",
      "108 l\n",
      "109 m\n",
      "110 n\n",
      "111 o\n",
      "112 p\n",
      "113 q\n",
      "114 r\n",
      "115 s\n",
      "116 t\n",
      "117 u\n",
      "118 v\n",
      "119 w\n",
      "120 x\n",
      "121 y\n",
      "122 z\n",
      "123 {\n",
      "124 |\n",
      "125 }\n",
      "126 ~\n"
     ]
    }
   ],
   "source": [
    "# What is the start and end of ascii number\n",
    "for i in range(33,127):\n",
    "    print(i,chr(i))\n",
    "\n",
    "# start=33 and end=126\n",
    "# TOTAL=93"
   ]
  },
  {
   "cell_type": "code",
   "execution_count": 111,
   "id": "e7beef3b-7cd6-4f46-bc5d-09c2fc436edd",
   "metadata": {},
   "outputs": [
    {
     "data": {
      "text/plain": [
       "'0123456789abcdefghijklmnopqrstuvwxyzABCDEFGHIJKLMNOPQRSTUVWXYZ!\"#$%&\\'()*+,-./:;<=>?@[\\\\]^_`{|}~ \\t\\n\\r\\x0b\\x0c'"
      ]
     },
     "execution_count": 111,
     "metadata": {},
     "output_type": "execute_result"
    }
   ],
   "source": [
    "string.printable"
   ]
  },
  {
   "cell_type": "code",
   "execution_count": null,
   "id": "096b4f4d-48fc-4b59-9076-5d1c896eee8a",
   "metadata": {},
   "outputs": [],
   "source": [
    "# WAP ask the user find the number of 'a' letters in the given string\n",
    "# string='hai how are you and how do you do'"
   ]
  },
  {
   "cell_type": "code",
   "execution_count": 113,
   "id": "2b0027b8-77f8-4bce-b310-b2f66bee5854",
   "metadata": {},
   "outputs": [
    {
     "data": {
      "text/plain": [
       "'hai how are you and how do you do'"
      ]
     },
     "execution_count": 113,
     "metadata": {},
     "output_type": "execute_result"
    }
   ],
   "source": [
    "string='hai how are you and how do you do'\n",
    "string"
   ]
  },
  {
   "cell_type": "code",
   "execution_count": 127,
   "id": "ba3a8266-a3f3-4738-91e1-ed91f1ddbaae",
   "metadata": {},
   "outputs": [
    {
     "name": "stdout",
     "output_type": "stream",
     "text": [
      "hai how are you and how do you do\n",
      "The number of a in string is 3 \n"
     ]
    }
   ],
   "source": [
    "count=0\n",
    "for i in string:\n",
    "    print(i,end='')\n",
    "    if i=='a':\n",
    "        count=count+1\n",
    "print('')\n",
    "print(f'The number of a in string is {count} ')"
   ]
  },
  {
   "cell_type": "code",
   "execution_count": 131,
   "id": "836ecda7-ed36-40b7-8e00-218d14445682",
   "metadata": {},
   "outputs": [
    {
     "name": "stdout",
     "output_type": "stream",
     "text": [
      "hai how are you\n",
      "The number of vowels in string is 7\n"
     ]
    }
   ],
   "source": [
    "# WAP count the number of vowels in 'hai how are you'\n",
    "\n",
    "b='hai how are you'\n",
    "count=0\n",
    "for i in b:\n",
    "    print(i,end='')\n",
    "    if i in 'aeiou':\n",
    "        count+=1\n",
    "\n",
    "print('')\n",
    "print(f'The number of vowels in string is {count}')\n",
    "        \n",
    "    \n",
    "    \n",
    "    \n",
    "    "
   ]
  },
  {
   "cell_type": "code",
   "execution_count": 135,
   "id": "df05b9d1-23ec-4737-80d9-291db54ed66e",
   "metadata": {},
   "outputs": [
    {
     "name": "stdout",
     "output_type": "stream",
     "text": [
      "hai how are you\n"
     ]
    }
   ],
   "source": [
    "# WAP Count the number of unique vowels in a given string\n",
    "b='hai how are you'\n",
    "string1=''\n",
    "for i in b:\n",
    "    string1=string1+i\n",
    "\n",
    "print(string1)\n",
    "    "
   ]
  },
  {
   "cell_type": "code",
   "execution_count": 164,
   "id": "65b17b1f-b6fd-4044-9d83-d019845ded1f",
   "metadata": {},
   "outputs": [
    {
     "name": "stdout",
     "output_type": "stream",
     "text": [
      "aioaeou\n"
     ]
    }
   ],
   "source": [
    "b='hai how are you'\n",
    "string1=''\n",
    "count=0\n",
    "for i in b:\n",
    "    if i in 'aeiou':\n",
    "        string1=string1+i\n",
    "print(string1)"
   ]
  },
  {
   "cell_type": "markdown",
   "id": "8139ccc8-a45e-4781-acb8-22d903997691",
   "metadata": {},
   "source": [
    "### concatenation"
   ]
  },
  {
   "cell_type": "code",
   "execution_count": 146,
   "id": "0deae0d0-c79b-4706-9d94-e4ff5a64e4a1",
   "metadata": {},
   "outputs": [
    {
     "data": {
      "text/plain": [
       "'haihow'"
      ]
     },
     "execution_count": 146,
     "metadata": {},
     "output_type": "execute_result"
    }
   ],
   "source": [
    "str1='hai'\n",
    "str2='how'\n",
    "str1+str2"
   ]
  },
  {
   "cell_type": "code",
   "execution_count": 177,
   "id": "f4cc55ce-5855-447b-9947-ff4b0f723903",
   "metadata": {},
   "outputs": [
    {
     "ename": "TypeError",
     "evalue": "unsupported operand type(s) for /: 'str' and 'str'",
     "output_type": "error",
     "traceback": [
      "\u001b[1;31m---------------------------------------------------------------------------\u001b[0m",
      "\u001b[1;31mTypeError\u001b[0m                                 Traceback (most recent call last)",
      "Cell \u001b[1;32mIn[177], line 1\u001b[0m\n\u001b[1;32m----> 1\u001b[0m str1\u001b[38;5;241m/\u001b[39mstr2\n",
      "\u001b[1;31mTypeError\u001b[0m: unsupported operand type(s) for /: 'str' and 'str'"
     ]
    }
   ],
   "source": [
    "str1-str2  # unsupported operand type(s) for /: 'str' and 'str'\n",
    "str1*str2   # can't multiply sequence by non-int of type 'str'\n",
    "str1/str2   # unsupported operand type(s) for /: 'str' and 'str'"
   ]
  },
  {
   "cell_type": "code",
   "execution_count": 182,
   "id": "763f9e29-525b-4cb2-8e49-61ed5b49f88c",
   "metadata": {},
   "outputs": [
    {
     "data": {
      "text/plain": [
       "'howhowhow'"
      ]
     },
     "execution_count": 182,
     "metadata": {},
     "output_type": "execute_result"
    }
   ],
   "source": [
    "# can't multiply sequence by non-int of type 'str'\n",
    "\n",
    "3*str2"
   ]
  },
  {
   "cell_type": "markdown",
   "id": "853e4016-1ef2-49b8-a8c8-5e69f8620221",
   "metadata": {},
   "source": [
    "## index"
   ]
  },
  {
   "cell_type": "code",
   "execution_count": 208,
   "id": "5ccf7297-6d4b-4ac9-90c0-7cc231e13e40",
   "metadata": {},
   "outputs": [
    {
     "data": {
      "text/plain": [
       "'python'"
      ]
     },
     "execution_count": 208,
     "metadata": {},
     "output_type": "execute_result"
    }
   ],
   "source": [
    "string1='python'\n",
    "string1"
   ]
  },
  {
   "cell_type": "code",
   "execution_count": null,
   "id": "d833efb8-b0cc-43c4-a398-09d7b40fa85a",
   "metadata": {},
   "outputs": [],
   "source": [
    "p  y  t  h  o  n"
   ]
  },
  {
   "cell_type": "code",
   "execution_count": 200,
   "id": "3936b837-6444-44b3-a020-15a43cd126b0",
   "metadata": {},
   "outputs": [
    {
     "data": {
      "text/plain": [
       "('p', 'y', 't', 'h', 'o', 'n')"
      ]
     },
     "execution_count": 200,
     "metadata": {},
     "output_type": "execute_result"
    }
   ],
   "source": [
    "string1='python'\n",
    "string1[0],string1[1],string1[2],string1[3],string1[4],string1[5]"
   ]
  },
  {
   "cell_type": "code",
   "execution_count": 224,
   "id": "451b7f5d-194e-4d78-ad64-f1ecbc9ab0f2",
   "metadata": {},
   "outputs": [
    {
     "name": "stdout",
     "output_type": "stream",
     "text": [
      "python"
     ]
    }
   ],
   "source": [
    "\n",
    "for i in range(len(string1)):\n",
    "    print(string1[i],end='')\n",
    "    "
   ]
  },
  {
   "cell_type": "code",
   "execution_count": 216,
   "id": "e519ab65-abe4-410f-96eb-16279e2d10ba",
   "metadata": {},
   "outputs": [
    {
     "name": "stdout",
     "output_type": "stream",
     "text": [
      "python"
     ]
    }
   ],
   "source": [
    "string1='python'\n",
    "# I want to print letters using in operator\n",
    "for i in string1:\n",
    "    print(i,end='')"
   ]
  },
  {
   "cell_type": "code",
   "execution_count": 226,
   "id": "6faccd74-380a-4002-b442-6a1afd35922c",
   "metadata": {},
   "outputs": [
    {
     "name": "stdout",
     "output_type": "stream",
     "text": [
      "python"
     ]
    }
   ],
   "source": [
    "# I want to print letters using range operator\n",
    "for i in range(len(string1)):\n",
    "    print(string1[i],end='')"
   ]
  },
  {
   "cell_type": "code",
   "execution_count": 228,
   "id": "f01fd87c-bf7b-41c9-8369-246a3df8afaa",
   "metadata": {},
   "outputs": [
    {
     "name": "stdout",
     "output_type": "stream",
     "text": [
      "The index of N is 0 \n",
      "The index of i is 1 \n",
      "The index of k is 2 \n",
      "The index of e is 3 \n",
      "The index of s is 4 \n",
      "The index of h is 5 \n",
      "The index of   is 6 \n",
      "The index of w is 7 \n",
      "The index of a is 8 \n",
      "The index of g is 9 \n",
      "The index of l is 10 \n",
      "The index of e is 11 \n"
     ]
    }
   ],
   "source": [
    "name='Nikesh wagle'\n",
    "for i in range(len(name)):\n",
    "    print(f'The index of {name[i]} is {i} ')"
   ]
  },
  {
   "cell_type": "code",
   "execution_count": 1,
   "id": "e7d012cb-90b2-4fe0-befa-bd5b11019efd",
   "metadata": {},
   "outputs": [
    {
     "name": "stdout",
     "output_type": "stream",
     "text": [
      "python"
     ]
    }
   ],
   "source": [
    "string1='python'\n",
    "\n",
    "# I want to print the letters using for loop\n",
    "# in \n",
    "# range\n",
    "\n",
    "for i in string1:  # here i means each letter\n",
    "    print(i,end='')"
   ]
  },
  {
   "cell_type": "code",
   "execution_count": 9,
   "id": "47859485-5751-441f-876c-a266870d496d",
   "metadata": {},
   "outputs": [
    {
     "name": "stdout",
     "output_type": "stream",
     "text": [
      "python"
     ]
    }
   ],
   "source": [
    "for i in range(len(string1)):   # here i means numbers\n",
    "    print(string1[i],end='')  # indexing"
   ]
  },
  {
   "cell_type": "code",
   "execution_count": null,
   "id": "0e0e9834-b743-4076-b449-aa5465afe5f3",
   "metadata": {},
   "outputs": [],
   "source": [
    "\n",
    "-6 -5 -4 -3 -2 -1======> neg index\n",
    "p  y  t  h  o  n\n",
    "0  1  2  3  4  5 =======>pos index"
   ]
  },
  {
   "cell_type": "code",
   "execution_count": 19,
   "id": "f90f695f-8985-4584-82cd-9a9b2bf19943",
   "metadata": {},
   "outputs": [
    {
     "data": {
      "text/plain": [
       "('p', 'y', 't', 'h', 'o', 'n')"
      ]
     },
     "execution_count": 19,
     "metadata": {},
     "output_type": "execute_result"
    }
   ],
   "source": [
    "string1[-6],string1[-5],string1[-4],string1[-3],string1[-2],string1[-1]"
   ]
  },
  {
   "cell_type": "code",
   "execution_count": 51,
   "id": "6d212128-bd48-4f90-ad2c-331061fe973e",
   "metadata": {},
   "outputs": [
    {
     "name": "stdout",
     "output_type": "stream",
     "text": [
      "-6 p\n",
      "-5 y\n",
      "-4 t\n",
      "-3 h\n",
      "-2 o\n",
      "-1 n\n"
     ]
    }
   ],
   "source": [
    "for i in range(-6,0):\n",
    "    print(i,string1[i])"
   ]
  },
  {
   "cell_type": "code",
   "execution_count": 57,
   "id": "a2eb1988-a744-4d6e-b70f-36937f903a1a",
   "metadata": {},
   "outputs": [
    {
     "name": "stdout",
     "output_type": "stream",
     "text": [
      "The positive index is 0 and negative index is -6 for a letter p\n",
      "The positive index is 1 and negative index is -5 for a letter y\n",
      "The positive index is 2 and negative index is -4 for a letter t\n",
      "The positive index is 3 and negative index is -3 for a letter h\n",
      "The positive index is 4 and negative index is -2 for a letter o\n",
      "The positive index is 5 and negative index is -1 for a letter n\n"
     ]
    }
   ],
   "source": [
    "# Alt process\n",
    "for i in range(len(string1)):\n",
    "    print(f'The positive index is {i} and negative index is {i-6} for a letter {string1[i]}')"
   ]
  },
  {
   "cell_type": "code",
   "execution_count": 84,
   "id": "de9e0681-ee11-43fc-8b98-cf6fbc5a8efb",
   "metadata": {},
   "outputs": [
    {
     "name": "stdout",
     "output_type": "stream",
     "text": [
      "The positive index is 0 and negative index is -6 for a letter p\n",
      "The positive index is 1 and negative index is -5 for a letter y\n",
      "The positive index is 2 and negative index is -4 for a letter t\n",
      "The positive index is 3 and negative index is -3 for a letter h\n",
      "The positive index is 4 and negative index is -2 for a letter o\n",
      "The positive index is 5 and negative index is -1 for a letter n\n"
     ]
    }
   ],
   "source": [
    "# By using while loop\n",
    "i=0\n",
    "while i<len(string1):\n",
    "    print(f'The positive index is {i} and negative index is {i-6} for a letter {string1[i]}')\n",
    "    i+=1"
   ]
  },
  {
   "cell_type": "code",
   "execution_count": 82,
   "id": "7ad98fff-6c73-4fba-b7cf-06c1a29c1142",
   "metadata": {},
   "outputs": [
    {
     "name": "stdout",
     "output_type": "stream",
     "text": [
      "The positive index of p is 0\n",
      "The positive index of y is 1\n",
      "The positive index of t is 2\n",
      "The positive index of h is 3\n",
      "The positive index of o is 4\n",
      "The positive index of n is 5\n",
      "The negative index of p is -6\n",
      "The negative index of y is -5\n",
      "The negative index of t is -4\n",
      "The negative index of h is -3\n",
      "The negative index of o is -2\n",
      "The negative index of n is -1\n",
      "The positive index is 0 and neg index is -6 for a letter p\n",
      "The positive index is 1 and neg index is -5 for a letter y\n",
      "The positive index is 2 and neg index is -4 for a letter t\n",
      "The positive index is 3 and neg index is -3 for a letter h\n",
      "The positive index is 4 and neg index is -2 for a letter o\n",
      "The positive index is 5 and neg index is -1 for a letter n\n"
     ]
    }
   ],
   "source": [
    "for i in range(-len(string1),0):\n",
    "    print(f'The positive index of {string1[i]} is {i+6}')\n",
    "\n",
    "for i in range(-len(string1),0):\n",
    "    print(f'The negative index of {string1[i]} is {i}')\n",
    "\n",
    "for i in range(-len(string1),0):\n",
    "    print(f'The positive index is {i+6} and neg index is {i} for a letter {string1[i]}')"
   ]
  },
  {
   "cell_type": "code",
   "execution_count": 90,
   "id": "68084b80-e7f3-409c-9112-04abe3f1de58",
   "metadata": {},
   "outputs": [
    {
     "name": "stdout",
     "output_type": "stream",
     "text": [
      "2\n"
     ]
    }
   ],
   "source": [
    "string1='hai how are you'\n",
    "count=0\n",
    "for i in string1:\n",
    "    if i=='a':\n",
    "        count+=1\n",
    "\n",
    "print(count)"
   ]
  },
  {
   "cell_type": "code",
   "execution_count": 88,
   "id": "d4f5ce63-179e-45e5-96b7-c9b22f338acf",
   "metadata": {},
   "outputs": [
    {
     "name": "stdout",
     "output_type": "stream",
     "text": [
      "2\n"
     ]
    }
   ],
   "source": [
    "string1='hai how are you'\n",
    "count=0\n",
    "for i in range(len(string1)):\n",
    "    if string1[i]=='a':\n",
    "        count+=1\n",
    "\n",
    "print(count)\n",
    "    "
   ]
  },
  {
   "cell_type": "markdown",
   "id": "60df57d2-8432-4d75-8fd7-639c5e7ebb0e",
   "metadata": {},
   "source": [
    "### Mutuable and immutuable concept\n",
    "\n",
    "- mutuable======= we can change\n",
    "- immutuable======we cannot change the value by using index operations\n",
    "\n",
    "### strings are immutuable"
   ]
  },
  {
   "cell_type": "code",
   "execution_count": 100,
   "id": "097dbcbf-67dc-47a6-a12a-658d396456fe",
   "metadata": {},
   "outputs": [
    {
     "data": {
      "text/plain": [
       "[1000, 200, 300]"
      ]
     },
     "execution_count": 100,
     "metadata": {},
     "output_type": "execute_result"
    }
   ],
   "source": [
    "list1=[100,200,300]    # list are mutuable but strings are immutuable\n",
    "list1[0]=1000\n",
    "list1"
   ]
  },
  {
   "cell_type": "markdown",
   "id": "5371e564-8163-44a4-91e1-49fa5588f51d",
   "metadata": {},
   "source": [
    "### Slice"
   ]
  },
  {
   "cell_type": "code",
   "execution_count": null,
   "id": "e0ba9bde-da6b-475f-bd7c-d08db4d7f3b1",
   "metadata": {},
   "outputs": [],
   "source": [
    "\n",
    "h a i   h o w   a r e  y o u \n",
    "0 1 2 3 4 5 6 7 8 9 10 11 12 13"
   ]
  },
  {
   "cell_type": "code",
   "execution_count": 107,
   "id": "bd8a4d9e-49d3-45f9-ac58-336158251748",
   "metadata": {},
   "outputs": [
    {
     "data": {
      "text/plain": [
       "'ai how a'"
      ]
     },
     "execution_count": 107,
     "metadata": {},
     "output_type": "execute_result"
    }
   ],
   "source": [
    "string1='hai how are you'\n",
    "#string1[start:stop]\n",
    "string1[1:9]\n",
    "# start=1\n",
    "# end=9-1\n",
    "#    = 8"
   ]
  },
  {
   "cell_type": "code",
   "execution_count": 113,
   "id": "fd2954f3-40ff-4e59-a195-2e4c156a4587",
   "metadata": {},
   "outputs": [
    {
     "data": {
      "text/plain": [
       "'he is smart'"
      ]
     },
     "execution_count": 113,
     "metadata": {},
     "output_type": "execute_result"
    }
   ],
   "source": [
    "string2='Nikesh is a good boy and he is smart'\n",
    "string2[25:36]\n",
    "# start=26\n",
    "# end =37-1\n",
    "#        36"
   ]
  },
  {
   "cell_type": "code",
   "execution_count": 119,
   "id": "f9d8b590-5aa1-4fab-a6b0-c548ef9d0ef9",
   "metadata": {},
   "outputs": [
    {
     "data": {
      "text/plain": [
       "'ah '"
      ]
     },
     "execution_count": 119,
     "metadata": {},
     "output_type": "execute_result"
    }
   ],
   "source": [
    "string1='hai how are you'\n",
    "#string1[start:stop]\n",
    "string1[1:9:3]\n",
    "# start=1\n",
    "# dir=3\n",
    "# end=9-1"
   ]
  },
  {
   "cell_type": "code",
   "execution_count": 121,
   "id": "1dec822f-f3ec-4aba-b81b-99f31d6d12bd",
   "metadata": {},
   "outputs": [
    {
     "data": {
      "text/plain": [
       "'hai how are you'"
      ]
     },
     "execution_count": 121,
     "metadata": {},
     "output_type": "execute_result"
    }
   ],
   "source": [
    "string1[:]\n",
    "# nothing mention means take start and last letter"
   ]
  },
  {
   "cell_type": "code",
   "execution_count": 123,
   "id": "00d6add0-4bff-424f-bb69-9a09c6245cbe",
   "metadata": {},
   "outputs": [
    {
     "data": {
      "text/plain": [
       "'hai how are you'"
      ]
     },
     "execution_count": 123,
     "metadata": {},
     "output_type": "execute_result"
    }
   ],
   "source": [
    "string1[::]\n",
    "# start=0\n",
    "# stop=last letter len(string)\n",
    "# step=+1"
   ]
  },
  {
   "cell_type": "code",
   "execution_count": 125,
   "id": "f3ea4d0b-81cb-48e2-846a-43d7361da3f4",
   "metadata": {},
   "outputs": [
    {
     "data": {
      "text/plain": [
       "''"
      ]
     },
     "execution_count": 125,
     "metadata": {},
     "output_type": "execute_result"
    }
   ],
   "source": [
    "string1[2:10:-3]"
   ]
  },
  {
   "cell_type": "code",
   "execution_count": null,
   "id": "8c5292e6-19c5-460c-a2a2-434588854799",
   "metadata": {},
   "outputs": [],
   "source": [
    "h a i   h o w   a r e     y  o  u \n",
    "0 1 2 3 4 5 6 7 8 9 10 11 12 13 14"
   ]
  },
  {
   "cell_type": "code",
   "execution_count": 127,
   "id": "9d0023db-2590-4bec-8988-d3264341a0ca",
   "metadata": {},
   "outputs": [
    {
     "data": {
      "text/plain": [
       "'ihwaey'"
      ]
     },
     "execution_count": 127,
     "metadata": {},
     "output_type": "execute_result"
    }
   ],
   "source": [
    "string1[2:14:2]"
   ]
  },
  {
   "cell_type": "code",
   "execution_count": 129,
   "id": "41a78cf9-c794-4df9-91c8-68be2c67f8e7",
   "metadata": {},
   "outputs": [
    {
     "data": {
      "text/plain": [
       "'i'"
      ]
     },
     "execution_count": 129,
     "metadata": {},
     "output_type": "execute_result"
    }
   ],
   "source": [
    "string1[2:-14:-2]"
   ]
  },
  {
   "cell_type": "code",
   "execution_count": 137,
   "id": "0eb34e5b-6449-4176-86b5-2cca130d3022",
   "metadata": {},
   "outputs": [
    {
     "data": {
      "text/plain": [
       "2"
      ]
     },
     "execution_count": 137,
     "metadata": {},
     "output_type": "execute_result"
    }
   ],
   "source": [
    "string1[8:-15:-2]\n",
    "# start=8\n",
    "# end=-14+1=-13\n",
    "2"
   ]
  },
  {
   "cell_type": "markdown",
   "id": "85742f74-1188-4829-9f6f-c41530de250c",
   "metadata": {},
   "source": [
    "### string methods"
   ]
  },
  {
   "cell_type": "code",
   "execution_count": 143,
   "id": "f81300d8-a339-422e-9ceb-20a54e769723",
   "metadata": {},
   "outputs": [
    {
     "data": {
      "text/plain": [
       "['__add__',\n",
       " '__class__',\n",
       " '__contains__',\n",
       " '__delattr__',\n",
       " '__dir__',\n",
       " '__doc__',\n",
       " '__eq__',\n",
       " '__format__',\n",
       " '__ge__',\n",
       " '__getattribute__',\n",
       " '__getitem__',\n",
       " '__getnewargs__',\n",
       " '__getstate__',\n",
       " '__gt__',\n",
       " '__hash__',\n",
       " '__init__',\n",
       " '__init_subclass__',\n",
       " '__iter__',\n",
       " '__le__',\n",
       " '__len__',\n",
       " '__lt__',\n",
       " '__mod__',\n",
       " '__mul__',\n",
       " '__ne__',\n",
       " '__new__',\n",
       " '__reduce__',\n",
       " '__reduce_ex__',\n",
       " '__repr__',\n",
       " '__rmod__',\n",
       " '__rmul__',\n",
       " '__setattr__',\n",
       " '__sizeof__',\n",
       " '__str__',\n",
       " '__subclasshook__',\n",
       " 'capitalize',\n",
       " 'casefold',\n",
       " 'center',\n",
       " 'count',\n",
       " 'encode',\n",
       " 'endswith',\n",
       " 'expandtabs',\n",
       " 'find',\n",
       " 'format',\n",
       " 'format_map',\n",
       " 'index',\n",
       " 'isalnum',\n",
       " 'isalpha',\n",
       " 'isascii',\n",
       " 'isdecimal',\n",
       " 'isdigit',\n",
       " 'isidentifier',\n",
       " 'islower',\n",
       " 'isnumeric',\n",
       " 'isprintable',\n",
       " 'isspace',\n",
       " 'istitle',\n",
       " 'isupper',\n",
       " 'join',\n",
       " 'ljust',\n",
       " 'lower',\n",
       " 'lstrip',\n",
       " 'maketrans',\n",
       " 'partition',\n",
       " 'removeprefix',\n",
       " 'removesuffix',\n",
       " 'replace',\n",
       " 'rfind',\n",
       " 'rindex',\n",
       " 'rjust',\n",
       " 'rpartition',\n",
       " 'rsplit',\n",
       " 'rstrip',\n",
       " 'split',\n",
       " 'splitlines',\n",
       " 'startswith',\n",
       " 'strip',\n",
       " 'swapcase',\n",
       " 'title',\n",
       " 'translate',\n",
       " 'upper',\n",
       " 'zfill']"
      ]
     },
     "execution_count": 143,
     "metadata": {},
     "output_type": "execute_result"
    }
   ],
   "source": [
    "dir('')"
   ]
  },
  {
   "cell_type": "markdown",
   "id": "5c9cf7ea-8388-4950-9aa3-847f7b38b701",
   "metadata": {},
   "source": [
    "$ capitalize$"
   ]
  },
  {
   "cell_type": "code",
   "execution_count": 148,
   "id": "d03aa69f-2f0e-4b5a-a6ba-77d339018835",
   "metadata": {},
   "outputs": [
    {
     "data": {
      "text/plain": [
       "'Welcome'"
      ]
     },
     "execution_count": 148,
     "metadata": {},
     "output_type": "execute_result"
    }
   ],
   "source": [
    "string1='welcome'\n",
    "string1.capitalize()"
   ]
  },
  {
   "cell_type": "markdown",
   "id": "c57f9648-cef0-49f0-9c71-4b83a88a336c",
   "metadata": {},
   "source": [
    "$swap  case$"
   ]
  },
  {
   "cell_type": "code",
   "execution_count": null,
   "id": "18789928-317c-4cac-8332-9608eec5e624",
   "metadata": {},
   "outputs": [],
   "source": []
  },
  {
   "cell_type": "code",
   "execution_count": 150,
   "id": "df552b81-dd02-4f67-bd5b-a4b632c87e9a",
   "metadata": {},
   "outputs": [
    {
     "data": {
      "text/plain": [
       "'WELCOME'"
      ]
     },
     "execution_count": 150,
     "metadata": {},
     "output_type": "execute_result"
    }
   ],
   "source": [
    "string1='welcome'\n",
    "string1.swapcase()"
   ]
  },
  {
   "cell_type": "code",
   "execution_count": 154,
   "id": "d247ec2f-ac5a-46b2-bb1e-c8596aa46c80",
   "metadata": {},
   "outputs": [
    {
     "data": {
      "text/plain": [
       "'WELCOME'"
      ]
     },
     "execution_count": 154,
     "metadata": {},
     "output_type": "execute_result"
    }
   ],
   "source": [
    "string1.upper()"
   ]
  },
  {
   "cell_type": "code",
   "execution_count": 156,
   "id": "ff0287a7-8965-47c7-8932-6513ebc67d73",
   "metadata": {},
   "outputs": [
    {
     "data": {
      "text/plain": [
       "'welcome'"
      ]
     },
     "execution_count": 156,
     "metadata": {},
     "output_type": "execute_result"
    }
   ],
   "source": [
    "string1.lower()"
   ]
  },
  {
   "cell_type": "code",
   "execution_count": 163,
   "id": "c08ab8c7-f496-40d1-b0c1-602f79fc1bd4",
   "metadata": {},
   "outputs": [
    {
     "data": {
      "text/plain": [
       "2"
      ]
     },
     "execution_count": 163,
     "metadata": {},
     "output_type": "execute_result"
    }
   ],
   "source": [
    "string2='hai how are you'\n",
    "string2.count('a')"
   ]
  },
  {
   "cell_type": "code",
   "execution_count": 169,
   "id": "374eae9e-58a9-4772-b48b-816366f3b42d",
   "metadata": {},
   "outputs": [
    {
     "name": "stdout",
     "output_type": "stream",
     "text": [
      "2\n"
     ]
    }
   ],
   "source": [
    "# Alt process\n",
    "count=0\n",
    "for i in string2:\n",
    "    if i=='a':\n",
    "        count+=1\n",
    "\n",
    "print(count)\n",
    "    "
   ]
  },
  {
   "cell_type": "code",
   "execution_count": 181,
   "id": "43e80591-73df-4b38-b5b2-b1e0e6101967",
   "metadata": {},
   "outputs": [
    {
     "data": {
      "text/plain": [
       "'weLcome'"
      ]
     },
     "execution_count": 181,
     "metadata": {},
     "output_type": "execute_result"
    }
   ],
   "source": [
    "string5='welcome'\n",
    "string3=string5[:2]\n",
    "string4=string5[3:8]\n",
    "string3+'L'+string4"
   ]
  },
  {
   "cell_type": "code",
   "execution_count": 183,
   "id": "9c9a7044-1396-48bd-a785-f25b8da76f45",
   "metadata": {},
   "outputs": [
    {
     "data": {
      "text/plain": [
       "'come'"
      ]
     },
     "execution_count": 183,
     "metadata": {},
     "output_type": "execute_result"
    }
   ],
   "source": [
    "string5[3:8]"
   ]
  },
  {
   "cell_type": "code",
   "execution_count": 185,
   "id": "60280e2d-964d-4b43-a140-0a35aef56c3e",
   "metadata": {},
   "outputs": [
    {
     "data": {
      "text/plain": [
       "'weLcome'"
      ]
     },
     "execution_count": 185,
     "metadata": {},
     "output_type": "execute_result"
    }
   ],
   "source": [
    "string1.replace('l','L')"
   ]
  },
  {
   "cell_type": "code",
   "execution_count": 1,
   "id": "32bb9f94-2067-45f6-bd68-5068164d7f5f",
   "metadata": {},
   "outputs": [
    {
     "data": {
      "text/plain": [
       "'nikesh'"
      ]
     },
     "execution_count": 1,
     "metadata": {},
     "output_type": "execute_result"
    }
   ],
   "source": [
    "a='I am nikesh wagle'\n",
    "a[5:11]"
   ]
  },
  {
   "cell_type": "code",
   "execution_count": 3,
   "id": "f4af84f0-ed5e-466f-acbe-9d475e71e981",
   "metadata": {},
   "outputs": [
    {
     "data": {
      "text/plain": [
       "'wagle'"
      ]
     },
     "execution_count": 3,
     "metadata": {},
     "output_type": "execute_result"
    }
   ],
   "source": [
    "a[12:17]"
   ]
  },
  {
   "cell_type": "code",
   "execution_count": 3,
   "id": "c8fc1e17-4713-45ad-9ca8-1a949f27f15a",
   "metadata": {},
   "outputs": [
    {
     "data": {
      "text/plain": [
       "5"
      ]
     },
     "execution_count": 3,
     "metadata": {},
     "output_type": "execute_result"
    }
   ],
   "source": [
    "a='I am nikesh wagle'\n",
    "a.find('n')"
   ]
  },
  {
   "cell_type": "code",
   "execution_count": 5,
   "id": "3caafdda-b6fc-4c1e-ae03-92c1177f23d1",
   "metadata": {},
   "outputs": [
    {
     "data": {
      "text/plain": [
       "10"
      ]
     },
     "execution_count": 5,
     "metadata": {},
     "output_type": "execute_result"
    }
   ],
   "source": [
    "a.find('h')"
   ]
  },
  {
   "cell_type": "markdown",
   "id": "f06cf3b1-4e91-46a3-9a09-13c9addaced1",
   "metadata": {},
   "source": [
    "### casefold"
   ]
  },
  {
   "cell_type": "code",
   "execution_count": 9,
   "id": "73631b91-50b2-4938-b613-3051bc082bef",
   "metadata": {},
   "outputs": [
    {
     "data": {
      "text/plain": [
       "'welcome'"
      ]
     },
     "execution_count": 9,
     "metadata": {},
     "output_type": "execute_result"
    }
   ],
   "source": [
    "string1='Welcome'\n",
    "string1.casefold()"
   ]
  },
  {
   "cell_type": "code",
   "execution_count": 11,
   "id": "5c7a596b-3825-4d0c-b355-ee7f11d21cae",
   "metadata": {},
   "outputs": [
    {
     "data": {
      "text/plain": [
       "'welcome'"
      ]
     },
     "execution_count": 11,
     "metadata": {},
     "output_type": "execute_result"
    }
   ],
   "source": [
    "string2='welcome'\n",
    "string2.casefold()"
   ]
  },
  {
   "cell_type": "markdown",
   "id": "84c53aed-8948-4810-a22f-219156bbce62",
   "metadata": {},
   "source": [
    "- capitalize: First letter as capital\n",
    "\n",
    "- upper: All letters are in upper case\n",
    "\n",
    "- lower: All letters are in lower case\n",
    "\n",
    "- casefold: case less comparision(lowercase)"
   ]
  },
  {
   "cell_type": "markdown",
   "id": "c0ea2e24-202c-4d63-a04e-93c17a1faead",
   "metadata": {},
   "source": [
    "$ count$"
   ]
  },
  {
   "cell_type": "code",
   "execution_count": 14,
   "id": "2bc79db6-c3b5-4cf2-93f1-92419ebdccdd",
   "metadata": {},
   "outputs": [
    {
     "data": {
      "text/plain": [
       "3"
      ]
     },
     "execution_count": 14,
     "metadata": {},
     "output_type": "execute_result"
    }
   ],
   "source": [
    "string1='Welcome Welcome Welcome'\n",
    "string1.count('Welcome')"
   ]
  },
  {
   "cell_type": "code",
   "execution_count": 17,
   "id": "a6fddd4c-8afa-4db8-a04e-c592644ea03e",
   "metadata": {},
   "outputs": [
    {
     "data": {
      "text/plain": [
       "2"
      ]
     },
     "execution_count": 17,
     "metadata": {},
     "output_type": "execute_result"
    }
   ],
   "source": [
    "string1='ola ola ola'\n",
    "string1.count('ola ')  # ola space is only 2 times"
   ]
  },
  {
   "cell_type": "code",
   "execution_count": 23,
   "id": "1eec9ee9-c17f-4969-9aa8-09947e333b23",
   "metadata": {},
   "outputs": [
    {
     "name": "stdout",
     "output_type": "stream",
     "text": [
      "2\n"
     ]
    }
   ],
   "source": [
    "string1='ola ola ola'\n",
    "string1.count('a',4,6) # We are counting 'a' after index 4\n",
    "print(string1.count('A'.lower(),4))"
   ]
  },
  {
   "cell_type": "code",
   "execution_count": 31,
   "id": "db131b5a-c2db-4bd1-90bb-315df6bdd232",
   "metadata": {},
   "outputs": [
    {
     "name": "stdout",
     "output_type": "stream",
     "text": [
      "3\n"
     ]
    }
   ],
   "source": [
    "string1='ola ola ola'\n",
    "count=0\n",
    "for i in range(len(string1)):\n",
    "    if string1[i]=='a':\n",
    "        count+=1\n",
    "\n",
    "print(count)"
   ]
  },
  {
   "cell_type": "code",
   "execution_count": 230,
   "id": "f460ad0e-8e4f-465e-af19-aa6b2e80feca",
   "metadata": {},
   "outputs": [
    {
     "data": {
      "text/plain": [
       "3"
      ]
     },
     "execution_count": 230,
     "metadata": {},
     "output_type": "execute_result"
    }
   ],
   "source": [
    "# How many ola are there\n",
    "string1='ola ola ola'\n",
    "count=0\n",
    "for i in range(len(string1)):\n",
    "    if string1[i:i+3]=='ola':\n",
    "        count+=1\n",
    "\n",
    "count\n",
    "    "
   ]
  },
  {
   "cell_type": "markdown",
   "id": "228684bd-1df7-48a1-adb6-e9489c3552c7",
   "metadata": {},
   "source": [
    "$ replace$"
   ]
  },
  {
   "cell_type": "code",
   "execution_count": 54,
   "id": "365679dd-3af9-479a-9a04-11d459b2a10a",
   "metadata": {},
   "outputs": [
    {
     "data": {
      "text/plain": [
       "'RestaRt'"
      ]
     },
     "execution_count": 54,
     "metadata": {},
     "output_type": "execute_result"
    }
   ],
   "source": [
    "string1='restart'\n",
    "string1.replace('r','R')"
   ]
  },
  {
   "cell_type": "code",
   "execution_count": 58,
   "id": "ce892a65-ab2d-4da5-8c82-81d8d73be3ff",
   "metadata": {},
   "outputs": [
    {
     "data": {
      "text/plain": [
       "'$estart'"
      ]
     },
     "execution_count": 58,
     "metadata": {},
     "output_type": "execute_result"
    }
   ],
   "source": [
    "string1='restart'\n",
    "string1.replace('r','$',1) # occurence=1  all occurence=-1"
   ]
  },
  {
   "cell_type": "code",
   "execution_count": 78,
   "id": "eb299813-45a9-44d7-89ba-437b98ef5de4",
   "metadata": {},
   "outputs": [
    {
     "name": "stdout",
     "output_type": "stream",
     "text": [
      "restar$\n"
     ]
    }
   ],
   "source": [
    "string1='restart'\n",
    "a=string1[0:4]\n",
    "b=string1[4:7].replace('t','$')\n",
    "print(a+b)\n"
   ]
  },
  {
   "cell_type": "code",
   "execution_count": 82,
   "id": "a473e605-10bd-47f3-9f59-aed5da0fc5a9",
   "metadata": {},
   "outputs": [
    {
     "data": {
      "text/plain": [
       "'resta$t'"
      ]
     },
     "execution_count": 82,
     "metadata": {},
     "output_type": "execute_result"
    }
   ],
   "source": [
    "string1[::-1].replace('r','$',1)[::-1]"
   ]
  },
  {
   "cell_type": "markdown",
   "id": "fb588849-db7d-4f3e-bfa8-7cebac87ad45",
   "metadata": {},
   "source": [
    "$index$"
   ]
  },
  {
   "cell_type": "code",
   "execution_count": 101,
   "id": "dcc5bb23-284c-4265-a07b-8316125ad272",
   "metadata": {},
   "outputs": [
    {
     "data": {
      "text/plain": [
       "3"
      ]
     },
     "execution_count": 101,
     "metadata": {},
     "output_type": "execute_result"
    }
   ],
   "source": [
    "string1='welcome python'\n",
    "string1.index('c')\n",
    "string1.find('c')"
   ]
  },
  {
   "cell_type": "code",
   "execution_count": 105,
   "id": "27a52330-11bf-4491-9fa9-7f87e3600265",
   "metadata": {},
   "outputs": [
    {
     "name": "stdout",
     "output_type": "stream",
     "text": [
      "3\n"
     ]
    },
    {
     "data": {
      "text/plain": [
       "3"
      ]
     },
     "execution_count": 105,
     "metadata": {},
     "output_type": "execute_result"
    }
   ],
   "source": [
    "string1='hai how are you and'\n",
    "count=0\n",
    "for i in string1:\n",
    "    if i=='a':\n",
    "        count+=1\n",
    "\n",
    "print(count)\n",
    "string1.count('a')"
   ]
  },
  {
   "cell_type": "code",
   "execution_count": 107,
   "id": "73c1c773-bd89-4cf9-a7e0-81344e7a4a0d",
   "metadata": {},
   "outputs": [
    {
     "name": "stdout",
     "output_type": "stream",
     "text": [
      "1\n",
      "8\n",
      "16\n"
     ]
    }
   ],
   "source": [
    "for i in range(len(string1)):\n",
    "    if string1[i]=='a':\n",
    "        print(i)"
   ]
  },
  {
   "cell_type": "code",
   "execution_count": 123,
   "id": "d57736d2-46e4-4ea1-bebb-92cb06cd90c0",
   "metadata": {},
   "outputs": [
    {
     "name": "stdout",
     "output_type": "stream",
     "text": [
      "15\n"
     ]
    }
   ],
   "source": [
    "string1='hai hai hai'\n",
    "# I want first occurence of 'a'\n",
    "i1=string1.index('a')\n",
    "# second occurence of 'a'\n",
    "i2=string1.index('a',i1+1)\n",
    "# third occurence of 'a'\n",
    "i3=string1.index('a',i2+1)\n",
    "print(i1+i2+i3)"
   ]
  },
  {
   "cell_type": "code",
   "execution_count": 133,
   "id": "b70f4b5d-cd2d-4796-998a-d3830566f5d7",
   "metadata": {},
   "outputs": [
    {
     "data": {
      "text/plain": [
       "15"
      ]
     },
     "execution_count": 133,
     "metadata": {},
     "output_type": "execute_result"
    }
   ],
   "source": [
    "string1='welcome helo helo'\n",
    "string1.index('l')\n",
    "string1.index('l',string1.index('l')+1)\n",
    "string1.index('l',string1.index('l',string1.index('l')+1)+1)"
   ]
  },
  {
   "cell_type": "markdown",
   "id": "dd232ed6-a01b-45dc-aa9e-1cd59bee24ae",
   "metadata": {},
   "source": [
    "$find$"
   ]
  },
  {
   "cell_type": "code",
   "execution_count": 148,
   "id": "2a4e1476-5c60-4fec-b2bf-ec77e6b54ae5",
   "metadata": {},
   "outputs": [
    {
     "data": {
      "text/plain": [
       "10"
      ]
     },
     "execution_count": 148,
     "metadata": {},
     "output_type": "execute_result"
    }
   ],
   "source": [
    "string1='welcome helo helo'\n",
    "string1.find('l',3)\n",
    "\n",
    "# if substring not found in find method then it returns -1"
   ]
  },
  {
   "cell_type": "markdown",
   "id": "a8a9b233-a6ab-4259-afb7-3fa87d3ff7db",
   "metadata": {},
   "source": [
    "- Find and index are same but there is one main diff(imp)\n",
    "- In find if substring is not found then it gives output as -1.\n",
    "- In index if substring is not found it gives error as a output.\n",
    "- In count if substring is not found then it gives zero as output."
   ]
  },
  {
   "cell_type": "markdown",
   "id": "e7896447-b10f-47c7-9432-2321da2160ff",
   "metadata": {},
   "source": [
    "### We learnt till today\n",
    "- capitalize/upper/lower/casefold\n",
    "- index/find\n",
    "- count\n",
    "- replace"
   ]
  },
  {
   "cell_type": "code",
   "execution_count": 1,
   "id": "c4c040d9-5c86-4b77-b55c-e00509efe431",
   "metadata": {},
   "outputs": [
    {
     "data": {
      "text/plain": [
       "2"
      ]
     },
     "execution_count": 1,
     "metadata": {},
     "output_type": "execute_result"
    }
   ],
   "source": [
    "str1='hai how are you, im good'\n",
    "str1.index('I'.lower())"
   ]
  },
  {
   "cell_type": "code",
   "execution_count": 3,
   "id": "6afb08e2-70fa-4fa1-b56a-6dd085efd568",
   "metadata": {},
   "outputs": [
    {
     "data": {
      "text/plain": [
       "17"
      ]
     },
     "execution_count": 3,
     "metadata": {},
     "output_type": "execute_result"
    }
   ],
   "source": [
    "str1.index('i',2+1)"
   ]
  },
  {
   "cell_type": "markdown",
   "id": "51829181-81a7-40d6-8c9b-fce127acc826",
   "metadata": {},
   "source": [
    "$strip$-$lstrip$-$rstrip$"
   ]
  },
  {
   "cell_type": "markdown",
   "id": "31928251-26fb-4104-a627-3bf3ebb0b009",
   "metadata": {},
   "source": [
    "- strip means to remove the coverings or spaces"
   ]
  },
  {
   "cell_type": "code",
   "execution_count": 13,
   "id": "306e6d61-6b50-4156-a0f7-b246d36175bd",
   "metadata": {},
   "outputs": [
    {
     "name": "stdout",
     "output_type": "stream",
     "text": [
      "hello how are you\n",
      "hello how are you\n",
      "hello how are you\n"
     ]
    }
   ],
   "source": [
    "str1=' hello how are you '\n",
    "str2=' hello how are you'\n",
    "str3='hello how are you '\n",
    "# I want to remove spaces\n",
    "print(str1.strip())  # Remove spaces of both sides use strip\n",
    "print(str2.lstrip()) # Remove space of left side use lstrip\n",
    "print(str3.rstrip()) # Remove space of right side use rstrip"
   ]
  },
  {
   "cell_type": "code",
   "execution_count": 35,
   "id": "2e2c8c81-6a62-4d8a-a0f5-bed63dbb1d5b",
   "metadata": {},
   "outputs": [
    {
     "name": "stdout",
     "output_type": "stream",
     "text": [
      "python anaconda nareshit\n"
     ]
    }
   ],
   "source": [
    "# WAP to extract\n",
    "str1='python.anaconda@nareshit.com'\n",
    "# Extract first name: python\n",
    "# Extract second name: anaconda\n",
    "# Extract third name: nareshit\n",
    "# Use method find/index\n",
    "\n",
    "a=str1[:6]\n",
    "b=str1[7:15]\n",
    "c=str1[16:24]\n",
    "print(a,b,c)"
   ]
  },
  {
   "cell_type": "code",
   "execution_count": 54,
   "id": "c2e56912-51a3-40b4-b73a-5bca936f2da7",
   "metadata": {},
   "outputs": [
    {
     "data": {
      "text/plain": [
       "25"
      ]
     },
     "execution_count": 54,
     "metadata": {},
     "output_type": "execute_result"
    }
   ],
   "source": [
    "str2='omkar.nallagoni@cognizant.com'\n",
    "str2.find('.',16)"
   ]
  },
  {
   "cell_type": "code",
   "execution_count": 56,
   "id": "65015d4d-aa32-4844-89fc-f80c1673d32b",
   "metadata": {},
   "outputs": [
    {
     "data": {
      "text/plain": [
       "('omkar', 'allagoni', 'cognizant')"
      ]
     },
     "execution_count": 56,
     "metadata": {},
     "output_type": "execute_result"
    }
   ],
   "source": [
    "str2[0:str2.find('.')],str2[7:str2.find('@')],str2[16:str2.find('.',16)]"
   ]
  },
  {
   "cell_type": "code",
   "execution_count": 75,
   "id": "151167a1-c3fb-439c-a00f-8f893beb6200",
   "metadata": {},
   "outputs": [
    {
     "data": {
      "text/plain": [
       "('3', '1489')"
      ]
     },
     "execution_count": 75,
     "metadata": {},
     "output_type": "execute_result"
    }
   ],
   "source": [
    "str1='3.1489'\n",
    "str1[str1.find('.')-1],str1[str1.find('.')+1:] # str1[<first>:<last>]"
   ]
  },
  {
   "cell_type": "code",
   "execution_count": 93,
   "id": "f07a349f-6d98-493c-a764-08cb41372944",
   "metadata": {},
   "outputs": [
    {
     "data": {
      "text/plain": [
       "('a', 'b', 'c')"
      ]
     },
     "execution_count": 93,
     "metadata": {},
     "output_type": "execute_result"
    }
   ],
   "source": [
    "str1='a.b@c.com'\n",
    "# Extract a,b and c\n",
    "first_dot=str1.find('.')\n",
    "second_dot=str1.find('.',first_dot+1)\n",
    "str1[str1.find('.')-1],str1[str1.find('.')+1:str1.find('@')],str1[str1.find('@')+1:second_dot]"
   ]
  },
  {
   "cell_type": "markdown",
   "id": "0a26cdae-7098-4f2c-b844-94feb50af715",
   "metadata": {},
   "source": [
    "### starts with and ends with"
   ]
  },
  {
   "cell_type": "code",
   "execution_count": 98,
   "id": "8221911d-37e4-4b94-9b13-f61617b59ccd",
   "metadata": {},
   "outputs": [
    {
     "data": {
      "text/plain": [
       "True"
      ]
     },
     "execution_count": 98,
     "metadata": {},
     "output_type": "execute_result"
    }
   ],
   "source": [
    "str1='hai how are you'\n",
    "str1.startswith('hai')"
   ]
  },
  {
   "cell_type": "code",
   "execution_count": 100,
   "id": "078b8757-1054-4cde-9a83-513f4ccc3e85",
   "metadata": {},
   "outputs": [
    {
     "data": {
      "text/plain": [
       "True"
      ]
     },
     "execution_count": 100,
     "metadata": {},
     "output_type": "execute_result"
    }
   ],
   "source": [
    "str1.startswith('h')"
   ]
  },
  {
   "cell_type": "code",
   "execution_count": 102,
   "id": "1cf50409-b1e2-4c9f-befd-d4b97314032f",
   "metadata": {},
   "outputs": [
    {
     "data": {
      "text/plain": [
       "True"
      ]
     },
     "execution_count": 102,
     "metadata": {},
     "output_type": "execute_result"
    }
   ],
   "source": [
    "str1.endswith('you')"
   ]
  },
  {
   "cell_type": "code",
   "execution_count": 104,
   "id": "3308ab72-01d0-4a91-ba2e-16ae0027d856",
   "metadata": {},
   "outputs": [
    {
     "data": {
      "text/plain": [
       "True"
      ]
     },
     "execution_count": 104,
     "metadata": {},
     "output_type": "execute_result"
    }
   ],
   "source": [
    "str1.startswith(str1)"
   ]
  },
  {
   "cell_type": "code",
   "execution_count": 106,
   "id": "ea166529-9a73-4f1e-9c73-e65701197f13",
   "metadata": {},
   "outputs": [
    {
     "data": {
      "text/plain": [
       "True"
      ]
     },
     "execution_count": 106,
     "metadata": {},
     "output_type": "execute_result"
    }
   ],
   "source": [
    "str1.endswith(str1)"
   ]
  },
  {
   "cell_type": "code",
   "execution_count": 108,
   "id": "f1d461b9-3958-42e4-a8cc-5864dd69d95d",
   "metadata": {},
   "outputs": [
    {
     "data": {
      "text/plain": [
       "['__add__',\n",
       " '__class__',\n",
       " '__contains__',\n",
       " '__delattr__',\n",
       " '__dir__',\n",
       " '__doc__',\n",
       " '__eq__',\n",
       " '__format__',\n",
       " '__ge__',\n",
       " '__getattribute__',\n",
       " '__getitem__',\n",
       " '__getnewargs__',\n",
       " '__getstate__',\n",
       " '__gt__',\n",
       " '__hash__',\n",
       " '__init__',\n",
       " '__init_subclass__',\n",
       " '__iter__',\n",
       " '__le__',\n",
       " '__len__',\n",
       " '__lt__',\n",
       " '__mod__',\n",
       " '__mul__',\n",
       " '__ne__',\n",
       " '__new__',\n",
       " '__reduce__',\n",
       " '__reduce_ex__',\n",
       " '__repr__',\n",
       " '__rmod__',\n",
       " '__rmul__',\n",
       " '__setattr__',\n",
       " '__sizeof__',\n",
       " '__str__',\n",
       " '__subclasshook__',\n",
       " 'capitalize',\n",
       " 'casefold',\n",
       " 'center',\n",
       " 'count',\n",
       " 'encode',\n",
       " 'endswith',\n",
       " 'expandtabs',\n",
       " 'find',\n",
       " 'format',\n",
       " 'format_map',\n",
       " 'index',\n",
       " 'isalnum',\n",
       " 'isalpha',\n",
       " 'isascii',\n",
       " 'isdecimal',\n",
       " 'isdigit',\n",
       " 'isidentifier',\n",
       " 'islower',\n",
       " 'isnumeric',\n",
       " 'isprintable',\n",
       " 'isspace',\n",
       " 'istitle',\n",
       " 'isupper',\n",
       " 'join',\n",
       " 'ljust',\n",
       " 'lower',\n",
       " 'lstrip',\n",
       " 'maketrans',\n",
       " 'partition',\n",
       " 'removeprefix',\n",
       " 'removesuffix',\n",
       " 'replace',\n",
       " 'rfind',\n",
       " 'rindex',\n",
       " 'rjust',\n",
       " 'rpartition',\n",
       " 'rsplit',\n",
       " 'rstrip',\n",
       " 'split',\n",
       " 'splitlines',\n",
       " 'startswith',\n",
       " 'strip',\n",
       " 'swapcase',\n",
       " 'title',\n",
       " 'translate',\n",
       " 'upper',\n",
       " 'zfill']"
      ]
     },
     "execution_count": 108,
     "metadata": {},
     "output_type": "execute_result"
    }
   ],
   "source": [
    "dir(str1)"
   ]
  },
  {
   "cell_type": "code",
   "execution_count": null,
   "id": "3f36ed28-a5ea-433c-ac71-7620d8dce8e7",
   "metadata": {},
   "outputs": [],
   "source": [
    "'isalnum',\n",
    " 'isalpha',\n",
    " 'isascii',\n",
    " 'isdecimal',\n",
    " 'isdigit',\n",
    " 'isidentifier',\n",
    " 'islower',\n",
    " 'isnumeric',\n",
    " 'isprintable',\n",
    " 'isspace',\n",
    " 'istitle',\n",
    " 'isupper',"
   ]
  },
  {
   "cell_type": "code",
   "execution_count": 178,
   "id": "25211347-1301-46b2-88b9-6885ecc561ec",
   "metadata": {},
   "outputs": [
    {
     "data": {
      "text/plain": [
       "True"
      ]
     },
     "execution_count": 178,
     "metadata": {},
     "output_type": "execute_result"
    }
   ],
   "source": [
    "str1='hai how are you'\n",
    "str8='123a'\n",
    "str8.isalnum() # Because str1 is not alpha numeric"
   ]
  },
  {
   "cell_type": "code",
   "execution_count": 172,
   "id": "e883c5c0-a86a-497c-9c31-ebf058156439",
   "metadata": {},
   "outputs": [
    {
     "name": "stdout",
     "output_type": "stream",
     "text": [
      "False\n",
      "True\n"
     ]
    }
   ],
   "source": [
    "print(str1.isalpha())  # Str1 is not alphabetic string\n",
    "str2='abc' \n",
    "print(str2.isalpha()) # str2 is alphabets"
   ]
  },
  {
   "cell_type": "code",
   "execution_count": 140,
   "id": "976df6a9-147d-4cd1-bf2f-fcf7af649fde",
   "metadata": {},
   "outputs": [
    {
     "name": "stdout",
     "output_type": "stream",
     "text": [
      "True\n",
      "True\n"
     ]
    }
   ],
   "source": [
    "str1='hai how are you'\n",
    "print(str1.isascii())\n",
    "str3='1234'\n",
    "print(str3.isascii())"
   ]
  },
  {
   "cell_type": "code",
   "execution_count": 136,
   "id": "cc6c21cd-138b-4721-8d51-49c45ece641b",
   "metadata": {},
   "outputs": [
    {
     "data": {
      "text/plain": [
       "True"
      ]
     },
     "execution_count": 136,
     "metadata": {},
     "output_type": "execute_result"
    }
   ],
   "source": [
    "str1.islower()"
   ]
  },
  {
   "cell_type": "code",
   "execution_count": 142,
   "id": "1c8f13e6-9a19-451f-b381-a79154d98e08",
   "metadata": {},
   "outputs": [
    {
     "name": "stdout",
     "output_type": "stream",
     "text": [
      "False\n",
      "True\n"
     ]
    }
   ],
   "source": [
    "print(str1.isnumeric())\n",
    "print(str3.isnumeric())\n",
    "\n"
   ]
  },
  {
   "cell_type": "code",
   "execution_count": 154,
   "id": "05fe2ae7-2f5b-43d7-9e04-1899f6682ab6",
   "metadata": {},
   "outputs": [
    {
     "name": "stdout",
     "output_type": "stream",
     "text": [
      "True\n",
      "True\n"
     ]
    }
   ],
   "source": [
    "print(str1.isprintable())\n",
    "str4=''\n",
    "print(str4.isprintable())"
   ]
  },
  {
   "cell_type": "code",
   "execution_count": 160,
   "id": "7426394d-5be0-4ff5-893a-6ba7f330d3a3",
   "metadata": {},
   "outputs": [
    {
     "data": {
      "text/plain": [
       "True"
      ]
     },
     "execution_count": 160,
     "metadata": {},
     "output_type": "execute_result"
    }
   ],
   "source": [
    "str6=' '\n",
    "str6.isspace()"
   ]
  },
  {
   "cell_type": "code",
   "execution_count": 168,
   "id": "b2415ed6-4506-4590-ab2a-20aab2ba6e23",
   "metadata": {},
   "outputs": [
    {
     "data": {
      "text/plain": [
       "True"
      ]
     },
     "execution_count": 168,
     "metadata": {},
     "output_type": "execute_result"
    }
   ],
   "source": [
    "str7='1234'\n",
    "str7.isdigit()"
   ]
  },
  {
   "cell_type": "code",
   "execution_count": 170,
   "id": "e4631d06-bdcf-415f-b179-7a6f17fc6c21",
   "metadata": {},
   "outputs": [
    {
     "data": {
      "text/plain": [
       "False"
      ]
     },
     "execution_count": 170,
     "metadata": {},
     "output_type": "execute_result"
    }
   ],
   "source": [
    "str1.isdigit()"
   ]
  },
  {
   "cell_type": "code",
   "execution_count": 186,
   "id": "aaf2678a-3652-4e3d-a577-3123d0cc32aa",
   "metadata": {},
   "outputs": [
    {
     "name": "stdout",
     "output_type": "stream",
     "text": [
      "True\n",
      "True\n"
     ]
    }
   ],
   "source": [
    "str9='if'\n",
    "print(str9.isidentifier())   # keywords are identifiers\n",
    "str10='while'\n",
    "print(str10.isidentifier())"
   ]
  },
  {
   "cell_type": "code",
   "execution_count": 192,
   "id": "6c43760c-393f-4105-a6d3-45178f61ec3c",
   "metadata": {},
   "outputs": [
    {
     "data": {
      "text/plain": [
       "False"
      ]
     },
     "execution_count": 192,
     "metadata": {},
     "output_type": "execute_result"
    }
   ],
   "source": [
    "str10.istitle()"
   ]
  },
  {
   "cell_type": "code",
   "execution_count": 194,
   "id": "61813ba0-d1f6-48fb-806b-d1d1e39116d9",
   "metadata": {},
   "outputs": [
    {
     "data": {
      "text/plain": [
       "False"
      ]
     },
     "execution_count": 194,
     "metadata": {},
     "output_type": "execute_result"
    }
   ],
   "source": [
    "str11='name_hello'\n",
    "str11.istitle()"
   ]
  },
  {
   "cell_type": "markdown",
   "id": "eff10a97-c329-4af9-91be-14c7d5fb2f8c",
   "metadata": {},
   "source": [
    "### split"
   ]
  },
  {
   "cell_type": "code",
   "execution_count": 199,
   "id": "d995084f-f339-41cf-a915-ffe2a2c8748a",
   "metadata": {},
   "outputs": [
    {
     "data": {
      "text/plain": [
       "['hai', 'how', 'are', 'you']"
      ]
     },
     "execution_count": 199,
     "metadata": {},
     "output_type": "execute_result"
    }
   ],
   "source": [
    "str1='hai how are you'\n",
    "str1.split()  # if i not provide anything inside brackets: space\n",
    "# output is in list format"
   ]
  },
  {
   "cell_type": "code",
   "execution_count": 203,
   "id": "06f3046d-d2fa-4fed-ab7a-a13d0268e634",
   "metadata": {},
   "outputs": [
    {
     "data": {
      "text/plain": [
       "['hai how ', 'are you']"
      ]
     },
     "execution_count": 203,
     "metadata": {},
     "output_type": "execute_result"
    }
   ],
   "source": [
    "str1='hai how ,are you'\n",
    "str1.split(',')"
   ]
  },
  {
   "cell_type": "code",
   "execution_count": 205,
   "id": "b60905ac-d50d-4164-b067-3f2fb04dff0b",
   "metadata": {},
   "outputs": [
    {
     "data": {
      "text/plain": [
       "['h', 'i how,', 're you']"
      ]
     },
     "execution_count": 205,
     "metadata": {},
     "output_type": "execute_result"
    }
   ],
   "source": [
    "str1='hai how,are you'\n",
    "str1.split('a')"
   ]
  },
  {
   "cell_type": "code",
   "execution_count": 209,
   "id": "4a147204-466e-4d9b-94ef-e9d556aabcbe",
   "metadata": {},
   "outputs": [
    {
     "data": {
      "text/plain": [
       "'hello'"
      ]
     },
     "execution_count": 209,
     "metadata": {},
     "output_type": "execute_result"
    }
   ],
   "source": [
    "str1='%%%hello%%%'\n",
    "str1.strip('%')"
   ]
  },
  {
   "cell_type": "code",
   "execution_count": 213,
   "id": "f156f2c1-5854-42d2-a819-6c3f7e21606c",
   "metadata": {},
   "outputs": [
    {
     "data": {
      "text/plain": [
       "'hai'"
      ]
     },
     "execution_count": 213,
     "metadata": {},
     "output_type": "execute_result"
    }
   ],
   "source": [
    "str1='///////hai//////'\n",
    "str1.strip('/')"
   ]
  },
  {
   "cell_type": "code",
   "execution_count": 215,
   "id": "469f8631-9bbe-4c86-a94b-82994df8a5cd",
   "metadata": {},
   "outputs": [
    {
     "data": {
      "text/plain": [
       "['hai', 'how', ',are', 'you']"
      ]
     },
     "execution_count": 215,
     "metadata": {},
     "output_type": "execute_result"
    }
   ],
   "source": [
    "str1='hai how ,are you'\n",
    "str1.split()"
   ]
  },
  {
   "cell_type": "markdown",
   "id": "31297b49-38ec-4f0b-a7b5-078f6edd541f",
   "metadata": {},
   "source": [
    "## What we learnt till today\n",
    "- capitalize /upper / lower/ casefold\n",
    "\n",
    "- find/ index\n",
    "\n",
    "- count\n",
    "\n",
    "- replace\n",
    "\n",
    "- lstrip/rstrip/strip\n",
    "\n",
    "- starts with/ ends with\n",
    "\n",
    "- is\n",
    "\n",
    "- split"
   ]
  },
  {
   "cell_type": "markdown",
   "id": "058cfda0-dd07-493d-a5c3-e6e3f0ceeae2",
   "metadata": {},
   "source": [
    "$count practice$"
   ]
  },
  {
   "cell_type": "code",
   "execution_count": 228,
   "id": "b5603aa3-868e-4f51-a6f2-2c00f7927678",
   "metadata": {},
   "outputs": [
    {
     "data": {
      "text/plain": [
       "1"
      ]
     },
     "execution_count": 228,
     "metadata": {},
     "output_type": "execute_result"
    }
   ],
   "source": [
    "a='hai hai hai'\n",
    "a.count('hai', 4,8)"
   ]
  },
  {
   "cell_type": "markdown",
   "id": "cc8a8dc8-d1d6-4714-b6a5-c3998c460aa1",
   "metadata": {},
   "source": [
    "$find prac$"
   ]
  },
  {
   "cell_type": "code",
   "execution_count": 232,
   "id": "3f6768ef-8965-41dd-b88c-4b775d2fb5b1",
   "metadata": {},
   "outputs": [
    {
     "data": {
      "text/plain": [
       "-1"
      ]
     },
     "execution_count": 232,
     "metadata": {},
     "output_type": "execute_result"
    }
   ],
   "source": [
    "a='hai'\n",
    "a.find('z')"
   ]
  },
  {
   "cell_type": "code",
   "execution_count": null,
   "id": "a10eb5e0-10c4-4cfb-8f8f-9d681428c4b0",
   "metadata": {},
   "outputs": [],
   "source": [
    "# WAP to identify the longest and shortest word in the sentence\n",
    "# WAP to identify most repeated word in given sentence\n",
    "# In 3 strings 'hyd','blr'and 'mumbai' which is greatest and which is lowest"
   ]
  },
  {
   "cell_type": "code",
   "execution_count": 263,
   "id": "ca72c614-2bc1-4742-bb47-eabb2e7c2434",
   "metadata": {},
   "outputs": [
    {
     "name": "stdout",
     "output_type": "stream",
     "text": [
      "The longest word is educated\n",
      "The shortest word is I\n"
     ]
    }
   ],
   "source": [
    "# WAP to identify the longest and shortest word in the sentence\n",
    "\n",
    "a='Hello I am Nikesh Raj Wagle and I am well educated'\n",
    "b=a.split()\n",
    "print(f'The longest word is {max(b,key=len)}')\n",
    "print(f'The shortest word is {min(b, key=len)}')\n"
   ]
  },
  {
   "cell_type": "code",
   "execution_count": 275,
   "id": "c66cbaba-7a73-41e6-a5d6-3e8471425df5",
   "metadata": {},
   "outputs": [
    {
     "data": {
      "text/plain": [
       "1"
      ]
     },
     "execution_count": 275,
     "metadata": {},
     "output_type": "execute_result"
    }
   ],
   "source": [
    "# WAP to identify most repeated word in given sentence\n",
    "a='Hello I am Nikesh Raj Wagle and I am well educated'\n",
    "count=0\n",
    "b=a.split()\n",
    "a.count()"
   ]
  },
  {
   "cell_type": "code",
   "execution_count": null,
   "id": "d00d5cbb-c496-457c-9146-afd51695d9da",
   "metadata": {},
   "outputs": [],
   "source": []
  }
 ],
 "metadata": {
  "kernelspec": {
   "display_name": "Python 3 (ipykernel)",
   "language": "python",
   "name": "python3"
  },
  "language_info": {
   "codemirror_mode": {
    "name": "ipython",
    "version": 3
   },
   "file_extension": ".py",
   "mimetype": "text/x-python",
   "name": "python",
   "nbconvert_exporter": "python",
   "pygments_lexer": "ipython3",
   "version": "3.12.7"
  }
 },
 "nbformat": 4,
 "nbformat_minor": 5
}
